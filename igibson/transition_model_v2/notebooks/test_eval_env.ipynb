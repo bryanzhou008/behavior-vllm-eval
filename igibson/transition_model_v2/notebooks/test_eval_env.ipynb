{
 "cells": [
  {
   "cell_type": "code",
   "execution_count": 4,
   "metadata": {},
   "outputs": [
    {
     "name": "stdout",
     "output_type": "stream",
     "text": [
      "\n",
      " _   _____  _  _\n",
      "(_) / ____|(_)| |\n",
      " _ | |  __  _ | |__   ___   ___   _ __\n",
      "| || | |_ || || '_ \\ / __| / _ \\ | '_ \\\n",
      "| || |__| || || |_) |\\__ \\| (_) || | | |\n",
      "|_| \\_____||_||_.__/ |___/ \\___/ |_| |_|\n",
      "\n"
     ]
    },
    {
     "name": "stderr",
     "output_type": "stream",
     "text": [
      "torch is not available, falling back to rendering to memory (instead of tensor)\n"
     ]
    }
   ],
   "source": [
    "from igibson.transition_model_v2.eval_env import EvalEnv\n",
    "from igibson.transition_model_v2.eval_env import EvalActions\n",
    "import platform\n",
    "import igibson.object_states as object_states"
   ]
  },
  {
   "cell_type": "code",
   "execution_count": 1,
   "metadata": {},
   "outputs": [],
   "source": [
    "class Env:\n",
    "    def __init__(self,config):\n",
    "        self.config = config    \n",
    "\n",
    "   "
   ]
  },
  {
   "cell_type": "code",
   "execution_count": 6,
   "metadata": {},
   "outputs": [],
   "source": [
    "demo_path=rb\"D:\\GitHub\\behavior-vllm-eval\\igibson\\data\\virtual_reality\\washing_floor_0_Ihlen_1_int_0_2021-06-04_15-56-16.hdf5\""
   ]
  },
  {
   "cell_type": "code",
   "execution_count": 7,
   "metadata": {},
   "outputs": [
    {
     "ename": "error",
     "evalue": "createCollisionShape failed.",
     "output_type": "error",
     "traceback": [
      "\u001b[1;31m---------------------------------------------------------------------------\u001b[0m",
      "\u001b[1;31merror\u001b[0m                                     Traceback (most recent call last)",
      "Cell \u001b[1;32mIn[7], line 2\u001b[0m\n\u001b[0;32m      1\u001b[0m headless \u001b[38;5;241m=\u001b[39m \u001b[38;5;28;01mTrue\u001b[39;00m\n\u001b[1;32m----> 2\u001b[0m env\u001b[38;5;241m=\u001b[39m\u001b[43mEvalEnv\u001b[49m\u001b[43m(\u001b[49m\u001b[43mdemo_path\u001b[49m\u001b[38;5;241;43m=\u001b[39;49m\u001b[43mdemo_path\u001b[49m\u001b[43m,\u001b[49m\u001b[43mmode\u001b[49m\u001b[38;5;241;43m=\u001b[39;49m\u001b[38;5;124;43m\"\u001b[39;49m\u001b[38;5;124;43mheadless\u001b[39;49m\u001b[38;5;124;43m\"\u001b[39;49m\u001b[43m \u001b[49m\u001b[38;5;28;43;01mif\u001b[39;49;00m\u001b[43m \u001b[49m\u001b[43mheadless\u001b[49m\u001b[43m \u001b[49m\u001b[38;5;28;43;01melse\u001b[39;49;00m\u001b[43m \u001b[49m\u001b[38;5;124;43m\"\u001b[39;49m\u001b[38;5;124;43mgui_non_interactive\u001b[39;49m\u001b[38;5;124;43m\"\u001b[39;49m\u001b[43m,\u001b[49m\n\u001b[0;32m      3\u001b[0m \u001b[43m        \u001b[49m\u001b[43muse_pb_gui\u001b[49m\u001b[38;5;241;43m=\u001b[39;49m\u001b[43m(\u001b[49m\u001b[38;5;129;43;01mnot\u001b[39;49;00m\u001b[43m \u001b[49m\u001b[43mheadless\u001b[49m\u001b[43m \u001b[49m\u001b[38;5;129;43;01mand\u001b[39;49;00m\u001b[43m \u001b[49m\u001b[43mplatform\u001b[49m\u001b[38;5;241;43m.\u001b[39;49m\u001b[43msystem\u001b[49m\u001b[43m(\u001b[49m\u001b[43m)\u001b[49m\u001b[43m \u001b[49m\u001b[38;5;241;43m!=\u001b[39;49m\u001b[43m \u001b[49m\u001b[38;5;124;43m\"\u001b[39;49m\u001b[38;5;124;43mDarwin\u001b[39;49m\u001b[38;5;124;43m\"\u001b[39;49m\u001b[43m)\u001b[49m\u001b[43m,\u001b[49m\u001b[43m)\u001b[49m\n",
      "File \u001b[1;32mD:\\GitHub\\behavior-vllm-eval\\igibson\\transition_model_v2\\eval_env.py:80\u001b[0m, in \u001b[0;36mEvalEnv.__init__\u001b[1;34m(self, config, demo_path, **kwargs)\u001b[0m\n\u001b[0;32m     78\u001b[0m \u001b[38;5;28;01mif\u001b[39;00m demo_path \u001b[38;5;129;01mis\u001b[39;00m \u001b[38;5;129;01mnot\u001b[39;00m \u001b[38;5;28;01mNone\u001b[39;00m:\n\u001b[0;32m     79\u001b[0m     \u001b[38;5;28mself\u001b[39m\u001b[38;5;241m.\u001b[39mdefalt_init(demo_path)\n\u001b[1;32m---> 80\u001b[0m \u001b[38;5;28mself\u001b[39m\u001b[38;5;241m.\u001b[39menv \u001b[38;5;241m=\u001b[39m \u001b[43miGibsonEnv\u001b[49m\u001b[43m(\u001b[49m\u001b[43mconfig_file\u001b[49m\u001b[38;5;241;43m=\u001b[39;49m\u001b[38;5;28;43mself\u001b[39;49m\u001b[38;5;241;43m.\u001b[39;49m\u001b[43mconfig\u001b[49m\u001b[43m,\u001b[49m\u001b[38;5;241;43m*\u001b[39;49m\u001b[38;5;241;43m*\u001b[39;49m\u001b[43mkwargs\u001b[49m\u001b[43m)\u001b[49m\n\u001b[0;32m     81\u001b[0m \u001b[38;5;28mself\u001b[39m\u001b[38;5;241m.\u001b[39mrobot\u001b[38;5;241m=\u001b[39m\u001b[38;5;28mself\u001b[39m\u001b[38;5;241m.\u001b[39mrobots[\u001b[38;5;241m0\u001b[39m]\n\u001b[0;32m     82\u001b[0m \u001b[38;5;28mself\u001b[39m\u001b[38;5;241m.\u001b[39msimulator\u001b[38;5;241m=\u001b[39m\u001b[38;5;28mself\u001b[39m\u001b[38;5;241m.\u001b[39menv\u001b[38;5;241m.\u001b[39msimulator\n",
      "File \u001b[1;32mD:\\GitHub\\behavior-vllm-eval\\igibson\\envs\\igibson_env.py:62\u001b[0m, in \u001b[0;36miGibsonEnv.__init__\u001b[1;34m(self, config_file, scene_id, mode, action_timestep, physics_timestep, rendering_settings, vr_settings, device_idx, automatic_reset, use_pb_gui)\u001b[0m\n\u001b[0;32m     37\u001b[0m \u001b[38;5;28;01mdef\u001b[39;00m \u001b[38;5;21m__init__\u001b[39m(\n\u001b[0;32m     38\u001b[0m     \u001b[38;5;28mself\u001b[39m,\n\u001b[0;32m     39\u001b[0m     config_file,\n\u001b[1;32m   (...)\u001b[0m\n\u001b[0;32m     48\u001b[0m     use_pb_gui\u001b[38;5;241m=\u001b[39m\u001b[38;5;28;01mFalse\u001b[39;00m,\n\u001b[0;32m     49\u001b[0m ):\n\u001b[0;32m     50\u001b[0m \u001b[38;5;250m    \u001b[39m\u001b[38;5;124;03m\"\"\"\u001b[39;00m\n\u001b[0;32m     51\u001b[0m \u001b[38;5;124;03m    :param config_file: config_file path\u001b[39;00m\n\u001b[0;32m     52\u001b[0m \u001b[38;5;124;03m    :param scene_id: override scene_id in config file\u001b[39;00m\n\u001b[1;32m   (...)\u001b[0m\n\u001b[0;32m     60\u001b[0m \u001b[38;5;124;03m    :param use_pb_gui: concurrently display the interactive pybullet gui (for debugging)\u001b[39;00m\n\u001b[0;32m     61\u001b[0m \u001b[38;5;124;03m    \"\"\"\u001b[39;00m\n\u001b[1;32m---> 62\u001b[0m     \u001b[38;5;28;43msuper\u001b[39;49m\u001b[43m(\u001b[49m\u001b[43miGibsonEnv\u001b[49m\u001b[43m,\u001b[49m\u001b[43m \u001b[49m\u001b[38;5;28;43mself\u001b[39;49m\u001b[43m)\u001b[49m\u001b[38;5;241;43m.\u001b[39;49m\u001b[38;5;21;43m__init__\u001b[39;49m\u001b[43m(\u001b[49m\n\u001b[0;32m     63\u001b[0m \u001b[43m        \u001b[49m\u001b[43mconfig_file\u001b[49m\u001b[38;5;241;43m=\u001b[39;49m\u001b[43mconfig_file\u001b[49m\u001b[43m,\u001b[49m\n\u001b[0;32m     64\u001b[0m \u001b[43m        \u001b[49m\u001b[43mscene_id\u001b[49m\u001b[38;5;241;43m=\u001b[39;49m\u001b[43mscene_id\u001b[49m\u001b[43m,\u001b[49m\n\u001b[0;32m     65\u001b[0m \u001b[43m        \u001b[49m\u001b[43mmode\u001b[49m\u001b[38;5;241;43m=\u001b[39;49m\u001b[43mmode\u001b[49m\u001b[43m,\u001b[49m\n\u001b[0;32m     66\u001b[0m \u001b[43m        \u001b[49m\u001b[43maction_timestep\u001b[49m\u001b[38;5;241;43m=\u001b[39;49m\u001b[43maction_timestep\u001b[49m\u001b[43m,\u001b[49m\n\u001b[0;32m     67\u001b[0m \u001b[43m        \u001b[49m\u001b[43mphysics_timestep\u001b[49m\u001b[38;5;241;43m=\u001b[39;49m\u001b[43mphysics_timestep\u001b[49m\u001b[43m,\u001b[49m\n\u001b[0;32m     68\u001b[0m \u001b[43m        \u001b[49m\u001b[43mrendering_settings\u001b[49m\u001b[38;5;241;43m=\u001b[39;49m\u001b[43mrendering_settings\u001b[49m\u001b[43m,\u001b[49m\n\u001b[0;32m     69\u001b[0m \u001b[43m        \u001b[49m\u001b[43mvr_settings\u001b[49m\u001b[38;5;241;43m=\u001b[39;49m\u001b[43mvr_settings\u001b[49m\u001b[43m,\u001b[49m\n\u001b[0;32m     70\u001b[0m \u001b[43m        \u001b[49m\u001b[43mdevice_idx\u001b[49m\u001b[38;5;241;43m=\u001b[39;49m\u001b[43mdevice_idx\u001b[49m\u001b[43m,\u001b[49m\n\u001b[0;32m     71\u001b[0m \u001b[43m        \u001b[49m\u001b[43muse_pb_gui\u001b[49m\u001b[38;5;241;43m=\u001b[39;49m\u001b[43muse_pb_gui\u001b[49m\u001b[43m,\u001b[49m\n\u001b[0;32m     72\u001b[0m \u001b[43m    \u001b[49m\u001b[43m)\u001b[49m\n\u001b[0;32m     73\u001b[0m     \u001b[38;5;28mself\u001b[39m\u001b[38;5;241m.\u001b[39mautomatic_reset \u001b[38;5;241m=\u001b[39m automatic_reset\n",
      "File \u001b[1;32mD:\\GitHub\\behavior-vllm-eval\\igibson\\envs\\env_base.py:108\u001b[0m, in \u001b[0;36mBaseEnv.__init__\u001b[1;34m(self, config_file, scene_id, mode, action_timestep, physics_timestep, rendering_settings, vr_settings, device_idx, use_pb_gui)\u001b[0m\n\u001b[0;32m     96\u001b[0m \u001b[38;5;28;01melse\u001b[39;00m:\n\u001b[0;32m     97\u001b[0m     \u001b[38;5;28mself\u001b[39m\u001b[38;5;241m.\u001b[39msimulator \u001b[38;5;241m=\u001b[39m Simulator(\n\u001b[0;32m     98\u001b[0m         mode\u001b[38;5;241m=\u001b[39mmode,\n\u001b[0;32m     99\u001b[0m         physics_timestep\u001b[38;5;241m=\u001b[39mphysics_timestep,\n\u001b[1;32m   (...)\u001b[0m\n\u001b[0;32m    106\u001b[0m         use_pb_gui\u001b[38;5;241m=\u001b[39muse_pb_gui,\n\u001b[0;32m    107\u001b[0m     )\n\u001b[1;32m--> 108\u001b[0m \u001b[38;5;28;43mself\u001b[39;49m\u001b[38;5;241;43m.\u001b[39;49m\u001b[43mload\u001b[49m\u001b[43m(\u001b[49m\u001b[43m)\u001b[49m\n",
      "File \u001b[1;32mD:\\GitHub\\behavior-vllm-eval\\igibson\\envs\\igibson_env.py:263\u001b[0m, in \u001b[0;36miGibsonEnv.load\u001b[1;34m(self)\u001b[0m\n\u001b[0;32m    259\u001b[0m \u001b[38;5;28;01mdef\u001b[39;00m \u001b[38;5;21mload\u001b[39m(\u001b[38;5;28mself\u001b[39m):\n\u001b[0;32m    260\u001b[0m \u001b[38;5;250m    \u001b[39m\u001b[38;5;124;03m\"\"\"\u001b[39;00m\n\u001b[0;32m    261\u001b[0m \u001b[38;5;124;03m    Load environment.\u001b[39;00m\n\u001b[0;32m    262\u001b[0m \u001b[38;5;124;03m    \"\"\"\u001b[39;00m\n\u001b[1;32m--> 263\u001b[0m     \u001b[38;5;28;43msuper\u001b[39;49m\u001b[43m(\u001b[49m\u001b[43miGibsonEnv\u001b[49m\u001b[43m,\u001b[49m\u001b[43m \u001b[49m\u001b[38;5;28;43mself\u001b[39;49m\u001b[43m)\u001b[49m\u001b[38;5;241;43m.\u001b[39;49m\u001b[43mload\u001b[49m\u001b[43m(\u001b[49m\u001b[43m)\u001b[49m\n\u001b[0;32m    264\u001b[0m     \u001b[38;5;28mself\u001b[39m\u001b[38;5;241m.\u001b[39mload_task_setup()\n\u001b[0;32m    265\u001b[0m     \u001b[38;5;28mself\u001b[39m\u001b[38;5;241m.\u001b[39mload_observation_space()\n",
      "File \u001b[1;32mD:\\GitHub\\behavior-vllm-eval\\igibson\\envs\\env_base.py:196\u001b[0m, in \u001b[0;36mBaseEnv.load\u001b[1;34m(self)\u001b[0m\n\u001b[0;32m    193\u001b[0m     \u001b[38;5;28;01mif\u001b[39;00m first_n \u001b[38;5;241m!=\u001b[39m \u001b[38;5;241m-\u001b[39m\u001b[38;5;241m1\u001b[39m:\n\u001b[0;32m    194\u001b[0m         scene\u001b[38;5;241m.\u001b[39m_set_first_n_objects(first_n)\n\u001b[1;32m--> 196\u001b[0m \u001b[38;5;28;43mself\u001b[39;49m\u001b[38;5;241;43m.\u001b[39;49m\u001b[43msimulator\u001b[49m\u001b[38;5;241;43m.\u001b[39;49m\u001b[43mimport_scene\u001b[49m\u001b[43m(\u001b[49m\u001b[43mscene\u001b[49m\u001b[43m)\u001b[49m\n\u001b[0;32m    198\u001b[0m \u001b[38;5;66;03m# Get robot config\u001b[39;00m\n\u001b[0;32m    199\u001b[0m robot_config \u001b[38;5;241m=\u001b[39m \u001b[38;5;28mself\u001b[39m\u001b[38;5;241m.\u001b[39mconfig[\u001b[38;5;124m\"\u001b[39m\u001b[38;5;124mrobot\u001b[39m\u001b[38;5;124m\"\u001b[39m]\n",
      "File \u001b[1;32mD:\\GitHub\\behavior-vllm-eval\\igibson\\simulator.py:33\u001b[0m, in \u001b[0;36mload_without_pybullet_vis.<locals>.wrapped_load_func\u001b[1;34m(*args, **kwargs)\u001b[0m\n\u001b[0;32m     31\u001b[0m \u001b[38;5;28;01mdef\u001b[39;00m \u001b[38;5;21mwrapped_load_func\u001b[39m(\u001b[38;5;241m*\u001b[39margs, \u001b[38;5;241m*\u001b[39m\u001b[38;5;241m*\u001b[39mkwargs):\n\u001b[0;32m     32\u001b[0m     p\u001b[38;5;241m.\u001b[39mconfigureDebugVisualizer(p\u001b[38;5;241m.\u001b[39mCOV_ENABLE_RENDERING, \u001b[38;5;28;01mFalse\u001b[39;00m)\n\u001b[1;32m---> 33\u001b[0m     res \u001b[38;5;241m=\u001b[39m \u001b[43mload_func\u001b[49m\u001b[43m(\u001b[49m\u001b[38;5;241;43m*\u001b[39;49m\u001b[43margs\u001b[49m\u001b[43m,\u001b[49m\u001b[43m \u001b[49m\u001b[38;5;241;43m*\u001b[39;49m\u001b[38;5;241;43m*\u001b[39;49m\u001b[43mkwargs\u001b[49m\u001b[43m)\u001b[49m\n\u001b[0;32m     34\u001b[0m     p\u001b[38;5;241m.\u001b[39mconfigureDebugVisualizer(p\u001b[38;5;241m.\u001b[39mCOV_ENABLE_RENDERING, \u001b[38;5;28;01mTrue\u001b[39;00m)\n\u001b[0;32m     35\u001b[0m     \u001b[38;5;28;01mreturn\u001b[39;00m res\n",
      "File \u001b[1;32mD:\\GitHub\\behavior-vllm-eval\\igibson\\simulator.py:228\u001b[0m, in \u001b[0;36mSimulator.import_scene\u001b[1;34m(self, scene)\u001b[0m\n\u001b[0;32m    222\u001b[0m \u001b[38;5;250m\u001b[39m\u001b[38;5;124;03m\"\"\"\u001b[39;00m\n\u001b[0;32m    223\u001b[0m \u001b[38;5;124;03mImport a scene into the simulator. A scene could be a synthetic one or a realistic Gibson Environment.\u001b[39;00m\n\u001b[0;32m    224\u001b[0m \n\u001b[0;32m    225\u001b[0m \u001b[38;5;124;03m:param scene: a scene object to load\u001b[39;00m\n\u001b[0;32m    226\u001b[0m \u001b[38;5;124;03m\"\"\"\u001b[39;00m\n\u001b[0;32m    227\u001b[0m \u001b[38;5;28;01massert\u001b[39;00m \u001b[38;5;28misinstance\u001b[39m(scene, Scene), \u001b[38;5;124m\"\u001b[39m\u001b[38;5;124mimport_scene can only be called with Scene\u001b[39m\u001b[38;5;124m\"\u001b[39m\n\u001b[1;32m--> 228\u001b[0m \u001b[43mscene\u001b[49m\u001b[38;5;241;43m.\u001b[39;49m\u001b[43mload\u001b[49m\u001b[43m(\u001b[49m\u001b[38;5;28;43mself\u001b[39;49m\u001b[43m)\u001b[49m\n\u001b[0;32m    229\u001b[0m \u001b[38;5;28mself\u001b[39m\u001b[38;5;241m.\u001b[39mscene \u001b[38;5;241m=\u001b[39m scene\n",
      "File \u001b[1;32mD:\\GitHub\\behavior-vllm-eval\\igibson\\scenes\\scene_base.py:50\u001b[0m, in \u001b[0;36mScene.load\u001b[1;34m(self, simulator)\u001b[0m\n\u001b[0;32m     48\u001b[0m log\u001b[38;5;241m.\u001b[39minfo(\u001b[38;5;124m\"\u001b[39m\u001b[38;5;124mLoading scene...\u001b[39m\u001b[38;5;124m\"\u001b[39m)\n\u001b[0;32m     49\u001b[0m \u001b[38;5;28mself\u001b[39m\u001b[38;5;241m.\u001b[39mloaded \u001b[38;5;241m=\u001b[39m \u001b[38;5;28;01mTrue\u001b[39;00m\n\u001b[1;32m---> 50\u001b[0m ret_val \u001b[38;5;241m=\u001b[39m \u001b[38;5;28;43mself\u001b[39;49m\u001b[38;5;241;43m.\u001b[39;49m\u001b[43m_load\u001b[49m\u001b[43m(\u001b[49m\u001b[43msimulator\u001b[49m\u001b[43m)\u001b[49m\n\u001b[0;32m     51\u001b[0m log\u001b[38;5;241m.\u001b[39minfo(\u001b[38;5;124m\"\u001b[39m\u001b[38;5;124mScene loaded!\u001b[39m\u001b[38;5;124m\"\u001b[39m)\n\u001b[0;32m     52\u001b[0m \u001b[38;5;28;01mreturn\u001b[39;00m ret_val\n",
      "File \u001b[1;32mD:\\GitHub\\behavior-vllm-eval\\igibson\\scenes\\igibson_indoor_scene.py:921\u001b[0m, in \u001b[0;36mInteractiveIndoorScene._load\u001b[1;34m(self, simulator)\u001b[0m\n\u001b[0;32m    918\u001b[0m \u001b[38;5;28;01mif\u001b[39;00m \u001b[38;5;28mself\u001b[39m\u001b[38;5;241m.\u001b[39mbuild_graph:\n\u001b[0;32m    919\u001b[0m     \u001b[38;5;28mself\u001b[39m\u001b[38;5;241m.\u001b[39mload_trav_map(maps_path)\n\u001b[1;32m--> 921\u001b[0m \u001b[38;5;28;43mself\u001b[39;49m\u001b[38;5;241;43m.\u001b[39;49m\u001b[43mrestore_object_states\u001b[49m\u001b[43m(\u001b[49m\u001b[38;5;28;43mself\u001b[39;49m\u001b[38;5;241;43m.\u001b[39;49m\u001b[43mobject_states\u001b[49m\u001b[43m)\u001b[49m\n\u001b[0;32m    922\u001b[0m \u001b[38;5;28;01mif\u001b[39;00m \u001b[38;5;28mself\u001b[39m\u001b[38;5;241m.\u001b[39mpybullet_filename \u001b[38;5;129;01mis\u001b[39;00m \u001b[38;5;129;01mnot\u001b[39;00m \u001b[38;5;28;01mNone\u001b[39;00m:\n\u001b[0;32m    923\u001b[0m     restoreState(fileName\u001b[38;5;241m=\u001b[39m\u001b[38;5;28mself\u001b[39m\u001b[38;5;241m.\u001b[39mpybullet_filename)\n",
      "File \u001b[1;32mD:\\GitHub\\behavior-vllm-eval\\igibson\\scenes\\igibson_indoor_scene.py:884\u001b[0m, in \u001b[0;36mInteractiveIndoorScene.restore_object_states\u001b[1;34m(self, object_states)\u001b[0m\n\u001b[0;32m    882\u001b[0m \u001b[38;5;28;01mfor\u001b[39;00m obj_name, obj \u001b[38;5;129;01min\u001b[39;00m \u001b[38;5;28mself\u001b[39m\u001b[38;5;241m.\u001b[39mobjects_by_name\u001b[38;5;241m.\u001b[39mitems():\n\u001b[0;32m    883\u001b[0m     \u001b[38;5;28;01mif\u001b[39;00m \u001b[38;5;129;01mnot\u001b[39;00m \u001b[38;5;28misinstance\u001b[39m(obj, ObjectMultiplexer):\n\u001b[1;32m--> 884\u001b[0m         \u001b[38;5;28;43mself\u001b[39;49m\u001b[38;5;241;43m.\u001b[39;49m\u001b[43mrestore_object_states_single_object\u001b[49m\u001b[43m(\u001b[49m\u001b[43mobj\u001b[49m\u001b[43m,\u001b[49m\u001b[43m \u001b[49m\u001b[43mobject_states\u001b[49m\u001b[43m[\u001b[49m\u001b[43mobj_name\u001b[49m\u001b[43m]\u001b[49m\u001b[43m)\u001b[49m\n\u001b[0;32m    885\u001b[0m     \u001b[38;5;28;01melse\u001b[39;00m:\n\u001b[0;32m    886\u001b[0m         \u001b[38;5;28;01mfor\u001b[39;00m sub_obj \u001b[38;5;129;01min\u001b[39;00m obj\u001b[38;5;241m.\u001b[39m_multiplexed_objects:\n",
      "File \u001b[1;32mD:\\GitHub\\behavior-vllm-eval\\igibson\\scenes\\igibson_indoor_scene.py:879\u001b[0m, in \u001b[0;36mInteractiveIndoorScene.restore_object_states_single_object\u001b[1;34m(self, obj, obj_kin_state)\u001b[0m\n\u001b[0;32m    876\u001b[0m     obj\u001b[38;5;241m.\u001b[39mset_joint_states(zero_joint_states)\n\u001b[0;32m    878\u001b[0m \u001b[38;5;28;01mif\u001b[39;00m obj_kin_state[\u001b[38;5;124m\"\u001b[39m\u001b[38;5;124mnon_kinematic_states\u001b[39m\u001b[38;5;124m\"\u001b[39m] \u001b[38;5;129;01mis\u001b[39;00m \u001b[38;5;129;01mnot\u001b[39;00m \u001b[38;5;28;01mNone\u001b[39;00m:\n\u001b[1;32m--> 879\u001b[0m     \u001b[43mobj\u001b[49m\u001b[38;5;241;43m.\u001b[39;49m\u001b[43mload_state\u001b[49m\u001b[43m(\u001b[49m\u001b[43mobj_kin_state\u001b[49m\u001b[43m[\u001b[49m\u001b[38;5;124;43m\"\u001b[39;49m\u001b[38;5;124;43mnon_kinematic_states\u001b[39;49m\u001b[38;5;124;43m\"\u001b[39;49m\u001b[43m]\u001b[49m\u001b[43m)\u001b[49m\n",
      "File \u001b[1;32mD:\\GitHub\\behavior-vllm-eval\\igibson\\objects\\stateful_object.py:59\u001b[0m, in \u001b[0;36mStatefulObject.load_state\u001b[1;34m(self, dump)\u001b[0m\n\u001b[0;32m     57\u001b[0m \u001b[38;5;28;01mif\u001b[39;00m \u001b[38;5;28missubclass\u001b[39m(state_type, AbsoluteObjectState):\n\u001b[0;32m     58\u001b[0m     \u001b[38;5;28;01mif\u001b[39;00m state_name \u001b[38;5;129;01min\u001b[39;00m dump:\n\u001b[1;32m---> 59\u001b[0m         \u001b[43mstate_instance\u001b[49m\u001b[38;5;241;43m.\u001b[39;49m\u001b[43mload\u001b[49m\u001b[43m(\u001b[49m\u001b[43mdump\u001b[49m\u001b[43m[\u001b[49m\u001b[43mstate_name\u001b[49m\u001b[43m]\u001b[49m\u001b[43m)\u001b[49m\n\u001b[0;32m     60\u001b[0m     \u001b[38;5;28;01melse\u001b[39;00m:\n\u001b[0;32m     61\u001b[0m         log\u001b[38;5;241m.\u001b[39mdebug(\u001b[38;5;124m\"\u001b[39m\u001b[38;5;124mMissing object state [\u001b[39m\u001b[38;5;132;01m{}\u001b[39;00m\u001b[38;5;124m] in the state dump\u001b[39m\u001b[38;5;124m\"\u001b[39m\u001b[38;5;241m.\u001b[39mformat(state_name))\n",
      "File \u001b[1;32mD:\\GitHub\\behavior-vllm-eval\\igibson\\object_states\\dirty.py:66\u001b[0m, in \u001b[0;36m_Dirty.load\u001b[1;34m(self, data)\u001b[0m\n\u001b[0;32m     63\u001b[0m     \u001b[38;5;28mself\u001b[39m\u001b[38;5;241m.\u001b[39minitial_dump \u001b[38;5;241m=\u001b[39m data[\u001b[38;5;124m\"\u001b[39m\u001b[38;5;124mparticles\u001b[39m\u001b[38;5;124m\"\u001b[39m]\n\u001b[0;32m     64\u001b[0m \u001b[38;5;28;01melse\u001b[39;00m:\n\u001b[0;32m     65\u001b[0m     \u001b[38;5;66;03m# Otherwise, let the particle system know it needs to reset.\u001b[39;00m\n\u001b[1;32m---> 66\u001b[0m     \u001b[38;5;28;43mself\u001b[39;49m\u001b[38;5;241;43m.\u001b[39;49m\u001b[43mdirt\u001b[49m\u001b[38;5;241;43m.\u001b[39;49m\u001b[43mreset_to_dump\u001b[49m\u001b[43m(\u001b[49m\u001b[43mdata\u001b[49m\u001b[43m[\u001b[49m\u001b[38;5;124;43m\"\u001b[39;49m\u001b[38;5;124;43mparticles\u001b[39;49m\u001b[38;5;124;43m\"\u001b[39;49m\u001b[43m]\u001b[49m\u001b[43m)\u001b[49m\n",
      "File \u001b[1;32mD:\\GitHub\\behavior-vllm-eval\\igibson\\objects\\particles.py:639\u001b[0m, in \u001b[0;36mStain.reset_to_dump\u001b[1;34m(self, dump)\u001b[0m\n\u001b[0;32m    633\u001b[0m \u001b[38;5;28;01mdef\u001b[39;00m \u001b[38;5;21mreset_to_dump\u001b[39m(\u001b[38;5;28mself\u001b[39m, dump):\n\u001b[0;32m    634\u001b[0m     \u001b[38;5;66;03m# Need to comment out for backward compatibility for existing scene caches\u001b[39;00m\n\u001b[0;32m    635\u001b[0m     \u001b[38;5;66;03m# Assert that the dump is compatible.\u001b[39;00m\n\u001b[0;32m    636\u001b[0m     \u001b[38;5;66;03m# assert np.all(np.array(dump[\"random_bbox_dims\"]) == self.random_bbox_dims)\u001b[39;00m\n\u001b[0;32m    637\u001b[0m \n\u001b[0;32m    638\u001b[0m     \u001b[38;5;66;03m# Call the dump resetter of the parent.\u001b[39;00m\n\u001b[1;32m--> 639\u001b[0m     \u001b[38;5;28;43msuper\u001b[39;49m\u001b[43m(\u001b[49m\u001b[43mStain\u001b[49m\u001b[43m,\u001b[49m\u001b[43m \u001b[49m\u001b[38;5;28;43mself\u001b[39;49m\u001b[43m)\u001b[49m\u001b[38;5;241;43m.\u001b[39;49m\u001b[43mreset_to_dump\u001b[49m\u001b[43m(\u001b[49m\u001b[43mdump\u001b[49m\u001b[43m[\u001b[49m\u001b[38;5;124;43m\"\u001b[39;49m\u001b[38;5;124;43mdirt_dump\u001b[39;49m\u001b[38;5;124;43m\"\u001b[39;49m\u001b[43m]\u001b[49m\u001b[43m)\u001b[49m\n",
      "File \u001b[1;32mD:\\GitHub\\behavior-vllm-eval\\igibson\\objects\\particles.py:300\u001b[0m, in \u001b[0;36mAttachedParticleSystem.reset_to_dump\u001b[1;34m(self, dump)\u001b[0m\n\u001b[0;32m    297\u001b[0m         \u001b[38;5;28;01mpass\u001b[39;00m\n\u001b[0;32m    299\u001b[0m particle \u001b[38;5;241m=\u001b[39m \u001b[38;5;28mself\u001b[39m\u001b[38;5;241m.\u001b[39mget_particles()[i]\n\u001b[1;32m--> 300\u001b[0m \u001b[38;5;28;43mself\u001b[39;49m\u001b[38;5;241;43m.\u001b[39;49m\u001b[43munstash_particle\u001b[49m\u001b[43m(\u001b[49m\u001b[43mparticle_pos\u001b[49m\u001b[43m,\u001b[49m\u001b[43m \u001b[49m\u001b[43mparticle_orn\u001b[49m\u001b[43m,\u001b[49m\u001b[43m \u001b[49m\u001b[43mlink_id\u001b[49m\u001b[38;5;241;43m=\u001b[39;49m\u001b[43mparticle_attached_link_id\u001b[49m\u001b[43m,\u001b[49m\u001b[43m \u001b[49m\u001b[43mparticle\u001b[49m\u001b[38;5;241;43m=\u001b[39;49m\u001b[43mparticle\u001b[49m\u001b[43m)\u001b[49m\n",
      "File \u001b[1;32mD:\\GitHub\\behavior-vllm-eval\\igibson\\objects\\particles.py:311\u001b[0m, in \u001b[0;36mAttachedParticleSystem.unstash_particle\u001b[1;34m(self, position, orientation, link_id, **kwargs)\u001b[0m\n\u001b[0;32m    310\u001b[0m \u001b[38;5;28;01mdef\u001b[39;00m \u001b[38;5;21munstash_particle\u001b[39m(\u001b[38;5;28mself\u001b[39m, position, orientation, link_id\u001b[38;5;241m=\u001b[39m\u001b[38;5;241m-\u001b[39m\u001b[38;5;241m1\u001b[39m, \u001b[38;5;241m*\u001b[39m\u001b[38;5;241m*\u001b[39mkwargs):\n\u001b[1;32m--> 311\u001b[0m     particle \u001b[38;5;241m=\u001b[39m \u001b[38;5;28;43msuper\u001b[39;49m\u001b[43m(\u001b[49m\u001b[43mAttachedParticleSystem\u001b[49m\u001b[43m,\u001b[49m\u001b[43m \u001b[49m\u001b[38;5;28;43mself\u001b[39;49m\u001b[43m)\u001b[49m\u001b[38;5;241;43m.\u001b[39;49m\u001b[43munstash_particle\u001b[49m\u001b[43m(\u001b[49m\u001b[43mposition\u001b[49m\u001b[43m,\u001b[49m\u001b[43m \u001b[49m\u001b[43morientation\u001b[49m\u001b[43m,\u001b[49m\u001b[43m \u001b[49m\u001b[38;5;241;43m*\u001b[39;49m\u001b[38;5;241;43m*\u001b[39;49m\u001b[43mkwargs\u001b[49m\u001b[43m)\u001b[49m\n\u001b[0;32m    313\u001b[0m     \u001b[38;5;66;03m# Compute the offset for this particle.\u001b[39;00m\n\u001b[0;32m    314\u001b[0m     \u001b[38;5;28;01mif\u001b[39;00m link_id \u001b[38;5;241m==\u001b[39m \u001b[38;5;241m-\u001b[39m\u001b[38;5;241m1\u001b[39m:\n",
      "File \u001b[1;32mD:\\GitHub\\behavior-vllm-eval\\igibson\\objects\\particles.py:233\u001b[0m, in \u001b[0;36mParticleSystem.unstash_particle\u001b[1;34m(self, position, orientation, particle)\u001b[0m\n\u001b[0;32m    231\u001b[0m \u001b[38;5;66;03m# Lazy loading of the particle now if not already loaded\u001b[39;00m\n\u001b[0;32m    232\u001b[0m \u001b[38;5;28;01mif\u001b[39;00m particle\u001b[38;5;241m.\u001b[39mget_body_ids() \u001b[38;5;129;01mis\u001b[39;00m \u001b[38;5;28;01mNone\u001b[39;00m:\n\u001b[1;32m--> 233\u001b[0m     \u001b[38;5;28;43mself\u001b[39;49m\u001b[38;5;241;43m.\u001b[39;49m\u001b[43m_load_particle\u001b[49m\u001b[43m(\u001b[49m\u001b[43mparticle\u001b[49m\u001b[43m)\u001b[49m\n\u001b[0;32m    235\u001b[0m particle\u001b[38;5;241m.\u001b[39mset_position_orientation(position, orientation)\n\u001b[0;32m    236\u001b[0m particle\u001b[38;5;241m.\u001b[39mforce_wakeup()\n",
      "File \u001b[1;32mD:\\GitHub\\behavior-vllm-eval\\igibson\\objects\\particles.py:219\u001b[0m, in \u001b[0;36mParticleSystem._load_particle\u001b[1;34m(self, particle)\u001b[0m\n\u001b[0;32m    218\u001b[0m \u001b[38;5;28;01mdef\u001b[39;00m \u001b[38;5;21m_load_particle\u001b[39m(\u001b[38;5;28mself\u001b[39m, particle):\n\u001b[1;32m--> 219\u001b[0m     body_ids \u001b[38;5;241m=\u001b[39m \u001b[43mparticle\u001b[49m\u001b[38;5;241;43m.\u001b[39;49m\u001b[43mload\u001b[49m\u001b[43m(\u001b[49m\u001b[38;5;28;43mself\u001b[39;49m\u001b[38;5;241;43m.\u001b[39;49m\u001b[43m_simulator\u001b[49m\u001b[43m)\u001b[49m\n\u001b[0;32m    220\u001b[0m     \u001b[38;5;66;03m# Put loaded particles at the stash position initially.\u001b[39;00m\n\u001b[0;32m    221\u001b[0m     particle\u001b[38;5;241m.\u001b[39mset_position(_STASH_POSITION)\n",
      "File \u001b[1;32mD:\\GitHub\\behavior-vllm-eval\\igibson\\objects\\particles.py:107\u001b[0m, in \u001b[0;36mParticle.load\u001b[1;34m(self, simulator)\u001b[0m\n\u001b[0;32m    106\u001b[0m \u001b[38;5;28;01mdef\u001b[39;00m \u001b[38;5;21mload\u001b[39m(\u001b[38;5;28mself\u001b[39m, simulator):\n\u001b[1;32m--> 107\u001b[0m     bids \u001b[38;5;241m=\u001b[39m \u001b[38;5;28;43msuper\u001b[39;49m\u001b[43m(\u001b[49m\u001b[43mParticle\u001b[49m\u001b[43m,\u001b[49m\u001b[43m \u001b[49m\u001b[38;5;28;43mself\u001b[39;49m\u001b[43m)\u001b[49m\u001b[38;5;241;43m.\u001b[39;49m\u001b[43mload\u001b[49m\u001b[43m(\u001b[49m\u001b[43msimulator\u001b[49m\u001b[43m)\u001b[49m\n\u001b[0;32m    109\u001b[0m     \u001b[38;5;66;03m# By default, disable collisions for visual-only objects.\u001b[39;00m\n\u001b[0;32m    110\u001b[0m     \u001b[38;5;28;01mif\u001b[39;00m \u001b[38;5;28mself\u001b[39m\u001b[38;5;241m.\u001b[39mvisual_only:\n",
      "File \u001b[1;32mD:\\GitHub\\behavior-vllm-eval\\igibson\\objects\\object_base.py:77\u001b[0m, in \u001b[0;36mBaseObject.load\u001b[1;34m(self, simulator)\u001b[0m\n\u001b[0;32m     75\u001b[0m     \u001b[38;5;28;01mraise\u001b[39;00m \u001b[38;5;167;01mValueError\u001b[39;00m(\u001b[38;5;124m\"\u001b[39m\u001b[38;5;124mCannot load a single object multiple times.\u001b[39m\u001b[38;5;124m\"\u001b[39m)\n\u001b[0;32m     76\u001b[0m \u001b[38;5;28mself\u001b[39m\u001b[38;5;241m.\u001b[39m_loaded \u001b[38;5;241m=\u001b[39m \u001b[38;5;28;01mTrue\u001b[39;00m\n\u001b[1;32m---> 77\u001b[0m \u001b[38;5;28mself\u001b[39m\u001b[38;5;241m.\u001b[39m_body_ids \u001b[38;5;241m=\u001b[39m \u001b[38;5;28;43mself\u001b[39;49m\u001b[38;5;241;43m.\u001b[39;49m\u001b[43m_load\u001b[49m\u001b[43m(\u001b[49m\u001b[43msimulator\u001b[49m\u001b[43m)\u001b[49m\n\u001b[0;32m     79\u001b[0m \u001b[38;5;66;03m# Set the collision groups.\u001b[39;00m\n\u001b[0;32m     80\u001b[0m \u001b[38;5;28;01mfor\u001b[39;00m body_id \u001b[38;5;129;01min\u001b[39;00m \u001b[38;5;28mself\u001b[39m\u001b[38;5;241m.\u001b[39m_body_ids:\n",
      "File \u001b[1;32mD:\\GitHub\\behavior-vllm-eval\\igibson\\objects\\particles.py:81\u001b[0m, in \u001b[0;36mParticle._load\u001b[1;34m(self, simulator)\u001b[0m\n\u001b[0;32m     79\u001b[0m     visualShapeId \u001b[38;5;241m=\u001b[39m p\u001b[38;5;241m.\u001b[39mcreateVisualShape(p\u001b[38;5;241m.\u001b[39mGEOM_SPHERE, radius\u001b[38;5;241m=\u001b[39m\u001b[38;5;28mself\u001b[39m\u001b[38;5;241m.\u001b[39mbounding_box[\u001b[38;5;241m0\u001b[39m] \u001b[38;5;241m/\u001b[39m \u001b[38;5;241m2.0\u001b[39m, rgbaColor\u001b[38;5;241m=\u001b[39m\u001b[38;5;28mself\u001b[39m\u001b[38;5;241m.\u001b[39mcolor)\n\u001b[0;32m     80\u001b[0m \u001b[38;5;28;01melif\u001b[39;00m \u001b[38;5;28mself\u001b[39m\u001b[38;5;241m.\u001b[39mbase_shape \u001b[38;5;241m==\u001b[39m \u001b[38;5;124m\"\u001b[39m\u001b[38;5;124mmesh\u001b[39m\u001b[38;5;124m\"\u001b[39m:\n\u001b[1;32m---> 81\u001b[0m     colBoxId \u001b[38;5;241m=\u001b[39m \u001b[43mp\u001b[49m\u001b[38;5;241;43m.\u001b[39;49m\u001b[43mcreateCollisionShape\u001b[49m\u001b[43m(\u001b[49m\u001b[43mp\u001b[49m\u001b[38;5;241;43m.\u001b[39;49m\u001b[43mGEOM_MESH\u001b[49m\u001b[43m,\u001b[49m\u001b[43m \u001b[49m\u001b[43mfileName\u001b[49m\u001b[38;5;241;43m=\u001b[39;49m\u001b[38;5;28;43mself\u001b[39;49m\u001b[38;5;241;43m.\u001b[39;49m\u001b[43mmesh_filename\u001b[49m\u001b[43m,\u001b[49m\u001b[43m \u001b[49m\u001b[43mmeshScale\u001b[49m\u001b[38;5;241;43m=\u001b[39;49m\u001b[38;5;28;43mself\u001b[39;49m\u001b[38;5;241;43m.\u001b[39;49m\u001b[43mmesh_scale\u001b[49m\u001b[43m)\u001b[49m\n\u001b[0;32m     82\u001b[0m     visualShapeId \u001b[38;5;241m=\u001b[39m p\u001b[38;5;241m.\u001b[39mcreateVisualShape(p\u001b[38;5;241m.\u001b[39mGEOM_MESH, fileName\u001b[38;5;241m=\u001b[39m\u001b[38;5;28mself\u001b[39m\u001b[38;5;241m.\u001b[39mmesh_filename, meshScale\u001b[38;5;241m=\u001b[39m\u001b[38;5;28mself\u001b[39m\u001b[38;5;241m.\u001b[39mmesh_scale)\n\u001b[0;32m     83\u001b[0m \u001b[38;5;28;01melse\u001b[39;00m:\n",
      "\u001b[1;31merror\u001b[0m: createCollisionShape failed."
     ]
    }
   ],
   "source": [
    "headless = True\n",
    "env=EvalEnv(demo_path=demo_path,mode=\"headless\" if headless else \"gui_non_interactive\",\n",
    "        use_pb_gui=(not headless and platform.system() != \"Darwin\"),)"
   ]
  },
  {
   "cell_type": "code",
   "execution_count": 5,
   "metadata": {},
   "outputs": [
    {
     "name": "stderr",
     "output_type": "stream",
     "text": [
      "C:\\Users\\wkr\\AppData\\Local\\Temp\\ipykernel_31556\\1534369905.py:2: DeprecationWarning: the imp module is deprecated in favour of importlib; see the module's documentation for alternative uses\n",
      "  import imp\n"
     ]
    }
   ],
   "source": [
    "from igibson.transition_model_v2 import action_env\n",
    "import imp\n",
    "imp.reload(action_env)\n",
    "\n",
    "env.action_env=action_env.ActionEnv(env.simulator,env.scene,env.robot,env.addressable_objects)\n",
    "env.control_function={\n",
    "            EvalActions.NAVIGATE_TO.value: env.action_env.navigate,\n",
    "            EvalActions.LEFT_GRASP.value: env.action_env.left_grasp,\n",
    "            EvalActions.RIGHT_GRASP.value: env.action_env.right_grasp,\n",
    "            EvalActions.LEFT_PLACE_ONTOP.value: env.action_env.left_place_ontop,\n",
    "            EvalActions.RIGHT_PLACE_ONTOP.value: env.action_env.right_place_ontop,\n",
    "            EvalActions.LEFT_PLACE_INSIDE.value: env.action_env.left_place_inside,\n",
    "            EvalActions.RIGHT_PLACE_INSIDE.value: env.action_env.right_place_inside,\n",
    "            EvalActions.RIGHT_RELEASE.value: env.action_env.right_release,\n",
    "            EvalActions.LEFT_RELEASE.value: env.action_env.left_release,\n",
    "            EvalActions.OPEN.value: env.action_env.open,\n",
    "            EvalActions.CLOSE.value: env.action_env.close,\n",
    "            EvalActions.CLEAN.value: env.action_env.clean_dust,\n",
    "            EvalActions.SLICE.value: env.action_env.slice,\n",
    "        }"
   ]
  },
  {
   "cell_type": "code",
   "execution_count": 5,
   "metadata": {},
   "outputs": [
    {
     "name": "stdout",
     "output_type": "stream",
     "text": [
      "plywood_1\n",
      "room_floor_living_room_0\n",
      "plywood_2\n",
      "room_floor_kitchen_0\n",
      "plywood_0\n"
     ]
    }
   ],
   "source": [
    "for obj in env.addressable_objects:\n",
    "    print(obj.name)"
   ]
  },
  {
   "cell_type": "code",
   "execution_count": 6,
   "metadata": {},
   "outputs": [],
   "source": [
    "actions=[\n",
    "    {\n",
    "        \"action\": \"RIGHT_GRASP\",\n",
    "        \"object\": \"plywood_2\"\n",
    "    },\n",
    "    {\n",
    "        \"action\": \"LEFT_GRASP\",\n",
    "        \"object\": \"plywood_0\"\n",
    "    },\n",
    "    {\n",
    "        \"action\": \"LEFT_PLACE_ONTOP\",\n",
    "        \"object\": \"room_floor_kitchen_0\"\n",
    "    },\n",
    "    {\n",
    "        \"action\": \"RIGHT_PLACE_ONTOP\",\n",
    "        \"object\": \"room_floor_kitchen_0\"\n",
    "    },\n",
    "    {\n",
    "        \"action\": \"RIGHT_GRASP\",\n",
    "        \"object\": \"plywood_1\"\n",
    "    },\n",
    "    {\n",
    "        \"action\": \"RIGHT_PLACE_ONTOP\",\n",
    "        \"object\": \"room_floor_kitchen_0\"\n",
    "    }\n",
    "]"
   ]
  },
  {
   "cell_type": "code",
   "execution_count": 29,
   "metadata": {},
   "outputs": [],
   "source": [
    "obj=env.obj_name_to_obj[\"room_floor_living_room_0\"]"
   ]
  },
  {
   "cell_type": "code",
   "execution_count": 30,
   "metadata": {},
   "outputs": [
    {
     "data": {
      "text/plain": [
       "<igibson.object_states.on_floor.RoomFloor at 0x13584887d00>"
      ]
     },
     "execution_count": 30,
     "metadata": {},
     "output_type": "execute_result"
    }
   ],
   "source": [
    "obj"
   ]
  },
  {
   "cell_type": "code",
   "execution_count": 22,
   "metadata": {},
   "outputs": [
    {
     "name": "stdout",
     "output_type": "stream",
     "text": [
      "[0. 0. 0.]\n"
     ]
    }
   ],
   "source": [
    "print(obj.get_position())"
   ]
  },
  {
   "cell_type": "code",
   "execution_count": 23,
   "metadata": {},
   "outputs": [
    {
     "name": "stdout",
     "output_type": "stream",
     "text": [
      "(array([-1.05301714, -3.15605521, -0.1       ]), array([0., 0., 0., 1.]), array([ 6.33955713, 11.21389003,  0.206     ]), array([-1.05301714, -3.15605521, -0.1       ]))\n"
     ]
    }
   ],
   "source": [
    "print(obj.get_base_aligned_bounding_box())"
   ]
  },
  {
   "cell_type": "code",
   "execution_count": 7,
   "metadata": {},
   "outputs": [
    {
     "name": "stdout",
     "output_type": "stream",
     "text": [
      "Grasp plywood_2 with right_hand successful\n",
      "(False, {'satisfied': [], 'unsatisfied': [0]})\n",
      "Grasp plywood_0 with left_hand successful\n",
      "(False, {'satisfied': [], 'unsatisfied': [0]})\n"
     ]
    },
    {
     "ename": "TypeError",
     "evalue": "'NoneType' object is not subscriptable",
     "output_type": "error",
     "traceback": [
      "\u001b[1;31m---------------------------------------------------------------------------\u001b[0m",
      "\u001b[1;31mTypeError\u001b[0m                                 Traceback (most recent call last)",
      "Cell \u001b[1;32mIn[7], line 3\u001b[0m\n\u001b[0;32m      1\u001b[0m \u001b[38;5;28;01mfor\u001b[39;00m action \u001b[38;5;129;01min\u001b[39;00m actions:\n\u001b[0;32m      2\u001b[0m     action_execuble\u001b[38;5;241m=\u001b[39m(action[\u001b[38;5;124m'\u001b[39m\u001b[38;5;124maction\u001b[39m\u001b[38;5;124m'\u001b[39m], action[\u001b[38;5;124m'\u001b[39m\u001b[38;5;124mobject\u001b[39m\u001b[38;5;124m'\u001b[39m])\n\u001b[1;32m----> 3\u001b[0m     \u001b[43menv\u001b[49m\u001b[38;5;241;43m.\u001b[39;49m\u001b[43mstep\u001b[49m\u001b[43m(\u001b[49m\u001b[43maction_execuble\u001b[49m\u001b[43m)\u001b[49m\n\u001b[0;32m      4\u001b[0m     \u001b[38;5;28mprint\u001b[39m(env\u001b[38;5;241m.\u001b[39mtask\u001b[38;5;241m.\u001b[39mcheck_success())\n",
      "File \u001b[1;32mD:\\GitHub\\behavior-vllm-eval\\igibson\\transition_model_v2\\eval_env.py:156\u001b[0m, in \u001b[0;36mEvalEnv.step\u001b[1;34m(self, action)\u001b[0m\n\u001b[0;32m    154\u001b[0m \u001b[38;5;28;01mif\u001b[39;00m \u001b[38;5;28misinstance\u001b[39m(object_idx,\u001b[38;5;28mstr\u001b[39m):\n\u001b[0;32m    155\u001b[0m     object_idx\u001b[38;5;241m=\u001b[39m\u001b[38;5;28mself\u001b[39m\u001b[38;5;241m.\u001b[39mobj_name_to_idx[object_idx]\n\u001b[1;32m--> 156\u001b[0m flag\u001b[38;5;241m=\u001b[39m\u001b[38;5;28;43mself\u001b[39;49m\u001b[38;5;241;43m.\u001b[39;49m\u001b[43mcontrol_function\u001b[49m\u001b[43m[\u001b[49m\u001b[43maction_idx\u001b[49m\u001b[43m]\u001b[49m\u001b[43m(\u001b[49m\u001b[38;5;28;43mself\u001b[39;49m\u001b[38;5;241;43m.\u001b[39;49m\u001b[43maddressable_objects\u001b[49m\u001b[43m[\u001b[49m\u001b[43mobject_idx\u001b[49m\u001b[43m]\u001b[49m\u001b[43m)\u001b[49m\n\u001b[0;32m    157\u001b[0m \u001b[38;5;28mself\u001b[39m\u001b[38;5;241m.\u001b[39msimulator\u001b[38;5;241m.\u001b[39mstep()\n\u001b[0;32m    158\u001b[0m obs, reward, done, info \u001b[38;5;241m=\u001b[39m \u001b[38;5;28mself\u001b[39m\u001b[38;5;241m.\u001b[39menv\u001b[38;5;241m.\u001b[39mstep(\u001b[38;5;28;01mNone\u001b[39;00m)\n",
      "File \u001b[1;32mD:\\GitHub\\behavior-vllm-eval\\igibson\\transition_model_v2\\action_env.py:609\u001b[0m, in \u001b[0;36mActionEnv.left_place_ontop\u001b[1;34m(self, obj)\u001b[0m\n\u001b[0;32m    608\u001b[0m \u001b[38;5;28;01mdef\u001b[39;00m \u001b[38;5;21mleft_place_ontop\u001b[39m(\u001b[38;5;28mself\u001b[39m,obj:URDFObject):\n\u001b[1;32m--> 609\u001b[0m     \u001b[38;5;28;01mreturn\u001b[39;00m \u001b[38;5;28;43mself\u001b[39;49m\u001b[38;5;241;43m.\u001b[39;49m\u001b[43mplace_ontop\u001b[49m\u001b[43m(\u001b[49m\u001b[43mobj\u001b[49m\u001b[43m,\u001b[49m\u001b[38;5;124;43m'\u001b[39;49m\u001b[38;5;124;43mleft_hand\u001b[39;49m\u001b[38;5;124;43m'\u001b[39;49m\u001b[43m)\u001b[49m\n",
      "File \u001b[1;32mD:\\GitHub\\behavior-vllm-eval\\igibson\\transition_model_v2\\action_env.py:140\u001b[0m, in \u001b[0;36mActionEnv.place_ontop\u001b[1;34m(self, obj, hand)\u001b[0m\n\u001b[0;32m    137\u001b[0m     \u001b[38;5;28;01mreturn\u001b[39;00m \u001b[38;5;28;01mFalse\u001b[39;00m\n\u001b[0;32m    139\u001b[0m \u001b[38;5;66;03m## post effects\u001b[39;00m\n\u001b[1;32m--> 140\u001b[0m \u001b[38;5;28;43mself\u001b[39;49m\u001b[38;5;241;43m.\u001b[39;49m\u001b[43mnavigate_to_if_needed\u001b[49m\u001b[43m(\u001b[49m\u001b[43mobj\u001b[49m\u001b[43m)\u001b[49m\n\u001b[0;32m    141\u001b[0m \u001b[38;5;28mself\u001b[39m\u001b[38;5;241m.\u001b[39minside_tree\u001b[38;5;241m.\u001b[39mgrasp(obj_in_hand)\n\u001b[0;32m    142\u001b[0m \u001b[38;5;28mself\u001b[39m\u001b[38;5;241m.\u001b[39mset_ontop(obj_in_hand,obj)\n",
      "File \u001b[1;32mD:\\GitHub\\behavior-vllm-eval\\igibson\\transition_model_v2\\action_env.py:512\u001b[0m, in \u001b[0;36mActionEnv.navigate_to_if_needed\u001b[1;34m(self, obj)\u001b[0m\n\u001b[0;32m    510\u001b[0m \u001b[38;5;28;01mdef\u001b[39;00m \u001b[38;5;21mnavigate_to_if_needed\u001b[39m(\u001b[38;5;28mself\u001b[39m,obj:URDFObject):\n\u001b[0;32m    511\u001b[0m     \u001b[38;5;28;01mif\u001b[39;00m \u001b[38;5;129;01mnot\u001b[39;00m obj\u001b[38;5;241m.\u001b[39mstates[object_states\u001b[38;5;241m.\u001b[39mInReachOfRobot]\u001b[38;5;241m.\u001b[39mget_value():\n\u001b[1;32m--> 512\u001b[0m         \u001b[38;5;28;43mself\u001b[39;49m\u001b[38;5;241;43m.\u001b[39;49m\u001b[43mnavigate_to\u001b[49m\u001b[43m(\u001b[49m\u001b[43mobj\u001b[49m\u001b[43m)\u001b[49m\n",
      "File \u001b[1;32mD:\\GitHub\\behavior-vllm-eval\\igibson\\transition_model_v2\\action_env.py:34\u001b[0m, in \u001b[0;36mActionEnv.navigate_to\u001b[1;34m(self, obj)\u001b[0m\n\u001b[0;32m     31\u001b[0m \u001b[38;5;28;01mif\u001b[39;00m obj\u001b[38;5;241m.\u001b[39mstates[object_states\u001b[38;5;241m.\u001b[39mInReachOfRobot]\u001b[38;5;241m.\u001b[39mget_value():\n\u001b[0;32m     32\u001b[0m     \u001b[38;5;28;01mreturn\u001b[39;00m \u001b[38;5;28;01mTrue\u001b[39;00m\n\u001b[1;32m---> 34\u001b[0m \u001b[38;5;28;43mself\u001b[39;49m\u001b[38;5;241;43m.\u001b[39;49m\u001b[43mset_robot_pos_for_obj\u001b[49m\u001b[43m(\u001b[49m\u001b[43mobj\u001b[49m\u001b[43m)\u001b[49m\n\u001b[0;32m     35\u001b[0m \u001b[38;5;28;01mfor\u001b[39;00m hand,invent_obj \u001b[38;5;129;01min\u001b[39;00m \u001b[38;5;28mself\u001b[39m\u001b[38;5;241m.\u001b[39mrobot_inventory\u001b[38;5;241m.\u001b[39mitems():\n\u001b[0;32m     36\u001b[0m     \u001b[38;5;28;01mif\u001b[39;00m invent_obj \u001b[38;5;129;01mis\u001b[39;00m \u001b[38;5;129;01mnot\u001b[39;00m \u001b[38;5;28;01mNone\u001b[39;00m:\n",
      "File \u001b[1;32mD:\\GitHub\\behavior-vllm-eval\\igibson\\transition_model_v2\\action_env.py:567\u001b[0m, in \u001b[0;36mActionEnv.set_robot_pos_for_obj\u001b[1;34m(self, obj)\u001b[0m\n\u001b[0;32m    565\u001b[0m bbox \u001b[38;5;241m=\u001b[39m obj\u001b[38;5;241m.\u001b[39mbounding_box\n\u001b[0;32m    566\u001b[0m robot_pos \u001b[38;5;241m=\u001b[39m np\u001b[38;5;241m.\u001b[39mzeros(\u001b[38;5;241m3\u001b[39m)\n\u001b[1;32m--> 567\u001b[0m robot_pos[\u001b[38;5;241m0\u001b[39m] \u001b[38;5;241m=\u001b[39m obj_pos[\u001b[38;5;241m0\u001b[39m] \u001b[38;5;241m+\u001b[39m rotated_vec[\u001b[38;5;241m0\u001b[39m] \u001b[38;5;241m*\u001b[39m \u001b[43mbbox\u001b[49m\u001b[43m[\u001b[49m\u001b[38;5;241;43m1\u001b[39;49m\u001b[43m]\u001b[49m \u001b[38;5;241m*\u001b[39m \u001b[38;5;241m0.5\u001b[39m \u001b[38;5;241m+\u001b[39m rotated_vec[\u001b[38;5;241m0\u001b[39m]\n\u001b[0;32m    568\u001b[0m robot_pos[\u001b[38;5;241m1\u001b[39m] \u001b[38;5;241m=\u001b[39m obj_pos[\u001b[38;5;241m1\u001b[39m] \u001b[38;5;241m+\u001b[39m rotated_vec[\u001b[38;5;241m1\u001b[39m] \u001b[38;5;241m*\u001b[39m bbox[\u001b[38;5;241m1\u001b[39m] \u001b[38;5;241m*\u001b[39m \u001b[38;5;241m0.5\u001b[39m \u001b[38;5;241m+\u001b[39m rotated_vec[\u001b[38;5;241m1\u001b[39m]\n\u001b[0;32m    569\u001b[0m robot_pos[\u001b[38;5;241m2\u001b[39m] \u001b[38;5;241m=\u001b[39m \u001b[38;5;241m0.25\u001b[39m\n",
      "\u001b[1;31mTypeError\u001b[0m: 'NoneType' object is not subscriptable"
     ]
    }
   ],
   "source": [
    "for action in actions:\n",
    "    action_execuble=(action['action'], action['object'])\n",
    "    env.step(action_execuble)\n",
    "    print(env.task.check_success())"
   ]
  },
  {
   "cell_type": "code",
   "execution_count": 9,
   "metadata": {},
   "outputs": [
    {
     "data": {
      "text/plain": [
       "(True, {'satisfied': [0, 1, 2, 3, 4], 'unsatisfied': []})"
      ]
     },
     "execution_count": 9,
     "metadata": {},
     "output_type": "execute_result"
    },
    {
     "ename": "",
     "evalue": "",
     "output_type": "error",
     "traceback": [
      "\u001b[1;31mThe Kernel crashed while executing code in the current cell or a previous cell. \n",
      "\u001b[1;31mPlease review the code in the cell(s) to identify a possible cause of the failure. \n",
      "\u001b[1;31mClick <a href='https://aka.ms/vscodeJupyterKernelCrash'>here</a> for more info. \n",
      "\u001b[1;31mView Jupyter <a href='command:jupyter.viewOutput'>log</a> for further details."
     ]
    }
   ],
   "source": [
    "env.task.check_success()"
   ]
  }
 ],
 "metadata": {
  "kernelspec": {
   "display_name": "igibson-eval",
   "language": "python",
   "name": "python3"
  },
  "language_info": {
   "codemirror_mode": {
    "name": "ipython",
    "version": 3
   },
   "file_extension": ".py",
   "mimetype": "text/x-python",
   "name": "python",
   "nbconvert_exporter": "python",
   "pygments_lexer": "ipython3",
   "version": "3.8.19"
  }
 },
 "nbformat": 4,
 "nbformat_minor": 2
}
