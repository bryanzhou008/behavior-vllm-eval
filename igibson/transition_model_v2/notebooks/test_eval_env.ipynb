{
 "cells": [
  {
   "cell_type": "code",
   "execution_count": 1,
   "metadata": {},
   "outputs": [
    {
     "name": "stdout",
     "output_type": "stream",
     "text": [
      "\n",
      " _   _____  _  _\n",
      "(_) / ____|(_)| |\n",
      " _ | |  __  _ | |__   ___   ___   _ __\n",
      "| || | |_ || || '_ \\ / __| / _ \\ | '_ \\\n",
      "| || |__| || || |_) |\\__ \\| (_) || | | |\n",
      "|_| \\_____||_||_.__/ |___/ \\___/ |_| |_|\n",
      "\n"
     ]
    },
    {
     "name": "stderr",
     "output_type": "stream",
     "text": [
      "torch is not available, falling back to rendering to memory (instead of tensor)\n"
     ]
    }
   ],
   "source": [
    "from igibson.transition_model_v2.eval_env import EvalEnv\n",
    "from igibson.transition_model_v2.eval_env import EvalActions\n",
    "import platform\n",
    "import igibson.object_states as object_states"
   ]
  },
  {
   "cell_type": "code",
   "execution_count": 2,
   "metadata": {},
   "outputs": [],
   "source": [
    "class Env:\n",
    "    def __init__(self,config):\n",
    "        self.config = config    \n",
    "\n",
    "   "
   ]
  },
  {
   "cell_type": "code",
   "execution_count": 3,
   "metadata": {},
   "outputs": [],
   "source": [
    "demo_path=rb\"D:\\GitHub\\behavior-vllm-eval\\igibson\\data\\virtual_reality\\bottling_fruit_0_Wainscott_0_int_0_2021-05-24_19-46-46.hdf5\""
   ]
  },
  {
   "cell_type": "code",
   "execution_count": 4,
   "metadata": {},
   "outputs": [
    {
     "name": "stdout",
     "output_type": "stream",
     "text": [
      "indent from and: 1\n",
      "indent from and: 1\n"
     ]
    }
   ],
   "source": [
    "headless = False\n",
    "env=EvalEnv(demo_path=demo_path,mode=\"headless\" if headless else \"gui_non_interactive\",\n",
    "        use_pb_gui=(not headless and platform.system() != \"Darwin\"),)"
   ]
  },
  {
   "cell_type": "code",
   "execution_count": 5,
   "metadata": {},
   "outputs": [
    {
     "name": "stderr",
     "output_type": "stream",
     "text": [
      "C:\\Users\\wkr\\AppData\\Local\\Temp\\ipykernel_31556\\1534369905.py:2: DeprecationWarning: the imp module is deprecated in favour of importlib; see the module's documentation for alternative uses\n",
      "  import imp\n"
     ]
    }
   ],
   "source": [
    "from igibson.transition_model_v2 import action_env\n",
    "import imp\n",
    "imp.reload(action_env)\n",
    "\n",
    "env.action_env=action_env.ActionEnv(env.simulator,env.scene,env.robot,env.addressable_objects)\n",
    "env.control_function={\n",
    "            EvalActions.NAVIGATE_TO.value: env.action_env.navigate,\n",
    "            EvalActions.LEFT_GRASP.value: env.action_env.left_grasp,\n",
    "            EvalActions.RIGHT_GRASP.value: env.action_env.right_grasp,\n",
    "            EvalActions.LEFT_PLACE_ONTOP.value: env.action_env.left_place_ontop,\n",
    "            EvalActions.RIGHT_PLACE_ONTOP.value: env.action_env.right_place_ontop,\n",
    "            EvalActions.LEFT_PLACE_INSIDE.value: env.action_env.left_place_inside,\n",
    "            EvalActions.RIGHT_PLACE_INSIDE.value: env.action_env.right_place_inside,\n",
    "            EvalActions.RIGHT_RELEASE.value: env.action_env.right_release,\n",
    "            EvalActions.LEFT_RELEASE.value: env.action_env.left_release,\n",
    "            EvalActions.OPEN.value: env.action_env.open,\n",
    "            EvalActions.CLOSE.value: env.action_env.close,\n",
    "            EvalActions.CLEAN.value: env.action_env.clean_dust,\n",
    "            EvalActions.SLICE.value: env.action_env.slice,\n",
    "        }"
   ]
  },
  {
   "cell_type": "code",
   "execution_count": 6,
   "metadata": {},
   "outputs": [
    {
     "name": "stdout",
     "output_type": "stream",
     "text": [
      "room_floor_kitchen_0\n",
      "jar_0\n",
      "jar_1\n",
      "carving_knife_0\n",
      "strawberry_0_part_1\n",
      "peach_0\n",
      "peach_0_part_1\n",
      "peach_0_part_0\n",
      "countertop_84\n",
      "strawberry_0_multiplexer\n",
      "peach_0_multiplexer\n",
      "fridge_97\n",
      "strawberry_0\n",
      "bottom_cabinet_no_top_80\n",
      "strawberry_0_part_0\n"
     ]
    }
   ],
   "source": [
    "for obj in env.addressable_objects:\n",
    "    print(obj.name)"
   ]
  },
  {
   "cell_type": "code",
   "execution_count": 7,
   "metadata": {},
   "outputs": [],
   "source": [
    "actions=[\n",
    "{'action': 'OPEN', 'object': 'fridge_97'},\n",
    "{'action': 'RIGHT_GRASP', 'object': 'strawberry_0'},\n",
    "{'action': 'LEFT_GRASP', 'object': 'peach_0'},\n",
    "{'action': 'LEFT_RELEASE', 'object': 'peach_0'},\n",
    "{'action': 'RIGHT_RELEASE', 'object': 'strawberry_0'},\n",
    "{'action': 'RIGHT_GRASP', 'object': 'carving_knife_0'},\n",
    "{'action': 'SLICE', 'object': 'strawberry_0'},\n",
    "{'action': 'SLICE', 'object': 'peach_0'},\n",
    "{'action': 'RIGHT_RELEASE', 'object': 'carving_knife_0'},\n",
    "{'action': 'OPEN', 'object': 'jar_1'},\n",
    "{'action': 'LEFT_GRASP', 'object': 'strawberry_0_part_0'},\n",
    "{'action': 'LEFT_PLACE_INSIDE', 'object': 'jar_1'},\n",
    "{'action': 'LEFT_GRASP', 'object': 'strawberry_0_part_1'},\n",
    "{'action': 'LEFT_PLACE_INSIDE', 'object': 'jar_1'},\n",
    "{'action': 'CLOSE', 'object': 'jar_1'},\n",
    "{'action': 'OPEN', 'object': 'jar_0'},\n",
    "{'action': 'LEFT_GRASP', 'object': 'peach_0_part_0'},\n",
    "{'action': 'LEFT_PLACE_INSIDE', 'object': 'jar_0'},\n",
    "{'action': 'LEFT_GRASP', 'object': 'peach_0_part_1'},\n",
    "{'action': 'LEFT_PLACE_INSIDE', 'object': 'jar_0'},\n",
    "{'action': 'CLOSE', 'object': 'jar_0'},\n",
    "]"
   ]
  },
  {
   "cell_type": "code",
   "execution_count": 8,
   "metadata": {},
   "outputs": [
    {
     "name": "stdout",
     "output_type": "stream",
     "text": [
      "Open fridge_97 success\n",
      "(False, {'satisfied': [2], 'unsatisfied': [0, 1, 3, 4]})\n",
      "Grasp strawberry_0 with right_hand successful\n",
      "(False, {'satisfied': [2], 'unsatisfied': [0, 1, 3, 4]})\n",
      "Grasp peach_0 with left_hand successful\n",
      "(False, {'satisfied': [2], 'unsatisfied': [0, 1, 3, 4]})\n",
      "Release peach_0 from left_hand successful\n",
      "(False, {'satisfied': [2], 'unsatisfied': [0, 1, 3, 4]})\n",
      "Release strawberry_0 from right_hand successful\n",
      "(False, {'satisfied': [2], 'unsatisfied': [0, 1, 3, 4]})\n",
      "Grasp carving_knife_0 with right_hand successful\n",
      "(False, {'satisfied': [2], 'unsatisfied': [0, 1, 3, 4]})\n",
      "Slice strawberry_0 success\n",
      "(False, {'satisfied': [2, 3], 'unsatisfied': [0, 1, 4]})\n",
      "Slice peach_0 success\n",
      "(False, {'satisfied': [2, 3, 4], 'unsatisfied': [0, 1]})\n",
      "Release carving_knife_0 from right_hand successful\n",
      "(False, {'satisfied': [2, 3, 4], 'unsatisfied': [0, 1]})\n",
      "Open jar_1 success\n",
      "(False, {'satisfied': [3, 4], 'unsatisfied': [0, 1, 2]})\n",
      "Grasp strawberry_0_part_0 with left_hand successful\n",
      "(False, {'satisfied': [3, 4], 'unsatisfied': [0, 1, 2]})\n",
      "Place inside strawberry_0_part_0 jar_1 successful\n",
      "(False, {'satisfied': [3, 4], 'unsatisfied': [0, 1, 2]})\n",
      "Grasp strawberry_0_part_1 with left_hand successful\n",
      "(False, {'satisfied': [3, 4], 'unsatisfied': [0, 1, 2]})\n",
      "Place inside strawberry_0_part_1 jar_1 successful\n",
      "(False, {'satisfied': [0, 3, 4], 'unsatisfied': [1, 2]})\n",
      "Close jar_1 success\n",
      "(False, {'satisfied': [0, 2, 3, 4], 'unsatisfied': [1]})\n",
      "Open jar_0 success\n",
      "(False, {'satisfied': [0, 3, 4], 'unsatisfied': [1, 2]})\n",
      "Grasp peach_0_part_0 with left_hand successful\n",
      "(False, {'satisfied': [0, 3, 4], 'unsatisfied': [1, 2]})\n",
      "Place inside peach_0_part_0 jar_0 successful\n",
      "(False, {'satisfied': [0, 3, 4], 'unsatisfied': [1, 2]})\n",
      "Grasp peach_0_part_1 with left_hand successful\n",
      "(False, {'satisfied': [0, 3, 4], 'unsatisfied': [1, 2]})\n",
      "Place inside peach_0_part_1 jar_0 successful\n",
      "(False, {'satisfied': [0, 1, 3, 4], 'unsatisfied': [2]})\n",
      "Close jar_0 success\n",
      "(True, {'satisfied': [0, 1, 2, 3, 4], 'unsatisfied': []})\n"
     ]
    }
   ],
   "source": [
    "for action in actions:\n",
    "    action_execuble=(action['action'], action['object'])\n",
    "    env.step(action_execuble)\n",
    "    print(env.task.check_success())"
   ]
  },
  {
   "cell_type": "code",
   "execution_count": 9,
   "metadata": {},
   "outputs": [
    {
     "data": {
      "text/plain": [
       "(True, {'satisfied': [0, 1, 2, 3, 4], 'unsatisfied': []})"
      ]
     },
     "execution_count": 9,
     "metadata": {},
     "output_type": "execute_result"
    },
    {
     "ename": "",
     "evalue": "",
     "output_type": "error",
     "traceback": [
      "\u001b[1;31mThe Kernel crashed while executing code in the current cell or a previous cell. \n",
      "\u001b[1;31mPlease review the code in the cell(s) to identify a possible cause of the failure. \n",
      "\u001b[1;31mClick <a href='https://aka.ms/vscodeJupyterKernelCrash'>here</a> for more info. \n",
      "\u001b[1;31mView Jupyter <a href='command:jupyter.viewOutput'>log</a> for further details."
     ]
    }
   ],
   "source": [
    "env.task.check_success()"
   ]
  }
 ],
 "metadata": {
  "kernelspec": {
   "display_name": "igibson-eval",
   "language": "python",
   "name": "python3"
  },
  "language_info": {
   "codemirror_mode": {
    "name": "ipython",
    "version": 3
   },
   "file_extension": ".py",
   "mimetype": "text/x-python",
   "name": "python",
   "nbconvert_exporter": "python",
   "pygments_lexer": "ipython3",
   "version": "3.8.19"
  }
 },
 "nbformat": 4,
 "nbformat_minor": 2
}
