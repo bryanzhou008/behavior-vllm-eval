{
 "cells": [
  {
   "cell_type": "code",
   "execution_count": 1,
   "metadata": {},
   "outputs": [
    {
     "name": "stdout",
     "output_type": "stream",
     "text": [
      "\n",
      " _   _____  _  _\n",
      "(_) / ____|(_)| |\n",
      " _ | |  __  _ | |__   ___   ___   _ __\n",
      "| || | |_ || || '_ \\ / __| / _ \\ | '_ \\\n",
      "| || |__| || || |_) |\\__ \\| (_) || | | |\n",
      "|_| \\_____||_||_.__/ |___/ \\___/ |_| |_|\n",
      "\n"
     ]
    },
    {
     "name": "stderr",
     "output_type": "stream",
     "text": [
      "torch is not available, falling back to rendering to memory (instead of tensor)\n"
     ]
    }
   ],
   "source": [
    "import igibson.object_states as object_states\n",
    "from igibson.tasks.behavior_task import BehaviorTask\n",
    "from igibson.utils.ig_logging import IGLogReader\n",
    "from igibson.utils.utils import parse_config\n",
    "import os\n",
    "import igibson\n",
    "from igibson.envs.igibson_env import iGibsonEnv"
   ]
  },
  {
   "cell_type": "code",
   "execution_count": 2,
   "metadata": {},
   "outputs": [],
   "source": [
    "class Env:\n",
    "\n",
    "    def defalt_init(self,demo_path):\n",
    "        task = IGLogReader.read_metadata_attr(demo_path, \"/metadata/atus_activity\")\n",
    "        if task is None:\n",
    "            task = IGLogReader.read_metadata_attr(demo_path, \"/metadata/task_name\")\n",
    "\n",
    "        task_id = IGLogReader.read_metadata_attr(demo_path, \"/metadata/activity_definition\")\n",
    "        if task_id is None:\n",
    "            task_id = IGLogReader.read_metadata_attr(demo_path, \"/metadata/task_instance\")\n",
    "\n",
    "        scene_id = IGLogReader.read_metadata_attr(demo_path, \"/metadata/scene_id\")\n",
    "\n",
    "        config_filename = os.path.join(igibson.configs_path, \"behavior_robot_mp_behavior_task.yaml\")\n",
    "        config = parse_config(config_filename)\n",
    "        \n",
    "\n",
    "        config[\"task\"] = task\n",
    "        config[\"task_id\"] = task_id\n",
    "        config[\"scene_id\"] = scene_id\n",
    "        config[\"robot\"][\"show_visual_head\"] = True\n",
    "        config[\"image_width\"]=512\n",
    "        config[\"image_height\"]=512\n",
    "        self.config = config\n",
    "    \n",
    "            \n",
    "    def __init__(self,demo_path=None) -> None:\n",
    "        self.config=None\n",
    "        if demo_path is not None:\n",
    "            self.defalt_init(demo_path)\n",
    "\n",
    "    "
   ]
  },
  {
   "cell_type": "code",
   "execution_count": 3,
   "metadata": {},
   "outputs": [
    {
     "name": "stdout",
     "output_type": "stream",
     "text": [
      "indent from and: 1\n",
      "indent from and: 1\n",
      "indent from and: 1\n",
      "indent from and: 1\n"
     ]
    }
   ],
   "source": [
    "demo_path=rb\"D:\\GitHub\\behavior-vllm-eval\\igibson\\data\\virtual_reality\\bottling_fruit_0_Wainscott_0_int_0_2021-05-24_19-46-46.hdf5\"\n",
    "eenv=Env(demo_path=demo_path)\n",
    "igenv = iGibsonEnv(config_file=eenv.config)\n",
    "bt=BehaviorTask(igenv)"
   ]
  },
  {
   "cell_type": "code",
   "execution_count": 10,
   "metadata": {},
   "outputs": [
    {
     "name": "stdout",
     "output_type": "stream",
     "text": [
      "strawberry.n.01_1 {<class 'igibson.object_states.temperature.Temperature'>: <igibson.object_states.temperature.Temperature object at 0x00000293AD43D5B0>, <class 'igibson.object_states.max_temperature.MaxTemperature'>: <igibson.object_states.max_temperature.MaxTemperature object at 0x00000293AD43DFD0>, <class 'igibson.object_states.adjacency.VerticalAdjacency'>: <igibson.object_states.adjacency.VerticalAdjacency object at 0x00000293AD42C040>, <class 'igibson.object_states.adjacency.HorizontalAdjacency'>: <igibson.object_states.adjacency.HorizontalAdjacency object at 0x00000293AD42C0A0>, <class 'igibson.object_states.room_states.InsideRoomTypes'>: <igibson.object_states.room_states.InsideRoomTypes object at 0x00000293AD42C100>, <class 'igibson.object_states.contact_bodies.ContactBodies'>: <igibson.object_states.contact_bodies.ContactBodies object at 0x00000293AD42C160>, <class 'igibson.object_states.aabb.AABB'>: <igibson.object_states.aabb.AABB object at 0x00000293AD42C1C0>, <class 'igibson.object_states.pose.Pose'>: <igibson.object_states.pose.Pose object at 0x00000293AD42C220>, <class 'igibson.object_states.sliced.Sliced'>: <igibson.object_states.sliced.Sliced object at 0x00000293AD42C280>, <class 'igibson.object_states.frozen.Frozen'>: <igibson.object_states.frozen.Frozen object at 0x00000293AD42C2E0>, <class 'igibson.object_states.cooked.Cooked'>: <igibson.object_states.cooked.Cooked object at 0x00000293AD42C340>, <class 'igibson.object_states.burnt.Burnt'>: <igibson.object_states.burnt.Burnt object at 0x00000293AD42C3A0>, <class 'igibson.object_states.under.Under'>: <igibson.object_states.under.Under object at 0x00000293AD42C400>, <class 'igibson.object_states.next_to.NextTo'>: <igibson.object_states.next_to.NextTo object at 0x00000293AD42C460>, <class 'igibson.object_states.on_top.OnTop'>: <igibson.object_states.on_top.OnTop object at 0x00000293AD42C4C0>, <class 'igibson.object_states.inside.Inside'>: <igibson.object_states.inside.Inside object at 0x00000293AD42C520>, <class 'igibson.object_states.robot_related_states.InHandOfRobot'>: <igibson.object_states.robot_related_states.InHandOfRobot object at 0x00000293AD42C580>, <class 'igibson.object_states.robot_related_states.InReachOfRobot'>: <igibson.object_states.robot_related_states.InReachOfRobot object at 0x00000293AD42C5E0>, <class 'igibson.object_states.on_floor.OnFloor'>: <igibson.object_states.on_floor.OnFloor object at 0x00000293AD42C640>, <class 'igibson.object_states.robot_related_states.InFOVOfRobot'>: <igibson.object_states.robot_related_states.InFOVOfRobot object at 0x00000293AD42C6A0>, <class 'igibson.object_states.robot_related_states.InSameRoomAsRobot'>: <igibson.object_states.robot_related_states.InSameRoomAsRobot object at 0x00000293AD42C700>, <class 'igibson.object_states.touching.Touching'>: <igibson.object_states.touching.Touching object at 0x00000293AD42C760>}\n",
      "electric_refrigerator.n.01_1 {<class 'igibson.object_states.adjacency.VerticalAdjacency'>: <igibson.object_states.adjacency.VerticalAdjacency object at 0x00000293B9735B50>, <class 'igibson.object_states.adjacency.HorizontalAdjacency'>: <igibson.object_states.adjacency.HorizontalAdjacency object at 0x00000293B9735160>, <class 'igibson.object_states.room_states.InsideRoomTypes'>: <igibson.object_states.room_states.InsideRoomTypes object at 0x00000293B97351C0>, <class 'igibson.object_states.contact_bodies.ContactBodies'>: <igibson.object_states.contact_bodies.ContactBodies object at 0x00000293B97350D0>, <class 'igibson.object_states.aabb.AABB'>: <igibson.object_states.aabb.AABB object at 0x00000293B9735220>, <class 'igibson.object_states.pose.Pose'>: <igibson.object_states.pose.Pose object at 0x00000293B9735340>, <class 'igibson.object_states.dirty.Stained'>: <igibson.object_states.dirty.Stained object at 0x00000293B97354F0>, <class 'igibson.object_states.open.Open'>: <igibson.object_states.open.Open object at 0x00000293B9735370>, <class 'igibson.object_states.dirty.Dusty'>: <igibson.object_states.dirty.Dusty object at 0x00000293B97353A0>, <class 'igibson.object_states.heat_source_or_sink.HeatSourceOrSink'>: <igibson.object_states.heat_source_or_sink.HeatSourceOrSink object at 0x00000293B97356D0>, <class 'igibson.object_states.under.Under'>: <igibson.object_states.under.Under object at 0x00000293B97356A0>, <class 'igibson.object_states.next_to.NextTo'>: <igibson.object_states.next_to.NextTo object at 0x00000293B9735610>, <class 'igibson.object_states.on_top.OnTop'>: <igibson.object_states.on_top.OnTop object at 0x00000293B9735430>, <class 'igibson.object_states.inside.Inside'>: <igibson.object_states.inside.Inside object at 0x00000293B97355B0>, <class 'igibson.object_states.robot_related_states.InHandOfRobot'>: <igibson.object_states.robot_related_states.InHandOfRobot object at 0x00000293B97355E0>, <class 'igibson.object_states.robot_related_states.InReachOfRobot'>: <igibson.object_states.robot_related_states.InReachOfRobot object at 0x00000293B97352B0>, <class 'igibson.object_states.on_floor.OnFloor'>: <igibson.object_states.on_floor.OnFloor object at 0x00000293EAD86730>, <class 'igibson.object_states.robot_related_states.InFOVOfRobot'>: <igibson.object_states.robot_related_states.InFOVOfRobot object at 0x00000293B97443A0>, <class 'igibson.object_states.robot_related_states.InSameRoomAsRobot'>: <igibson.object_states.robot_related_states.InSameRoomAsRobot object at 0x00000293B97447C0>, <class 'igibson.object_states.touching.Touching'>: <igibson.object_states.touching.Touching object at 0x00000293B9744C70>}\n",
      "peach.n.03_1 {<class 'igibson.object_states.temperature.Temperature'>: <igibson.object_states.temperature.Temperature object at 0x00000293AD436B20>, <class 'igibson.object_states.max_temperature.MaxTemperature'>: <igibson.object_states.max_temperature.MaxTemperature object at 0x00000293AD436B80>, <class 'igibson.object_states.adjacency.VerticalAdjacency'>: <igibson.object_states.adjacency.VerticalAdjacency object at 0x00000293AD436BE0>, <class 'igibson.object_states.adjacency.HorizontalAdjacency'>: <igibson.object_states.adjacency.HorizontalAdjacency object at 0x00000293AD436C40>, <class 'igibson.object_states.room_states.InsideRoomTypes'>: <igibson.object_states.room_states.InsideRoomTypes object at 0x00000293AD436CA0>, <class 'igibson.object_states.contact_bodies.ContactBodies'>: <igibson.object_states.contact_bodies.ContactBodies object at 0x00000293AD436D00>, <class 'igibson.object_states.aabb.AABB'>: <igibson.object_states.aabb.AABB object at 0x00000293AD436D60>, <class 'igibson.object_states.pose.Pose'>: <igibson.object_states.pose.Pose object at 0x00000293AD436DC0>, <class 'igibson.object_states.sliced.Sliced'>: <igibson.object_states.sliced.Sliced object at 0x00000293AD436E20>, <class 'igibson.object_states.frozen.Frozen'>: <igibson.object_states.frozen.Frozen object at 0x00000293AD436E80>, <class 'igibson.object_states.cooked.Cooked'>: <igibson.object_states.cooked.Cooked object at 0x00000293AD436EE0>, <class 'igibson.object_states.burnt.Burnt'>: <igibson.object_states.burnt.Burnt object at 0x00000293AD436F40>, <class 'igibson.object_states.under.Under'>: <igibson.object_states.under.Under object at 0x00000293AD436FA0>, <class 'igibson.object_states.next_to.NextTo'>: <igibson.object_states.next_to.NextTo object at 0x00000293A2BEC040>, <class 'igibson.object_states.on_top.OnTop'>: <igibson.object_states.on_top.OnTop object at 0x00000293A2BEC0A0>, <class 'igibson.object_states.inside.Inside'>: <igibson.object_states.inside.Inside object at 0x00000293A2BEC100>, <class 'igibson.object_states.robot_related_states.InHandOfRobot'>: <igibson.object_states.robot_related_states.InHandOfRobot object at 0x00000293A2BEC160>, <class 'igibson.object_states.robot_related_states.InReachOfRobot'>: <igibson.object_states.robot_related_states.InReachOfRobot object at 0x00000293A2BEC1C0>, <class 'igibson.object_states.on_floor.OnFloor'>: <igibson.object_states.on_floor.OnFloor object at 0x00000293A2BEC220>, <class 'igibson.object_states.robot_related_states.InFOVOfRobot'>: <igibson.object_states.robot_related_states.InFOVOfRobot object at 0x00000293A2BEC280>, <class 'igibson.object_states.robot_related_states.InSameRoomAsRobot'>: <igibson.object_states.robot_related_states.InSameRoomAsRobot object at 0x00000293A2BEC2E0>, <class 'igibson.object_states.touching.Touching'>: <igibson.object_states.touching.Touching object at 0x00000293A2BEC340>}\n",
      "countertop.n.01_1 {<class 'igibson.object_states.adjacency.VerticalAdjacency'>: <igibson.object_states.adjacency.VerticalAdjacency object at 0x00000293C481F190>, <class 'igibson.object_states.adjacency.HorizontalAdjacency'>: <igibson.object_states.adjacency.HorizontalAdjacency object at 0x00000293C481F9D0>, <class 'igibson.object_states.room_states.InsideRoomTypes'>: <igibson.object_states.room_states.InsideRoomTypes object at 0x00000293C481F8B0>, <class 'igibson.object_states.contact_bodies.ContactBodies'>: <igibson.object_states.contact_bodies.ContactBodies object at 0x00000293C481F940>, <class 'igibson.object_states.aabb.AABB'>: <igibson.object_states.aabb.AABB object at 0x00000293C481F8E0>, <class 'igibson.object_states.pose.Pose'>: <igibson.object_states.pose.Pose object at 0x00000293C481FA30>, <class 'igibson.object_states.dirty.Stained'>: <igibson.object_states.dirty.Stained object at 0x00000293C481F850>, <class 'igibson.object_states.dirty.Dusty'>: <igibson.object_states.dirty.Dusty object at 0x00000293C481F7F0>, <class 'igibson.object_states.under.Under'>: <igibson.object_states.under.Under object at 0x00000293C481F670>, <class 'igibson.object_states.next_to.NextTo'>: <igibson.object_states.next_to.NextTo object at 0x00000293C481F610>, <class 'igibson.object_states.on_top.OnTop'>: <igibson.object_states.on_top.OnTop object at 0x00000293C481F6D0>, <class 'igibson.object_states.inside.Inside'>: <igibson.object_states.inside.Inside object at 0x00000293B96CC7F0>, <class 'igibson.object_states.robot_related_states.InHandOfRobot'>: <igibson.object_states.robot_related_states.InHandOfRobot object at 0x00000293B96CC790>, <class 'igibson.object_states.robot_related_states.InReachOfRobot'>: <igibson.object_states.robot_related_states.InReachOfRobot object at 0x00000293B96CC040>, <class 'igibson.object_states.on_floor.OnFloor'>: <igibson.object_states.on_floor.OnFloor object at 0x00000293B96CCB50>, <class 'igibson.object_states.robot_related_states.InFOVOfRobot'>: <igibson.object_states.robot_related_states.InFOVOfRobot object at 0x00000293B96CCA60>, <class 'igibson.object_states.robot_related_states.InSameRoomAsRobot'>: <igibson.object_states.robot_related_states.InSameRoomAsRobot object at 0x00000293B96CC970>, <class 'igibson.object_states.touching.Touching'>: <igibson.object_states.touching.Touching object at 0x00000293B96CC850>}\n",
      "jar.n.01_1 {<class 'igibson.object_states.adjacency.VerticalAdjacency'>: <igibson.object_states.adjacency.VerticalAdjacency object at 0x00000293A2BF1B50>, <class 'igibson.object_states.adjacency.HorizontalAdjacency'>: <igibson.object_states.adjacency.HorizontalAdjacency object at 0x00000293A2BF1BB0>, <class 'igibson.object_states.room_states.InsideRoomTypes'>: <igibson.object_states.room_states.InsideRoomTypes object at 0x00000293A2BF1C10>, <class 'igibson.object_states.contact_bodies.ContactBodies'>: <igibson.object_states.contact_bodies.ContactBodies object at 0x00000293A2BF1C70>, <class 'igibson.object_states.aabb.AABB'>: <igibson.object_states.aabb.AABB object at 0x00000293A2BF1CD0>, <class 'igibson.object_states.pose.Pose'>: <igibson.object_states.pose.Pose object at 0x00000293A2BF1D30>, <class 'igibson.object_states.dirty.Stained'>: <igibson.object_states.dirty.Stained object at 0x00000293A2BF1D90>, <class 'igibson.object_states.open.Open'>: <igibson.object_states.open.Open object at 0x00000293A2BF1DF0>, <class 'igibson.object_states.dirty.Dusty'>: <igibson.object_states.dirty.Dusty object at 0x00000293A2BF1E50>, <class 'igibson.object_states.under.Under'>: <igibson.object_states.under.Under object at 0x00000293A2BF1EB0>, <class 'igibson.object_states.next_to.NextTo'>: <igibson.object_states.next_to.NextTo object at 0x00000293A2BF1F10>, <class 'igibson.object_states.on_top.OnTop'>: <igibson.object_states.on_top.OnTop object at 0x00000293A2BF1F70>, <class 'igibson.object_states.inside.Inside'>: <igibson.object_states.inside.Inside object at 0x00000293A2BF1FD0>, <class 'igibson.object_states.robot_related_states.InHandOfRobot'>: <igibson.object_states.robot_related_states.InHandOfRobot object at 0x00000293A2C1B070>, <class 'igibson.object_states.robot_related_states.InReachOfRobot'>: <igibson.object_states.robot_related_states.InReachOfRobot object at 0x00000293A2C1B0D0>, <class 'igibson.object_states.on_floor.OnFloor'>: <igibson.object_states.on_floor.OnFloor object at 0x00000293A2C1B130>, <class 'igibson.object_states.robot_related_states.InFOVOfRobot'>: <igibson.object_states.robot_related_states.InFOVOfRobot object at 0x00000293A2C1B190>, <class 'igibson.object_states.robot_related_states.InSameRoomAsRobot'>: <igibson.object_states.robot_related_states.InSameRoomAsRobot object at 0x00000293A2C1B1F0>, <class 'igibson.object_states.touching.Touching'>: <igibson.object_states.touching.Touching object at 0x00000293A2C1B250>}\n",
      "jar.n.01_2 {<class 'igibson.object_states.adjacency.VerticalAdjacency'>: <igibson.object_states.adjacency.VerticalAdjacency object at 0x00000293A2C1B760>, <class 'igibson.object_states.adjacency.HorizontalAdjacency'>: <igibson.object_states.adjacency.HorizontalAdjacency object at 0x00000293A2C1BE80>, <class 'igibson.object_states.room_states.InsideRoomTypes'>: <igibson.object_states.room_states.InsideRoomTypes object at 0x00000293A2C1BDF0>, <class 'igibson.object_states.contact_bodies.ContactBodies'>: <igibson.object_states.contact_bodies.ContactBodies object at 0x00000293A2C1BD60>, <class 'igibson.object_states.aabb.AABB'>: <igibson.object_states.aabb.AABB object at 0x00000293A2C1B940>, <class 'igibson.object_states.pose.Pose'>: <igibson.object_states.pose.Pose object at 0x00000293A2C1BCA0>, <class 'igibson.object_states.dirty.Stained'>: <igibson.object_states.dirty.Stained object at 0x00000293A2C1BEB0>, <class 'igibson.object_states.open.Open'>: <igibson.object_states.open.Open object at 0x00000293A2C1BD90>, <class 'igibson.object_states.dirty.Dusty'>: <igibson.object_states.dirty.Dusty object at 0x00000293A2C1BFD0>, <class 'igibson.object_states.under.Under'>: <igibson.object_states.under.Under object at 0x00000293A2C1B340>, <class 'igibson.object_states.next_to.NextTo'>: <igibson.object_states.next_to.NextTo object at 0x00000293B2A7E070>, <class 'igibson.object_states.on_top.OnTop'>: <igibson.object_states.on_top.OnTop object at 0x00000293B2A7E0D0>, <class 'igibson.object_states.inside.Inside'>: <igibson.object_states.inside.Inside object at 0x00000293B2A7E130>, <class 'igibson.object_states.robot_related_states.InHandOfRobot'>: <igibson.object_states.robot_related_states.InHandOfRobot object at 0x00000293B2A7E190>, <class 'igibson.object_states.robot_related_states.InReachOfRobot'>: <igibson.object_states.robot_related_states.InReachOfRobot object at 0x00000293B2A7E1F0>, <class 'igibson.object_states.on_floor.OnFloor'>: <igibson.object_states.on_floor.OnFloor object at 0x00000293B2A7E250>, <class 'igibson.object_states.robot_related_states.InFOVOfRobot'>: <igibson.object_states.robot_related_states.InFOVOfRobot object at 0x00000293B2A7E2B0>, <class 'igibson.object_states.robot_related_states.InSameRoomAsRobot'>: <igibson.object_states.robot_related_states.InSameRoomAsRobot object at 0x00000293B2A7E310>, <class 'igibson.object_states.touching.Touching'>: <igibson.object_states.touching.Touching object at 0x00000293B2A7E370>}\n",
      "carving_knife.n.01_1 {<class 'igibson.object_states.adjacency.VerticalAdjacency'>: <igibson.object_states.adjacency.VerticalAdjacency object at 0x00000293AD43DBE0>, <class 'igibson.object_states.adjacency.HorizontalAdjacency'>: <igibson.object_states.adjacency.HorizontalAdjacency object at 0x00000293AD43DC40>, <class 'igibson.object_states.room_states.InsideRoomTypes'>: <igibson.object_states.room_states.InsideRoomTypes object at 0x00000293AD43DAF0>, <class 'igibson.object_states.contact_bodies.ContactBodies'>: <igibson.object_states.contact_bodies.ContactBodies object at 0x00000293AD43DCD0>, <class 'igibson.object_states.aabb.AABB'>: <igibson.object_states.aabb.AABB object at 0x00000293AD43D610>, <class 'igibson.object_states.pose.Pose'>: <igibson.object_states.pose.Pose object at 0x00000293AD43DF70>, <class 'igibson.object_states.dirty.Stained'>: <igibson.object_states.dirty.Stained object at 0x00000293AD43DD30>, <class 'igibson.object_states.slicer.Slicer'>: <igibson.object_states.slicer.Slicer object at 0x00000293AD43DA00>, <class 'igibson.object_states.dirty.Dusty'>: <igibson.object_states.dirty.Dusty object at 0x00000293AD43DEE0>, <class 'igibson.object_states.under.Under'>: <igibson.object_states.under.Under object at 0x00000293AD43D820>, <class 'igibson.object_states.next_to.NextTo'>: <igibson.object_states.next_to.NextTo object at 0x00000293A2C1B8E0>, <class 'igibson.object_states.on_top.OnTop'>: <igibson.object_states.on_top.OnTop object at 0x00000293A2C1B5E0>, <class 'igibson.object_states.inside.Inside'>: <igibson.object_states.inside.Inside object at 0x00000293A2C1B880>, <class 'igibson.object_states.robot_related_states.InHandOfRobot'>: <igibson.object_states.robot_related_states.InHandOfRobot object at 0x00000293A2C1B7C0>, <class 'igibson.object_states.robot_related_states.InReachOfRobot'>: <igibson.object_states.robot_related_states.InReachOfRobot object at 0x00000293A2C1B3D0>, <class 'igibson.object_states.on_floor.OnFloor'>: <igibson.object_states.on_floor.OnFloor object at 0x00000293A2C1B2B0>, <class 'igibson.object_states.robot_related_states.InFOVOfRobot'>: <igibson.object_states.robot_related_states.InFOVOfRobot object at 0x00000293A2C1B400>, <class 'igibson.object_states.robot_related_states.InSameRoomAsRobot'>: <igibson.object_states.robot_related_states.InSameRoomAsRobot object at 0x00000293A2C1B430>, <class 'igibson.object_states.touching.Touching'>: <igibson.object_states.touching.Touching object at 0x00000293A2C1B550>}\n",
      "cabinet.n.01_1 {<class 'igibson.object_states.adjacency.VerticalAdjacency'>: <igibson.object_states.adjacency.VerticalAdjacency object at 0x00000293B819EDF0>, <class 'igibson.object_states.adjacency.HorizontalAdjacency'>: <igibson.object_states.adjacency.HorizontalAdjacency object at 0x00000293B819EF70>, <class 'igibson.object_states.room_states.InsideRoomTypes'>: <igibson.object_states.room_states.InsideRoomTypes object at 0x00000293B819E9D0>, <class 'igibson.object_states.contact_bodies.ContactBodies'>: <igibson.object_states.contact_bodies.ContactBodies object at 0x00000293B819EEB0>, <class 'igibson.object_states.aabb.AABB'>: <igibson.object_states.aabb.AABB object at 0x00000293B819E340>, <class 'igibson.object_states.pose.Pose'>: <igibson.object_states.pose.Pose object at 0x00000293B819EE50>, <class 'igibson.object_states.dirty.Stained'>: <igibson.object_states.dirty.Stained object at 0x00000293B819ECD0>, <class 'igibson.object_states.open.Open'>: <igibson.object_states.open.Open object at 0x00000293B819ED90>, <class 'igibson.object_states.dirty.Dusty'>: <igibson.object_states.dirty.Dusty object at 0x00000293B819ED30>, <class 'igibson.object_states.under.Under'>: <igibson.object_states.under.Under object at 0x00000293B819E430>, <class 'igibson.object_states.next_to.NextTo'>: <igibson.object_states.next_to.NextTo object at 0x00000293B819E6A0>, <class 'igibson.object_states.on_top.OnTop'>: <igibson.object_states.on_top.OnTop object at 0x00000293B819E7C0>, <class 'igibson.object_states.inside.Inside'>: <igibson.object_states.inside.Inside object at 0x00000293B819EC70>, <class 'igibson.object_states.robot_related_states.InHandOfRobot'>: <igibson.object_states.robot_related_states.InHandOfRobot object at 0x00000293B819E490>, <class 'igibson.object_states.robot_related_states.InReachOfRobot'>: <igibson.object_states.robot_related_states.InReachOfRobot object at 0x00000293B819EA90>, <class 'igibson.object_states.on_floor.OnFloor'>: <igibson.object_states.on_floor.OnFloor object at 0x00000293B819E580>, <class 'igibson.object_states.robot_related_states.InFOVOfRobot'>: <igibson.object_states.robot_related_states.InFOVOfRobot object at 0x00000293B819E4C0>, <class 'igibson.object_states.robot_related_states.InSameRoomAsRobot'>: <igibson.object_states.robot_related_states.InSameRoomAsRobot object at 0x00000293B819E100>, <class 'igibson.object_states.touching.Touching'>: <igibson.object_states.touching.Touching object at 0x00000293B819E0A0>}\n",
      "floor.n.01_1 {<class 'igibson.object_states.adjacency.VerticalAdjacency'>: <igibson.object_states.adjacency.VerticalAdjacency object at 0x00000294038E70D0>, <class 'igibson.object_states.adjacency.HorizontalAdjacency'>: <igibson.object_states.adjacency.HorizontalAdjacency object at 0x00000294038E7880>, <class 'igibson.object_states.room_states.InsideRoomTypes'>: <igibson.object_states.room_states.InsideRoomTypes object at 0x00000294038E7C10>, <class 'igibson.object_states.contact_bodies.ContactBodies'>: <igibson.object_states.contact_bodies.ContactBodies object at 0x00000294038E7D30>, <class 'igibson.object_states.aabb.AABB'>: <igibson.object_states.aabb.AABB object at 0x00000294038E7B50>, <class 'igibson.object_states.pose.Pose'>: <igibson.object_states.pose.Pose object at 0x00000294038E7E20>, <class 'igibson.object_states.dirty.Stained'>: <igibson.object_states.dirty.Stained object at 0x00000294038E7BB0>, <class 'igibson.object_states.dirty.Dusty'>: <igibson.object_states.dirty.Dusty object at 0x00000294038E7C70>, <class 'igibson.object_states.under.Under'>: <igibson.object_states.under.Under object at 0x00000294038E7CD0>, <class 'igibson.object_states.next_to.NextTo'>: <igibson.object_states.next_to.NextTo object at 0x00000294038E7AC0>, <class 'igibson.object_states.on_top.OnTop'>: <igibson.object_states.on_top.OnTop object at 0x00000294038E77C0>, <class 'igibson.object_states.inside.Inside'>: <igibson.object_states.inside.Inside object at 0x00000294038E7A30>, <class 'igibson.object_states.robot_related_states.InHandOfRobot'>: <igibson.object_states.robot_related_states.InHandOfRobot object at 0x00000294038E7B20>, <class 'igibson.object_states.robot_related_states.InReachOfRobot'>: <igibson.object_states.robot_related_states.InReachOfRobot object at 0x00000293EAF869D0>, <class 'igibson.object_states.on_floor.OnFloor'>: <igibson.object_states.on_floor.OnFloor object at 0x00000293EAF86FD0>, <class 'igibson.object_states.robot_related_states.InFOVOfRobot'>: <igibson.object_states.robot_related_states.InFOVOfRobot object at 0x00000293EAF86430>, <class 'igibson.object_states.robot_related_states.InSameRoomAsRobot'>: <igibson.object_states.robot_related_states.InSameRoomAsRobot object at 0x00000293EAF86310>, <class 'igibson.object_states.touching.Touching'>: <igibson.object_states.touching.Touching object at 0x00000293EAF86910>}\n",
      "agent.n.01_1 {<class 'igibson.object_states.adjacency.VerticalAdjacency'>: <igibson.object_states.adjacency.VerticalAdjacency object at 0x000002941BF81F40>, <class 'igibson.object_states.adjacency.HorizontalAdjacency'>: <igibson.object_states.adjacency.HorizontalAdjacency object at 0x000002941BF81F70>, <class 'igibson.object_states.room_states.InsideRoomTypes'>: <igibson.object_states.room_states.InsideRoomTypes object at 0x000002941BF96040>, <class 'igibson.object_states.contact_bodies.ContactBodies'>: <igibson.object_states.contact_bodies.ContactBodies object at 0x000002941BF960A0>, <class 'igibson.object_states.aabb.AABB'>: <igibson.object_states.aabb.AABB object at 0x000002941BF96100>, <class 'igibson.object_states.pose.Pose'>: <igibson.object_states.pose.Pose object at 0x000002941BF96160>, <class 'igibson.object_states.robot_related_states.ObjectsInFOVOfRobot'>: <igibson.object_states.robot_related_states.ObjectsInFOVOfRobot object at 0x000002941BF961C0>, <class 'abc.IsInUndefined'>: <abc.IsInUndefined object at 0x000002941BF96220>, <class 'abc.IsInAuditorium'>: <abc.IsInAuditorium object at 0x000002941BF96280>, <class 'abc.IsInLibrary'>: <abc.IsInLibrary object at 0x000002941BF962E0>, <class 'abc.IsInBalcony'>: <abc.IsInBalcony object at 0x000002941BF96340>, <class 'abc.IsInUtilityRoom'>: <abc.IsInUtilityRoom object at 0x000002941BF963A0>, <class 'abc.IsInTelevisionRoom'>: <abc.IsInTelevisionRoom object at 0x000002941BF96400>, <class 'abc.IsInStorageRoom'>: <abc.IsInStorageRoom object at 0x000002941BF96460>, <class 'abc.IsInStaircase'>: <abc.IsInStaircase object at 0x000002941BF964C0>, <class 'abc.IsInPlayroom'>: <abc.IsInPlayroom object at 0x000002941BF96520>, <class 'abc.IsInPantryRoom'>: <abc.IsInPantryRoom object at 0x000002941BF96580>, <class 'abc.IsInLobby'>: <abc.IsInLobby object at 0x000002941BF965E0>, <class 'abc.IsInLivingRoom'>: <abc.IsInLivingRoom object at 0x000002941BF96640>, <class 'abc.IsInKitchen'>: <abc.IsInKitchen object at 0x000002941BF966A0>, <class 'abc.IsInHomeOffice'>: <abc.IsInHomeOffice object at 0x000002941BF96700>, <class 'abc.IsInGarage'>: <abc.IsInGarage object at 0x000002941BF96760>, <class 'abc.IsInExerciseRoom'>: <abc.IsInExerciseRoom object at 0x000002941BF967C0>, <class 'abc.IsInEmptyRoom'>: <abc.IsInEmptyRoom object at 0x000002941BF96820>, <class 'abc.IsInDiningRoom'>: <abc.IsInDiningRoom object at 0x000002941BF96880>, <class 'abc.IsInCorridor'>: <abc.IsInCorridor object at 0x000002941BF968E0>, <class 'abc.IsInCloset'>: <abc.IsInCloset object at 0x000002941BF96940>, <class 'abc.IsInChildsRoom'>: <abc.IsInChildsRoom object at 0x000002941BF969A0>, <class 'abc.IsInBedroom'>: <abc.IsInBedroom object at 0x000002941BF96A00>, <class 'abc.IsInBathroom'>: <abc.IsInBathroom object at 0x000002941BF96A60>, <class 'igibson.object_states.under.Under'>: <igibson.object_states.under.Under object at 0x000002941BF96AC0>, <class 'igibson.object_states.next_to.NextTo'>: <igibson.object_states.next_to.NextTo object at 0x000002941BF96B20>, <class 'igibson.object_states.on_top.OnTop'>: <igibson.object_states.on_top.OnTop object at 0x000002941BF96B80>, <class 'igibson.object_states.inside.Inside'>: <igibson.object_states.inside.Inside object at 0x000002941BF96BE0>, <class 'igibson.object_states.robot_related_states.InHandOfRobot'>: <igibson.object_states.robot_related_states.InHandOfRobot object at 0x000002941BF96C40>, <class 'igibson.object_states.robot_related_states.InReachOfRobot'>: <igibson.object_states.robot_related_states.InReachOfRobot object at 0x000002941BF96CA0>, <class 'igibson.object_states.on_floor.OnFloor'>: <igibson.object_states.on_floor.OnFloor object at 0x000002941BF96D00>, <class 'igibson.object_states.robot_related_states.InFOVOfRobot'>: <igibson.object_states.robot_related_states.InFOVOfRobot object at 0x000002941BF96D60>, <class 'igibson.object_states.robot_related_states.InSameRoomAsRobot'>: <igibson.object_states.robot_related_states.InSameRoomAsRobot object at 0x000002941BF96DC0>, <class 'igibson.object_states.touching.Touching'>: <igibson.object_states.touching.Touching object at 0x000002941BF96E20>}\n"
     ]
    }
   ],
   "source": [
    "for name, obj in bt.object_scope.items():\n",
    "    print(name,obj.states)"
   ]
  },
  {
   "cell_type": "code",
   "execution_count": 4,
   "metadata": {},
   "outputs": [
    {
     "data": {
      "text/plain": [
       "[<bddl.condition_evaluation.HEAD at 0x1a974095a30>,\n",
       " <bddl.condition_evaluation.HEAD at 0x1a974095970>,\n",
       " <bddl.condition_evaluation.HEAD at 0x1a974095820>,\n",
       " <bddl.condition_evaluation.HEAD at 0x1a974095d60>,\n",
       " <bddl.condition_evaluation.HEAD at 0x1a974095c70>,\n",
       " <bddl.condition_evaluation.HEAD at 0x1a974095b80>,\n",
       " <bddl.condition_evaluation.HEAD at 0x1a9740955b0>,\n",
       " <bddl.condition_evaluation.HEAD at 0x1a974095460>]"
      ]
     },
     "execution_count": 4,
     "metadata": {},
     "output_type": "execute_result"
    }
   ],
   "source": [
    "bt.initial_conditions"
   ]
  },
  {
   "cell_type": "code",
   "execution_count": 14,
   "metadata": {},
   "outputs": [
    {
     "data": {
      "text/plain": [
       "['onfloor', 'agent.n.01_1', 'floor.n.01_1']"
      ]
     },
     "execution_count": 14,
     "metadata": {},
     "output_type": "execute_result"
    }
   ],
   "source": [
    "bt.initial_conditions[7].terms"
   ]
  },
  {
   "cell_type": "code",
   "execution_count": 16,
   "metadata": {},
   "outputs": [
    {
     "data": {
      "text/plain": [
       "[<bddl.condition_evaluation.HEAD at 0x1a97408c310>,\n",
       " <bddl.condition_evaluation.HEAD at 0x1a97408cfd0>,\n",
       " <bddl.condition_evaluation.HEAD at 0x1a964cf72b0>,\n",
       " <bddl.condition_evaluation.HEAD at 0x1a964cf74c0>,\n",
       " <bddl.condition_evaluation.HEAD at 0x1a964cf7520>]"
      ]
     },
     "execution_count": 16,
     "metadata": {},
     "output_type": "execute_result"
    }
   ],
   "source": [
    "bt.goal_conditions"
   ]
  },
  {
   "cell_type": "code",
   "execution_count": 24,
   "metadata": {},
   "outputs": [
    {
     "name": "stdout",
     "output_type": "stream",
     "text": [
      "['exists', 'jar.n.01', '-', 'jar.n.01', 'and', 'inside', 'strawberry.n.01_1', 'jar.n.01', 'not', 'inside', 'peach.n.03_1', 'jar.n.01']\n"
     ]
    }
   ],
   "source": [
    "print(bt.goal_conditions[0].terms)"
   ]
  }
 ],
 "metadata": {
  "kernelspec": {
   "display_name": "igibson-eval",
   "language": "python",
   "name": "python3"
  },
  "language_info": {
   "codemirror_mode": {
    "name": "ipython",
    "version": 3
   },
   "file_extension": ".py",
   "mimetype": "text/x-python",
   "name": "python",
   "nbconvert_exporter": "python",
   "pygments_lexer": "ipython3",
   "version": "3.8.19"
  }
 },
 "nbformat": 4,
 "nbformat_minor": 2
}
