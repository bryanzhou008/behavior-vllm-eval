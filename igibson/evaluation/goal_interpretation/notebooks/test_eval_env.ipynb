{
 "cells": [
  {
   "cell_type": "code",
   "execution_count": 1,
   "metadata": {},
   "outputs": [
    {
     "name": "stdout",
     "output_type": "stream",
     "text": [
      "\n",
      " _   _____  _  _\n",
      "(_) / ____|(_)| |\n",
      " _ | |  __  _ | |__   ___   ___   _ __\n",
      "| || | |_ || || '_ \\ / __| / _ \\ | '_ \\\n",
      "| || |__| || || |_) |\\__ \\| (_) || | | |\n",
      "|_| \\_____||_||_.__/ |___/ \\___/ |_| |_|\n",
      "\n"
     ]
    },
    {
     "name": "stderr",
     "output_type": "stream",
     "text": [
      "WARN: Darwin does not support optimized renderer, automatically disabling\n",
      "WARN: Darwin does not support optimized renderer, automatically disabling\n",
      "WARN: Darwin does not support optimized renderer, automatically disabling\n",
      "WARN: Darwin does not support optimized renderer, automatically disabling\n",
      "WARN: Darwin does not support optimized renderer, automatically disabling\n",
      "WARN: Darwin does not support optimized renderer, automatically disabling\n",
      "torch is not available, falling back to rendering to memory (instead of tensor)\n"
     ]
    }
   ],
   "source": [
    "from igibson.transition_model_v3.eval_env import EvalEnv\n",
    "from igibson.transition_model_v3.eval_env import EvalActions\n",
    "import platform\n",
    "import igibson.object_states as object_states\n",
    "from tqdm import tqdm"
   ]
  },
  {
   "cell_type": "code",
   "execution_count": 11,
   "metadata": {},
   "outputs": [
    {
     "data": {
      "text/plain": [
       "{'cooked',\n",
       " 'dusty',\n",
       " 'frozen',\n",
       " 'inside',\n",
       " 'nextto',\n",
       " 'not',\n",
       " 'onfloor',\n",
       " 'ontop',\n",
       " 'open',\n",
       " 'sliced',\n",
       " 'soaked',\n",
       " 'stained',\n",
       " 'toggled_on',\n",
       " 'touching',\n",
       " 'under'}"
      ]
     },
     "execution_count": 11,
     "metadata": {},
     "output_type": "execute_result"
    }
   ],
   "source": [
    "import json\n",
    "\n",
    "\n",
    "\n",
    "def get_all_conditions(lst, all_conditions):\n",
    "    if isinstance(lst, list):\n",
    "        if lst and isinstance(lst[0], str):\n",
    "            all_conditions.add(lst[0])\n",
    "        for item in lst:\n",
    "            get_all_conditions(item, all_conditions)\n",
    "\n",
    "# Example usage\n",
    "all_conditions = set()\n",
    "# nested_list = ['condition1', ['condition2', ['condition3', 'condition4'], 'condition5'], 'condition6']\n",
    "# get_all_conditions(nested_list, all_conditions)\n",
    "# print(all_conditions)\n",
    "\n",
    "\n",
    "save_path = \"/Users/bryan/Desktop/wkdir/behavior-vllm-eval/igibson/evaluation/goal_interpretation/assets/all_conditions.json\"\n",
    "\n",
    "with open(save_path, 'r') as json_file:\n",
    "    demo_to_conds = json.load(json_file)\n",
    "    \n",
    "for key, value in demo_to_conds.items():\n",
    "    for item, item_value in value['goal_conditions'].items():\n",
    "        get_all_conditions(item_value, all_conditions)\n",
    "\n",
    "\n",
    "all_conditions"
   ]
  },
  {
   "cell_type": "code",
   "execution_count": null,
   "metadata": {},
   "outputs": [],
   "source": [
    "import json\n",
    "\n",
    "def get_conditions(demo_path):\n",
    "    initial_conds = {}\n",
    "    goal_conds = {}\n",
    "    env=EvalEnv(demo_path=demo_path,mode=\"headless\", use_pb_gui=False)\n",
    "    for i, condition in enumerate(env.task.initial_conditions):\n",
    "        initial_conds[i+1] = condition\n",
    "    for i, condition in enumerate(env.task.goal_conditions):\n",
    "        goal_conds[i+1] = condition.flattened_condition_options\n",
    "    \n",
    "    return initial_conds, goal_conds\n",
    "\n",
    "def process_demos(file_path, save_path):\n",
    "    # Read demo names from the .txt file\n",
    "    with open(file_path, 'r') as file:\n",
    "        demo_names = file.read().splitlines()\n",
    "\n",
    "    # Initialize the dictionary to collect goal conditions\n",
    "    demo_to_conds = {}\n",
    "\n",
    "    # Process each demo name\n",
    "    for demo_name in tqdm(demo_names):\n",
    "        # Create the full path for each demo\n",
    "        demo_path = f\"/Users/bryan/Desktop/wkdir/behavior-vllm-eval/igibson/data/virtual_reality/{demo_name}.hdf5\"\n",
    "\n",
    "        # Call the function to get the goal conditions\n",
    "        initial_conditions, goal_conditions = get_conditions(demo_path)\n",
    "\n",
    "        # Add the result to the dictionary\n",
    "        demo_to_conds[demo_name] = {\n",
    "            \"initial_conditions\": initial_conditions,\n",
    "            \"goal_conditions\": goal_conditions\n",
    "        }\n",
    "        \n",
    "        print(\"\\n\\n\")\n",
    "        print(\"saving initial and goal conditions for demo: \", demo_name)\n",
    "        print(\"initial conditions: \", initial_conditions)\n",
    "        print(\"ground truth goal conditions: \", goal_conditions)\n",
    "        print(\"\\n\\n\")\n",
    "\n",
    "    # Save the results to a JSON file with proper indentation\n",
    "    with open(save_path, 'w') as json_file:\n",
    "        json.dump(demo_to_conds, json_file, indent=4)\n",
    "\n",
    "\n",
    "# Example usage\n",
    "input_file = \"/Users/bryan/Desktop/wkdir/behavior-vllm-eval/igibson/evaluation/goal_interpretation/assets/100_selected_demos.txt\"\n",
    "output_file = \"/Users/bryan/Desktop/wkdir/behavior-vllm-eval/igibson/evaluation/goal_interpretation/assets/gt_goal_conditions.json\"\n",
    "\n",
    "process_demos(input_file, output_file)"
   ]
  },
  {
   "cell_type": "code",
   "execution_count": 5,
   "metadata": {},
   "outputs": [
    {
     "name": "stderr",
     "output_type": "stream",
     "text": [
      "WARN: Darwin does not support optimized renderer, automatically disabling\n"
     ]
    },
    {
     "name": "stdout",
     "output_type": "stream",
     "text": [
      "\t\t\t\t\t\t\t\t\t\t\t\t\t\t\t\t\t\t\t\t\t\t\t\t\t\t\t\t\t\t\t\t\t\t\t\t\t\t\t\t\t\t\t\t\t\t\t\t\t\t\t\t\t\t\t\t\t\t\t\t\t\t\t\t\t\t\t\t\t\t\t\t\t\t\t\t\t\t\t\t\t\t\t\t\t\t\t\t\t\t\t\t\t\t\t\t\t\t\t\t\t\t\t\t\t\t\t\t\t\t\t\t\t\t\t\t\t\t\t\t\t\t\t\t\t\t\t\t\t\t\t\t\t\t\t\t\t\t\t\t\t\t\t\t\t\t\t\t\t\t\t\t\t\t\t\t\t\t\t\t\t\t\t\t\t\t\t\t\t\t\t\t\t\t\t\t\t\t\t\t\t\t\t\t\t\t\t"
     ]
    },
    {
     "name": "stderr",
     "output_type": "stream",
     "text": [
      "scene quality check: bottom_cabinet_84 has joint that cannot extend for >66%.\n",
      "Robot's cached initial pose has collisions.\n"
     ]
    },
    {
     "name": "stdout",
     "output_type": "stream",
     "text": [
      "b3Warning[examples/Importers/ImportURDFDemo/BulletUrdfImporter.cpp,126]:\n",
      "No inertial data for link, using mass=1, localinertiadiagonal = 1,1,1, identity local inertial frameb3Warning[examples/Importers/ImportURDFDemo/BulletUrdfImporter.cpp,126]:\n",
      "left_hand_shoulderb3Warning[examples/Importers/ImportURDFDemo/BulletUrdfImporter.cpp,126]:\n",
      "No inertial data for link, using mass=1, localinertiadiagonal = 1,1,1, identity local inertial frameb3Warning[examples/Importers/ImportURDFDemo/BulletUrdfImporter.cpp,126]:\n",
      "right_hand_shoulderb3Warning[examples/Importers/ImportURDFDemo/BulletUrdfImporter.cpp,126]:\n",
      "No inertial data for link, using mass=1, localinertiadiagonal = 1,1,1, identity local inertial frameb3Warning[examples/Importers/ImportURDFDemo/BulletUrdfImporter.cpp,126]:\n",
      "neckb3Warning[examples/Importers/ImportURDFDemo/BulletUrdfImporter.cpp,126]:\n",
      "No inertial data for link, using mass=1, localinertiadiagonal = 1,1,1, identity local inertial frameb3Warning[examples/Importers/ImportURDFDemo/BulletUrdfImporter.cpp,126]:\n",
      "eyes"
     ]
    },
    {
     "data": {
      "text/plain": [
       "({1: <bddl.condition_evaluation.HEAD at 0x43d1c4f40>,\n",
       "  2: <bddl.condition_evaluation.HEAD at 0x43d1c4fd0>,\n",
       "  3: <bddl.condition_evaluation.HEAD at 0x43cc61070>,\n",
       "  4: <bddl.condition_evaluation.HEAD at 0x43cc610d0>,\n",
       "  5: <bddl.condition_evaluation.HEAD at 0x43cc61130>,\n",
       "  6: <bddl.condition_evaluation.HEAD at 0x43cc61190>,\n",
       "  7: <bddl.condition_evaluation.HEAD at 0x43cc611f0>,\n",
       "  8: <bddl.condition_evaluation.HEAD at 0x43cc61250>,\n",
       "  9: <bddl.condition_evaluation.HEAD at 0x43cc612b0>,\n",
       "  10: <bddl.condition_evaluation.HEAD at 0x43cc61310>,\n",
       "  11: <bddl.condition_evaluation.HEAD at 0x43cc61370>,\n",
       "  12: <bddl.condition_evaluation.HEAD at 0x43cc613d0>,\n",
       "  13: <bddl.condition_evaluation.HEAD at 0x43cc61430>,\n",
       "  14: <bddl.condition_evaluation.HEAD at 0x43cc61490>,\n",
       "  15: <bddl.condition_evaluation.HEAD at 0x43cc614f0>,\n",
       "  16: <bddl.condition_evaluation.HEAD at 0x43cc61550>,\n",
       "  17: <bddl.condition_evaluation.HEAD at 0x43cc615b0>,\n",
       "  18: <bddl.condition_evaluation.HEAD at 0x43cc61610>,\n",
       "  19: <bddl.condition_evaluation.HEAD at 0x43cc61670>,\n",
       "  20: <bddl.condition_evaluation.HEAD at 0x43cc616d0>,\n",
       "  21: <bddl.condition_evaluation.HEAD at 0x43cc61730>},\n",
       " {1: [[['inside', 'candle.n.01_1', 'basket.n.01_1'],\n",
       "    ['inside', 'candle.n.01_2', 'basket.n.01_2'],\n",
       "    ['inside', 'candle.n.01_3', 'basket.n.01_3'],\n",
       "    ['inside', 'candle.n.01_4', 'basket.n.01_4']],\n",
       "   [['inside', 'candle.n.01_1', 'basket.n.01_1'],\n",
       "    ['inside', 'candle.n.01_2', 'basket.n.01_2'],\n",
       "    ['inside', 'candle.n.01_3', 'basket.n.01_4'],\n",
       "    ['inside', 'candle.n.01_4', 'basket.n.01_3']],\n",
       "   [['inside', 'candle.n.01_1', 'basket.n.01_1'],\n",
       "    ['inside', 'candle.n.01_2', 'basket.n.01_3'],\n",
       "    ['inside', 'candle.n.01_3', 'basket.n.01_2'],\n",
       "    ['inside', 'candle.n.01_4', 'basket.n.01_4']],\n",
       "   [['inside', 'candle.n.01_1', 'basket.n.01_1'],\n",
       "    ['inside', 'candle.n.01_2', 'basket.n.01_3'],\n",
       "    ['inside', 'candle.n.01_3', 'basket.n.01_4'],\n",
       "    ['inside', 'candle.n.01_4', 'basket.n.01_2']],\n",
       "   [['inside', 'candle.n.01_1', 'basket.n.01_1'],\n",
       "    ['inside', 'candle.n.01_2', 'basket.n.01_4'],\n",
       "    ['inside', 'candle.n.01_3', 'basket.n.01_2'],\n",
       "    ['inside', 'candle.n.01_4', 'basket.n.01_3']],\n",
       "   [['inside', 'candle.n.01_1', 'basket.n.01_1'],\n",
       "    ['inside', 'candle.n.01_2', 'basket.n.01_4'],\n",
       "    ['inside', 'candle.n.01_3', 'basket.n.01_3'],\n",
       "    ['inside', 'candle.n.01_4', 'basket.n.01_2']],\n",
       "   [['inside', 'candle.n.01_1', 'basket.n.01_2'],\n",
       "    ['inside', 'candle.n.01_2', 'basket.n.01_1'],\n",
       "    ['inside', 'candle.n.01_3', 'basket.n.01_3'],\n",
       "    ['inside', 'candle.n.01_4', 'basket.n.01_4']],\n",
       "   [['inside', 'candle.n.01_1', 'basket.n.01_2'],\n",
       "    ['inside', 'candle.n.01_2', 'basket.n.01_1'],\n",
       "    ['inside', 'candle.n.01_3', 'basket.n.01_4'],\n",
       "    ['inside', 'candle.n.01_4', 'basket.n.01_3']],\n",
       "   [['inside', 'candle.n.01_1', 'basket.n.01_2'],\n",
       "    ['inside', 'candle.n.01_2', 'basket.n.01_3'],\n",
       "    ['inside', 'candle.n.01_3', 'basket.n.01_1'],\n",
       "    ['inside', 'candle.n.01_4', 'basket.n.01_4']],\n",
       "   [['inside', 'candle.n.01_1', 'basket.n.01_2'],\n",
       "    ['inside', 'candle.n.01_2', 'basket.n.01_3'],\n",
       "    ['inside', 'candle.n.01_3', 'basket.n.01_4'],\n",
       "    ['inside', 'candle.n.01_4', 'basket.n.01_1']]],\n",
       "  2: [[['inside', 'cheese.n.01_1', 'basket.n.01_1'],\n",
       "    ['inside', 'cheese.n.01_2', 'basket.n.01_2'],\n",
       "    ['inside', 'cheese.n.01_3', 'basket.n.01_3'],\n",
       "    ['inside', 'cheese.n.01_4', 'basket.n.01_4']],\n",
       "   [['inside', 'cheese.n.01_1', 'basket.n.01_1'],\n",
       "    ['inside', 'cheese.n.01_2', 'basket.n.01_2'],\n",
       "    ['inside', 'cheese.n.01_3', 'basket.n.01_4'],\n",
       "    ['inside', 'cheese.n.01_4', 'basket.n.01_3']],\n",
       "   [['inside', 'cheese.n.01_1', 'basket.n.01_1'],\n",
       "    ['inside', 'cheese.n.01_2', 'basket.n.01_3'],\n",
       "    ['inside', 'cheese.n.01_3', 'basket.n.01_2'],\n",
       "    ['inside', 'cheese.n.01_4', 'basket.n.01_4']],\n",
       "   [['inside', 'cheese.n.01_1', 'basket.n.01_1'],\n",
       "    ['inside', 'cheese.n.01_2', 'basket.n.01_3'],\n",
       "    ['inside', 'cheese.n.01_3', 'basket.n.01_4'],\n",
       "    ['inside', 'cheese.n.01_4', 'basket.n.01_2']],\n",
       "   [['inside', 'cheese.n.01_1', 'basket.n.01_1'],\n",
       "    ['inside', 'cheese.n.01_2', 'basket.n.01_4'],\n",
       "    ['inside', 'cheese.n.01_3', 'basket.n.01_2'],\n",
       "    ['inside', 'cheese.n.01_4', 'basket.n.01_3']],\n",
       "   [['inside', 'cheese.n.01_1', 'basket.n.01_1'],\n",
       "    ['inside', 'cheese.n.01_2', 'basket.n.01_4'],\n",
       "    ['inside', 'cheese.n.01_3', 'basket.n.01_3'],\n",
       "    ['inside', 'cheese.n.01_4', 'basket.n.01_2']],\n",
       "   [['inside', 'cheese.n.01_1', 'basket.n.01_2'],\n",
       "    ['inside', 'cheese.n.01_2', 'basket.n.01_1'],\n",
       "    ['inside', 'cheese.n.01_3', 'basket.n.01_3'],\n",
       "    ['inside', 'cheese.n.01_4', 'basket.n.01_4']],\n",
       "   [['inside', 'cheese.n.01_1', 'basket.n.01_2'],\n",
       "    ['inside', 'cheese.n.01_2', 'basket.n.01_1'],\n",
       "    ['inside', 'cheese.n.01_3', 'basket.n.01_4'],\n",
       "    ['inside', 'cheese.n.01_4', 'basket.n.01_3']],\n",
       "   [['inside', 'cheese.n.01_1', 'basket.n.01_2'],\n",
       "    ['inside', 'cheese.n.01_2', 'basket.n.01_3'],\n",
       "    ['inside', 'cheese.n.01_3', 'basket.n.01_1'],\n",
       "    ['inside', 'cheese.n.01_4', 'basket.n.01_4']],\n",
       "   [['inside', 'cheese.n.01_1', 'basket.n.01_2'],\n",
       "    ['inside', 'cheese.n.01_2', 'basket.n.01_3'],\n",
       "    ['inside', 'cheese.n.01_3', 'basket.n.01_4'],\n",
       "    ['inside', 'cheese.n.01_4', 'basket.n.01_1']]],\n",
       "  3: [[['inside', 'cookie.n.01_1', 'basket.n.01_1'],\n",
       "    ['inside', 'cookie.n.01_2', 'basket.n.01_2'],\n",
       "    ['inside', 'cookie.n.01_3', 'basket.n.01_3'],\n",
       "    ['inside', 'cookie.n.01_4', 'basket.n.01_4']],\n",
       "   [['inside', 'cookie.n.01_1', 'basket.n.01_1'],\n",
       "    ['inside', 'cookie.n.01_2', 'basket.n.01_2'],\n",
       "    ['inside', 'cookie.n.01_3', 'basket.n.01_4'],\n",
       "    ['inside', 'cookie.n.01_4', 'basket.n.01_3']],\n",
       "   [['inside', 'cookie.n.01_1', 'basket.n.01_1'],\n",
       "    ['inside', 'cookie.n.01_2', 'basket.n.01_3'],\n",
       "    ['inside', 'cookie.n.01_3', 'basket.n.01_2'],\n",
       "    ['inside', 'cookie.n.01_4', 'basket.n.01_4']],\n",
       "   [['inside', 'cookie.n.01_1', 'basket.n.01_1'],\n",
       "    ['inside', 'cookie.n.01_2', 'basket.n.01_3'],\n",
       "    ['inside', 'cookie.n.01_3', 'basket.n.01_4'],\n",
       "    ['inside', 'cookie.n.01_4', 'basket.n.01_2']],\n",
       "   [['inside', 'cookie.n.01_1', 'basket.n.01_1'],\n",
       "    ['inside', 'cookie.n.01_2', 'basket.n.01_4'],\n",
       "    ['inside', 'cookie.n.01_3', 'basket.n.01_2'],\n",
       "    ['inside', 'cookie.n.01_4', 'basket.n.01_3']],\n",
       "   [['inside', 'cookie.n.01_1', 'basket.n.01_1'],\n",
       "    ['inside', 'cookie.n.01_2', 'basket.n.01_4'],\n",
       "    ['inside', 'cookie.n.01_3', 'basket.n.01_3'],\n",
       "    ['inside', 'cookie.n.01_4', 'basket.n.01_2']],\n",
       "   [['inside', 'cookie.n.01_1', 'basket.n.01_2'],\n",
       "    ['inside', 'cookie.n.01_2', 'basket.n.01_1'],\n",
       "    ['inside', 'cookie.n.01_3', 'basket.n.01_3'],\n",
       "    ['inside', 'cookie.n.01_4', 'basket.n.01_4']],\n",
       "   [['inside', 'cookie.n.01_1', 'basket.n.01_2'],\n",
       "    ['inside', 'cookie.n.01_2', 'basket.n.01_1'],\n",
       "    ['inside', 'cookie.n.01_3', 'basket.n.01_4'],\n",
       "    ['inside', 'cookie.n.01_4', 'basket.n.01_3']],\n",
       "   [['inside', 'cookie.n.01_1', 'basket.n.01_2'],\n",
       "    ['inside', 'cookie.n.01_2', 'basket.n.01_3'],\n",
       "    ['inside', 'cookie.n.01_3', 'basket.n.01_1'],\n",
       "    ['inside', 'cookie.n.01_4', 'basket.n.01_4']],\n",
       "   [['inside', 'cookie.n.01_1', 'basket.n.01_2'],\n",
       "    ['inside', 'cookie.n.01_2', 'basket.n.01_3'],\n",
       "    ['inside', 'cookie.n.01_3', 'basket.n.01_4'],\n",
       "    ['inside', 'cookie.n.01_4', 'basket.n.01_1']]],\n",
       "  4: [[['inside', 'bow.n.08_1', 'basket.n.01_1'],\n",
       "    ['inside', 'bow.n.08_2', 'basket.n.01_2'],\n",
       "    ['inside', 'bow.n.08_3', 'basket.n.01_3'],\n",
       "    ['inside', 'bow.n.08_4', 'basket.n.01_4']],\n",
       "   [['inside', 'bow.n.08_1', 'basket.n.01_1'],\n",
       "    ['inside', 'bow.n.08_2', 'basket.n.01_2'],\n",
       "    ['inside', 'bow.n.08_3', 'basket.n.01_4'],\n",
       "    ['inside', 'bow.n.08_4', 'basket.n.01_3']],\n",
       "   [['inside', 'bow.n.08_1', 'basket.n.01_1'],\n",
       "    ['inside', 'bow.n.08_2', 'basket.n.01_3'],\n",
       "    ['inside', 'bow.n.08_3', 'basket.n.01_2'],\n",
       "    ['inside', 'bow.n.08_4', 'basket.n.01_4']],\n",
       "   [['inside', 'bow.n.08_1', 'basket.n.01_1'],\n",
       "    ['inside', 'bow.n.08_2', 'basket.n.01_3'],\n",
       "    ['inside', 'bow.n.08_3', 'basket.n.01_4'],\n",
       "    ['inside', 'bow.n.08_4', 'basket.n.01_2']],\n",
       "   [['inside', 'bow.n.08_1', 'basket.n.01_1'],\n",
       "    ['inside', 'bow.n.08_2', 'basket.n.01_4'],\n",
       "    ['inside', 'bow.n.08_3', 'basket.n.01_2'],\n",
       "    ['inside', 'bow.n.08_4', 'basket.n.01_3']],\n",
       "   [['inside', 'bow.n.08_1', 'basket.n.01_1'],\n",
       "    ['inside', 'bow.n.08_2', 'basket.n.01_4'],\n",
       "    ['inside', 'bow.n.08_3', 'basket.n.01_3'],\n",
       "    ['inside', 'bow.n.08_4', 'basket.n.01_2']],\n",
       "   [['inside', 'bow.n.08_1', 'basket.n.01_2'],\n",
       "    ['inside', 'bow.n.08_2', 'basket.n.01_1'],\n",
       "    ['inside', 'bow.n.08_3', 'basket.n.01_3'],\n",
       "    ['inside', 'bow.n.08_4', 'basket.n.01_4']],\n",
       "   [['inside', 'bow.n.08_1', 'basket.n.01_2'],\n",
       "    ['inside', 'bow.n.08_2', 'basket.n.01_1'],\n",
       "    ['inside', 'bow.n.08_3', 'basket.n.01_4'],\n",
       "    ['inside', 'bow.n.08_4', 'basket.n.01_3']],\n",
       "   [['inside', 'bow.n.08_1', 'basket.n.01_2'],\n",
       "    ['inside', 'bow.n.08_2', 'basket.n.01_3'],\n",
       "    ['inside', 'bow.n.08_3', 'basket.n.01_1'],\n",
       "    ['inside', 'bow.n.08_4', 'basket.n.01_4']],\n",
       "   [['inside', 'bow.n.08_1', 'basket.n.01_2'],\n",
       "    ['inside', 'bow.n.08_2', 'basket.n.01_3'],\n",
       "    ['inside', 'bow.n.08_3', 'basket.n.01_4'],\n",
       "    ['inside', 'bow.n.08_4', 'basket.n.01_1']]]})"
      ]
     },
     "execution_count": 5,
     "metadata": {},
     "output_type": "execute_result"
    }
   ],
   "source": [
    "def get_conditions(demo_path):\n",
    "    initial_conds = {}\n",
    "    goal_conds = {}\n",
    "    env=EvalEnv(demo_path=demo_path,mode=\"headless\", use_pb_gui=False)\n",
    "    for i, condition in enumerate(env.task.initial_conditions):\n",
    "        initial_conds[i+1] = condition\n",
    "    for i, condition in enumerate(env.task.goal_conditions):\n",
    "        goal_conds[i+1] = condition.flattened_condition_options\n",
    "    \n",
    "    return initial_conds, goal_conds\n",
    "\n",
    "\n",
    "get_conditions(demo_path)"
   ]
  },
  {
   "cell_type": "code",
   "execution_count": 3,
   "metadata": {},
   "outputs": [],
   "source": [
    "# demo_path=rb\"/Users/bryan/Desktop/wkdir/behavior-vllm-eval/igibson/data/virtual_reality/chopping_vegetables_0_Rs_int_0_2021-05-25_22-01-16.hdf5\"\n",
    "demo_path=rb\"/Users/bryan/Desktop/wkdir/behavior-vllm-eval/igibson/data/virtual_reality/assembling_gift_baskets_0_Beechwood_0_int_0_2021-10-26_12-46-37.hdf5\""
   ]
  },
  {
   "cell_type": "code",
   "execution_count": 27,
   "metadata": {},
   "outputs": [
    {
     "name": "stderr",
     "output_type": "stream",
     "text": [
      "WARN: Darwin does not support optimized renderer, automatically disabling\n"
     ]
    },
    {
     "name": "stdout",
     "output_type": "stream",
     "text": [
      "\t\t\t\t\t\t\t\t\t\t\t\t\t\t\t\t\t\t\t\t\t\t\t\t\t\t\t\t\t\t\t\t\t\t\t\t\t\t\t\t\t\t\t\t\t\t\t\t\t\t\t\t\t\t\t\t\t\t\t\t\t\t\t\t\t\t\t\t\t\t\t\t\t\t\t\t\t\t\t\t\t\t\t\t\t\t\t\t\t\t\t\t\t\t\t\t\t\t\t\t\t\t\t\t\t\t\t\t\t\t\t\t\t\t\t\t\t\t\t\t\t\t\t\t\t\t\t\t\t\t\t\t\t\t\t\t\t\t\t\t\t\t\t\t\t\t\t\t\t\t\t\t\t\t\t\t\t\t\t\t\t\t\t\t\t\t\t\t\t\t\t\t\t\t\t\t\t\t\t\t\t\t\t\t\t\t\t"
     ]
    },
    {
     "name": "stderr",
     "output_type": "stream",
     "text": [
      "scene quality check: bottom_cabinet_84 has joint that cannot extend for >66%.\n",
      "Robot's cached initial pose has collisions.\n"
     ]
    },
    {
     "name": "stdout",
     "output_type": "stream",
     "text": [
      "b3Warning[examples/Importers/ImportURDFDemo/BulletUrdfImporter.cpp,126]:\n",
      "No inertial data for link, using mass=1, localinertiadiagonal = 1,1,1, identity local inertial frameb3Warning[examples/Importers/ImportURDFDemo/BulletUrdfImporter.cpp,126]:\n",
      "left_hand_shoulderb3Warning[examples/Importers/ImportURDFDemo/BulletUrdfImporter.cpp,126]:\n",
      "No inertial data for link, using mass=1, localinertiadiagonal = 1,1,1, identity local inertial frameb3Warning[examples/Importers/ImportURDFDemo/BulletUrdfImporter.cpp,126]:\n",
      "right_hand_shoulderb3Warning[examples/Importers/ImportURDFDemo/BulletUrdfImporter.cpp,126]:\n",
      "No inertial data for link, using mass=1, localinertiadiagonal = 1,1,1, identity local inertial frameb3Warning[examples/Importers/ImportURDFDemo/BulletUrdfImporter.cpp,126]:\n",
      "neckb3Warning[examples/Importers/ImportURDFDemo/BulletUrdfImporter.cpp,126]:\n",
      "No inertial data for link, using mass=1, localinertiadiagonal = 1,1,1, identity local inertial frameb3Warning[examples/Importers/ImportURDFDemo/BulletUrdfImporter.cpp,126]:\n",
      "eyes"
     ]
    }
   ],
   "source": [
    "headless = True\n",
    "env=EvalEnv(demo_path=demo_path,mode=\"headless\" if headless else \"gui_non_interactive\",\n",
    "        use_pb_gui=(not headless and platform.system() != \"Darwin\"),)"
   ]
  },
  {
   "cell_type": "code",
   "execution_count": 34,
   "metadata": {},
   "outputs": [
    {
     "data": {
      "text/plain": [
       "[[['inside', 'candle.n.01_1', 'basket.n.01_1'],\n",
       "  ['inside', 'candle.n.01_2', 'basket.n.01_2'],\n",
       "  ['inside', 'candle.n.01_3', 'basket.n.01_3'],\n",
       "  ['inside', 'candle.n.01_4', 'basket.n.01_4']],\n",
       " [['inside', 'candle.n.01_1', 'basket.n.01_1'],\n",
       "  ['inside', 'candle.n.01_2', 'basket.n.01_2'],\n",
       "  ['inside', 'candle.n.01_3', 'basket.n.01_4'],\n",
       "  ['inside', 'candle.n.01_4', 'basket.n.01_3']],\n",
       " [['inside', 'candle.n.01_1', 'basket.n.01_1'],\n",
       "  ['inside', 'candle.n.01_2', 'basket.n.01_3'],\n",
       "  ['inside', 'candle.n.01_3', 'basket.n.01_2'],\n",
       "  ['inside', 'candle.n.01_4', 'basket.n.01_4']],\n",
       " [['inside', 'candle.n.01_1', 'basket.n.01_1'],\n",
       "  ['inside', 'candle.n.01_2', 'basket.n.01_3'],\n",
       "  ['inside', 'candle.n.01_3', 'basket.n.01_4'],\n",
       "  ['inside', 'candle.n.01_4', 'basket.n.01_2']],\n",
       " [['inside', 'candle.n.01_1', 'basket.n.01_1'],\n",
       "  ['inside', 'candle.n.01_2', 'basket.n.01_4'],\n",
       "  ['inside', 'candle.n.01_3', 'basket.n.01_2'],\n",
       "  ['inside', 'candle.n.01_4', 'basket.n.01_3']],\n",
       " [['inside', 'candle.n.01_1', 'basket.n.01_1'],\n",
       "  ['inside', 'candle.n.01_2', 'basket.n.01_4'],\n",
       "  ['inside', 'candle.n.01_3', 'basket.n.01_3'],\n",
       "  ['inside', 'candle.n.01_4', 'basket.n.01_2']],\n",
       " [['inside', 'candle.n.01_1', 'basket.n.01_2'],\n",
       "  ['inside', 'candle.n.01_2', 'basket.n.01_1'],\n",
       "  ['inside', 'candle.n.01_3', 'basket.n.01_3'],\n",
       "  ['inside', 'candle.n.01_4', 'basket.n.01_4']],\n",
       " [['inside', 'candle.n.01_1', 'basket.n.01_2'],\n",
       "  ['inside', 'candle.n.01_2', 'basket.n.01_1'],\n",
       "  ['inside', 'candle.n.01_3', 'basket.n.01_4'],\n",
       "  ['inside', 'candle.n.01_4', 'basket.n.01_3']],\n",
       " [['inside', 'candle.n.01_1', 'basket.n.01_2'],\n",
       "  ['inside', 'candle.n.01_2', 'basket.n.01_3'],\n",
       "  ['inside', 'candle.n.01_3', 'basket.n.01_1'],\n",
       "  ['inside', 'candle.n.01_4', 'basket.n.01_4']],\n",
       " [['inside', 'candle.n.01_1', 'basket.n.01_2'],\n",
       "  ['inside', 'candle.n.01_2', 'basket.n.01_3'],\n",
       "  ['inside', 'candle.n.01_3', 'basket.n.01_4'],\n",
       "  ['inside', 'candle.n.01_4', 'basket.n.01_1']]]"
      ]
     },
     "execution_count": 34,
     "metadata": {},
     "output_type": "execute_result"
    }
   ],
   "source": [
    "env.task.goal_conditions[0].flattened_condition_options"
   ]
  },
  {
   "cell_type": "code",
   "execution_count": 32,
   "metadata": {},
   "outputs": [
    {
     "name": "stdout",
     "output_type": "stream",
     "text": [
      "['forpairs', ['?basket.n.01', '-', 'basket.n.01'], ['?candle.n.01', '-', 'candle.n.01'], ['inside', '?candle.n.01', '?basket.n.01']]\n",
      "['forpairs', 'basket.n.01', '-', 'basket.n.01', 'candle.n.01', '-', 'candle.n.01', 'inside', 'candle.n.01', 'basket.n.01']\n",
      "[[['inside', 'candle.n.01_1', 'basket.n.01_1'], ['inside', 'candle.n.01_2', 'basket.n.01_2'], ['inside', 'candle.n.01_3', 'basket.n.01_3'], ['inside', 'candle.n.01_4', 'basket.n.01_4']], [['inside', 'candle.n.01_1', 'basket.n.01_1'], ['inside', 'candle.n.01_2', 'basket.n.01_2'], ['inside', 'candle.n.01_3', 'basket.n.01_4'], ['inside', 'candle.n.01_4', 'basket.n.01_3']], [['inside', 'candle.n.01_1', 'basket.n.01_1'], ['inside', 'candle.n.01_2', 'basket.n.01_3'], ['inside', 'candle.n.01_3', 'basket.n.01_2'], ['inside', 'candle.n.01_4', 'basket.n.01_4']], [['inside', 'candle.n.01_1', 'basket.n.01_1'], ['inside', 'candle.n.01_2', 'basket.n.01_3'], ['inside', 'candle.n.01_3', 'basket.n.01_4'], ['inside', 'candle.n.01_4', 'basket.n.01_2']], [['inside', 'candle.n.01_1', 'basket.n.01_1'], ['inside', 'candle.n.01_2', 'basket.n.01_4'], ['inside', 'candle.n.01_3', 'basket.n.01_2'], ['inside', 'candle.n.01_4', 'basket.n.01_3']], [['inside', 'candle.n.01_1', 'basket.n.01_1'], ['inside', 'candle.n.01_2', 'basket.n.01_4'], ['inside', 'candle.n.01_3', 'basket.n.01_3'], ['inside', 'candle.n.01_4', 'basket.n.01_2']], [['inside', 'candle.n.01_1', 'basket.n.01_2'], ['inside', 'candle.n.01_2', 'basket.n.01_1'], ['inside', 'candle.n.01_3', 'basket.n.01_3'], ['inside', 'candle.n.01_4', 'basket.n.01_4']], [['inside', 'candle.n.01_1', 'basket.n.01_2'], ['inside', 'candle.n.01_2', 'basket.n.01_1'], ['inside', 'candle.n.01_3', 'basket.n.01_4'], ['inside', 'candle.n.01_4', 'basket.n.01_3']], [['inside', 'candle.n.01_1', 'basket.n.01_2'], ['inside', 'candle.n.01_2', 'basket.n.01_3'], ['inside', 'candle.n.01_3', 'basket.n.01_1'], ['inside', 'candle.n.01_4', 'basket.n.01_4']], [['inside', 'candle.n.01_1', 'basket.n.01_2'], ['inside', 'candle.n.01_2', 'basket.n.01_3'], ['inside', 'candle.n.01_3', 'basket.n.01_4'], ['inside', 'candle.n.01_4', 'basket.n.01_1']]]\n",
      "\n",
      "\n",
      "['forpairs', ['?basket.n.01', '-', 'basket.n.01'], ['?cheese.n.01', '-', 'cheese.n.01'], ['inside', '?cheese.n.01', '?basket.n.01']]\n",
      "['forpairs', 'basket.n.01', '-', 'basket.n.01', 'cheese.n.01', '-', 'cheese.n.01', 'inside', 'cheese.n.01', 'basket.n.01']\n",
      "[[['inside', 'cheese.n.01_1', 'basket.n.01_1'], ['inside', 'cheese.n.01_2', 'basket.n.01_2'], ['inside', 'cheese.n.01_3', 'basket.n.01_3'], ['inside', 'cheese.n.01_4', 'basket.n.01_4']], [['inside', 'cheese.n.01_1', 'basket.n.01_1'], ['inside', 'cheese.n.01_2', 'basket.n.01_2'], ['inside', 'cheese.n.01_3', 'basket.n.01_4'], ['inside', 'cheese.n.01_4', 'basket.n.01_3']], [['inside', 'cheese.n.01_1', 'basket.n.01_1'], ['inside', 'cheese.n.01_2', 'basket.n.01_3'], ['inside', 'cheese.n.01_3', 'basket.n.01_2'], ['inside', 'cheese.n.01_4', 'basket.n.01_4']], [['inside', 'cheese.n.01_1', 'basket.n.01_1'], ['inside', 'cheese.n.01_2', 'basket.n.01_3'], ['inside', 'cheese.n.01_3', 'basket.n.01_4'], ['inside', 'cheese.n.01_4', 'basket.n.01_2']], [['inside', 'cheese.n.01_1', 'basket.n.01_1'], ['inside', 'cheese.n.01_2', 'basket.n.01_4'], ['inside', 'cheese.n.01_3', 'basket.n.01_2'], ['inside', 'cheese.n.01_4', 'basket.n.01_3']], [['inside', 'cheese.n.01_1', 'basket.n.01_1'], ['inside', 'cheese.n.01_2', 'basket.n.01_4'], ['inside', 'cheese.n.01_3', 'basket.n.01_3'], ['inside', 'cheese.n.01_4', 'basket.n.01_2']], [['inside', 'cheese.n.01_1', 'basket.n.01_2'], ['inside', 'cheese.n.01_2', 'basket.n.01_1'], ['inside', 'cheese.n.01_3', 'basket.n.01_3'], ['inside', 'cheese.n.01_4', 'basket.n.01_4']], [['inside', 'cheese.n.01_1', 'basket.n.01_2'], ['inside', 'cheese.n.01_2', 'basket.n.01_1'], ['inside', 'cheese.n.01_3', 'basket.n.01_4'], ['inside', 'cheese.n.01_4', 'basket.n.01_3']], [['inside', 'cheese.n.01_1', 'basket.n.01_2'], ['inside', 'cheese.n.01_2', 'basket.n.01_3'], ['inside', 'cheese.n.01_3', 'basket.n.01_1'], ['inside', 'cheese.n.01_4', 'basket.n.01_4']], [['inside', 'cheese.n.01_1', 'basket.n.01_2'], ['inside', 'cheese.n.01_2', 'basket.n.01_3'], ['inside', 'cheese.n.01_3', 'basket.n.01_4'], ['inside', 'cheese.n.01_4', 'basket.n.01_1']]]\n",
      "\n",
      "\n",
      "['forpairs', ['?basket.n.01', '-', 'basket.n.01'], ['?cookie.n.01', '-', 'cookie.n.01'], ['inside', '?cookie.n.01', '?basket.n.01']]\n",
      "['forpairs', 'basket.n.01', '-', 'basket.n.01', 'cookie.n.01', '-', 'cookie.n.01', 'inside', 'cookie.n.01', 'basket.n.01']\n",
      "[[['inside', 'cookie.n.01_1', 'basket.n.01_1'], ['inside', 'cookie.n.01_2', 'basket.n.01_2'], ['inside', 'cookie.n.01_3', 'basket.n.01_3'], ['inside', 'cookie.n.01_4', 'basket.n.01_4']], [['inside', 'cookie.n.01_1', 'basket.n.01_1'], ['inside', 'cookie.n.01_2', 'basket.n.01_2'], ['inside', 'cookie.n.01_3', 'basket.n.01_4'], ['inside', 'cookie.n.01_4', 'basket.n.01_3']], [['inside', 'cookie.n.01_1', 'basket.n.01_1'], ['inside', 'cookie.n.01_2', 'basket.n.01_3'], ['inside', 'cookie.n.01_3', 'basket.n.01_2'], ['inside', 'cookie.n.01_4', 'basket.n.01_4']], [['inside', 'cookie.n.01_1', 'basket.n.01_1'], ['inside', 'cookie.n.01_2', 'basket.n.01_3'], ['inside', 'cookie.n.01_3', 'basket.n.01_4'], ['inside', 'cookie.n.01_4', 'basket.n.01_2']], [['inside', 'cookie.n.01_1', 'basket.n.01_1'], ['inside', 'cookie.n.01_2', 'basket.n.01_4'], ['inside', 'cookie.n.01_3', 'basket.n.01_2'], ['inside', 'cookie.n.01_4', 'basket.n.01_3']], [['inside', 'cookie.n.01_1', 'basket.n.01_1'], ['inside', 'cookie.n.01_2', 'basket.n.01_4'], ['inside', 'cookie.n.01_3', 'basket.n.01_3'], ['inside', 'cookie.n.01_4', 'basket.n.01_2']], [['inside', 'cookie.n.01_1', 'basket.n.01_2'], ['inside', 'cookie.n.01_2', 'basket.n.01_1'], ['inside', 'cookie.n.01_3', 'basket.n.01_3'], ['inside', 'cookie.n.01_4', 'basket.n.01_4']], [['inside', 'cookie.n.01_1', 'basket.n.01_2'], ['inside', 'cookie.n.01_2', 'basket.n.01_1'], ['inside', 'cookie.n.01_3', 'basket.n.01_4'], ['inside', 'cookie.n.01_4', 'basket.n.01_3']], [['inside', 'cookie.n.01_1', 'basket.n.01_2'], ['inside', 'cookie.n.01_2', 'basket.n.01_3'], ['inside', 'cookie.n.01_3', 'basket.n.01_1'], ['inside', 'cookie.n.01_4', 'basket.n.01_4']], [['inside', 'cookie.n.01_1', 'basket.n.01_2'], ['inside', 'cookie.n.01_2', 'basket.n.01_3'], ['inside', 'cookie.n.01_3', 'basket.n.01_4'], ['inside', 'cookie.n.01_4', 'basket.n.01_1']]]\n",
      "\n",
      "\n",
      "['forpairs', ['?basket.n.01', '-', 'basket.n.01'], ['?bow.n.08', '-', 'bow.n.08'], ['inside', '?bow.n.08', '?basket.n.01']]\n",
      "['forpairs', 'basket.n.01', '-', 'basket.n.01', 'bow.n.08', '-', 'bow.n.08', 'inside', 'bow.n.08', 'basket.n.01']\n",
      "[[['inside', 'bow.n.08_1', 'basket.n.01_1'], ['inside', 'bow.n.08_2', 'basket.n.01_2'], ['inside', 'bow.n.08_3', 'basket.n.01_3'], ['inside', 'bow.n.08_4', 'basket.n.01_4']], [['inside', 'bow.n.08_1', 'basket.n.01_1'], ['inside', 'bow.n.08_2', 'basket.n.01_2'], ['inside', 'bow.n.08_3', 'basket.n.01_4'], ['inside', 'bow.n.08_4', 'basket.n.01_3']], [['inside', 'bow.n.08_1', 'basket.n.01_1'], ['inside', 'bow.n.08_2', 'basket.n.01_3'], ['inside', 'bow.n.08_3', 'basket.n.01_2'], ['inside', 'bow.n.08_4', 'basket.n.01_4']], [['inside', 'bow.n.08_1', 'basket.n.01_1'], ['inside', 'bow.n.08_2', 'basket.n.01_3'], ['inside', 'bow.n.08_3', 'basket.n.01_4'], ['inside', 'bow.n.08_4', 'basket.n.01_2']], [['inside', 'bow.n.08_1', 'basket.n.01_1'], ['inside', 'bow.n.08_2', 'basket.n.01_4'], ['inside', 'bow.n.08_3', 'basket.n.01_2'], ['inside', 'bow.n.08_4', 'basket.n.01_3']], [['inside', 'bow.n.08_1', 'basket.n.01_1'], ['inside', 'bow.n.08_2', 'basket.n.01_4'], ['inside', 'bow.n.08_3', 'basket.n.01_3'], ['inside', 'bow.n.08_4', 'basket.n.01_2']], [['inside', 'bow.n.08_1', 'basket.n.01_2'], ['inside', 'bow.n.08_2', 'basket.n.01_1'], ['inside', 'bow.n.08_3', 'basket.n.01_3'], ['inside', 'bow.n.08_4', 'basket.n.01_4']], [['inside', 'bow.n.08_1', 'basket.n.01_2'], ['inside', 'bow.n.08_2', 'basket.n.01_1'], ['inside', 'bow.n.08_3', 'basket.n.01_4'], ['inside', 'bow.n.08_4', 'basket.n.01_3']], [['inside', 'bow.n.08_1', 'basket.n.01_2'], ['inside', 'bow.n.08_2', 'basket.n.01_3'], ['inside', 'bow.n.08_3', 'basket.n.01_1'], ['inside', 'bow.n.08_4', 'basket.n.01_4']], [['inside', 'bow.n.08_1', 'basket.n.01_2'], ['inside', 'bow.n.08_2', 'basket.n.01_3'], ['inside', 'bow.n.08_3', 'basket.n.01_4'], ['inside', 'bow.n.08_4', 'basket.n.01_1']]]\n",
      "\n",
      "\n"
     ]
    }
   ],
   "source": [
    "for condition in env.task.goal_conditions:\n",
    "    print(condition.body)\n",
    "    print(condition.terms)\n",
    "    print(condition.flattened_condition_options)\n",
    "    print(\"\\n\")"
   ]
  },
  {
   "cell_type": "code",
   "execution_count": 9,
   "metadata": {},
   "outputs": [],
   "source": [
    "def get_methods(obj):\n",
    "    methods = []\n",
    "    for attribute_name in dir(obj):\n",
    "        # Skip over dunder methods except for __init__\n",
    "        if attribute_name.startswith(\"__\") and attribute_name.endswith(\"__\") and attribute_name != '__init__':\n",
    "            continue\n",
    "        attr = getattr(obj, attribute_name)\n",
    "        if callable(attr):\n",
    "            methods.append(attribute_name)\n",
    "    return methods\n",
    "\n",
    "\n",
    "def get_instance_attributes(obj):\n",
    "    attrs = []\n",
    "    for attribute_name in dir(obj):\n",
    "        if not attribute_name.startswith('__') and not callable(getattr(obj, attribute_name)):\n",
    "            attrs.append(attribute_name)\n",
    "    return attrs\n",
    "\n",
    "\n"
   ]
  },
  {
   "cell_type": "code",
   "execution_count": 14,
   "metadata": {},
   "outputs": [
    {
     "data": {
      "text/plain": [
       "['_abc_impl',\n",
       " 'backend',\n",
       " 'body',\n",
       " 'child_values',\n",
       " 'children',\n",
       " 'flattened_condition_options',\n",
       " 'kwargs',\n",
       " 'object_map',\n",
       " 'scope',\n",
       " 'terms']"
      ]
     },
     "execution_count": 14,
     "metadata": {},
     "output_type": "execute_result"
    }
   ],
   "source": [
    "get_instance_attributes(env.task.initial_conditions[2])"
   ]
  },
  {
   "cell_type": "code",
   "execution_count": 23,
   "metadata": {},
   "outputs": [
    {
     "data": {
      "text/plain": [
       "['onfloor', 'basket.n.01_1', 'floor.n.01_1']"
      ]
     },
     "execution_count": 23,
     "metadata": {},
     "output_type": "execute_result"
    }
   ],
   "source": [
    "env.task.initial_conditions[0].body"
   ]
  },
  {
   "cell_type": "code",
   "execution_count": 4,
   "metadata": {},
   "outputs": [
    {
     "name": "stdout",
     "output_type": "stream",
     "text": [
      "<abc.InsideStateBinaryPredicate object at 0x3bcaeb520>\n",
      "False\n"
     ]
    }
   ],
   "source": [
    "temp = env.task.goal_conditions[0].children[0].children[0].children[0].children[0]\n",
    "print(temp)\n",
    "print(temp.evaluate())"
   ]
  },
  {
   "cell_type": "code",
   "execution_count": 42,
   "metadata": {},
   "outputs": [
    {
     "data": {
      "text/plain": [
       "<bddl.condition_evaluation.HEAD at 0x3ad0fe790>"
      ]
     },
     "execution_count": 42,
     "metadata": {},
     "output_type": "execute_result"
    }
   ],
   "source": [
    "env.task.goal_conditions[0]\n"
   ]
  },
  {
   "cell_type": "code",
   "execution_count": 35,
   "metadata": {},
   "outputs": [
    {
     "name": "stdout",
     "output_type": "stream",
     "text": [
      "{'tomato.n.01_1': <igibson.objects.multi_object_wrappers.ObjectMultiplexer object at 0x2bc86e700>, 'tomato.n.01_2': <igibson.objects.multi_object_wrappers.ObjectMultiplexer object at 0x2bc7ba730>, 'mushroom.n.05_1': <igibson.objects.multi_object_wrappers.ObjectMultiplexer object at 0x2bc861d00>, 'mushroom.n.05_2': <igibson.objects.multi_object_wrappers.ObjectMultiplexer object at 0x2bc9bfca0>, 'chestnut.n.03_1': <igibson.objects.multi_object_wrappers.ObjectMultiplexer object at 0x2bc9d7f40>, 'chestnut.n.03_2': <igibson.objects.multi_object_wrappers.ObjectMultiplexer object at 0x2bca7af10>, 'countertop.n.01_1': <igibson.objects.articulated_object.URDFObject object at 0x2bc5e7670>, 'vidalia_onion.n.01_1': <igibson.objects.multi_object_wrappers.ObjectMultiplexer object at 0x2bca6a850>, 'vidalia_onion.n.01_2': <igibson.objects.multi_object_wrappers.ObjectMultiplexer object at 0x2bca818e0>, 'electric_refrigerator.n.01_1': <igibson.objects.articulated_object.URDFObject object at 0x2bc79cee0>, 'knife.n.01_1': <igibson.objects.articulated_object.URDFObject object at 0x2bca819a0>, 'dish.n.01_1': <igibson.objects.articulated_object.URDFObject object at 0x2bca9ceb0>, 'dish.n.01_2': <igibson.objects.articulated_object.URDFObject object at 0x2bca7a220>, 'cabinet.n.01_1': <igibson.objects.articulated_object.URDFObject object at 0x2bc88dee0>, 'sink.n.01_1': <igibson.objects.articulated_object.URDFObject object at 0x2bc765f40>, 'floor.n.01_1': <igibson.object_states.on_floor.RoomFloor object at 0x3ad1737c0>, 'agent.n.01_1': <igibson.robots.behavior_robot.BehaviorRobot object at 0x2bc858970>, 'tomato.n.01': 'tomato.n.01_1', 'dish.n.01': 'dish.n.01_1'}\n",
      "tomato.n.01_1\n",
      "dish.n.01_1\n",
      "    def evaluate(self):\n",
      "        if (self.scope[self.input1] is not None) and (self.scope[self.input2] is not None):\n",
      "            return self._evaluate(self.scope[self.input1], self.scope[self.input2], **self.kwargs)\n",
      "        else:\n",
      "            print('%s and/or %s are not mapped to simulator objects in scope' %\n",
      "                  (self.input1, self.input2))\n",
      "\n",
      "    def _evaluate(self, obj1, obj2, **kwargs):\n",
      "        return obj1.states[self.STATE_CLASS].get_value(obj2, **kwargs)\n",
      "\n"
     ]
    }
   ],
   "source": [
    "import inspect\n",
    "\n",
    "# Assuming 'abc' is the module name and InsideStateBinaryPredicate is the correct class\n",
    "# You might need to import the module or class correctly depending on your environment\n",
    "\n",
    "temp = env.task.goal_conditions[0].children[0].children[0].children[0].children[0]\n",
    "print(temp.scope)\n",
    "print(temp.input1)\n",
    "print(temp.input2)\n",
    "# print(temp.scope[temp.input1])\n",
    "\n",
    "try:\n",
    "    # Print the source code of the evaluate method\n",
    "    # print(inspect.getsource(temp.__init__))\n",
    "    print(inspect.getsource(temp.evaluate))\n",
    "    print(inspect.getsource(temp._evaluate))\n",
    "except Exception as e:\n",
    "    print(\"Could not retrieve source code:\", e)"
   ]
  },
  {
   "cell_type": "code",
   "execution_count": 20,
   "metadata": {},
   "outputs": [
    {
     "ename": "AttributeError",
     "evalue": "module 'abc' has no attribute 'InsideStateBinaryPredicate'",
     "output_type": "error",
     "traceback": [
      "\u001b[0;31m---------------------------------------------------------------------------\u001b[0m",
      "\u001b[0;31mAttributeError\u001b[0m                            Traceback (most recent call last)",
      "Cell \u001b[0;32mIn[20], line 4\u001b[0m\n\u001b[1;32m      1\u001b[0m \u001b[38;5;28;01mimport\u001b[39;00m \u001b[38;5;21;01minspect\u001b[39;00m\n\u001b[1;32m      2\u001b[0m \u001b[38;5;28;01mimport\u001b[39;00m \u001b[38;5;21;01mabc\u001b[39;00m  \u001b[38;5;66;03m# Assuming abc is the module containing InsideStateBinaryPredicate\u001b[39;00m\n\u001b[0;32m----> 4\u001b[0m \u001b[38;5;28mprint\u001b[39m(inspect\u001b[38;5;241m.\u001b[39mgetsource(\u001b[43mabc\u001b[49m\u001b[38;5;241;43m.\u001b[39;49m\u001b[43mInsideStateBinaryPredicate\u001b[49m))\n",
      "\u001b[0;31mAttributeError\u001b[0m: module 'abc' has no attribute 'InsideStateBinaryPredicate'"
     ]
    }
   ],
   "source": [
    "import inspect\n",
    "import abc  # Assuming abc is the module containing InsideStateBinaryPredicate\n",
    "\n",
    "print(inspect.getsource(abc.InsideStateBinaryPredicate))"
   ]
  },
  {
   "cell_type": "code",
   "execution_count": 10,
   "metadata": {},
   "outputs": [
    {
     "data": {
      "text/plain": [
       "False"
      ]
     },
     "execution_count": 10,
     "metadata": {},
     "output_type": "execute_result"
    }
   ],
   "source": [
    "env.task.goal_conditions[0].evaluate()"
   ]
  },
  {
   "cell_type": "code",
   "execution_count": 7,
   "metadata": {},
   "outputs": [
    {
     "data": {
      "text/plain": [
       "(False, {'satisfied': [], 'unsatisfied': [0, 1, 2, 3]})"
      ]
     },
     "execution_count": 7,
     "metadata": {},
     "output_type": "execute_result"
    }
   ],
   "source": [
    "env.task.check_success()"
   ]
  },
  {
   "cell_type": "code",
   "execution_count": 6,
   "metadata": {},
   "outputs": [
    {
     "name": "stdout",
     "output_type": "stream",
     "text": [
      "tomato_62_part_1\n",
      "mushroom_64\n",
      "tomato_62_part_0\n",
      "mushroom_64_multiplexer\n",
      "mushroom_64_part_0\n",
      "mushroom_63_multiplexer\n",
      "chestnut_65_part_1\n",
      "mushroom_63_part_0\n",
      "vidalia_onion_67\n",
      "vidalia_onion_68_part_1\n",
      "chestnut_66\n",
      "tomato_61\n",
      "tomato_62\n",
      "countertop_26\n",
      "tomato_61_multiplexer\n",
      "chestnut_65_part_0\n",
      "vidalia_onion_67_multiplexer\n",
      "vidalia_onion_68_multiplexer\n",
      "vidalia_onion_67_part_1\n",
      "fridge_40\n",
      "room_floor_kitchen_0\n",
      "mushroom_63\n",
      "mushroom_64_part_1\n",
      "top_cabinet_50\n",
      "vidalia_onion_67_part_0\n",
      "chestnut_66_part_1\n",
      "tomato_61_part_1\n",
      "carving_knife_69\n",
      "casserole_71\n",
      "vidalia_onion_68\n",
      "sink_42\n",
      "vidalia_onion_68_part_0\n",
      "tomato_61_part_0\n",
      "casserole_70\n",
      "chestnut_65\n",
      "mushroom_63_part_1\n",
      "chestnut_65_multiplexer\n",
      "chestnut_66_multiplexer\n",
      "chestnut_66_part_0\n",
      "tomato_62_multiplexer\n"
     ]
    }
   ],
   "source": [
    "for obj in env.addressable_objects:\n",
    "    print(obj.name)"
   ]
  },
  {
   "cell_type": "code",
   "execution_count": 7,
   "metadata": {},
   "outputs": [
    {
     "name": "stdout",
     "output_type": "stream",
     "text": [
      "root\n",
      "  tomato_62_part_1 None\n",
      "  tomato_62_part_0 None\n",
      "  mushroom_64_part_0 None\n",
      "  chestnut_65_part_1 None\n",
      "  mushroom_63_part_0 None\n",
      "  vidalia_onion_68_part_1 None\n",
      "  chestnut_65_part_0 None\n",
      "  vidalia_onion_67_part_1 None\n",
      "  mushroom_64_part_1 None\n",
      "  vidalia_onion_67_part_0 None\n",
      "  chestnut_66_part_1 None\n",
      "  tomato_61_part_1 None\n",
      "  sink_42 None\n",
      "  vidalia_onion_68_part_0 None\n",
      "  tomato_61_part_0 None\n",
      "  mushroom_63_part_1 None\n",
      "  chestnut_66_part_0 None\n",
      "  countertop_26 None\n",
      "    mushroom_64 TeleportType.ONTOP\n",
      "    chestnut_66 TeleportType.ONTOP\n",
      "    tomato_61 TeleportType.ONTOP\n",
      "    tomato_62 TeleportType.ONTOP\n",
      "    mushroom_63 TeleportType.ONTOP\n",
      "    carving_knife_69 TeleportType.ONTOP\n",
      "    chestnut_65 TeleportType.ONTOP\n",
      "  fridge_40 None\n",
      "    vidalia_onion_67 TeleportType.INSIDE\n",
      "    vidalia_onion_68 TeleportType.INSIDE\n",
      "  top_cabinet_50 None\n",
      "    casserole_71 TeleportType.INSIDE\n",
      "    casserole_70 TeleportType.INSIDE\n",
      "\n"
     ]
    }
   ],
   "source": [
    "print(env.action_env.relation_tree)"
   ]
  },
  {
   "cell_type": "code",
   "execution_count": 8,
   "metadata": {},
   "outputs": [],
   "source": [
    "actions=[\n",
    "    {\n",
    "        \"action\": \"OPEN\",\n",
    "        \"object\": \"top_cabinet_50\"\n",
    "    },\n",
    "    {\n",
    "        \"action\": \"LEFT_GRASP\",\n",
    "        \"object\": \"casserole_71\"\n",
    "    },\n",
    "    {\n",
    "        \"action\": \"LEFT_PLACE_ONTOP\",\n",
    "        \"object\": \"countertop_26\"\n",
    "    },\n",
    "    {\n",
    "        \"action\": \"RIGHT_GRASP\",\n",
    "        \"object\": \"chestnut_66\"\n",
    "    },\n",
    "    {\n",
    "        \"action\": \"RIGHT_PLACE_INSIDE\",\n",
    "        \"object\": \"casserole_71\"\n",
    "    },\n",
    "    {\n",
    "        \"action\": \"RIGHT_GRASP\",\n",
    "        \"object\": \"chestnut_65\"\n",
    "    },\n",
    "    {\n",
    "        \"action\": \"RIGHT_PLACE_INSIDE\",\n",
    "        \"object\": \"casserole_71\"\n",
    "    },\n",
    "    {\n",
    "        \"action\": \"RIGHT_GRASP\",\n",
    "        \"object\": \"mushroom_63\"\n",
    "    },\n",
    "    {\n",
    "        \"action\": \"RIGHT_PLACE_INSIDE\",\n",
    "        \"object\": \"casserole_71\"\n",
    "    },\n",
    "    {\n",
    "        \"action\": \"RIGHT_GRASP\",\n",
    "        \"object\": \"mushroom_64\"\n",
    "    },\n",
    "    {\n",
    "        \"action\": \"RIGHT_PLACE_INSIDE\",\n",
    "        \"object\": \"casserole_71\"\n",
    "    },\n",
    "    {\n",
    "        \"action\": \"RIGHT_GRASP\",\n",
    "        \"object\": \"tomato_62\"\n",
    "    },\n",
    "    {\n",
    "        \"action\": \"RIGHT_PLACE_INSIDE\",\n",
    "        \"object\": \"casserole_71\"\n",
    "    },\n",
    "    {\n",
    "        \"action\": \"RIGHT_GRASP\",\n",
    "        \"object\": \"tomato_61\"\n",
    "    },\n",
    "    {\n",
    "        \"action\": \"RIGHT_PLACE_INSIDE\",\n",
    "        \"object\": \"casserole_71\"\n",
    "    },\n",
    "    {\n",
    "        \"action\": \"OPEN\",\n",
    "        \"object\": \"fridge_40\"\n",
    "    },\n",
    "    {\n",
    "        \"action\": \"RIGHT_GRASP\",\n",
    "        \"object\": \"vidalia_onion_67\"\n",
    "    },\n",
    "    {\n",
    "        \"action\": \"LEFT_GRASP\",\n",
    "        \"object\": \"vidalia_onion_68\"\n",
    "    },\n",
    "    {\n",
    "        \"action\": \"LEFT_PLACE_ONTOP\",\n",
    "        \"object\": \"countertop_26\"\n",
    "    },\n",
    "    {\n",
    "        \"action\": \"RIGHT_PLACE_ONTOP\",\n",
    "        \"object\": \"countertop_26\"\n",
    "    },\n",
    "    {\n",
    "        \"action\": \"RIGHT_GRASP\",\n",
    "        \"object\": \"carving_knife_69\"\n",
    "    },\n",
    "    {\n",
    "        \"action\": \"SLICE\",\n",
    "        \"object\": \"chestnut_66\"\n",
    "    },\n",
    "    {\n",
    "        \"action\": \"SLICE\",\n",
    "        \"object\": \"chestnut_65\"\n",
    "    },\n",
    "    {\n",
    "        \"action\": \"SLICE\",\n",
    "        \"object\": \"mushroom_63\"\n",
    "    },\n",
    "    {\n",
    "        \"action\": \"SLICE\",\n",
    "        \"object\": \"mushroom_64\"\n",
    "    },\n",
    "    {\n",
    "        \"action\": \"SLICE\",\n",
    "        \"object\": \"tomato_62\"\n",
    "    },\n",
    "    {\n",
    "        \"action\": \"SLICE\",\n",
    "        \"object\": \"tomato_61\"\n",
    "    },\n",
    "    {\n",
    "        \"action\": \"SLICE\",\n",
    "        \"object\": \"vidalia_onion_67\"\n",
    "    },\n",
    "    {\n",
    "        \"action\": \"SLICE\",\n",
    "        \"object\": \"vidalia_onion_68\"\n",
    "    },\n",
    "    {\n",
    "        \"action\": \"RIGHT_PLACE_ONTOP\",\n",
    "        \"object\": \"countertop_26\"\n",
    "    },\n",
    "    {\n",
    "        \"action\": \"RIGHT_GRASP\",\n",
    "        \"object\": \"vidalia_onion_67_part_0\"\n",
    "    },\n",
    "    {\n",
    "        \"action\": \"LEFT_GRASP\",\n",
    "        \"object\": \"vidalia_onion_67_part_1\"\n",
    "    },\n",
    "    {\n",
    "        \"action\": \"RIGHT_PLACE_INSIDE\",\n",
    "        \"object\": \"casserole_71\"\n",
    "    },\n",
    "    {\n",
    "        \"action\": \"LEFT_PLACE_INSIDE\",\n",
    "        \"object\": \"casserole_71\"\n",
    "    },\n",
    "    {\n",
    "        \"action\": \"RIGHT_GRASP\",\n",
    "        \"object\": \"vidalia_onion_68_part_0\"\n",
    "    },\n",
    "    {\n",
    "        \"action\": \"LEFT_GRASP\",\n",
    "        \"object\": \"vidalia_onion_68_part_1\"\n",
    "    },\n",
    "    {\n",
    "        \"action\": \"RIGHT_PLACE_INSIDE\",\n",
    "        \"object\": \"casserole_71\"\n",
    "    },\n",
    "    {\n",
    "        \"action\": \"LEFT_PLACE_INSIDE\",\n",
    "        \"object\": \"casserole_71\"\n",
    "    },\n",
    "    {\n",
    "        \"action\": \"CLOSE\",\n",
    "        \"object\": \"fridge_40\"\n",
    "    }\n",
    "]"
   ]
  },
  {
   "cell_type": "code",
   "execution_count": 10,
   "metadata": {},
   "outputs": [],
   "source": [
    "tracking_obj=env.obj_name_to_obj[\"casserole_71\"]"
   ]
  },
  {
   "cell_type": "code",
   "execution_count": 11,
   "metadata": {},
   "outputs": [
    {
     "name": "stdout",
     "output_type": "stream",
     "text": [
      "top_cabinet_50 is already opened\n",
      "(array([-1.82388364,  2.73822612,  1.71992689]), array([-1.49210850e-07,  1.96718599e-07, -8.09281897e-01,  5.87420472e-01]))\n",
      "(False, {'satisfied': [], 'unsatisfied': [0, 1, 2, 3]})\n",
      "Grasp casserole_71 with left_hand successful\n",
      "(array([-3.01621402,  3.12682665,  0.85094495]), array([-1.49210850e-07,  1.96718599e-07, -8.09281897e-01,  5.87420472e-01]))\n",
      "(False, {'satisfied': [], 'unsatisfied': [0, 1, 2, 3]})\n",
      "Place ontop casserole_71 countertop_26 unsuccessful\n",
      "(array([-0.80581848,  1.52980519,  1.14155892]), array([ 2.34192136e-05, -6.20932909e-05, -8.09287828e-01,  5.87412297e-01]))\n",
      "(False, {'satisfied': [], 'unsatisfied': [0, 1, 2, 3]})\n",
      "Grasp chestnut_66 with right_hand successful\n",
      "(array([-0.8058119 ,  1.52980085,  1.14156933]), array([ 4.31346293e-07, -1.13274526e-06, -8.09287830e-01,  5.87412299e-01]))\n",
      "(False, {'satisfied': [], 'unsatisfied': [0, 1, 2, 3]})\n",
      "Place inside chestnut_66 casserole_71 successful\n",
      "(array([-0.80581178,  1.52980077,  1.14156952]), array([ 1.08896981e-08, -1.73739408e-08, -8.09287830e-01,  5.87412299e-01]))\n",
      "(False, {'satisfied': [], 'unsatisfied': [0, 1, 2, 3]})\n",
      "Grasp chestnut_65 with right_hand successful\n",
      "(array([-0.80581178,  1.52980077,  1.14156952]), array([ 4.08326273e-09,  1.67724543e-09, -8.09287830e-01,  5.87412299e-01]))\n",
      "(False, {'satisfied': [], 'unsatisfied': [0, 1, 2, 3]})\n",
      "Place inside chestnut_65 casserole_71 successful\n",
      "(array([-0.80581178,  1.52980077,  1.14156952]), array([ 4.10346307e-09,  1.64860914e-09, -8.09287830e-01,  5.87412299e-01]))\n",
      "(False, {'satisfied': [], 'unsatisfied': [0, 1, 2, 3]})\n",
      "Grasp mushroom_63 with right_hand successful\n",
      "(array([-0.80581211,  1.52980075,  1.14156916]), array([ 2.04805295e-06, -1.07579437e-06, -8.09287837e-01,  5.87412288e-01]))\n",
      "(False, {'satisfied': [], 'unsatisfied': [0, 1, 2, 3]})\n",
      "Place inside mushroom_63 casserole_71 successful\n",
      "(array([-0.80581195,  1.52980078,  1.14156934]), array([ 6.33066587e-07, -3.33529653e-07, -8.09287832e-01,  5.87412295e-01]))\n",
      "(False, {'satisfied': [], 'unsatisfied': [0, 1, 2, 3]})\n",
      "Grasp mushroom_64 with right_hand successful\n",
      "(array([-0.8058121 ,  1.52980078,  1.14156934]), array([ 1.43030866e-06, -8.29732318e-07, -8.09287829e-01,  5.87412300e-01]))\n",
      "(False, {'satisfied': [], 'unsatisfied': [0, 1, 2, 3]})\n",
      "Place inside mushroom_64 casserole_71 successful\n",
      "(array([-0.80581194,  1.52980079,  1.14156948]), array([ 1.26715114e-07, -6.79371941e-08, -8.09287829e-01,  5.87412300e-01]))\n",
      "(False, {'satisfied': [], 'unsatisfied': [0, 1, 2, 3]})\n",
      "Grasp tomato_62 with right_hand successful\n",
      "(array([-0.80580286,  1.52979821,  1.1415555 ]), array([-4.80858770e-05,  6.10766059e-05, -8.09287838e-01,  5.87412282e-01]))\n",
      "(False, {'satisfied': [], 'unsatisfied': [0, 1, 2, 3]})\n",
      "Place inside tomato_62 casserole_71 successful\n",
      "(array([-0.80581175,  1.52980073,  1.14156926]), array([-8.72081350e-07,  1.11179741e-06, -8.09287836e-01,  5.87412291e-01]))\n",
      "(False, {'satisfied': [], 'unsatisfied': [0, 1, 2, 3]})\n",
      "Grasp tomato_61 with right_hand successful\n",
      "(array([-0.80581213,  1.52980108,  1.14156935]), array([-4.80877185e-07, -1.20839157e-06, -8.09287794e-01,  5.87412348e-01]))\n",
      "(False, {'satisfied': [], 'unsatisfied': [0, 1, 2, 3]})\n",
      "Place inside tomato_61 casserole_71 successful\n",
      "(array([-0.80597538,  1.53000374,  1.14156461]), array([-1.95091465e-05,  6.77414265e-05, -8.09199936e-01,  5.87533367e-01]))\n",
      "(False, {'satisfied': [], 'unsatisfied': [0, 1, 2, 3]})\n",
      "Open fridge_40 success\n",
      "(array([-0.80598214,  1.53000895,  1.14156943]), array([ 3.36463152e-07, -6.96357319e-08, -8.09200060e-01,  5.87533202e-01]))\n",
      "(False, {'satisfied': [], 'unsatisfied': [0, 1, 2, 3]})\n",
      "Grasp vidalia_onion_67 with right_hand successful\n",
      "(array([-0.80598229,  1.53000883,  1.14156933]), array([ 1.74213096e-06, -3.08885037e-07, -8.09200174e-01,  5.87533044e-01]))\n",
      "(False, {'satisfied': [], 'unsatisfied': [0, 1, 2, 3]})\n",
      "Grasp vidalia_onion_68 with left_hand successful\n",
      "(array([-0.80598189,  1.53000921,  1.14156915]), array([-5.16686161e-07, -1.08728339e-06, -8.09200705e-01,  5.87532313e-01]))\n",
      "(False, {'satisfied': [], 'unsatisfied': [0, 1, 2, 3]})\n",
      "Place ontop vidalia_onion_68 countertop_26 unsuccessful\n",
      "(array([-0.80598046,  1.53000848,  1.1415677 ]), array([-6.42249710e-06,  1.07233759e-05, -8.09200709e-01,  5.87532308e-01]))\n",
      "(False, {'satisfied': [], 'unsatisfied': [0, 1, 2, 3]})\n",
      "Place ontop vidalia_onion_67 countertop_26 unsuccessful\n",
      "(array([-0.80596569,  1.53004907,  1.14156645]), array([-6.86790552e-06, -4.86221485e-05, -8.09225353e-01,  5.87498362e-01]))\n",
      "(False, {'satisfied': [], 'unsatisfied': [0, 1, 2, 3]})\n",
      "Grasp carving_knife_69 with right_hand successful\n",
      "(array([-0.80596296,  1.53004391,  1.14156942]), array([-2.01736501e-07, -6.98525040e-07, -8.09225367e-01,  5.87498345e-01]))\n",
      "(False, {'satisfied': [], 'unsatisfied': [0, 1, 2, 3]})\n",
      "Slice chestnut_66 success\n",
      "(array([-0.80596293,  1.53004383,  1.14156952]), array([ 8.89495779e-09, -6.86240408e-09, -8.09225368e-01,  5.87498344e-01]))\n",
      "(False, {'satisfied': [], 'unsatisfied': [0, 1, 2, 3]})\n",
      "Slice chestnut_65 success\n",
      "(array([-0.80596293,  1.53004383,  1.14156951]), array([ 3.36460111e-08, -1.73967994e-08, -8.09225357e-01,  5.87498359e-01]))\n",
      "(False, {'satisfied': [2], 'unsatisfied': [0, 1, 3]})\n",
      "Slice mushroom_63 success\n",
      "(array([-0.80596292,  1.53004383,  1.14156952]), array([-2.32586480e-09, -9.52259003e-09, -8.09225356e-01,  5.87498360e-01]))\n",
      "(False, {'satisfied': [2], 'unsatisfied': [0, 1, 3]})\n",
      "Slice mushroom_64 success\n",
      "(array([-0.80596271,  1.53004367,  1.14156935]), array([-5.02349526e-07,  1.69474745e-06, -8.09225291e-01,  5.87498449e-01]))\n",
      "(False, {'satisfied': [1, 2], 'unsatisfied': [0, 3]})\n",
      "Slice tomato_62 success\n",
      "(array([-0.80596301,  1.53004373,  1.1415694 ]), array([ 1.18922400e-06, -1.87696347e-07, -8.09225302e-01,  5.87498435e-01]))\n",
      "(False, {'satisfied': [1, 2], 'unsatisfied': [0, 3]})\n",
      "Slice tomato_61 success\n",
      "(array([-0.80596289,  1.5300438 ,  1.14156952]), array([ 2.08397708e-08, -3.39236316e-09, -8.09225304e-01,  5.87498432e-01]))\n",
      "(False, {'satisfied': [0, 1, 2], 'unsatisfied': [3]})\n",
      "Slice vidalia_onion_67 success\n",
      "(array([-0.80596096,  1.5300419 ,  1.14156936]), array([-3.68972853e-06,  2.20784653e-05, -8.09225320e-01,  5.87498410e-01]))\n",
      "(False, {'satisfied': [0, 1, 2], 'unsatisfied': [3]})\n",
      "Slice vidalia_onion_68 success\n",
      "(array([-0.80596264,  1.53004376,  1.14156932]), array([-1.42999793e-06,  1.27506539e-06, -8.09225283e-01,  5.87498461e-01]))\n",
      "(True, {'satisfied': [0, 1, 2, 3], 'unsatisfied': []})\n",
      "Place ontop carving_knife_69 countertop_26 unsuccessful\n",
      "(array([-0.80529393,  1.53024409,  1.14158965]), array([ 3.13011099e-04,  5.29557764e-04, -8.10338734e-01,  5.85961396e-01]))\n",
      "(True, {'satisfied': [0, 1, 2, 3], 'unsatisfied': []})\n",
      "Grasp vidalia_onion_67_part_0 with right_hand successful\n",
      "(array([-0.80552523,  1.53046041,  1.14164327]), array([-7.14424964e-04, -6.92146160e-05, -8.11021171e-01,  5.85016363e-01]))\n",
      "(False, {'satisfied': [0, 1, 2], 'unsatisfied': [3]})\n",
      "Grasp vidalia_onion_67_part_1 with left_hand successful\n",
      "(array([-0.80554595,  1.53076745,  1.14153962]), array([ 1.78513807e-04, -1.61728388e-04, -8.12474698e-01,  5.82996405e-01]))\n",
      "(False, {'satisfied': [0, 1, 2], 'unsatisfied': [3]})\n",
      "Place inside vidalia_onion_67_part_0 casserole_71 successful\n",
      "(array([-0.8058139 ,  1.53107864,  1.14168075]), array([ 0.00113887, -0.00156984, -0.81275114,  0.58260778]))\n",
      "(False, {'satisfied': [0, 1, 2], 'unsatisfied': [3]})\n",
      "Place inside vidalia_onion_67_part_1 casserole_71 successful\n",
      "(array([-0.80618909,  1.53190769,  1.14178989]), array([-3.63099372e-04, -6.43525154e-04, -8.12181940e-01,  5.83403763e-01]))\n",
      "(True, {'satisfied': [0, 1, 2, 3], 'unsatisfied': []})\n",
      "Grasp vidalia_onion_68_part_0 with right_hand successful\n",
      "(array([-0.80740851,  1.53257967,  1.14187829]), array([ 0.00179612, -0.00276194, -0.8109663 ,  0.58508359]))\n",
      "(False, {'satisfied': [0, 1, 2], 'unsatisfied': [3]})\n",
      "Grasp vidalia_onion_68_part_1 with left_hand successful\n",
      "(array([-0.81082337,  1.53410774,  1.14566411]), array([ 0.01154987, -0.01511509, -0.80804313,  0.58881613]))\n",
      "(False, {'satisfied': [0, 1, 2], 'unsatisfied': [3]})\n",
      "Place inside vidalia_onion_68_part_0 casserole_71 successful\n",
      "(array([-0.80809362,  1.53535154,  1.14288962]), array([-2.19136204e-04, -4.42761680e-03, -8.03748567e-01,  5.94952594e-01]))\n",
      "(False, {'satisfied': [0, 1, 2], 'unsatisfied': [3]})\n",
      "Place inside vidalia_onion_68_part_1 casserole_71 successful\n",
      "(array([-0.80908182,  1.53570247,  1.14173941]), array([-1.04550551e-04, -1.59186794e-04, -8.00445561e-01,  5.99405429e-01]))\n",
      "(True, {'satisfied': [0, 1, 2, 3], 'unsatisfied': []})\n",
      "Close fridge_40 success\n",
      "(array([-0.81759542,  1.53675952,  1.15286798]), array([ 0.03844849, -0.03004865, -0.79844298,  0.60008967]))\n",
      "(True, {'satisfied': [0, 1, 2, 3], 'unsatisfied': []})\n"
     ]
    }
   ],
   "source": [
    "for action in actions:\n",
    "    action_execuble=(action['action'], action['object'])\n",
    "    env.step(action_execuble)\n",
    "    print(tracking_obj.get_position_orientation())\n",
    "    print(env.task.check_success())\n",
    "    "
   ]
  },
  {
   "cell_type": "code",
   "execution_count": 8,
   "metadata": {},
   "outputs": [
    {
     "data": {
      "text/plain": [
       "(False, {'satisfied': [1, 2, 3], 'unsatisfied': [0]})"
      ]
     },
     "execution_count": 8,
     "metadata": {},
     "output_type": "execute_result"
    }
   ],
   "source": [
    "env.task.check_success()"
   ]
  },
  {
   "cell_type": "code",
   "execution_count": 9,
   "metadata": {},
   "outputs": [
    {
     "name": "stdout",
     "output_type": "stream",
     "text": [
      "root\n",
      "  basket_1 None\n",
      "    bow_1 TeleportType.INSIDE\n",
      "    cheese_1 TeleportType.INSIDE\n",
      "    cookie_1 TeleportType.INSIDE\n",
      "    candle_1 TeleportType.INSIDE\n",
      "  basket_3 None\n",
      "    bow_3 TeleportType.INSIDE\n",
      "    cheese_3 TeleportType.INSIDE\n",
      "    cookie_3 TeleportType.INSIDE\n",
      "    candle_3 TeleportType.INSIDE\n",
      "  basket_0 None\n",
      "    bow_0 TeleportType.INSIDE\n",
      "    cheese_0 TeleportType.INSIDE\n",
      "    cookie_0 TeleportType.INSIDE\n",
      "    candle_0 TeleportType.INSIDE\n",
      "  basket_2 None\n",
      "    bow_2 TeleportType.INSIDE\n",
      "    cheese_2 TeleportType.INSIDE\n",
      "    cookie_2 TeleportType.INSIDE\n",
      "    candle_2 TeleportType.INSIDE\n",
      "  coffee_table_12 None\n",
      "  breakfast_table_13 None\n",
      "\n"
     ]
    }
   ],
   "source": [
    "print(env.action_env.relation_tree)"
   ]
  },
  {
   "cell_type": "code",
   "execution_count": 10,
   "metadata": {},
   "outputs": [],
   "source": [
    "def test_inside(obj1_name, obj2_name):\n",
    "    obj1=env.obj_name_to_obj[obj1_name]\n",
    "    obj2=env.obj_name_to_obj[obj2_name]\n",
    "    return obj1.states[object_states.Inside].get_value(obj2)"
   ]
  },
  {
   "cell_type": "code",
   "execution_count": 11,
   "metadata": {},
   "outputs": [
    {
     "data": {
      "text/plain": [
       "True"
      ]
     },
     "execution_count": 11,
     "metadata": {},
     "output_type": "execute_result"
    }
   ],
   "source": [
    "test_inside(\"candle_3\",\"basket_3\")"
   ]
  },
  {
   "cell_type": "code",
   "execution_count": 12,
   "metadata": {},
   "outputs": [],
   "source": [
    "for obj in env.action_env.relation_tree.root.children.keys():\n",
    "    env.action_env.teleport_relation(obj)"
   ]
  },
  {
   "cell_type": "code",
   "execution_count": 21,
   "metadata": {},
   "outputs": [
    {
     "data": {
      "text/plain": [
       "(True, {'satisfied': [0, 1, 2, 3], 'unsatisfied': []})"
      ]
     },
     "execution_count": 21,
     "metadata": {},
     "output_type": "execute_result"
    }
   ],
   "source": [
    "env.task.check_success()"
   ]
  }
 ],
 "metadata": {
  "kernelspec": {
   "display_name": "igibson-eval",
   "language": "python",
   "name": "python3"
  },
  "language_info": {
   "codemirror_mode": {
    "name": "ipython",
    "version": 3
   },
   "file_extension": ".py",
   "mimetype": "text/x-python",
   "name": "python",
   "nbconvert_exporter": "python",
   "pygments_lexer": "ipython3",
   "version": "3.8.19"
  }
 },
 "nbformat": 4,
 "nbformat_minor": 2
}
