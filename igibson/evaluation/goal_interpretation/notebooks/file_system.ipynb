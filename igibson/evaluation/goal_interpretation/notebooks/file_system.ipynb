{
 "cells": [
  {
   "cell_type": "code",
   "execution_count": 2,
   "metadata": {},
   "outputs": [],
   "source": [
    "import os\n",
    "\n",
    "def save_file_names(dir_path, output_file_path):\n",
    "    # List to hold the file names without the .json extension\n",
    "    file_names = []\n",
    "\n",
    "    # Iterate through each file in the directory\n",
    "    for file in os.listdir(dir_path):\n",
    "        if file.endswith(\".json\"):\n",
    "            # Remove the .json extension and add to the list\n",
    "            file_names.append(file[:-5])\n",
    "\n",
    "    # Save the list to a file\n",
    "    with open(output_file_path, 'w') as file:\n",
    "        for name in file_names:\n",
    "            file.write(name + '\\n')\n",
    "\n",
    "# Example usage:\n",
    "# Specify the path to your repository and where to save the output\n",
    "dir_path = '/Users/bryan/Desktop/wkdir/behavior-vllm-eval/igibson/transition_model_v3/data/annotations'\n",
    "output_file_path = '/Users/bryan/Desktop/wkdir/behavior-vllm-eval/igibson/evaluation/goal_interpretation/assets/100_selected_tasks.txt'\n",
    "\n",
    "save_file_names(dir_path, output_file_path)\n"
   ]
  },
  {
   "cell_type": "code",
   "execution_count": 3,
   "metadata": {},
   "outputs": [
    {
     "name": "stdout",
     "output_type": "stream",
     "text": [
      "['rearranging_furniture_0_Pomaria_2_int_1_2021-06-22_16-39-21.log', 'sorting_mail_0_Wainscott_0_int_1_2021-10-26_14-38-16.log']\n"
     ]
    }
   ],
   "source": [
    "import os\n",
    "\n",
    "def search_files_for_word(directory, search_word):\n",
    "    files_containing_word = []\n",
    "    \n",
    "    # Walk through all the files in the directory\n",
    "    for root, dirs, files in os.walk(directory):\n",
    "        for filename in files:\n",
    "            # Construct full file path\n",
    "            file_path = os.path.join(root, filename)\n",
    "            try:\n",
    "                # Open the file and read through its contents\n",
    "                with open(file_path, 'r', encoding='utf-8') as file:\n",
    "                    if search_word in file.read():\n",
    "                        files_containing_word.append(filename)\n",
    "            except Exception as e:\n",
    "                print(f\"Could not read {filename}: {e}\")\n",
    "    \n",
    "    # Check if any file contained the word and return the appropriate response\n",
    "    if files_containing_word:\n",
    "        return files_containing_word\n",
    "    else:\n",
    "        return \"No files contain the word 'touching'.\"\n",
    "\n",
    "# Example usage\n",
    "directory = \"/Users/bryan/Desktop/wkdir/behavior-vllm-eval/igibson/transition_model_v3/data/results\"  # Replace with your directory path\n",
    "search_word = 'touching'\n",
    "result = search_files_for_word(directory, search_word)\n",
    "print(result)\n"
   ]
  },
  {
   "cell_type": "code",
   "execution_count": 4,
   "metadata": {},
   "outputs": [
    {
     "name": "stdout",
     "output_type": "stream",
     "text": [
      "['name', 'price', 'quantity']\n"
     ]
    }
   ],
   "source": [
    "class Object:\n",
    "    def __init__(self, name, price):\n",
    "        self.name = name\n",
    "        self.price = price\n",
    "        self.quantity = 0\n",
    "\n",
    "    def display(self):\n",
    "        print(f\"{self.name} costs ${self.price} each.\")\n",
    "\n",
    "def get_instance_attributes(obj):\n",
    "    attrs = []\n",
    "    for attribute_name in dir(obj):\n",
    "        if not attribute_name.startswith('__') and not callable(getattr(obj, attribute_name)):\n",
    "            attrs.append(attribute_name)\n",
    "    return attrs\n",
    "\n",
    "# Example usage\n",
    "obj = Object(\"Book\", 20)\n",
    "print(get_instance_attributes(obj))\n"
   ]
  },
  {
   "cell_type": "code",
   "execution_count": 7,
   "metadata": {},
   "outputs": [
    {
     "name": "stdout",
     "output_type": "stream",
     "text": [
      "['__init__', 'get_initial_price', 'set_price']\n"
     ]
    }
   ],
   "source": [
    "class Object:\n",
    "    def __init__(self, price):\n",
    "        self.price = price\n",
    "\n",
    "    def get_initial_price(self):\n",
    "        return self.price\n",
    "\n",
    "    def set_price(self, price):\n",
    "        self.price = price\n",
    "\n",
    "def get_methods(obj):\n",
    "    methods = []\n",
    "    for attribute_name in dir(obj):\n",
    "        # Skip over dunder methods except for __init__\n",
    "        if attribute_name.startswith(\"__\") and attribute_name.endswith(\"__\") and attribute_name != '__init__':\n",
    "            continue\n",
    "        attr = getattr(obj, attribute_name)\n",
    "        if callable(attr):\n",
    "            methods.append(attribute_name)\n",
    "    return methods\n",
    "\n",
    "# Example usage\n",
    "obj = Object(20)\n",
    "print(get_methods(obj))\n"
   ]
  }
 ],
 "metadata": {
  "kernelspec": {
   "display_name": "main",
   "language": "python",
   "name": "python3"
  },
  "language_info": {
   "codemirror_mode": {
    "name": "ipython",
    "version": 3
   },
   "file_extension": ".py",
   "mimetype": "text/x-python",
   "name": "python",
   "nbconvert_exporter": "python",
   "pygments_lexer": "ipython3",
   "version": "3.8.19"
  }
 },
 "nbformat": 4,
 "nbformat_minor": 2
}
