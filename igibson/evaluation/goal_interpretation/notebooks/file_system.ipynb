{
 "cells": [
  {
   "cell_type": "code",
   "execution_count": 2,
   "metadata": {},
   "outputs": [],
   "source": [
    "import os\n",
    "\n",
    "def save_file_names(dir_path, output_file_path):\n",
    "    # List to hold the file names without the .json extension\n",
    "    file_names = []\n",
    "\n",
    "    # Iterate through each file in the directory\n",
    "    for file in os.listdir(dir_path):\n",
    "        if file.endswith(\".json\"):\n",
    "            # Remove the .json extension and add to the list\n",
    "            file_names.append(file[:-5])\n",
    "\n",
    "    # Save the list to a file\n",
    "    with open(output_file_path, 'w') as file:\n",
    "        for name in file_names:\n",
    "            file.write(name + '\\n')\n",
    "\n",
    "# Example usage:\n",
    "# Specify the path to your repository and where to save the output\n",
    "dir_path = '/Users/bryan/Desktop/wkdir/behavior-vllm-eval/igibson/transition_model_v3/data/annotations'\n",
    "output_file_path = '/Users/bryan/Desktop/wkdir/behavior-vllm-eval/igibson/evaluation/goal_interpretation/assets/100_selected_tasks.txt'\n",
    "\n",
    "save_file_names(dir_path, output_file_path)\n"
   ]
  }
 ],
 "metadata": {
  "kernelspec": {
   "display_name": "main",
   "language": "python",
   "name": "python3"
  },
  "language_info": {
   "codemirror_mode": {
    "name": "ipython",
    "version": 3
   },
   "file_extension": ".py",
   "mimetype": "text/x-python",
   "name": "python",
   "nbconvert_exporter": "python",
   "pygments_lexer": "ipython3",
   "version": "3.8.19"
  }
 },
 "nbformat": 4,
 "nbformat_minor": 2
}
