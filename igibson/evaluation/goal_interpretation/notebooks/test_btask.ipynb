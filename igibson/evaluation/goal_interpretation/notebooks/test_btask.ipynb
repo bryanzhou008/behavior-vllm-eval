{
 "cells": [
  {
   "cell_type": "code",
   "execution_count": 1,
   "metadata": {},
   "outputs": [
    {
     "name": "stdout",
     "output_type": "stream",
     "text": [
      "\n",
      " _   _____  _  _\n",
      "(_) / ____|(_)| |\n",
      " _ | |  __  _ | |__   ___   ___   _ __\n",
      "| || | |_ || || '_ \\ / __| / _ \\ | '_ \\\n",
      "| || |__| || || |_) |\\__ \\| (_) || | | |\n",
      "|_| \\_____||_||_.__/ |___/ \\___/ |_| |_|\n",
      "\n"
     ]
    },
    {
     "name": "stderr",
     "output_type": "stream",
     "text": [
      "WARN: Darwin does not support optimized renderer, automatically disabling\n",
      "WARN: Darwin does not support optimized renderer, automatically disabling\n",
      "WARN: Darwin does not support optimized renderer, automatically disabling\n",
      "WARN: Darwin does not support optimized renderer, automatically disabling\n",
      "WARN: Darwin does not support optimized renderer, automatically disabling\n",
      "WARN: Darwin does not support optimized renderer, automatically disabling\n",
      "torch is not available, falling back to rendering to memory (instead of tensor)\n"
     ]
    }
   ],
   "source": [
    "import igibson.object_states as object_states\n",
    "from igibson.tasks.behavior_task import BehaviorTask\n",
    "from igibson.utils.ig_logging import IGLogReader\n",
    "from igibson.utils.utils import parse_config\n",
    "import os\n",
    "import igibson\n",
    "from igibson.envs.igibson_env import iGibsonEnv"
   ]
  },
  {
   "cell_type": "code",
   "execution_count": 5,
   "metadata": {},
   "outputs": [],
   "source": [
    "def get_methods(obj):\n",
    "    methods = []\n",
    "    for attribute_name in dir(obj):\n",
    "        # Skip over dunder methods except for __init__\n",
    "        if attribute_name.startswith(\"__\") and attribute_name.endswith(\"__\") and attribute_name != '__init__':\n",
    "            continue\n",
    "        attr = getattr(obj, attribute_name)\n",
    "        if callable(attr):\n",
    "            methods.append(attribute_name)\n",
    "    return methods\n",
    "\n",
    "\n",
    "def get_instance_attributes(obj):\n",
    "    attrs = []\n",
    "    for attribute_name in dir(obj):\n",
    "        if not attribute_name.startswith('__') and not callable(getattr(obj, attribute_name)):\n",
    "            attrs.append(attribute_name)\n",
    "    return attrs"
   ]
  },
  {
   "cell_type": "code",
   "execution_count": 7,
   "metadata": {},
   "outputs": [],
   "source": [
    "class Env:\n",
    "\n",
    "    def defalt_init(self,demo_path):\n",
    "        task = IGLogReader.read_metadata_attr(demo_path, \"/metadata/atus_activity\")\n",
    "        if task is None:\n",
    "            task = IGLogReader.read_metadata_attr(demo_path, \"/metadata/task_name\")\n",
    "\n",
    "        task_id = IGLogReader.read_metadata_attr(demo_path, \"/metadata/activity_definition\")\n",
    "        if task_id is None:\n",
    "            task_id = IGLogReader.read_metadata_attr(demo_path, \"/metadata/task_instance\")\n",
    "\n",
    "        scene_id = IGLogReader.read_metadata_attr(demo_path, \"/metadata/scene_id\")\n",
    "\n",
    "        config_filename = os.path.join(igibson.configs_path, \"behavior_robot_mp_behavior_task.yaml\")\n",
    "        config = parse_config(config_filename)\n",
    "        \n",
    "\n",
    "        config[\"task\"] = task\n",
    "        config[\"task_id\"] = task_id\n",
    "        config[\"scene_id\"] = scene_id\n",
    "        config[\"robot\"][\"show_visual_head\"] = True\n",
    "        config[\"image_width\"]=512\n",
    "        config[\"image_height\"]=512\n",
    "        self.config = config\n",
    "    \n",
    "            \n",
    "    def __init__(self,demo_path=None) -> None:\n",
    "        self.config=None\n",
    "        if demo_path is not None:\n",
    "            self.defalt_init(demo_path)\n",
    "\n",
    "    "
   ]
  },
  {
   "cell_type": "code",
   "execution_count": 4,
   "metadata": {},
   "outputs": [
    {
     "ename": "FileNotFoundError",
     "evalue": "[Errno 2] No such file or directory: '/Users/bryan/Desktop/wkdir/behavior-vllm-eval/igibson/evaluation/goal_interpretation/assets/100_selected_tasks.txt'",
     "output_type": "error",
     "traceback": [
      "\u001b[0;31m---------------------------------------------------------------------------\u001b[0m",
      "\u001b[0;31mFileNotFoundError\u001b[0m                         Traceback (most recent call last)",
      "Cell \u001b[0;32mIn[4], line 15\u001b[0m\n\u001b[1;32m     13\u001b[0m \u001b[38;5;66;03m# Example usage:\u001b[39;00m\n\u001b[1;32m     14\u001b[0m input_file_path \u001b[38;5;241m=\u001b[39m \u001b[38;5;124m'\u001b[39m\u001b[38;5;124m/Users/bryan/Desktop/wkdir/behavior-vllm-eval/igibson/evaluation/goal_interpretation/assets/100_selected_tasks.txt\u001b[39m\u001b[38;5;124m'\u001b[39m\n\u001b[0;32m---> 15\u001b[0m file_names \u001b[38;5;241m=\u001b[39m \u001b[43mload_file_names\u001b[49m\u001b[43m(\u001b[49m\u001b[43minput_file_path\u001b[49m\u001b[43m)\u001b[49m\n\u001b[1;32m     16\u001b[0m \u001b[38;5;28mprint\u001b[39m(file_names)\n",
      "Cell \u001b[0;32mIn[4], line 6\u001b[0m, in \u001b[0;36mload_file_names\u001b[0;34m(input_file_path)\u001b[0m\n\u001b[1;32m      3\u001b[0m file_names \u001b[38;5;241m=\u001b[39m []\n\u001b[1;32m      5\u001b[0m \u001b[38;5;66;03m# Open the file and read each line\u001b[39;00m\n\u001b[0;32m----> 6\u001b[0m \u001b[38;5;28;01mwith\u001b[39;00m \u001b[38;5;28;43mopen\u001b[39;49m\u001b[43m(\u001b[49m\u001b[43minput_file_path\u001b[49m\u001b[43m,\u001b[49m\u001b[43m \u001b[49m\u001b[38;5;124;43m'\u001b[39;49m\u001b[38;5;124;43mr\u001b[39;49m\u001b[38;5;124;43m'\u001b[39;49m\u001b[43m)\u001b[49m \u001b[38;5;28;01mas\u001b[39;00m file:\n\u001b[1;32m      7\u001b[0m     \u001b[38;5;28;01mfor\u001b[39;00m line \u001b[38;5;129;01min\u001b[39;00m file:\n\u001b[1;32m      8\u001b[0m         \u001b[38;5;66;03m# Remove newline and add .hdf5 extension\u001b[39;00m\n\u001b[1;32m      9\u001b[0m         file_names\u001b[38;5;241m.\u001b[39mappend(line\u001b[38;5;241m.\u001b[39mstrip() \u001b[38;5;241m+\u001b[39m \u001b[38;5;124m'\u001b[39m\u001b[38;5;124m.hdf5\u001b[39m\u001b[38;5;124m'\u001b[39m)\n",
      "File \u001b[0;32m~/miniconda3/envs/main/lib/python3.8/site-packages/IPython/core/interactiveshell.py:284\u001b[0m, in \u001b[0;36m_modified_open\u001b[0;34m(file, *args, **kwargs)\u001b[0m\n\u001b[1;32m    277\u001b[0m \u001b[38;5;28;01mif\u001b[39;00m file \u001b[38;5;129;01min\u001b[39;00m {\u001b[38;5;241m0\u001b[39m, \u001b[38;5;241m1\u001b[39m, \u001b[38;5;241m2\u001b[39m}:\n\u001b[1;32m    278\u001b[0m     \u001b[38;5;28;01mraise\u001b[39;00m \u001b[38;5;167;01mValueError\u001b[39;00m(\n\u001b[1;32m    279\u001b[0m         \u001b[38;5;124mf\u001b[39m\u001b[38;5;124m\"\u001b[39m\u001b[38;5;124mIPython won\u001b[39m\u001b[38;5;124m'\u001b[39m\u001b[38;5;124mt let you open fd=\u001b[39m\u001b[38;5;132;01m{\u001b[39;00mfile\u001b[38;5;132;01m}\u001b[39;00m\u001b[38;5;124m by default \u001b[39m\u001b[38;5;124m\"\u001b[39m\n\u001b[1;32m    280\u001b[0m         \u001b[38;5;124m\"\u001b[39m\u001b[38;5;124mas it is likely to crash IPython. If you know what you are doing, \u001b[39m\u001b[38;5;124m\"\u001b[39m\n\u001b[1;32m    281\u001b[0m         \u001b[38;5;124m\"\u001b[39m\u001b[38;5;124myou can use builtins\u001b[39m\u001b[38;5;124m'\u001b[39m\u001b[38;5;124m open.\u001b[39m\u001b[38;5;124m\"\u001b[39m\n\u001b[1;32m    282\u001b[0m     )\n\u001b[0;32m--> 284\u001b[0m \u001b[38;5;28;01mreturn\u001b[39;00m \u001b[43mio_open\u001b[49m\u001b[43m(\u001b[49m\u001b[43mfile\u001b[49m\u001b[43m,\u001b[49m\u001b[43m \u001b[49m\u001b[38;5;241;43m*\u001b[39;49m\u001b[43margs\u001b[49m\u001b[43m,\u001b[49m\u001b[43m \u001b[49m\u001b[38;5;241;43m*\u001b[39;49m\u001b[38;5;241;43m*\u001b[39;49m\u001b[43mkwargs\u001b[49m\u001b[43m)\u001b[49m\n",
      "\u001b[0;31mFileNotFoundError\u001b[0m: [Errno 2] No such file or directory: '/Users/bryan/Desktop/wkdir/behavior-vllm-eval/igibson/evaluation/goal_interpretation/assets/100_selected_tasks.txt'"
     ]
    }
   ],
   "source": [
    "def load_file_names(input_file_path):\n",
    "    # List to hold the reconstructed file names with .json extension\n",
    "    file_names = []\n",
    "\n",
    "    # Open the file and read each line\n",
    "    with open(input_file_path, 'r') as file:\n",
    "        for line in file:\n",
    "            # Remove newline and add .hdf5 extension\n",
    "            file_names.append(line.strip() + '.hdf5')\n",
    "\n",
    "    return file_names\n",
    "\n",
    "# Example usage:\n",
    "input_file_path = '/Users/bryan/Desktop/wkdir/behavior-vllm-eval/igibson/evaluation/goal_interpretation/assets/100_selected_tasks.txt'\n",
    "file_names = load_file_names(input_file_path)\n",
    "print(file_names)\n"
   ]
  },
  {
   "cell_type": "code",
   "execution_count": 8,
   "metadata": {},
   "outputs": [
    {
     "name": "stderr",
     "output_type": "stream",
     "text": [
      "WARN: Darwin does not support optimized renderer, automatically disabling\n"
     ]
    },
    {
     "name": "stdout",
     "output_type": "stream",
     "text": [
      "\t\t\t\t\t\t\t\t\t\t\t\t\t\t\t\t\t\t\t\t\t\t\t\t\t\t\t\t\t\t\t\t\t\t\t\t\t\t\t\t\t\t\t\t\t\t\t\t\t\t\t\t\t\t\t\t\t\t\t\t\t\t\t\t\t\t\t\t\t\t\t\t\t\t\t\t\t\t\t\t\t\t\t\t\t\t\t\t\t\t\t\t\t\t\t\t\t\t\t\t\t\t\t\t\t\t\t\t\t\t\t\t\t\t\t\t\t\t\t\t\t\t\t\t\t\t\t\t\t\t\t\t\t\t\t\t\t\t\t\t\t\t\t\t\t\t\t\t\t\t\t\t\t\t\t\t\t\t\t\t\t\t\t\t\t\t\t\t\t\t\t\t\t\t\t\t\t\t\t\t\t\t\t\t\t\t\t"
     ]
    },
    {
     "name": "stderr",
     "output_type": "stream",
     "text": [
      "scene quality check: bottom_cabinet_84 has joint that cannot extend for >66%.\n",
      "Robot's cached initial pose has collisions.\n"
     ]
    },
    {
     "name": "stdout",
     "output_type": "stream",
     "text": [
      "b3Warning[examples/Importers/ImportURDFDemo/BulletUrdfImporter.cpp,126]:\n",
      "No inertial data for link, using mass=1, localinertiadiagonal = 1,1,1, identity local inertial frameb3Warning[examples/Importers/ImportURDFDemo/BulletUrdfImporter.cpp,126]:\n",
      "left_hand_shoulderb3Warning[examples/Importers/ImportURDFDemo/BulletUrdfImporter.cpp,126]:\n",
      "No inertial data for link, using mass=1, localinertiadiagonal = 1,1,1, identity local inertial frameb3Warning[examples/Importers/ImportURDFDemo/BulletUrdfImporter.cpp,126]:\n",
      "right_hand_shoulderb3Warning[examples/Importers/ImportURDFDemo/BulletUrdfImporter.cpp,126]:\n",
      "No inertial data for link, using mass=1, localinertiadiagonal = 1,1,1, identity local inertial frameb3Warning[examples/Importers/ImportURDFDemo/BulletUrdfImporter.cpp,126]:\n",
      "neckb3Warning[examples/Importers/ImportURDFDemo/BulletUrdfImporter.cpp,126]:\n",
      "No inertial data for link, using mass=1, localinertiadiagonal = 1,1,1, identity local inertial frameb3Warning[examples/Importers/ImportURDFDemo/BulletUrdfImporter.cpp,126]:\n",
      "eyes"
     ]
    }
   ],
   "source": [
    "demo_path=rb\"/Users/bryan/Desktop/wkdir/behavior-vllm-eval/igibson/data/virtual_reality/assembling_gift_baskets_0_Beechwood_0_int_0_2021-10-26_12-46-37.hdf5\"\n",
    "# demo_path=rb\"/Users/bryan/Desktop/wkdir/behavior-vllm-eval/igibson/data/vr/cleaning_closet_0_Beechwood_1_int_0_2021-08-24_17-15-17.hdf5\"\n",
    "\n",
    "eenv=Env(demo_path=demo_path)\n",
    "igenv = iGibsonEnv(config_file=eenv.config)\n",
    "bt=BehaviorTask(igenv)"
   ]
  },
  {
   "cell_type": "code",
   "execution_count": 15,
   "metadata": {},
   "outputs": [
    {
     "data": {
      "text/plain": [
       "{'basket.n.01_1': 'basket.n.01',\n",
       " 'basket.n.01_2': 'basket.n.01',\n",
       " 'basket.n.01_3': 'basket.n.01',\n",
       " 'basket.n.01_4': 'basket.n.01',\n",
       " 'floor.n.01_1': 'floor.n.01',\n",
       " 'candle.n.01_1': 'candle.n.01',\n",
       " 'candle.n.01_2': 'candle.n.01',\n",
       " 'candle.n.01_3': 'candle.n.01',\n",
       " 'candle.n.01_4': 'candle.n.01',\n",
       " 'cookie.n.01_1': 'cookie.n.01',\n",
       " 'cookie.n.01_2': 'cookie.n.01',\n",
       " 'cookie.n.01_3': 'cookie.n.01',\n",
       " 'cookie.n.01_4': 'cookie.n.01',\n",
       " 'cheese.n.01_1': 'cheese.n.01',\n",
       " 'cheese.n.01_2': 'cheese.n.01',\n",
       " 'cheese.n.01_3': 'cheese.n.01',\n",
       " 'cheese.n.01_4': 'cheese.n.01',\n",
       " 'bow.n.08_1': 'bow.n.08',\n",
       " 'bow.n.08_2': 'bow.n.08',\n",
       " 'bow.n.08_3': 'bow.n.08',\n",
       " 'bow.n.08_4': 'bow.n.08',\n",
       " 'table.n.02_1': 'table.n.02',\n",
       " 'table.n.02_2': 'table.n.02',\n",
       " 'agent.n.01_1': 'agent.n.01'}"
      ]
     },
     "execution_count": 15,
     "metadata": {},
     "output_type": "execute_result"
    }
   ],
   "source": [
    "bt.obj_inst_to_obj_cat"
   ]
  },
  {
   "cell_type": "code",
   "execution_count": 31,
   "metadata": {},
   "outputs": [
    {
     "data": {
      "text/plain": [
       "['_abc_impl', '_initialized', 'obj', 'simulator', 'value']"
      ]
     },
     "execution_count": 31,
     "metadata": {},
     "output_type": "execute_result"
    }
   ],
   "source": [
    "get_instance_attributes(bt.object_scope['basket.n.01_1'].states[igibson.object_states.room_states.InsideRoomTypes])"
   ]
  },
  {
   "cell_type": "code",
   "execution_count": 40,
   "metadata": {},
   "outputs": [
    {
     "name": "stdout",
     "output_type": "stream",
     "text": [
      "basket.n.01_1\n",
      "basket.n.01_2\n",
      "basket.n.01_3\n",
      "basket.n.01_4\n",
      "floor.n.01_1\n",
      "candle.n.01_1\n",
      "candle.n.01_2\n",
      "candle.n.01_3\n",
      "candle.n.01_4\n",
      "cookie.n.01_1\n",
      "cookie.n.01_2\n",
      "cookie.n.01_3\n",
      "cookie.n.01_4\n",
      "cheese.n.01_1\n",
      "cheese.n.01_2\n",
      "cheese.n.01_3\n",
      "cheese.n.01_4\n",
      "bow.n.08_1\n",
      "bow.n.08_2\n",
      "bow.n.08_3\n",
      "bow.n.08_4\n",
      "table.n.02_1\n",
      "table.n.02_2\n",
      "agent.n.01_1\n"
     ]
    }
   ],
   "source": [
    "for i in bt.object_scope:\n",
    "    print(i)"
   ]
  },
  {
   "cell_type": "code",
   "execution_count": 51,
   "metadata": {},
   "outputs": [
    {
     "data": {
      "text/plain": [
       "{igibson.object_states.room_states.InsideRoomTypes: <igibson.object_states.room_states.InsideRoomTypes at 0x43b50d070>,\n",
       " igibson.object_states.adjacency.VerticalAdjacency: <igibson.object_states.adjacency.VerticalAdjacency at 0x43ae76f40>,\n",
       " igibson.object_states.adjacency.HorizontalAdjacency: <igibson.object_states.adjacency.HorizontalAdjacency at 0x43ae76e20>,\n",
       " igibson.object_states.contact_bodies.ContactBodies: <igibson.object_states.contact_bodies.ContactBodies at 0x43ae76d90>,\n",
       " igibson.object_states.aabb.AABB: <igibson.object_states.aabb.AABB at 0x43ae76d30>,\n",
       " igibson.object_states.pose.Pose: <igibson.object_states.pose.Pose at 0x43ae76cd0>,\n",
       " igibson.object_states.dirty.Stained: <igibson.object_states.dirty.Stained at 0x43ae76c70>,\n",
       " igibson.object_states.dirty.Dusty: <igibson.object_states.dirty.Dusty at 0x43ae76be0>,\n",
       " igibson.object_states.robot_related_states.InSameRoomAsRobot: <igibson.object_states.robot_related_states.InSameRoomAsRobot at 0x43ae76b20>,\n",
       " igibson.object_states.under.Under: <igibson.object_states.under.Under at 0x43ae76a90>,\n",
       " igibson.object_states.next_to.NextTo: <igibson.object_states.next_to.NextTo at 0x43ae76a00>,\n",
       " igibson.object_states.robot_related_states.InHandOfRobot: <igibson.object_states.robot_related_states.InHandOfRobot at 0x43ae76970>,\n",
       " igibson.object_states.touching.Touching: <igibson.object_states.touching.Touching at 0x43ae76880>,\n",
       " igibson.object_states.robot_related_states.InFOVOfRobot: <igibson.object_states.robot_related_states.InFOVOfRobot at 0x43ae76850>,\n",
       " igibson.object_states.on_top.OnTop: <igibson.object_states.on_top.OnTop at 0x43ae76f10>,\n",
       " igibson.object_states.on_floor.OnFloor: <igibson.object_states.on_floor.OnFloor at 0x43ae76dc0>,\n",
       " igibson.object_states.inside.Inside: <igibson.object_states.inside.Inside at 0x43ae76910>,\n",
       " igibson.object_states.robot_related_states.InReachOfRobot: <igibson.object_states.robot_related_states.InReachOfRobot at 0x43ae76af0>}"
      ]
     },
     "execution_count": 51,
     "metadata": {},
     "output_type": "execute_result"
    }
   ],
   "source": [
    "bt.object_scope['basket.n.01_1'].states"
   ]
  },
  {
   "cell_type": "code",
   "execution_count": 52,
   "metadata": {},
   "outputs": [
    {
     "name": "stderr",
     "output_type": "stream",
     "text": [
      "WARN: Darwin does not support optimized renderer, automatically disabling\n"
     ]
    },
    {
     "name": "stdout",
     "output_type": "stream",
     "text": [
      "\t\t\t\t\t\t\t\t\t\t\t\t\t\t\t\t\t\t\t\t\t\t\t\t\t\t\t\t\t\t\t\t\t\t\t\t\t\t\t\t\t\t\t\t\t\t\t\t\t\t\t\t\t\t\t\t\t\t\t\t\t\t\t\t\t\t\t\t\t\t\t\t\t\t\t\t\t\t\t\t\t\t\t\t\t\t\t\t\t\t\t\t\t\t\t\t\t\t\t\t\t\t\t\t\t\t\t\t\t\t\t\t\t\t\t\t\t\t\t\t\t\t\t\t\t\t\t\t\t\t\t\t\t\t\t\t\t\t\t\t\t\t\t\t\t\t\t\t\t\t\t\t\t\t\t\t\t\t\t\t\t\t\t\t\t\t\t\t\t\t\t\t\t\t\t\t\t\t\t\t\t\t\t\t\t\t\t"
     ]
    },
    {
     "name": "stderr",
     "output_type": "stream",
     "text": [
      "scene quality check: bottom_cabinet_84 has joint that cannot extend for >66%.\n",
      "Robot's cached initial pose has collisions.\n"
     ]
    },
    {
     "name": "stdout",
     "output_type": "stream",
     "text": [
      "b3Warning[examples/Importers/ImportURDFDemo/BulletUrdfImporter.cpp,126]:\n",
      "No inertial data for link, using mass=1, localinertiadiagonal = 1,1,1, identity local inertial frameb3Warning[examples/Importers/ImportURDFDemo/BulletUrdfImporter.cpp,126]:\n",
      "left_hand_shoulderb3Warning[examples/Importers/ImportURDFDemo/BulletUrdfImporter.cpp,126]:\n",
      "No inertial data for link, using mass=1, localinertiadiagonal = 1,1,1, identity local inertial frameb3Warning[examples/Importers/ImportURDFDemo/BulletUrdfImporter.cpp,126]:\n",
      "right_hand_shoulderb3Warning[examples/Importers/ImportURDFDemo/BulletUrdfImporter.cpp,126]:\n",
      "No inertial data for link, using mass=1, localinertiadiagonal = 1,1,1, identity local inertial frameb3Warning[examples/Importers/ImportURDFDemo/BulletUrdfImporter.cpp,126]:\n",
      "neckb3Warning[examples/Importers/ImportURDFDemo/BulletUrdfImporter.cpp,126]:\n",
      "No inertial data for link, using mass=1, localinertiadiagonal = 1,1,1, identity local inertial frameb3Warning[examples/Importers/ImportURDFDemo/BulletUrdfImporter.cpp,126]:\n",
      "eyesobj_states: dict_keys([<class 'igibson.object_states.room_states.InsideRoomTypes'>, <class 'igibson.object_states.adjacency.VerticalAdjacency'>, <class 'igibson.object_states.adjacency.HorizontalAdjacency'>, <class 'igibson.object_states.contact_bodies.ContactBodies'>, <class 'igibson.object_states.aabb.AABB'>, <class 'igibson.object_states.pose.Pose'>, <class 'igibson.object_states.dirty.Stained'>, <class 'igibson.object_states.dirty.Dusty'>, <class 'igibson.object_states.robot_related_states.InSameRoomAsRobot'>, <class 'igibson.object_states.under.Under'>, <class 'igibson.object_states.next_to.NextTo'>, <class 'igibson.object_states.robot_related_states.InHandOfRobot'>, <class 'igibson.object_states.touching.Touching'>, <class 'igibson.object_states.robot_related_states.InFOVOfRobot'>, <class 'igibson.object_states.on_top.OnTop'>, <class 'igibson.object_states.on_floor.OnFloor'>, <class 'igibson.object_states.inside.Inside'>, <class 'igibson.object_states.robot_related_states.InReachOfRobot'>])\n",
      "all_states: ['InsideRoomTypes', 'VerticalAdjacency', 'HorizontalAdjacency', 'ContactBodies', 'AABB', 'Pose', 'Stained', 'Dusty', 'InSameRoomAsRobot', 'Under', 'NextTo', 'InHandOfRobot', 'Touching', 'InFOVOfRobot', 'OnTop', 'OnFloor', 'Inside', 'InReachOfRobot']\n",
      "node_states: ['Stained', 'Dusty']\n",
      "obj_states: dict_keys([<class 'igibson.object_states.room_states.InsideRoomTypes'>, <class 'igibson.object_states.adjacency.VerticalAdjacency'>, <class 'igibson.object_states.adjacency.HorizontalAdjacency'>, <class 'igibson.object_states.contact_bodies.ContactBodies'>, <class 'igibson.object_states.aabb.AABB'>, <class 'igibson.object_states.pose.Pose'>, <class 'igibson.object_states.dirty.Stained'>, <class 'igibson.object_states.dirty.Dusty'>, <class 'igibson.object_states.robot_related_states.InSameRoomAsRobot'>, <class 'igibson.object_states.under.Under'>, <class 'igibson.object_states.next_to.NextTo'>, <class 'igibson.object_states.robot_related_states.InHandOfRobot'>, <class 'igibson.object_states.touching.Touching'>, <class 'igibson.object_states.robot_related_states.InFOVOfRobot'>, <class 'igibson.object_states.on_top.OnTop'>, <class 'igibson.object_states.on_floor.OnFloor'>, <class 'igibson.object_states.inside.Inside'>, <class 'igibson.object_states.robot_related_states.InReachOfRobot'>])\n",
      "all_states: ['InsideRoomTypes', 'VerticalAdjacency', 'HorizontalAdjacency', 'ContactBodies', 'AABB', 'Pose', 'Stained', 'Dusty', 'InSameRoomAsRobot', 'Under', 'NextTo', 'InHandOfRobot', 'Touching', 'InFOVOfRobot', 'OnTop', 'OnFloor', 'Inside', 'InReachOfRobot']\n",
      "node_states: ['Stained', 'Dusty']\n",
      "obj_states: dict_keys([<class 'igibson.object_states.room_states.InsideRoomTypes'>, <class 'igibson.object_states.adjacency.VerticalAdjacency'>, <class 'igibson.object_states.adjacency.HorizontalAdjacency'>, <class 'igibson.object_states.contact_bodies.ContactBodies'>, <class 'igibson.object_states.aabb.AABB'>, <class 'igibson.object_states.pose.Pose'>, <class 'igibson.object_states.dirty.Stained'>, <class 'igibson.object_states.dirty.Dusty'>, <class 'igibson.object_states.robot_related_states.InSameRoomAsRobot'>, <class 'igibson.object_states.under.Under'>, <class 'igibson.object_states.next_to.NextTo'>, <class 'igibson.object_states.robot_related_states.InHandOfRobot'>, <class 'igibson.object_states.touching.Touching'>, <class 'igibson.object_states.robot_related_states.InFOVOfRobot'>, <class 'igibson.object_states.on_top.OnTop'>, <class 'igibson.object_states.on_floor.OnFloor'>, <class 'igibson.object_states.inside.Inside'>, <class 'igibson.object_states.robot_related_states.InReachOfRobot'>])\n",
      "all_states: ['InsideRoomTypes', 'VerticalAdjacency', 'HorizontalAdjacency', 'ContactBodies', 'AABB', 'Pose', 'Stained', 'Dusty', 'InSameRoomAsRobot', 'Under', 'NextTo', 'InHandOfRobot', 'Touching', 'InFOVOfRobot', 'OnTop', 'OnFloor', 'Inside', 'InReachOfRobot']\n",
      "node_states: ['Stained', 'Dusty']\n",
      "obj_states: dict_keys([<class 'igibson.object_states.room_states.InsideRoomTypes'>, <class 'igibson.object_states.adjacency.VerticalAdjacency'>, <class 'igibson.object_states.adjacency.HorizontalAdjacency'>, <class 'igibson.object_states.contact_bodies.ContactBodies'>, <class 'igibson.object_states.aabb.AABB'>, <class 'igibson.object_states.pose.Pose'>, <class 'igibson.object_states.dirty.Stained'>, <class 'igibson.object_states.dirty.Dusty'>, <class 'igibson.object_states.robot_related_states.InSameRoomAsRobot'>, <class 'igibson.object_states.under.Under'>, <class 'igibson.object_states.next_to.NextTo'>, <class 'igibson.object_states.robot_related_states.InHandOfRobot'>, <class 'igibson.object_states.touching.Touching'>, <class 'igibson.object_states.robot_related_states.InFOVOfRobot'>, <class 'igibson.object_states.on_top.OnTop'>, <class 'igibson.object_states.on_floor.OnFloor'>, <class 'igibson.object_states.inside.Inside'>, <class 'igibson.object_states.robot_related_states.InReachOfRobot'>])\n",
      "all_states: ['InsideRoomTypes', 'VerticalAdjacency', 'HorizontalAdjacency', 'ContactBodies', 'AABB', 'Pose', 'Stained', 'Dusty', 'InSameRoomAsRobot', 'Under', 'NextTo', 'InHandOfRobot', 'Touching', 'InFOVOfRobot', 'OnTop', 'OnFloor', 'Inside', 'InReachOfRobot']\n",
      "node_states: ['Stained', 'Dusty']\n",
      "obj_states: dict_keys([<class 'igibson.object_states.room_states.InsideRoomTypes'>, <class 'igibson.object_states.adjacency.VerticalAdjacency'>, <class 'igibson.object_states.adjacency.HorizontalAdjacency'>, <class 'igibson.object_states.contact_bodies.ContactBodies'>, <class 'igibson.object_states.aabb.AABB'>, <class 'igibson.object_states.pose.Pose'>, <class 'igibson.object_states.dirty.Stained'>, <class 'igibson.object_states.dirty.Dusty'>, <class 'igibson.object_states.robot_related_states.InSameRoomAsRobot'>, <class 'igibson.object_states.under.Under'>, <class 'igibson.object_states.next_to.NextTo'>, <class 'igibson.object_states.robot_related_states.InHandOfRobot'>, <class 'igibson.object_states.touching.Touching'>, <class 'igibson.object_states.robot_related_states.InFOVOfRobot'>, <class 'igibson.object_states.on_top.OnTop'>, <class 'igibson.object_states.on_floor.OnFloor'>, <class 'igibson.object_states.inside.Inside'>, <class 'igibson.object_states.robot_related_states.InReachOfRobot'>])\n",
      "all_states: ['InsideRoomTypes', 'VerticalAdjacency', 'HorizontalAdjacency', 'ContactBodies', 'AABB', 'Pose', 'Stained', 'Dusty', 'InSameRoomAsRobot', 'Under', 'NextTo', 'InHandOfRobot', 'Touching', 'InFOVOfRobot', 'OnTop', 'OnFloor', 'Inside', 'InReachOfRobot']\n",
      "node_states: ['Stained', 'Dusty']\n",
      "obj_states: dict_keys([<class 'igibson.object_states.room_states.InsideRoomTypes'>, <class 'igibson.object_states.adjacency.VerticalAdjacency'>, <class 'igibson.object_states.adjacency.HorizontalAdjacency'>, <class 'igibson.object_states.contact_bodies.ContactBodies'>, <class 'igibson.object_states.aabb.AABB'>, <class 'igibson.object_states.pose.Pose'>, <class 'igibson.object_states.dirty.Dusty'>, <class 'igibson.object_states.robot_related_states.InSameRoomAsRobot'>, <class 'igibson.object_states.under.Under'>, <class 'igibson.object_states.next_to.NextTo'>, <class 'igibson.object_states.robot_related_states.InHandOfRobot'>, <class 'igibson.object_states.touching.Touching'>, <class 'igibson.object_states.robot_related_states.InFOVOfRobot'>, <class 'igibson.object_states.on_top.OnTop'>, <class 'igibson.object_states.on_floor.OnFloor'>, <class 'igibson.object_states.inside.Inside'>, <class 'igibson.object_states.robot_related_states.InReachOfRobot'>])\n",
      "all_states: ['InsideRoomTypes', 'VerticalAdjacency', 'HorizontalAdjacency', 'ContactBodies', 'AABB', 'Pose', 'Dusty', 'InSameRoomAsRobot', 'Under', 'NextTo', 'InHandOfRobot', 'Touching', 'InFOVOfRobot', 'OnTop', 'OnFloor', 'Inside', 'InReachOfRobot']\n",
      "node_states: ['Dusty']\n",
      "obj_states: dict_keys([<class 'igibson.object_states.room_states.InsideRoomTypes'>, <class 'igibson.object_states.adjacency.VerticalAdjacency'>, <class 'igibson.object_states.adjacency.HorizontalAdjacency'>, <class 'igibson.object_states.contact_bodies.ContactBodies'>, <class 'igibson.object_states.aabb.AABB'>, <class 'igibson.object_states.pose.Pose'>, <class 'igibson.object_states.dirty.Dusty'>, <class 'igibson.object_states.robot_related_states.InSameRoomAsRobot'>, <class 'igibson.object_states.under.Under'>, <class 'igibson.object_states.next_to.NextTo'>, <class 'igibson.object_states.robot_related_states.InHandOfRobot'>, <class 'igibson.object_states.touching.Touching'>, <class 'igibson.object_states.robot_related_states.InFOVOfRobot'>, <class 'igibson.object_states.on_top.OnTop'>, <class 'igibson.object_states.on_floor.OnFloor'>, <class 'igibson.object_states.inside.Inside'>, <class 'igibson.object_states.robot_related_states.InReachOfRobot'>])\n",
      "all_states: ['InsideRoomTypes', 'VerticalAdjacency', 'HorizontalAdjacency', 'ContactBodies', 'AABB', 'Pose', 'Dusty', 'InSameRoomAsRobot', 'Under', 'NextTo', 'InHandOfRobot', 'Touching', 'InFOVOfRobot', 'OnTop', 'OnFloor', 'Inside', 'InReachOfRobot']\n",
      "node_states: ['Dusty']\n",
      "obj_states: dict_keys([<class 'igibson.object_states.room_states.InsideRoomTypes'>, <class 'igibson.object_states.adjacency.VerticalAdjacency'>, <class 'igibson.object_states.adjacency.HorizontalAdjacency'>, <class 'igibson.object_states.contact_bodies.ContactBodies'>, <class 'igibson.object_states.aabb.AABB'>, <class 'igibson.object_states.pose.Pose'>, <class 'igibson.object_states.dirty.Dusty'>, <class 'igibson.object_states.robot_related_states.InSameRoomAsRobot'>, <class 'igibson.object_states.under.Under'>, <class 'igibson.object_states.next_to.NextTo'>, <class 'igibson.object_states.robot_related_states.InHandOfRobot'>, <class 'igibson.object_states.touching.Touching'>, <class 'igibson.object_states.robot_related_states.InFOVOfRobot'>, <class 'igibson.object_states.on_top.OnTop'>, <class 'igibson.object_states.on_floor.OnFloor'>, <class 'igibson.object_states.inside.Inside'>, <class 'igibson.object_states.robot_related_states.InReachOfRobot'>])\n",
      "all_states: ['InsideRoomTypes', 'VerticalAdjacency', 'HorizontalAdjacency', 'ContactBodies', 'AABB', 'Pose', 'Dusty', 'InSameRoomAsRobot', 'Under', 'NextTo', 'InHandOfRobot', 'Touching', 'InFOVOfRobot', 'OnTop', 'OnFloor', 'Inside', 'InReachOfRobot']\n",
      "node_states: ['Dusty']\n",
      "obj_states: dict_keys([<class 'igibson.object_states.room_states.InsideRoomTypes'>, <class 'igibson.object_states.adjacency.VerticalAdjacency'>, <class 'igibson.object_states.adjacency.HorizontalAdjacency'>, <class 'igibson.object_states.contact_bodies.ContactBodies'>, <class 'igibson.object_states.aabb.AABB'>, <class 'igibson.object_states.pose.Pose'>, <class 'igibson.object_states.dirty.Dusty'>, <class 'igibson.object_states.robot_related_states.InSameRoomAsRobot'>, <class 'igibson.object_states.under.Under'>, <class 'igibson.object_states.next_to.NextTo'>, <class 'igibson.object_states.robot_related_states.InHandOfRobot'>, <class 'igibson.object_states.touching.Touching'>, <class 'igibson.object_states.robot_related_states.InFOVOfRobot'>, <class 'igibson.object_states.on_top.OnTop'>, <class 'igibson.object_states.on_floor.OnFloor'>, <class 'igibson.object_states.inside.Inside'>, <class 'igibson.object_states.robot_related_states.InReachOfRobot'>])\n",
      "all_states: ['InsideRoomTypes', 'VerticalAdjacency', 'HorizontalAdjacency', 'ContactBodies', 'AABB', 'Pose', 'Dusty', 'InSameRoomAsRobot', 'Under', 'NextTo', 'InHandOfRobot', 'Touching', 'InFOVOfRobot', 'OnTop', 'OnFloor', 'Inside', 'InReachOfRobot']\n",
      "node_states: ['Dusty']\n",
      "obj_states: dict_keys([<class 'igibson.object_states.temperature.Temperature'>, <class 'igibson.object_states.max_temperature.MaxTemperature'>, <class 'igibson.object_states.room_states.InsideRoomTypes'>, <class 'igibson.object_states.adjacency.VerticalAdjacency'>, <class 'igibson.object_states.adjacency.HorizontalAdjacency'>, <class 'igibson.object_states.contact_bodies.ContactBodies'>, <class 'igibson.object_states.aabb.AABB'>, <class 'igibson.object_states.pose.Pose'>, <class 'igibson.object_states.frozen.Frozen'>, <class 'igibson.object_states.cooked.Cooked'>, <class 'igibson.object_states.burnt.Burnt'>, <class 'igibson.object_states.robot_related_states.InSameRoomAsRobot'>, <class 'igibson.object_states.under.Under'>, <class 'igibson.object_states.next_to.NextTo'>, <class 'igibson.object_states.robot_related_states.InHandOfRobot'>, <class 'igibson.object_states.touching.Touching'>, <class 'igibson.object_states.robot_related_states.InFOVOfRobot'>, <class 'igibson.object_states.on_top.OnTop'>, <class 'igibson.object_states.on_floor.OnFloor'>, <class 'igibson.object_states.inside.Inside'>, <class 'igibson.object_states.robot_related_states.InReachOfRobot'>])\n",
      "all_states: ['Temperature', 'MaxTemperature', 'InsideRoomTypes', 'VerticalAdjacency', 'HorizontalAdjacency', 'ContactBodies', 'AABB', 'Pose', 'Frozen', 'Cooked', 'Burnt', 'InSameRoomAsRobot', 'Under', 'NextTo', 'InHandOfRobot', 'Touching', 'InFOVOfRobot', 'OnTop', 'OnFloor', 'Inside', 'InReachOfRobot']\n",
      "node_states: ['Frozen', 'Cooked', 'Burnt']\n",
      "obj_states: dict_keys([<class 'igibson.object_states.temperature.Temperature'>, <class 'igibson.object_states.max_temperature.MaxTemperature'>, <class 'igibson.object_states.room_states.InsideRoomTypes'>, <class 'igibson.object_states.adjacency.VerticalAdjacency'>, <class 'igibson.object_states.adjacency.HorizontalAdjacency'>, <class 'igibson.object_states.contact_bodies.ContactBodies'>, <class 'igibson.object_states.aabb.AABB'>, <class 'igibson.object_states.pose.Pose'>, <class 'igibson.object_states.frozen.Frozen'>, <class 'igibson.object_states.cooked.Cooked'>, <class 'igibson.object_states.burnt.Burnt'>, <class 'igibson.object_states.robot_related_states.InSameRoomAsRobot'>, <class 'igibson.object_states.under.Under'>, <class 'igibson.object_states.next_to.NextTo'>, <class 'igibson.object_states.robot_related_states.InHandOfRobot'>, <class 'igibson.object_states.touching.Touching'>, <class 'igibson.object_states.robot_related_states.InFOVOfRobot'>, <class 'igibson.object_states.on_top.OnTop'>, <class 'igibson.object_states.on_floor.OnFloor'>, <class 'igibson.object_states.inside.Inside'>, <class 'igibson.object_states.robot_related_states.InReachOfRobot'>])\n",
      "all_states: ['Temperature', 'MaxTemperature', 'InsideRoomTypes', 'VerticalAdjacency', 'HorizontalAdjacency', 'ContactBodies', 'AABB', 'Pose', 'Frozen', 'Cooked', 'Burnt', 'InSameRoomAsRobot', 'Under', 'NextTo', 'InHandOfRobot', 'Touching', 'InFOVOfRobot', 'OnTop', 'OnFloor', 'Inside', 'InReachOfRobot']\n",
      "node_states: ['Frozen', 'Cooked', 'Burnt']\n",
      "obj_states: dict_keys([<class 'igibson.object_states.temperature.Temperature'>, <class 'igibson.object_states.max_temperature.MaxTemperature'>, <class 'igibson.object_states.room_states.InsideRoomTypes'>, <class 'igibson.object_states.adjacency.VerticalAdjacency'>, <class 'igibson.object_states.adjacency.HorizontalAdjacency'>, <class 'igibson.object_states.contact_bodies.ContactBodies'>, <class 'igibson.object_states.aabb.AABB'>, <class 'igibson.object_states.pose.Pose'>, <class 'igibson.object_states.frozen.Frozen'>, <class 'igibson.object_states.cooked.Cooked'>, <class 'igibson.object_states.burnt.Burnt'>, <class 'igibson.object_states.robot_related_states.InSameRoomAsRobot'>, <class 'igibson.object_states.under.Under'>, <class 'igibson.object_states.next_to.NextTo'>, <class 'igibson.object_states.robot_related_states.InHandOfRobot'>, <class 'igibson.object_states.touching.Touching'>, <class 'igibson.object_states.robot_related_states.InFOVOfRobot'>, <class 'igibson.object_states.on_top.OnTop'>, <class 'igibson.object_states.on_floor.OnFloor'>, <class 'igibson.object_states.inside.Inside'>, <class 'igibson.object_states.robot_related_states.InReachOfRobot'>])\n",
      "all_states: ['Temperature', 'MaxTemperature', 'InsideRoomTypes', 'VerticalAdjacency', 'HorizontalAdjacency', 'ContactBodies', 'AABB', 'Pose', 'Frozen', 'Cooked', 'Burnt', 'InSameRoomAsRobot', 'Under', 'NextTo', 'InHandOfRobot', 'Touching', 'InFOVOfRobot', 'OnTop', 'OnFloor', 'Inside', 'InReachOfRobot']\n",
      "node_states: ['Frozen', 'Cooked', 'Burnt']\n",
      "obj_states: dict_keys([<class 'igibson.object_states.temperature.Temperature'>, <class 'igibson.object_states.max_temperature.MaxTemperature'>, <class 'igibson.object_states.room_states.InsideRoomTypes'>, <class 'igibson.object_states.adjacency.VerticalAdjacency'>, <class 'igibson.object_states.adjacency.HorizontalAdjacency'>, <class 'igibson.object_states.contact_bodies.ContactBodies'>, <class 'igibson.object_states.aabb.AABB'>, <class 'igibson.object_states.pose.Pose'>, <class 'igibson.object_states.frozen.Frozen'>, <class 'igibson.object_states.cooked.Cooked'>, <class 'igibson.object_states.burnt.Burnt'>, <class 'igibson.object_states.robot_related_states.InSameRoomAsRobot'>, <class 'igibson.object_states.under.Under'>, <class 'igibson.object_states.next_to.NextTo'>, <class 'igibson.object_states.robot_related_states.InHandOfRobot'>, <class 'igibson.object_states.touching.Touching'>, <class 'igibson.object_states.robot_related_states.InFOVOfRobot'>, <class 'igibson.object_states.on_top.OnTop'>, <class 'igibson.object_states.on_floor.OnFloor'>, <class 'igibson.object_states.inside.Inside'>, <class 'igibson.object_states.robot_related_states.InReachOfRobot'>])\n",
      "all_states: ['Temperature', 'MaxTemperature', 'InsideRoomTypes', 'VerticalAdjacency', 'HorizontalAdjacency', 'ContactBodies', 'AABB', 'Pose', 'Frozen', 'Cooked', 'Burnt', 'InSameRoomAsRobot', 'Under', 'NextTo', 'InHandOfRobot', 'Touching', 'InFOVOfRobot', 'OnTop', 'OnFloor', 'Inside', 'InReachOfRobot']\n",
      "node_states: ['Frozen', 'Cooked', 'Burnt']\n",
      "obj_states: dict_keys([<class 'igibson.object_states.temperature.Temperature'>, <class 'igibson.object_states.max_temperature.MaxTemperature'>, <class 'igibson.object_states.room_states.InsideRoomTypes'>, <class 'igibson.object_states.adjacency.VerticalAdjacency'>, <class 'igibson.object_states.adjacency.HorizontalAdjacency'>, <class 'igibson.object_states.contact_bodies.ContactBodies'>, <class 'igibson.object_states.aabb.AABB'>, <class 'igibson.object_states.pose.Pose'>, <class 'igibson.object_states.frozen.Frozen'>, <class 'igibson.object_states.cooked.Cooked'>, <class 'igibson.object_states.burnt.Burnt'>, <class 'igibson.object_states.robot_related_states.InSameRoomAsRobot'>, <class 'igibson.object_states.under.Under'>, <class 'igibson.object_states.next_to.NextTo'>, <class 'igibson.object_states.robot_related_states.InHandOfRobot'>, <class 'igibson.object_states.touching.Touching'>, <class 'igibson.object_states.robot_related_states.InFOVOfRobot'>, <class 'igibson.object_states.on_top.OnTop'>, <class 'igibson.object_states.on_floor.OnFloor'>, <class 'igibson.object_states.inside.Inside'>, <class 'igibson.object_states.robot_related_states.InReachOfRobot'>])\n",
      "all_states: ['Temperature', 'MaxTemperature', 'InsideRoomTypes', 'VerticalAdjacency', 'HorizontalAdjacency', 'ContactBodies', 'AABB', 'Pose', 'Frozen', 'Cooked', 'Burnt', 'InSameRoomAsRobot', 'Under', 'NextTo', 'InHandOfRobot', 'Touching', 'InFOVOfRobot', 'OnTop', 'OnFloor', 'Inside', 'InReachOfRobot']\n",
      "node_states: ['Frozen', 'Cooked', 'Burnt']\n",
      "obj_states: dict_keys([<class 'igibson.object_states.temperature.Temperature'>, <class 'igibson.object_states.max_temperature.MaxTemperature'>, <class 'igibson.object_states.room_states.InsideRoomTypes'>, <class 'igibson.object_states.adjacency.VerticalAdjacency'>, <class 'igibson.object_states.adjacency.HorizontalAdjacency'>, <class 'igibson.object_states.contact_bodies.ContactBodies'>, <class 'igibson.object_states.aabb.AABB'>, <class 'igibson.object_states.pose.Pose'>, <class 'igibson.object_states.frozen.Frozen'>, <class 'igibson.object_states.cooked.Cooked'>, <class 'igibson.object_states.burnt.Burnt'>, <class 'igibson.object_states.robot_related_states.InSameRoomAsRobot'>, <class 'igibson.object_states.under.Under'>, <class 'igibson.object_states.next_to.NextTo'>, <class 'igibson.object_states.robot_related_states.InHandOfRobot'>, <class 'igibson.object_states.touching.Touching'>, <class 'igibson.object_states.robot_related_states.InFOVOfRobot'>, <class 'igibson.object_states.on_top.OnTop'>, <class 'igibson.object_states.on_floor.OnFloor'>, <class 'igibson.object_states.inside.Inside'>, <class 'igibson.object_states.robot_related_states.InReachOfRobot'>])\n",
      "all_states: ['Temperature', 'MaxTemperature', 'InsideRoomTypes', 'VerticalAdjacency', 'HorizontalAdjacency', 'ContactBodies', 'AABB', 'Pose', 'Frozen', 'Cooked', 'Burnt', 'InSameRoomAsRobot', 'Under', 'NextTo', 'InHandOfRobot', 'Touching', 'InFOVOfRobot', 'OnTop', 'OnFloor', 'Inside', 'InReachOfRobot']\n",
      "node_states: ['Frozen', 'Cooked', 'Burnt']\n",
      "obj_states: dict_keys([<class 'igibson.object_states.temperature.Temperature'>, <class 'igibson.object_states.max_temperature.MaxTemperature'>, <class 'igibson.object_states.room_states.InsideRoomTypes'>, <class 'igibson.object_states.adjacency.VerticalAdjacency'>, <class 'igibson.object_states.adjacency.HorizontalAdjacency'>, <class 'igibson.object_states.contact_bodies.ContactBodies'>, <class 'igibson.object_states.aabb.AABB'>, <class 'igibson.object_states.pose.Pose'>, <class 'igibson.object_states.frozen.Frozen'>, <class 'igibson.object_states.cooked.Cooked'>, <class 'igibson.object_states.burnt.Burnt'>, <class 'igibson.object_states.robot_related_states.InSameRoomAsRobot'>, <class 'igibson.object_states.under.Under'>, <class 'igibson.object_states.next_to.NextTo'>, <class 'igibson.object_states.robot_related_states.InHandOfRobot'>, <class 'igibson.object_states.touching.Touching'>, <class 'igibson.object_states.robot_related_states.InFOVOfRobot'>, <class 'igibson.object_states.on_top.OnTop'>, <class 'igibson.object_states.on_floor.OnFloor'>, <class 'igibson.object_states.inside.Inside'>, <class 'igibson.object_states.robot_related_states.InReachOfRobot'>])\n",
      "all_states: ['Temperature', 'MaxTemperature', 'InsideRoomTypes', 'VerticalAdjacency', 'HorizontalAdjacency', 'ContactBodies', 'AABB', 'Pose', 'Frozen', 'Cooked', 'Burnt', 'InSameRoomAsRobot', 'Under', 'NextTo', 'InHandOfRobot', 'Touching', 'InFOVOfRobot', 'OnTop', 'OnFloor', 'Inside', 'InReachOfRobot']\n",
      "node_states: ['Frozen', 'Cooked', 'Burnt']\n",
      "obj_states: dict_keys([<class 'igibson.object_states.temperature.Temperature'>, <class 'igibson.object_states.max_temperature.MaxTemperature'>, <class 'igibson.object_states.room_states.InsideRoomTypes'>, <class 'igibson.object_states.adjacency.VerticalAdjacency'>, <class 'igibson.object_states.adjacency.HorizontalAdjacency'>, <class 'igibson.object_states.contact_bodies.ContactBodies'>, <class 'igibson.object_states.aabb.AABB'>, <class 'igibson.object_states.pose.Pose'>, <class 'igibson.object_states.frozen.Frozen'>, <class 'igibson.object_states.cooked.Cooked'>, <class 'igibson.object_states.burnt.Burnt'>, <class 'igibson.object_states.robot_related_states.InSameRoomAsRobot'>, <class 'igibson.object_states.under.Under'>, <class 'igibson.object_states.next_to.NextTo'>, <class 'igibson.object_states.robot_related_states.InHandOfRobot'>, <class 'igibson.object_states.touching.Touching'>, <class 'igibson.object_states.robot_related_states.InFOVOfRobot'>, <class 'igibson.object_states.on_top.OnTop'>, <class 'igibson.object_states.on_floor.OnFloor'>, <class 'igibson.object_states.inside.Inside'>, <class 'igibson.object_states.robot_related_states.InReachOfRobot'>])\n",
      "all_states: ['Temperature', 'MaxTemperature', 'InsideRoomTypes', 'VerticalAdjacency', 'HorizontalAdjacency', 'ContactBodies', 'AABB', 'Pose', 'Frozen', 'Cooked', 'Burnt', 'InSameRoomAsRobot', 'Under', 'NextTo', 'InHandOfRobot', 'Touching', 'InFOVOfRobot', 'OnTop', 'OnFloor', 'Inside', 'InReachOfRobot']\n",
      "node_states: ['Frozen', 'Cooked', 'Burnt']\n",
      "obj_states: dict_keys([<class 'igibson.object_states.room_states.InsideRoomTypes'>, <class 'igibson.object_states.adjacency.VerticalAdjacency'>, <class 'igibson.object_states.adjacency.HorizontalAdjacency'>, <class 'igibson.object_states.contact_bodies.ContactBodies'>, <class 'igibson.object_states.aabb.AABB'>, <class 'igibson.object_states.pose.Pose'>, <class 'igibson.object_states.dirty.Dusty'>, <class 'igibson.object_states.robot_related_states.InSameRoomAsRobot'>, <class 'igibson.object_states.under.Under'>, <class 'igibson.object_states.next_to.NextTo'>, <class 'igibson.object_states.robot_related_states.InHandOfRobot'>, <class 'igibson.object_states.touching.Touching'>, <class 'igibson.object_states.robot_related_states.InFOVOfRobot'>, <class 'igibson.object_states.on_top.OnTop'>, <class 'igibson.object_states.on_floor.OnFloor'>, <class 'igibson.object_states.inside.Inside'>, <class 'igibson.object_states.robot_related_states.InReachOfRobot'>])\n",
      "all_states: ['InsideRoomTypes', 'VerticalAdjacency', 'HorizontalAdjacency', 'ContactBodies', 'AABB', 'Pose', 'Dusty', 'InSameRoomAsRobot', 'Under', 'NextTo', 'InHandOfRobot', 'Touching', 'InFOVOfRobot', 'OnTop', 'OnFloor', 'Inside', 'InReachOfRobot']\n",
      "node_states: ['Dusty']\n",
      "obj_states: dict_keys([<class 'igibson.object_states.room_states.InsideRoomTypes'>, <class 'igibson.object_states.adjacency.VerticalAdjacency'>, <class 'igibson.object_states.adjacency.HorizontalAdjacency'>, <class 'igibson.object_states.contact_bodies.ContactBodies'>, <class 'igibson.object_states.aabb.AABB'>, <class 'igibson.object_states.pose.Pose'>, <class 'igibson.object_states.dirty.Dusty'>, <class 'igibson.object_states.robot_related_states.InSameRoomAsRobot'>, <class 'igibson.object_states.under.Under'>, <class 'igibson.object_states.next_to.NextTo'>, <class 'igibson.object_states.robot_related_states.InHandOfRobot'>, <class 'igibson.object_states.touching.Touching'>, <class 'igibson.object_states.robot_related_states.InFOVOfRobot'>, <class 'igibson.object_states.on_top.OnTop'>, <class 'igibson.object_states.on_floor.OnFloor'>, <class 'igibson.object_states.inside.Inside'>, <class 'igibson.object_states.robot_related_states.InReachOfRobot'>])\n",
      "all_states: ['InsideRoomTypes', 'VerticalAdjacency', 'HorizontalAdjacency', 'ContactBodies', 'AABB', 'Pose', 'Dusty', 'InSameRoomAsRobot', 'Under', 'NextTo', 'InHandOfRobot', 'Touching', 'InFOVOfRobot', 'OnTop', 'OnFloor', 'Inside', 'InReachOfRobot']\n",
      "node_states: ['Dusty']\n",
      "obj_states: dict_keys([<class 'igibson.object_states.room_states.InsideRoomTypes'>, <class 'igibson.object_states.adjacency.VerticalAdjacency'>, <class 'igibson.object_states.adjacency.HorizontalAdjacency'>, <class 'igibson.object_states.contact_bodies.ContactBodies'>, <class 'igibson.object_states.aabb.AABB'>, <class 'igibson.object_states.pose.Pose'>, <class 'igibson.object_states.dirty.Dusty'>, <class 'igibson.object_states.robot_related_states.InSameRoomAsRobot'>, <class 'igibson.object_states.under.Under'>, <class 'igibson.object_states.next_to.NextTo'>, <class 'igibson.object_states.robot_related_states.InHandOfRobot'>, <class 'igibson.object_states.touching.Touching'>, <class 'igibson.object_states.robot_related_states.InFOVOfRobot'>, <class 'igibson.object_states.on_top.OnTop'>, <class 'igibson.object_states.on_floor.OnFloor'>, <class 'igibson.object_states.inside.Inside'>, <class 'igibson.object_states.robot_related_states.InReachOfRobot'>])\n",
      "all_states: ['InsideRoomTypes', 'VerticalAdjacency', 'HorizontalAdjacency', 'ContactBodies', 'AABB', 'Pose', 'Dusty', 'InSameRoomAsRobot', 'Under', 'NextTo', 'InHandOfRobot', 'Touching', 'InFOVOfRobot', 'OnTop', 'OnFloor', 'Inside', 'InReachOfRobot']\n",
      "node_states: ['Dusty']\n",
      "obj_states: dict_keys([<class 'igibson.object_states.room_states.InsideRoomTypes'>, <class 'igibson.object_states.adjacency.VerticalAdjacency'>, <class 'igibson.object_states.adjacency.HorizontalAdjacency'>, <class 'igibson.object_states.contact_bodies.ContactBodies'>, <class 'igibson.object_states.aabb.AABB'>, <class 'igibson.object_states.pose.Pose'>, <class 'igibson.object_states.dirty.Dusty'>, <class 'igibson.object_states.robot_related_states.InSameRoomAsRobot'>, <class 'igibson.object_states.under.Under'>, <class 'igibson.object_states.next_to.NextTo'>, <class 'igibson.object_states.robot_related_states.InHandOfRobot'>, <class 'igibson.object_states.touching.Touching'>, <class 'igibson.object_states.robot_related_states.InFOVOfRobot'>, <class 'igibson.object_states.on_top.OnTop'>, <class 'igibson.object_states.on_floor.OnFloor'>, <class 'igibson.object_states.inside.Inside'>, <class 'igibson.object_states.robot_related_states.InReachOfRobot'>])\n",
      "all_states: ['InsideRoomTypes', 'VerticalAdjacency', 'HorizontalAdjacency', 'ContactBodies', 'AABB', 'Pose', 'Dusty', 'InSameRoomAsRobot', 'Under', 'NextTo', 'InHandOfRobot', 'Touching', 'InFOVOfRobot', 'OnTop', 'OnFloor', 'Inside', 'InReachOfRobot']\n",
      "node_states: ['Dusty']\n",
      "obj_states: dict_keys([<class 'igibson.object_states.room_states.InsideRoomTypes'>, <class 'igibson.object_states.adjacency.VerticalAdjacency'>, <class 'igibson.object_states.adjacency.HorizontalAdjacency'>, <class 'igibson.object_states.contact_bodies.ContactBodies'>, <class 'igibson.object_states.aabb.AABB'>, <class 'igibson.object_states.pose.Pose'>, <class 'igibson.object_states.dirty.Stained'>, <class 'igibson.object_states.dirty.Dusty'>, <class 'igibson.object_states.robot_related_states.InSameRoomAsRobot'>, <class 'igibson.object_states.under.Under'>, <class 'igibson.object_states.next_to.NextTo'>, <class 'igibson.object_states.robot_related_states.InHandOfRobot'>, <class 'igibson.object_states.touching.Touching'>, <class 'igibson.object_states.robot_related_states.InFOVOfRobot'>, <class 'igibson.object_states.on_top.OnTop'>, <class 'igibson.object_states.on_floor.OnFloor'>, <class 'igibson.object_states.inside.Inside'>, <class 'igibson.object_states.robot_related_states.InReachOfRobot'>])\n",
      "all_states: ['InsideRoomTypes', 'VerticalAdjacency', 'HorizontalAdjacency', 'ContactBodies', 'AABB', 'Pose', 'Stained', 'Dusty', 'InSameRoomAsRobot', 'Under', 'NextTo', 'InHandOfRobot', 'Touching', 'InFOVOfRobot', 'OnTop', 'OnFloor', 'Inside', 'InReachOfRobot']\n",
      "node_states: ['Stained', 'Dusty']\n",
      "obj_states: dict_keys([<class 'igibson.object_states.room_states.InsideRoomTypes'>, <class 'igibson.object_states.adjacency.VerticalAdjacency'>, <class 'igibson.object_states.adjacency.HorizontalAdjacency'>, <class 'igibson.object_states.contact_bodies.ContactBodies'>, <class 'igibson.object_states.aabb.AABB'>, <class 'igibson.object_states.pose.Pose'>, <class 'igibson.object_states.dirty.Stained'>, <class 'igibson.object_states.dirty.Dusty'>, <class 'igibson.object_states.robot_related_states.InSameRoomAsRobot'>, <class 'igibson.object_states.under.Under'>, <class 'igibson.object_states.next_to.NextTo'>, <class 'igibson.object_states.robot_related_states.InHandOfRobot'>, <class 'igibson.object_states.touching.Touching'>, <class 'igibson.object_states.robot_related_states.InFOVOfRobot'>, <class 'igibson.object_states.on_top.OnTop'>, <class 'igibson.object_states.on_floor.OnFloor'>, <class 'igibson.object_states.inside.Inside'>, <class 'igibson.object_states.robot_related_states.InReachOfRobot'>])\n",
      "all_states: ['InsideRoomTypes', 'VerticalAdjacency', 'HorizontalAdjacency', 'ContactBodies', 'AABB', 'Pose', 'Stained', 'Dusty', 'InSameRoomAsRobot', 'Under', 'NextTo', 'InHandOfRobot', 'Touching', 'InFOVOfRobot', 'OnTop', 'OnFloor', 'Inside', 'InReachOfRobot']\n",
      "node_states: ['Stained', 'Dusty']\n",
      "obj_states: dict_keys([<class 'igibson.object_states.room_states.InsideRoomTypes'>, <class 'igibson.object_states.adjacency.VerticalAdjacency'>, <class 'igibson.object_states.adjacency.HorizontalAdjacency'>, <class 'igibson.object_states.contact_bodies.ContactBodies'>, <class 'igibson.object_states.aabb.AABB'>, <class 'igibson.object_states.pose.Pose'>, <class 'igibson.object_states.robot_related_states.ObjectsInFOVOfRobot'>, <class 'abc.IsInUndefined'>, <class 'abc.IsInAuditorium'>, <class 'abc.IsInLibrary'>, <class 'abc.IsInBalcony'>, <class 'abc.IsInUtilityRoom'>, <class 'abc.IsInTelevisionRoom'>, <class 'abc.IsInStorageRoom'>, <class 'abc.IsInStaircase'>, <class 'abc.IsInPlayroom'>, <class 'abc.IsInPantryRoom'>, <class 'abc.IsInLobby'>, <class 'abc.IsInLivingRoom'>, <class 'abc.IsInKitchen'>, <class 'abc.IsInHomeOffice'>, <class 'abc.IsInGarage'>, <class 'abc.IsInExerciseRoom'>, <class 'abc.IsInEmptyRoom'>, <class 'abc.IsInDiningRoom'>, <class 'abc.IsInCorridor'>, <class 'abc.IsInCloset'>, <class 'abc.IsInChildsRoom'>, <class 'abc.IsInBedroom'>, <class 'abc.IsInBathroom'>, <class 'igibson.object_states.robot_related_states.InSameRoomAsRobot'>, <class 'igibson.object_states.under.Under'>, <class 'igibson.object_states.next_to.NextTo'>, <class 'igibson.object_states.robot_related_states.InHandOfRobot'>, <class 'igibson.object_states.touching.Touching'>, <class 'igibson.object_states.robot_related_states.InFOVOfRobot'>, <class 'igibson.object_states.on_top.OnTop'>, <class 'igibson.object_states.on_floor.OnFloor'>, <class 'igibson.object_states.inside.Inside'>, <class 'igibson.object_states.robot_related_states.InReachOfRobot'>])\n",
      "all_states: ['InsideRoomTypes', 'VerticalAdjacency', 'HorizontalAdjacency', 'ContactBodies', 'AABB', 'Pose', 'ObjectsInFOVOfRobot', 'IsInUndefined', 'IsInAuditorium', 'IsInLibrary', 'IsInBalcony', 'IsInUtilityRoom', 'IsInTelevisionRoom', 'IsInStorageRoom', 'IsInStaircase', 'IsInPlayroom', 'IsInPantryRoom', 'IsInLobby', 'IsInLivingRoom', 'IsInKitchen', 'IsInHomeOffice', 'IsInGarage', 'IsInExerciseRoom', 'IsInEmptyRoom', 'IsInDiningRoom', 'IsInCorridor', 'IsInCloset', 'IsInChildsRoom', 'IsInBedroom', 'IsInBathroom', 'InSameRoomAsRobot', 'Under', 'NextTo', 'InHandOfRobot', 'Touching', 'InFOVOfRobot', 'OnTop', 'OnFloor', 'Inside', 'InReachOfRobot']\n",
      "node_states: []\n"
     ]
    },
    {
     "data": {
      "text/plain": [
       "{'basket.n.01_1': ['Stained', 'Dusty'],\n",
       " 'basket.n.01_2': ['Stained', 'Dusty'],\n",
       " 'basket.n.01_3': ['Stained', 'Dusty'],\n",
       " 'basket.n.01_4': ['Stained', 'Dusty'],\n",
       " 'floor.n.01_1': ['Stained', 'Dusty'],\n",
       " 'candle.n.01_1': ['Dusty'],\n",
       " 'candle.n.01_2': ['Dusty'],\n",
       " 'candle.n.01_3': ['Dusty'],\n",
       " 'candle.n.01_4': ['Dusty'],\n",
       " 'cookie.n.01_1': ['Frozen', 'Cooked', 'Burnt'],\n",
       " 'cookie.n.01_2': ['Frozen', 'Cooked', 'Burnt'],\n",
       " 'cookie.n.01_3': ['Frozen', 'Cooked', 'Burnt'],\n",
       " 'cookie.n.01_4': ['Frozen', 'Cooked', 'Burnt'],\n",
       " 'cheese.n.01_1': ['Frozen', 'Cooked', 'Burnt'],\n",
       " 'cheese.n.01_2': ['Frozen', 'Cooked', 'Burnt'],\n",
       " 'cheese.n.01_3': ['Frozen', 'Cooked', 'Burnt'],\n",
       " 'cheese.n.01_4': ['Frozen', 'Cooked', 'Burnt'],\n",
       " 'bow.n.08_1': ['Dusty'],\n",
       " 'bow.n.08_2': ['Dusty'],\n",
       " 'bow.n.08_3': ['Dusty'],\n",
       " 'bow.n.08_4': ['Dusty'],\n",
       " 'table.n.02_1': ['Stained', 'Dusty'],\n",
       " 'table.n.02_2': ['Stained', 'Dusty'],\n",
       " 'agent.n.01_1': []}"
      ]
     },
     "execution_count": 52,
     "metadata": {},
     "output_type": "execute_result"
    }
   ],
   "source": [
    "import json\n",
    "\n",
    "\n",
    "def extract_substring(input_string):\n",
    "    # Finding the last occurrence of '.' and '\\''\n",
    "    last_period_index = input_string.rfind('.')\n",
    "    last_apostrophe_index = input_string.rfind(\"'\")\n",
    "\n",
    "    # Check if both characters are found in the string\n",
    "    if last_period_index == -1 or last_apostrophe_index == -1:\n",
    "        print(\"Either period or apostrophe not found in the string\")\n",
    "        raise\n",
    "\n",
    "    # Extracting the substring between the last period and last apostrophe\n",
    "    # Ensure that period comes before apostrophe for valid extraction\n",
    "    if last_period_index < last_apostrophe_index:\n",
    "        result = input_string[last_period_index + 1:last_apostrophe_index]\n",
    "        return result\n",
    "    else:\n",
    "        print(\"Period occurs after the apostrophe, invalid for extraction.\")\n",
    "        raise\n",
    "\n",
    "\n",
    "\n",
    "object_states_file = \"/Users/bryan/Desktop/wkdir/behavior-vllm-eval/igibson/evaluation/goal_interpretation/assets/object_states.json\"\n",
    "\n",
    "with open(object_states_file, 'r') as json_file:\n",
    "    object_states = json.load(json_file)\n",
    "\n",
    "relevant_node_states = object_states[\"node_states\"]\n",
    "relevant_edge_states = object_states[\"edge_states\"]\n",
    "\n",
    "\n",
    "def get_objects(demo_path):\n",
    "    \n",
    "    objects = {}\n",
    "    \n",
    "    eenv=Env(demo_path=demo_path)\n",
    "    igenv = iGibsonEnv(config_file=eenv.config)\n",
    "    bt=BehaviorTask(igenv)\n",
    "    \n",
    "    for obj_name in bt.object_scope:\n",
    "        obj_states = bt.object_scope[obj_name].states.keys()\n",
    "        all_states = [extract_substring(str(state)) for state in obj_states]\n",
    "        node_states = [state for state in all_states if state in relevant_node_states]\n",
    "        \n",
    "        print(\"obj_states:\", obj_states)\n",
    "        print(\"all_states:\", all_states)\n",
    "        print(\"node_states:\", node_states)\n",
    "        \n",
    "        objects[obj_name] = node_states\n",
    "    \n",
    "    return objects  \n",
    "        \n",
    "\n",
    "\n",
    "get_objects(demo_path)\n",
    "        \n"
   ]
  },
  {
   "cell_type": "code",
   "execution_count": 47,
   "metadata": {},
   "outputs": [
    {
     "name": "stdout",
     "output_type": "stream",
     "text": [
      "basket.n.01_1 <igibson.objects.articulated_object.URDFObject object at 0x43adccaf0>\n",
      "basket.n.01_2 <igibson.objects.articulated_object.URDFObject object at 0x43ae76b50>\n",
      "basket.n.01_3 <igibson.objects.articulated_object.URDFObject object at 0x43b50d760>\n",
      "basket.n.01_4 <igibson.objects.articulated_object.URDFObject object at 0x43b50d2b0>\n",
      "floor.n.01_1 <igibson.object_states.on_floor.RoomFloor object at 0x453f0c1f0>\n",
      "candle.n.01_1 <igibson.objects.articulated_object.URDFObject object at 0x43adcce80>\n",
      "candle.n.01_2 <igibson.objects.articulated_object.URDFObject object at 0x43aea9760>\n",
      "candle.n.01_3 <igibson.objects.articulated_object.URDFObject object at 0x43b3ce130>\n",
      "candle.n.01_4 <igibson.objects.articulated_object.URDFObject object at 0x43b538550>\n",
      "cookie.n.01_1 <igibson.objects.articulated_object.URDFObject object at 0x43b573910>\n",
      "cookie.n.01_2 <igibson.objects.articulated_object.URDFObject object at 0x43b5736d0>\n",
      "cookie.n.01_3 <igibson.objects.articulated_object.URDFObject object at 0x43b089040>\n",
      "cookie.n.01_4 <igibson.objects.articulated_object.URDFObject object at 0x43adcc280>\n",
      "cheese.n.01_1 <igibson.objects.articulated_object.URDFObject object at 0x43ae5a3d0>\n",
      "cheese.n.01_2 <igibson.objects.articulated_object.URDFObject object at 0x43ad13f10>\n",
      "cheese.n.01_3 <igibson.objects.articulated_object.URDFObject object at 0x43aea93d0>\n",
      "cheese.n.01_4 <igibson.objects.articulated_object.URDFObject object at 0x43aea90a0>\n",
      "bow.n.08_1 <igibson.objects.articulated_object.URDFObject object at 0x43ad22910>\n",
      "bow.n.08_2 <igibson.objects.articulated_object.URDFObject object at 0x43acf4f10>\n",
      "bow.n.08_3 <igibson.objects.articulated_object.URDFObject object at 0x43ae5a760>\n",
      "bow.n.08_4 <igibson.objects.articulated_object.URDFObject object at 0x43ae5a2b0>\n",
      "table.n.02_1 <igibson.objects.articulated_object.URDFObject object at 0x43b13afd0>\n",
      "table.n.02_2 <igibson.objects.articulated_object.URDFObject object at 0x43b136340>\n",
      "agent.n.01_1 <igibson.robots.behavior_robot.BehaviorRobot object at 0x43d2bdbb0>\n"
     ]
    }
   ],
   "source": [
    "for name in bt.object_scope:\n",
    "    print(name, bt.object_scope[name])"
   ]
  },
  {
   "cell_type": "code",
   "execution_count": 39,
   "metadata": {},
   "outputs": [
    {
     "name": "stdout",
     "output_type": "stream",
     "text": [
      "InsideRoomTypes\n",
      "VerticalAdjacency\n",
      "HorizontalAdjacency\n",
      "ContactBodies\n",
      "AABB\n",
      "Pose\n",
      "Stained\n",
      "Dusty\n",
      "InSameRoomAsRobot\n",
      "Under\n",
      "NextTo\n",
      "InHandOfRobot\n",
      "Touching\n",
      "InFOVOfRobot\n",
      "OnTop\n",
      "OnFloor\n",
      "Inside\n",
      "InReachOfRobot\n"
     ]
    }
   ],
   "source": [
    "for i in bt.object_scope['basket.n.01_1'].states.keys():\n",
    "    print(extract_substring(str(i)))"
   ]
  },
  {
   "cell_type": "code",
   "execution_count": 38,
   "metadata": {},
   "outputs": [
    {
     "name": "stdout",
     "output_type": "stream",
     "text": [
      " Here's another segment to extract\n"
     ]
    }
   ],
   "source": [
    "def extract_substring(input_string):\n",
    "    # Finding the last occurrence of '.' and '\\''\n",
    "    last_period_index = input_string.rfind('.')\n",
    "    last_apostrophe_index = input_string.rfind(\"'\")\n",
    "\n",
    "    # Check if both characters are found in the string\n",
    "    if last_period_index == -1 or last_apostrophe_index == -1:\n",
    "        print(\"Either period or apostrophe not found in the string\")\n",
    "        raise\n",
    "\n",
    "    # Extracting the substring between the last period and last apostrophe\n",
    "    # Ensure that period comes before apostrophe for valid extraction\n",
    "    if last_period_index < last_apostrophe_index:\n",
    "        result = input_string[last_period_index + 1:last_apostrophe_index]\n",
    "        return result\n",
    "    else:\n",
    "        print(\"Period occurs after the apostrophe, invalid for extraction.\")\n",
    "        raise\n",
    "\n",
    "# Example usage\n",
    "sample_string = \"This is an example. Here's another segment to extract' something else\"\n",
    "print(extract_substring(sample_string))\n"
   ]
  },
  {
   "cell_type": "code",
   "execution_count": 34,
   "metadata": {},
   "outputs": [
    {
     "data": {
      "text/plain": [
       "<igibson.object_states.room_states.InsideRoomTypes at 0x43b50d070>"
      ]
     },
     "execution_count": 34,
     "metadata": {},
     "output_type": "execute_result"
    }
   ],
   "source": [
    "bt.object_scope['basket.n.01_1'].states[igibson.object_states.room_states.InsideRoomTypes]"
   ]
  },
  {
   "cell_type": "code",
   "execution_count": 11,
   "metadata": {},
   "outputs": [
    {
     "data": {
      "text/plain": [
       "['activity_definition',\n",
       " 'backend',\n",
       " 'behavior_activity',\n",
       " 'conds',\n",
       " 'config',\n",
       " 'current_goal_status',\n",
       " 'current_success',\n",
       " 'currently_viewed_index',\n",
       " 'currently_viewed_instruction',\n",
       " 'debug_obj_inst',\n",
       " 'episode_save_dir',\n",
       " 'feedback',\n",
       " 'goal_conditions',\n",
       " 'ground_goal_state_options',\n",
       " 'initial_conditions',\n",
       " 'initial_state',\n",
       " 'initialized',\n",
       " 'instruction_order',\n",
       " 'load_clutter',\n",
       " 'log_writer',\n",
       " 'natural_language_goal_conditions',\n",
       " 'obj_inst_to_obj_cat',\n",
       " 'object_scope',\n",
       " 'object_taxonomy',\n",
       " 'online_sampling',\n",
       " 'previous_goal_status',\n",
       " 'reset_checkpoint_dir',\n",
       " 'reset_checkpoint_idx',\n",
       " 'reward_functions',\n",
       " 'scene',\n",
       " 'state_history',\n",
       " 'task_obs_dim',\n",
       " 'termination_conditions']"
      ]
     },
     "execution_count": 11,
     "metadata": {},
     "output_type": "execute_result"
    }
   ],
   "source": [
    "get_instance_attributes(bt)"
   ]
  },
  {
   "cell_type": "code",
   "execution_count": 10,
   "metadata": {},
   "outputs": [
    {
     "name": "stdout",
     "output_type": "stream",
     "text": [
      "['activity_definition', 'backend', 'behavior_activity', 'conds', 'config', 'current_goal_status', 'current_success', 'currently_viewed_index', 'currently_viewed_instruction', 'debug_obj_inst', 'episode_save_dir', 'feedback', 'goal_conditions', 'ground_goal_state_options', 'initial_conditions', 'initial_state', 'initialized', 'instruction_order', 'load_clutter', 'log_writer', 'natural_language_goal_conditions', 'obj_inst_to_obj_cat', 'object_scope', 'object_taxonomy', 'online_sampling', 'previous_goal_status', 'reset_checkpoint_dir', 'reset_checkpoint_idx', 'reward_functions', 'scene', 'state_history', 'task_obs_dim', 'termination_conditions']\n",
      "\n",
      "\n",
      "['__init__', 'assign_object_scope_with_cache', 'build_non_sampleable_object_scope', 'build_sampling_order', 'check_scene', 'check_success', 'clutter_scene', 'consolidate_room_instance', 'filter_object_scope', 'get_agent', 'get_potential', 'get_reward', 'get_task_obs', 'get_termination', 'group_initial_conditions', 'highlight_task_relevant_objs', 'import_non_colliding_objects', 'import_sampleable_objects', 'initialize', 'iterate_instruction', 'maximum_bipartite_matching', 'parse_non_sampleable_object_room_assignment', 'process_single_condition', 'refresh_overlay', 'reset', 'reset_agent', 'reset_scene', 'reset_variables', 'sample', 'sample_conditions', 'sample_goal_conditions', 'sample_initial_conditions', 'sample_initial_conditions_final', 'save_scene', 'show_instruction', 'step', 'toggle_overlay', 'update_problem']\n"
     ]
    }
   ],
   "source": [
    "print(get_instance_attributes(bt))\n",
    "print(\"\\n\")\n",
    "print(get_methods(bt))\n"
   ]
  },
  {
   "cell_type": "code",
   "execution_count": 7,
   "metadata": {},
   "outputs": [
    {
     "data": {
      "text/plain": [
       "{igibson.object_states.room_states.InsideRoomTypes: <igibson.object_states.room_states.InsideRoomTypes at 0x29d5e3880>,\n",
       " igibson.object_states.adjacency.VerticalAdjacency: <igibson.object_states.adjacency.VerticalAdjacency at 0x29d5a4bb0>,\n",
       " igibson.object_states.adjacency.HorizontalAdjacency: <igibson.object_states.adjacency.HorizontalAdjacency at 0x29d5a45b0>,\n",
       " igibson.object_states.contact_bodies.ContactBodies: <igibson.object_states.contact_bodies.ContactBodies at 0x29d5a4640>,\n",
       " igibson.object_states.aabb.AABB: <igibson.object_states.aabb.AABB at 0x29d5a4d00>,\n",
       " igibson.object_states.pose.Pose: <igibson.object_states.pose.Pose at 0x29d5a49a0>,\n",
       " igibson.object_states.dirty.Stained: <igibson.object_states.dirty.Stained at 0x29d5a4b80>,\n",
       " igibson.object_states.dirty.Dusty: <igibson.object_states.dirty.Dusty at 0x29d5a4af0>,\n",
       " igibson.object_states.on_top.OnTop: <igibson.object_states.on_top.OnTop at 0x29d5a47c0>,\n",
       " igibson.object_states.on_floor.OnFloor: <igibson.object_states.on_floor.OnFloor at 0x29d5a4df0>,\n",
       " igibson.object_states.robot_related_states.InReachOfRobot: <igibson.object_states.robot_related_states.InReachOfRobot at 0x29d5a4ca0>,\n",
       " igibson.object_states.inside.Inside: <igibson.object_states.inside.Inside at 0x29d5a4d90>,\n",
       " igibson.object_states.robot_related_states.InSameRoomAsRobot: <igibson.object_states.robot_related_states.InSameRoomAsRobot at 0x29d5a4fa0>,\n",
       " igibson.object_states.under.Under: <igibson.object_states.under.Under at 0x29d5a4eb0>,\n",
       " igibson.object_states.robot_related_states.InHandOfRobot: <igibson.object_states.robot_related_states.InHandOfRobot at 0x29d5a4f10>,\n",
       " igibson.object_states.next_to.NextTo: <igibson.object_states.next_to.NextTo at 0x29d5a4a30>,\n",
       " igibson.object_states.touching.Touching: <igibson.object_states.touching.Touching at 0x29d5a44f0>,\n",
       " igibson.object_states.robot_related_states.InFOVOfRobot: <igibson.object_states.robot_related_states.InFOVOfRobot at 0x29d5a4550>}"
      ]
     },
     "execution_count": 7,
     "metadata": {},
     "output_type": "execute_result"
    }
   ],
   "source": [
    "bt.object_scope['basket.n.01_1'].states"
   ]
  },
  {
   "cell_type": "code",
   "execution_count": 8,
   "metadata": {},
   "outputs": [
    {
     "data": {
      "text/plain": [
       "<igibson.object_states.dirty.Dusty at 0x29d5a4af0>"
      ]
     },
     "execution_count": 8,
     "metadata": {},
     "output_type": "execute_result"
    }
   ],
   "source": [
    "bt.object_scope['basket.n.01_1'].states[igibson.object_states.dirty.Dusty]"
   ]
  },
  {
   "cell_type": "code",
   "execution_count": 9,
   "metadata": {},
   "outputs": [
    {
     "data": {
      "text/plain": [
       "<igibson.object_states.dirty.Dusty at 0x29d5a4af0>"
      ]
     },
     "execution_count": 9,
     "metadata": {},
     "output_type": "execute_result"
    }
   ],
   "source": [
    "bt.object_scope['basket.n.01_1'].states[igibson.object_states.dirty.Dusty]"
   ]
  },
  {
   "cell_type": "code",
   "execution_count": 10,
   "metadata": {},
   "outputs": [
    {
     "name": "stdout",
     "output_type": "stream",
     "text": [
      "basket.n.01_1 <igibson.objects.articulated_object.URDFObject object at 0x29d6d9c10>\n",
      "basket.n.01_2 <igibson.objects.articulated_object.URDFObject object at 0x29d5e3a90>\n",
      "basket.n.01_3 <igibson.objects.articulated_object.URDFObject object at 0x29d686ee0>\n",
      "basket.n.01_4 <igibson.objects.articulated_object.URDFObject object at 0x29d61e610>\n",
      "floor.n.01_1 <igibson.object_states.on_floor.RoomFloor object at 0x3e67e1ca0>\n",
      "candle.n.01_1 <igibson.objects.articulated_object.URDFObject object at 0x29d891040>\n",
      "candle.n.01_2 <igibson.objects.articulated_object.URDFObject object at 0x29d61e3d0>\n",
      "candle.n.01_3 <igibson.objects.articulated_object.URDFObject object at 0x29d5e3580>\n",
      "candle.n.01_4 <igibson.objects.articulated_object.URDFObject object at 0x29d65cc40>\n",
      "cookie.n.01_1 <igibson.objects.articulated_object.URDFObject object at 0x29d8c1b50>\n",
      "cookie.n.01_2 <igibson.objects.articulated_object.URDFObject object at 0x29d8e54f0>\n",
      "cookie.n.01_3 <igibson.objects.articulated_object.URDFObject object at 0x29d818310>\n",
      "cookie.n.01_4 <igibson.objects.articulated_object.URDFObject object at 0x29d65c760>\n",
      "cheese.n.01_1 <igibson.objects.articulated_object.URDFObject object at 0x29d8d2bb0>\n",
      "cheese.n.01_2 <igibson.objects.articulated_object.URDFObject object at 0x29d8fb7c0>\n",
      "cheese.n.01_3 <igibson.objects.articulated_object.URDFObject object at 0x29d8e5850>\n",
      "cheese.n.01_4 <igibson.objects.articulated_object.URDFObject object at 0x29d8e5610>\n",
      "bow.n.08_1 <igibson.objects.articulated_object.URDFObject object at 0x29d91beb0>\n",
      "bow.n.08_2 <igibson.objects.articulated_object.URDFObject object at 0x29d931eb0>\n",
      "bow.n.08_3 <igibson.objects.articulated_object.URDFObject object at 0x29d891190>\n",
      "bow.n.08_4 <igibson.objects.articulated_object.URDFObject object at 0x29d8c10d0>\n",
      "table.n.02_1 <igibson.objects.articulated_object.URDFObject object at 0x29d190eb0>\n",
      "table.n.02_2 <igibson.objects.articulated_object.URDFObject object at 0x29d14cd00>\n",
      "agent.n.01_1 <igibson.robots.behavior_robot.BehaviorRobot object at 0x36d0c9760>\n"
     ]
    }
   ],
   "source": [
    "for name, obj in bt.object_scope.items():\n",
    "    print(name,obj)"
   ]
  },
  {
   "cell_type": "code",
   "execution_count": 6,
   "metadata": {},
   "outputs": [
    {
     "name": "stdout",
     "output_type": "stream",
     "text": [
      "basket.n.01_1 {<class 'igibson.object_states.adjacency.HorizontalAdjacency'>: <igibson.object_states.adjacency.HorizontalAdjacency object at 0x2b93b05b0>, <class 'igibson.object_states.contact_bodies.ContactBodies'>: <igibson.object_states.contact_bodies.ContactBodies object at 0x2b94b9f10>, <class 'igibson.object_states.aabb.AABB'>: <igibson.object_states.aabb.AABB object at 0x2b94b9e50>, <class 'igibson.object_states.room_states.InsideRoomTypes'>: <igibson.object_states.room_states.InsideRoomTypes object at 0x2b94b9dc0>, <class 'igibson.object_states.pose.Pose'>: <igibson.object_states.pose.Pose object at 0x2b94b9cd0>, <class 'igibson.object_states.adjacency.VerticalAdjacency'>: <igibson.object_states.adjacency.VerticalAdjacency object at 0x2b94b9ca0>, <class 'igibson.object_states.dirty.Stained'>: <igibson.object_states.dirty.Stained object at 0x2b94b9e80>, <class 'igibson.object_states.dirty.Dusty'>: <igibson.object_states.dirty.Dusty object at 0x2b94b9910>, <class 'igibson.object_states.robot_related_states.InHandOfRobot'>: <igibson.object_states.robot_related_states.InHandOfRobot object at 0x2b94b9c10>, <class 'igibson.object_states.touching.Touching'>: <igibson.object_states.touching.Touching object at 0x2b94b9e20>, <class 'igibson.object_states.inside.Inside'>: <igibson.object_states.inside.Inside object at 0x2b94b9c40>, <class 'igibson.object_states.on_top.OnTop'>: <igibson.object_states.on_top.OnTop object at 0x2b94d4070>, <class 'igibson.object_states.on_floor.OnFloor'>: <igibson.object_states.on_floor.OnFloor object at 0x2b94d40d0>, <class 'igibson.object_states.robot_related_states.InReachOfRobot'>: <igibson.object_states.robot_related_states.InReachOfRobot object at 0x2b94d4130>, <class 'igibson.object_states.next_to.NextTo'>: <igibson.object_states.next_to.NextTo object at 0x2b94d4190>, <class 'igibson.object_states.robot_related_states.InSameRoomAsRobot'>: <igibson.object_states.robot_related_states.InSameRoomAsRobot object at 0x2b94d41f0>, <class 'igibson.object_states.robot_related_states.InFOVOfRobot'>: <igibson.object_states.robot_related_states.InFOVOfRobot object at 0x2b94d4250>, <class 'igibson.object_states.under.Under'>: <igibson.object_states.under.Under object at 0x2b94d42b0>}\n",
      "basket.n.01_2 {<class 'igibson.object_states.adjacency.HorizontalAdjacency'>: <igibson.object_states.adjacency.HorizontalAdjacency object at 0x2b94b95b0>, <class 'igibson.object_states.contact_bodies.ContactBodies'>: <igibson.object_states.contact_bodies.ContactBodies object at 0x2b94b94c0>, <class 'igibson.object_states.aabb.AABB'>: <igibson.object_states.aabb.AABB object at 0x2b94b9c70>, <class 'igibson.object_states.room_states.InsideRoomTypes'>: <igibson.object_states.room_states.InsideRoomTypes object at 0x2b94b97f0>, <class 'igibson.object_states.pose.Pose'>: <igibson.object_states.pose.Pose object at 0x2b94b9760>, <class 'igibson.object_states.adjacency.VerticalAdjacency'>: <igibson.object_states.adjacency.VerticalAdjacency object at 0x2b94b99d0>, <class 'igibson.object_states.dirty.Stained'>: <igibson.object_states.dirty.Stained object at 0x2b94b9a00>, <class 'igibson.object_states.dirty.Dusty'>: <igibson.object_states.dirty.Dusty object at 0x2b94b9af0>, <class 'igibson.object_states.robot_related_states.InHandOfRobot'>: <igibson.object_states.robot_related_states.InHandOfRobot object at 0x2b94b9a60>, <class 'igibson.object_states.touching.Touching'>: <igibson.object_states.touching.Touching object at 0x2b94b9b80>, <class 'igibson.object_states.inside.Inside'>: <igibson.object_states.inside.Inside object at 0x2b94b9610>, <class 'igibson.object_states.on_top.OnTop'>: <igibson.object_states.on_top.OnTop object at 0x2b94b9790>, <class 'igibson.object_states.on_floor.OnFloor'>: <igibson.object_states.on_floor.OnFloor object at 0x2b94b9bb0>, <class 'igibson.object_states.robot_related_states.InReachOfRobot'>: <igibson.object_states.robot_related_states.InReachOfRobot object at 0x2b94b9460>, <class 'igibson.object_states.next_to.NextTo'>: <igibson.object_states.next_to.NextTo object at 0x2b94b9580>, <class 'igibson.object_states.robot_related_states.InSameRoomAsRobot'>: <igibson.object_states.robot_related_states.InSameRoomAsRobot object at 0x2b94b9b50>, <class 'igibson.object_states.robot_related_states.InFOVOfRobot'>: <igibson.object_states.robot_related_states.InFOVOfRobot object at 0x2b94b9880>, <class 'igibson.object_states.under.Under'>: <igibson.object_states.under.Under object at 0x2b94b9970>}\n",
      "basket.n.01_3 {<class 'igibson.object_states.adjacency.HorizontalAdjacency'>: <igibson.object_states.adjacency.HorizontalAdjacency object at 0x2b93f8ee0>, <class 'igibson.object_states.contact_bodies.ContactBodies'>: <igibson.object_states.contact_bodies.ContactBodies object at 0x2b94b9fd0>, <class 'igibson.object_states.aabb.AABB'>: <igibson.object_states.aabb.AABB object at 0x2b93463d0>, <class 'igibson.object_states.room_states.InsideRoomTypes'>: <igibson.object_states.room_states.InsideRoomTypes object at 0x2b93461c0>, <class 'igibson.object_states.pose.Pose'>: <igibson.object_states.pose.Pose object at 0x2b9346880>, <class 'igibson.object_states.adjacency.VerticalAdjacency'>: <igibson.object_states.adjacency.VerticalAdjacency object at 0x2b9346700>, <class 'igibson.object_states.dirty.Stained'>: <igibson.object_states.dirty.Stained object at 0x2b93460d0>, <class 'igibson.object_states.dirty.Dusty'>: <igibson.object_states.dirty.Dusty object at 0x2b93468b0>, <class 'igibson.object_states.robot_related_states.InHandOfRobot'>: <igibson.object_states.robot_related_states.InHandOfRobot object at 0x2b93462e0>, <class 'igibson.object_states.touching.Touching'>: <igibson.object_states.touching.Touching object at 0x2b9346280>, <class 'igibson.object_states.inside.Inside'>: <igibson.object_states.inside.Inside object at 0x2b93461f0>, <class 'igibson.object_states.on_top.OnTop'>: <igibson.object_states.on_top.OnTop object at 0x2b93464c0>, <class 'igibson.object_states.on_floor.OnFloor'>: <igibson.object_states.on_floor.OnFloor object at 0x2b9346ee0>, <class 'igibson.object_states.robot_related_states.InReachOfRobot'>: <igibson.object_states.robot_related_states.InReachOfRobot object at 0x2b93463a0>, <class 'igibson.object_states.next_to.NextTo'>: <igibson.object_states.next_to.NextTo object at 0x2b9346310>, <class 'igibson.object_states.robot_related_states.InSameRoomAsRobot'>: <igibson.object_states.robot_related_states.InSameRoomAsRobot object at 0x2b9346040>, <class 'igibson.object_states.robot_related_states.InFOVOfRobot'>: <igibson.object_states.robot_related_states.InFOVOfRobot object at 0x2b9346130>, <class 'igibson.object_states.under.Under'>: <igibson.object_states.under.Under object at 0x2b943b670>}\n",
      "basket.n.01_4 {<class 'igibson.object_states.adjacency.HorizontalAdjacency'>: <igibson.object_states.adjacency.HorizontalAdjacency object at 0x2b934dd00>, <class 'igibson.object_states.contact_bodies.ContactBodies'>: <igibson.object_states.contact_bodies.ContactBodies object at 0x2b9478dc0>, <class 'igibson.object_states.aabb.AABB'>: <igibson.object_states.aabb.AABB object at 0x2b9478c40>, <class 'igibson.object_states.room_states.InsideRoomTypes'>: <igibson.object_states.room_states.InsideRoomTypes object at 0x2b9478e80>, <class 'igibson.object_states.pose.Pose'>: <igibson.object_states.pose.Pose object at 0x2b94d4520>, <class 'igibson.object_states.adjacency.VerticalAdjacency'>: <igibson.object_states.adjacency.VerticalAdjacency object at 0x2b94d44c0>, <class 'igibson.object_states.dirty.Stained'>: <igibson.object_states.dirty.Stained object at 0x2b94d4370>, <class 'igibson.object_states.dirty.Dusty'>: <igibson.object_states.dirty.Dusty object at 0x2b94d4550>, <class 'igibson.object_states.robot_related_states.InHandOfRobot'>: <igibson.object_states.robot_related_states.InHandOfRobot object at 0x2b94d47f0>, <class 'igibson.object_states.touching.Touching'>: <igibson.object_states.touching.Touching object at 0x2b94d4430>, <class 'igibson.object_states.inside.Inside'>: <igibson.object_states.inside.Inside object at 0x2b94d43d0>, <class 'igibson.object_states.on_top.OnTop'>: <igibson.object_states.on_top.OnTop object at 0x2b94d46a0>, <class 'igibson.object_states.on_floor.OnFloor'>: <igibson.object_states.on_floor.OnFloor object at 0x2b94d4640>, <class 'igibson.object_states.robot_related_states.InReachOfRobot'>: <igibson.object_states.robot_related_states.InReachOfRobot object at 0x2b94d48e0>, <class 'igibson.object_states.next_to.NextTo'>: <igibson.object_states.next_to.NextTo object at 0x2b94d4490>, <class 'igibson.object_states.robot_related_states.InSameRoomAsRobot'>: <igibson.object_states.robot_related_states.InSameRoomAsRobot object at 0x2b94d4580>, <class 'igibson.object_states.robot_related_states.InFOVOfRobot'>: <igibson.object_states.robot_related_states.InFOVOfRobot object at 0x2b94d4400>, <class 'igibson.object_states.under.Under'>: <igibson.object_states.under.Under object at 0x2b94d45e0>}\n",
      "floor.n.01_1 {<class 'igibson.object_states.adjacency.HorizontalAdjacency'>: <igibson.object_states.adjacency.HorizontalAdjacency object at 0x2a7a97ac0>, <class 'igibson.object_states.contact_bodies.ContactBodies'>: <igibson.object_states.contact_bodies.ContactBodies object at 0x2a7a97670>, <class 'igibson.object_states.aabb.AABB'>: <igibson.object_states.aabb.AABB object at 0x2a7a97700>, <class 'igibson.object_states.room_states.InsideRoomTypes'>: <igibson.object_states.room_states.InsideRoomTypes object at 0x2a7a97850>, <class 'igibson.object_states.pose.Pose'>: <igibson.object_states.pose.Pose object at 0x2a7a97730>, <class 'igibson.object_states.adjacency.VerticalAdjacency'>: <igibson.object_states.adjacency.VerticalAdjacency object at 0x2a7a978b0>, <class 'igibson.object_states.dirty.Stained'>: <igibson.object_states.dirty.Stained object at 0x2a7a97a00>, <class 'igibson.object_states.dirty.Dusty'>: <igibson.object_states.dirty.Dusty object at 0x2a7a978e0>, <class 'igibson.object_states.robot_related_states.InHandOfRobot'>: <igibson.object_states.robot_related_states.InHandOfRobot object at 0x2a7a97dc0>, <class 'igibson.object_states.touching.Touching'>: <igibson.object_states.touching.Touching object at 0x2a7a976d0>, <class 'igibson.object_states.inside.Inside'>: <igibson.object_states.inside.Inside object at 0x2a7a97c40>, <class 'igibson.object_states.on_top.OnTop'>: <igibson.object_states.on_top.OnTop object at 0x2a7a97880>, <class 'igibson.object_states.on_floor.OnFloor'>: <igibson.object_states.on_floor.OnFloor object at 0x2a7a97e20>, <class 'igibson.object_states.robot_related_states.InReachOfRobot'>: <igibson.object_states.robot_related_states.InReachOfRobot object at 0x2a7a97e80>, <class 'igibson.object_states.next_to.NextTo'>: <igibson.object_states.next_to.NextTo object at 0x2a7a97ee0>, <class 'igibson.object_states.robot_related_states.InSameRoomAsRobot'>: <igibson.object_states.robot_related_states.InSameRoomAsRobot object at 0x2a7a97f40>, <class 'igibson.object_states.robot_related_states.InFOVOfRobot'>: <igibson.object_states.robot_related_states.InFOVOfRobot object at 0x2a7a97fa0>, <class 'igibson.object_states.under.Under'>: <igibson.object_states.under.Under object at 0x2a7b55040>}\n",
      "candle.n.01_1 {<class 'igibson.object_states.adjacency.HorizontalAdjacency'>: <igibson.object_states.adjacency.HorizontalAdjacency object at 0x2b94d4b80>, <class 'igibson.object_states.contact_bodies.ContactBodies'>: <igibson.object_states.contact_bodies.ContactBodies object at 0x2b94d4f70>, <class 'igibson.object_states.aabb.AABB'>: <igibson.object_states.aabb.AABB object at 0x2b94d4ca0>, <class 'igibson.object_states.room_states.InsideRoomTypes'>: <igibson.object_states.room_states.InsideRoomTypes object at 0x2b94d4fd0>, <class 'igibson.object_states.pose.Pose'>: <igibson.object_states.pose.Pose object at 0x2b94d4f10>, <class 'igibson.object_states.adjacency.VerticalAdjacency'>: <igibson.object_states.adjacency.VerticalAdjacency object at 0x2b94d4310>, <class 'igibson.object_states.dirty.Dusty'>: <igibson.object_states.dirty.Dusty object at 0x2b94e6040>, <class 'igibson.object_states.robot_related_states.InHandOfRobot'>: <igibson.object_states.robot_related_states.InHandOfRobot object at 0x2b94e60a0>, <class 'igibson.object_states.touching.Touching'>: <igibson.object_states.touching.Touching object at 0x2b94e6100>, <class 'igibson.object_states.inside.Inside'>: <igibson.object_states.inside.Inside object at 0x2b94e6160>, <class 'igibson.object_states.on_top.OnTop'>: <igibson.object_states.on_top.OnTop object at 0x2b94e61c0>, <class 'igibson.object_states.on_floor.OnFloor'>: <igibson.object_states.on_floor.OnFloor object at 0x2b94e6220>, <class 'igibson.object_states.robot_related_states.InReachOfRobot'>: <igibson.object_states.robot_related_states.InReachOfRobot object at 0x2b94e6280>, <class 'igibson.object_states.next_to.NextTo'>: <igibson.object_states.next_to.NextTo object at 0x2b94e62e0>, <class 'igibson.object_states.robot_related_states.InSameRoomAsRobot'>: <igibson.object_states.robot_related_states.InSameRoomAsRobot object at 0x2b94e6340>, <class 'igibson.object_states.robot_related_states.InFOVOfRobot'>: <igibson.object_states.robot_related_states.InFOVOfRobot object at 0x2b94e63a0>, <class 'igibson.object_states.under.Under'>: <igibson.object_states.under.Under object at 0x2b94e6400>}\n",
      "candle.n.01_2 {<class 'igibson.object_states.adjacency.HorizontalAdjacency'>: <igibson.object_states.adjacency.HorizontalAdjacency object at 0x2b9416d90>, <class 'igibson.object_states.contact_bodies.ContactBodies'>: <igibson.object_states.contact_bodies.ContactBodies object at 0x2b9478d30>, <class 'igibson.object_states.aabb.AABB'>: <igibson.object_states.aabb.AABB object at 0x2b9478190>, <class 'igibson.object_states.room_states.InsideRoomTypes'>: <igibson.object_states.room_states.InsideRoomTypes object at 0x2b9478130>, <class 'igibson.object_states.pose.Pose'>: <igibson.object_states.pose.Pose object at 0x2b9478070>, <class 'igibson.object_states.adjacency.VerticalAdjacency'>: <igibson.object_states.adjacency.VerticalAdjacency object at 0x2b9478f40>, <class 'igibson.object_states.dirty.Dusty'>: <igibson.object_states.dirty.Dusty object at 0x2b94781c0>, <class 'igibson.object_states.robot_related_states.InHandOfRobot'>: <igibson.object_states.robot_related_states.InHandOfRobot object at 0x2b9478f10>, <class 'igibson.object_states.touching.Touching'>: <igibson.object_states.touching.Touching object at 0x2b9478a30>, <class 'igibson.object_states.inside.Inside'>: <igibson.object_states.inside.Inside object at 0x2b94781f0>, <class 'igibson.object_states.on_top.OnTop'>: <igibson.object_states.on_top.OnTop object at 0x2b94780a0>, <class 'igibson.object_states.on_floor.OnFloor'>: <igibson.object_states.on_floor.OnFloor object at 0x2b9478be0>, <class 'igibson.object_states.robot_related_states.InReachOfRobot'>: <igibson.object_states.robot_related_states.InReachOfRobot object at 0x2b9478ee0>, <class 'igibson.object_states.next_to.NextTo'>: <igibson.object_states.next_to.NextTo object at 0x2b94d4a90>, <class 'igibson.object_states.robot_related_states.InSameRoomAsRobot'>: <igibson.object_states.robot_related_states.InSameRoomAsRobot object at 0x2b94d4700>, <class 'igibson.object_states.robot_related_states.InFOVOfRobot'>: <igibson.object_states.robot_related_states.InFOVOfRobot object at 0x2b9455640>, <class 'igibson.object_states.under.Under'>: <igibson.object_states.under.Under object at 0x2b943b940>}\n",
      "candle.n.01_3 {<class 'igibson.object_states.adjacency.HorizontalAdjacency'>: <igibson.object_states.adjacency.HorizontalAdjacency object at 0x2b94b9490>, <class 'igibson.object_states.contact_bodies.ContactBodies'>: <igibson.object_states.contact_bodies.ContactBodies object at 0x2b94e6c40>, <class 'igibson.object_states.aabb.AABB'>: <igibson.object_states.aabb.AABB object at 0x2b94e6b20>, <class 'igibson.object_states.room_states.InsideRoomTypes'>: <igibson.object_states.room_states.InsideRoomTypes object at 0x2b94e6a60>, <class 'igibson.object_states.pose.Pose'>: <igibson.object_states.pose.Pose object at 0x2b94e6a00>, <class 'igibson.object_states.adjacency.VerticalAdjacency'>: <igibson.object_states.adjacency.VerticalAdjacency object at 0x2b94e68b0>, <class 'igibson.object_states.dirty.Dusty'>: <igibson.object_states.dirty.Dusty object at 0x2b94e6460>, <class 'igibson.object_states.robot_related_states.InHandOfRobot'>: <igibson.object_states.robot_related_states.InHandOfRobot object at 0x2b94e69a0>, <class 'igibson.object_states.touching.Touching'>: <igibson.object_states.touching.Touching object at 0x2b94e66d0>, <class 'igibson.object_states.inside.Inside'>: <igibson.object_states.inside.Inside object at 0x2b94e65e0>, <class 'igibson.object_states.on_top.OnTop'>: <igibson.object_states.on_top.OnTop object at 0x2b94e6610>, <class 'igibson.object_states.on_floor.OnFloor'>: <igibson.object_states.on_floor.OnFloor object at 0x2b94e65b0>, <class 'igibson.object_states.robot_related_states.InReachOfRobot'>: <igibson.object_states.robot_related_states.InReachOfRobot object at 0x2b94e6b50>, <class 'igibson.object_states.next_to.NextTo'>: <igibson.object_states.next_to.NextTo object at 0x2b94e67f0>, <class 'igibson.object_states.robot_related_states.InSameRoomAsRobot'>: <igibson.object_states.robot_related_states.InSameRoomAsRobot object at 0x2b94e66a0>, <class 'igibson.object_states.robot_related_states.InFOVOfRobot'>: <igibson.object_states.robot_related_states.InFOVOfRobot object at 0x2b94e6af0>, <class 'igibson.object_states.under.Under'>: <igibson.object_states.under.Under object at 0x2b94e6c70>}\n",
      "candle.n.01_4 {<class 'igibson.object_states.adjacency.HorizontalAdjacency'>: <igibson.object_states.adjacency.HorizontalAdjacency object at 0x2b94e6d60>, <class 'igibson.object_states.contact_bodies.ContactBodies'>: <igibson.object_states.contact_bodies.ContactBodies object at 0x2b94ee850>, <class 'igibson.object_states.aabb.AABB'>: <igibson.object_states.aabb.AABB object at 0x2b94ee730>, <class 'igibson.object_states.room_states.InsideRoomTypes'>: <igibson.object_states.room_states.InsideRoomTypes object at 0x2b94ee670>, <class 'igibson.object_states.pose.Pose'>: <igibson.object_states.pose.Pose object at 0x2b94ee610>, <class 'igibson.object_states.adjacency.VerticalAdjacency'>: <igibson.object_states.adjacency.VerticalAdjacency object at 0x2b94ee5b0>, <class 'igibson.object_states.dirty.Dusty'>: <igibson.object_states.dirty.Dusty object at 0x2b94ee550>, <class 'igibson.object_states.robot_related_states.InHandOfRobot'>: <igibson.object_states.robot_related_states.InHandOfRobot object at 0x2b94ee4c0>, <class 'igibson.object_states.touching.Touching'>: <igibson.object_states.touching.Touching object at 0x2b94ee430>, <class 'igibson.object_states.inside.Inside'>: <igibson.object_states.inside.Inside object at 0x2b94ee340>, <class 'igibson.object_states.on_top.OnTop'>: <igibson.object_states.on_top.OnTop object at 0x2b94ee310>, <class 'igibson.object_states.on_floor.OnFloor'>: <igibson.object_states.on_floor.OnFloor object at 0x2b94ee520>, <class 'igibson.object_states.robot_related_states.InReachOfRobot'>: <igibson.object_states.robot_related_states.InReachOfRobot object at 0x2b94ee760>, <class 'igibson.object_states.next_to.NextTo'>: <igibson.object_states.next_to.NextTo object at 0x2b94ee280>, <class 'igibson.object_states.robot_related_states.InSameRoomAsRobot'>: <igibson.object_states.robot_related_states.InSameRoomAsRobot object at 0x2b94ee2b0>, <class 'igibson.object_states.robot_related_states.InFOVOfRobot'>: <igibson.object_states.robot_related_states.InFOVOfRobot object at 0x2b94ee700>, <class 'igibson.object_states.under.Under'>: <igibson.object_states.under.Under object at 0x2b94ee880>}\n",
      "cookie.n.01_1 {<class 'igibson.object_states.temperature.Temperature'>: <igibson.object_states.temperature.Temperature object at 0x2b94eeb20>, <class 'igibson.object_states.max_temperature.MaxTemperature'>: <igibson.object_states.max_temperature.MaxTemperature object at 0x2b94eef10>, <class 'igibson.object_states.adjacency.HorizontalAdjacency'>: <igibson.object_states.adjacency.HorizontalAdjacency object at 0x2b94eed30>, <class 'igibson.object_states.contact_bodies.ContactBodies'>: <igibson.object_states.contact_bodies.ContactBodies object at 0x2b94ee9d0>, <class 'igibson.object_states.aabb.AABB'>: <igibson.object_states.aabb.AABB object at 0x2b94eee80>, <class 'igibson.object_states.room_states.InsideRoomTypes'>: <igibson.object_states.room_states.InsideRoomTypes object at 0x2b94fc070>, <class 'igibson.object_states.pose.Pose'>: <igibson.object_states.pose.Pose object at 0x2b94fc0d0>, <class 'igibson.object_states.adjacency.VerticalAdjacency'>: <igibson.object_states.adjacency.VerticalAdjacency object at 0x2b94fc130>, <class 'igibson.object_states.frozen.Frozen'>: <igibson.object_states.frozen.Frozen object at 0x2b94fc190>, <class 'igibson.object_states.cooked.Cooked'>: <igibson.object_states.cooked.Cooked object at 0x2b94fc1f0>, <class 'igibson.object_states.burnt.Burnt'>: <igibson.object_states.burnt.Burnt object at 0x2b94fc250>, <class 'igibson.object_states.robot_related_states.InHandOfRobot'>: <igibson.object_states.robot_related_states.InHandOfRobot object at 0x2b94fc2b0>, <class 'igibson.object_states.touching.Touching'>: <igibson.object_states.touching.Touching object at 0x2b94fc310>, <class 'igibson.object_states.inside.Inside'>: <igibson.object_states.inside.Inside object at 0x2b94fc370>, <class 'igibson.object_states.on_top.OnTop'>: <igibson.object_states.on_top.OnTop object at 0x2b94fc3d0>, <class 'igibson.object_states.on_floor.OnFloor'>: <igibson.object_states.on_floor.OnFloor object at 0x2b94fc430>, <class 'igibson.object_states.robot_related_states.InReachOfRobot'>: <igibson.object_states.robot_related_states.InReachOfRobot object at 0x2b94fc490>, <class 'igibson.object_states.next_to.NextTo'>: <igibson.object_states.next_to.NextTo object at 0x2b94fc4f0>, <class 'igibson.object_states.robot_related_states.InSameRoomAsRobot'>: <igibson.object_states.robot_related_states.InSameRoomAsRobot object at 0x2b94fc550>, <class 'igibson.object_states.robot_related_states.InFOVOfRobot'>: <igibson.object_states.robot_related_states.InFOVOfRobot object at 0x2b94fc5b0>, <class 'igibson.object_states.under.Under'>: <igibson.object_states.under.Under object at 0x2b94fc610>}\n",
      "cookie.n.01_2 {<class 'igibson.object_states.temperature.Temperature'>: <igibson.object_states.temperature.Temperature object at 0x2b94ee100>, <class 'igibson.object_states.max_temperature.MaxTemperature'>: <igibson.object_states.max_temperature.MaxTemperature object at 0x2b94eec40>, <class 'igibson.object_states.adjacency.HorizontalAdjacency'>: <igibson.object_states.adjacency.HorizontalAdjacency object at 0x2b94eee20>, <class 'igibson.object_states.contact_bodies.ContactBodies'>: <igibson.object_states.contact_bodies.ContactBodies object at 0x2b94eea60>, <class 'igibson.object_states.aabb.AABB'>: <igibson.object_states.aabb.AABB object at 0x2b94ee9a0>, <class 'igibson.object_states.room_states.InsideRoomTypes'>: <igibson.object_states.room_states.InsideRoomTypes object at 0x2b94eec70>, <class 'igibson.object_states.pose.Pose'>: <igibson.object_states.pose.Pose object at 0x2b94eeaf0>, <class 'igibson.object_states.adjacency.VerticalAdjacency'>: <igibson.object_states.adjacency.VerticalAdjacency object at 0x2b94ee1f0>, <class 'igibson.object_states.frozen.Frozen'>: <igibson.object_states.frozen.Frozen object at 0x2b94ee130>, <class 'igibson.object_states.cooked.Cooked'>: <igibson.object_states.cooked.Cooked object at 0x2b94eed60>, <class 'igibson.object_states.burnt.Burnt'>: <igibson.object_states.burnt.Burnt object at 0x2b94eea30>, <class 'igibson.object_states.robot_related_states.InHandOfRobot'>: <igibson.object_states.robot_related_states.InHandOfRobot object at 0x2b94ee0d0>, <class 'igibson.object_states.touching.Touching'>: <igibson.object_states.touching.Touching object at 0x2b94ee0a0>, <class 'igibson.object_states.inside.Inside'>: <igibson.object_states.inside.Inside object at 0x2b94ee940>, <class 'igibson.object_states.on_top.OnTop'>: <igibson.object_states.on_top.OnTop object at 0x2b94ee040>, <class 'igibson.object_states.on_floor.OnFloor'>: <igibson.object_states.on_floor.OnFloor object at 0x2b94b9940>, <class 'igibson.object_states.robot_related_states.InReachOfRobot'>: <igibson.object_states.robot_related_states.InReachOfRobot object at 0x2b94e6f40>, <class 'igibson.object_states.next_to.NextTo'>: <igibson.object_states.next_to.NextTo object at 0x2b94e6cd0>, <class 'igibson.object_states.robot_related_states.InSameRoomAsRobot'>: <igibson.object_states.robot_related_states.InSameRoomAsRobot object at 0x2b94e6ee0>, <class 'igibson.object_states.robot_related_states.InFOVOfRobot'>: <igibson.object_states.robot_related_states.InFOVOfRobot object at 0x2b94e6d90>, <class 'igibson.object_states.under.Under'>: <igibson.object_states.under.Under object at 0x2b94e6fd0>}\n",
      "cookie.n.01_3 {<class 'igibson.object_states.temperature.Temperature'>: <igibson.object_states.temperature.Temperature object at 0x2b943b730>, <class 'igibson.object_states.max_temperature.MaxTemperature'>: <igibson.object_states.max_temperature.MaxTemperature object at 0x2b94d4c40>, <class 'igibson.object_states.adjacency.HorizontalAdjacency'>: <igibson.object_states.adjacency.HorizontalAdjacency object at 0x2b94d4a30>, <class 'igibson.object_states.contact_bodies.ContactBodies'>: <igibson.object_states.contact_bodies.ContactBodies object at 0x2b94d4e50>, <class 'igibson.object_states.aabb.AABB'>: <igibson.object_states.aabb.AABB object at 0x2b94d4af0>, <class 'igibson.object_states.room_states.InsideRoomTypes'>: <igibson.object_states.room_states.InsideRoomTypes object at 0x2b94d4a00>, <class 'igibson.object_states.pose.Pose'>: <igibson.object_states.pose.Pose object at 0x2b94d4d00>, <class 'igibson.object_states.adjacency.VerticalAdjacency'>: <igibson.object_states.adjacency.VerticalAdjacency object at 0x2b94d4d30>, <class 'igibson.object_states.frozen.Frozen'>: <igibson.object_states.frozen.Frozen object at 0x2b94d4df0>, <class 'igibson.object_states.cooked.Cooked'>: <igibson.object_states.cooked.Cooked object at 0x2b94d4b20>, <class 'igibson.object_states.burnt.Burnt'>: <igibson.object_states.burnt.Burnt object at 0x2b94d4670>, <class 'igibson.object_states.robot_related_states.InHandOfRobot'>: <igibson.object_states.robot_related_states.InHandOfRobot object at 0x2b94fcac0>, <class 'igibson.object_states.touching.Touching'>: <igibson.object_states.touching.Touching object at 0x2b94fcb80>, <class 'igibson.object_states.inside.Inside'>: <igibson.object_states.inside.Inside object at 0x2b94fc940>, <class 'igibson.object_states.on_top.OnTop'>: <igibson.object_states.on_top.OnTop object at 0x2b94fca90>, <class 'igibson.object_states.on_floor.OnFloor'>: <igibson.object_states.on_floor.OnFloor object at 0x2b94fc880>, <class 'igibson.object_states.robot_related_states.InReachOfRobot'>: <igibson.object_states.robot_related_states.InReachOfRobot object at 0x2b94fcc10>, <class 'igibson.object_states.next_to.NextTo'>: <igibson.object_states.next_to.NextTo object at 0x2b94fcc70>, <class 'igibson.object_states.robot_related_states.InSameRoomAsRobot'>: <igibson.object_states.robot_related_states.InSameRoomAsRobot object at 0x2b94fccd0>, <class 'igibson.object_states.robot_related_states.InFOVOfRobot'>: <igibson.object_states.robot_related_states.InFOVOfRobot object at 0x2b94fcd30>, <class 'igibson.object_states.under.Under'>: <igibson.object_states.under.Under object at 0x2b94fcd90>}\n",
      "cookie.n.01_4 {<class 'igibson.object_states.temperature.Temperature'>: <igibson.object_states.temperature.Temperature object at 0x2b94fce20>, <class 'igibson.object_states.max_temperature.MaxTemperature'>: <igibson.object_states.max_temperature.MaxTemperature object at 0x2b9537850>, <class 'igibson.object_states.adjacency.HorizontalAdjacency'>: <igibson.object_states.adjacency.HorizontalAdjacency object at 0x2b95378b0>, <class 'igibson.object_states.contact_bodies.ContactBodies'>: <igibson.object_states.contact_bodies.ContactBodies object at 0x2b9537430>, <class 'igibson.object_states.aabb.AABB'>: <igibson.object_states.aabb.AABB object at 0x2b9537490>, <class 'igibson.object_states.room_states.InsideRoomTypes'>: <igibson.object_states.room_states.InsideRoomTypes object at 0x2b9537550>, <class 'igibson.object_states.pose.Pose'>: <igibson.object_states.pose.Pose object at 0x2b9537610>, <class 'igibson.object_states.adjacency.VerticalAdjacency'>: <igibson.object_states.adjacency.VerticalAdjacency object at 0x2b95376d0>, <class 'igibson.object_states.frozen.Frozen'>: <igibson.object_states.frozen.Frozen object at 0x2b9537730>, <class 'igibson.object_states.cooked.Cooked'>: <igibson.object_states.cooked.Cooked object at 0x2b9537820>, <class 'igibson.object_states.burnt.Burnt'>: <igibson.object_states.burnt.Burnt object at 0x2b9537910>, <class 'igibson.object_states.robot_related_states.InHandOfRobot'>: <igibson.object_states.robot_related_states.InHandOfRobot object at 0x2b95376a0>, <class 'igibson.object_states.touching.Touching'>: <igibson.object_states.touching.Touching object at 0x2b9537460>, <class 'igibson.object_states.inside.Inside'>: <igibson.object_states.inside.Inside object at 0x2b9537760>, <class 'igibson.object_states.on_top.OnTop'>: <igibson.object_states.on_top.OnTop object at 0x2b95375e0>, <class 'igibson.object_states.on_floor.OnFloor'>: <igibson.object_states.on_floor.OnFloor object at 0x2b95377c0>, <class 'igibson.object_states.robot_related_states.InReachOfRobot'>: <igibson.object_states.robot_related_states.InReachOfRobot object at 0x2b95379d0>, <class 'igibson.object_states.next_to.NextTo'>: <igibson.object_states.next_to.NextTo object at 0x2b9537a30>, <class 'igibson.object_states.robot_related_states.InSameRoomAsRobot'>: <igibson.object_states.robot_related_states.InSameRoomAsRobot object at 0x2b9537a90>, <class 'igibson.object_states.robot_related_states.InFOVOfRobot'>: <igibson.object_states.robot_related_states.InFOVOfRobot object at 0x2b9537af0>, <class 'igibson.object_states.under.Under'>: <igibson.object_states.under.Under object at 0x2b9537b50>}\n",
      "cheese.n.01_1 {<class 'igibson.object_states.temperature.Temperature'>: <igibson.object_states.temperature.Temperature object at 0x2b9537d60>, <class 'igibson.object_states.max_temperature.MaxTemperature'>: <igibson.object_states.max_temperature.MaxTemperature object at 0x2b9523610>, <class 'igibson.object_states.adjacency.HorizontalAdjacency'>: <igibson.object_states.adjacency.HorizontalAdjacency object at 0x2b9523670>, <class 'igibson.object_states.contact_bodies.ContactBodies'>: <igibson.object_states.contact_bodies.ContactBodies object at 0x2b95231f0>, <class 'igibson.object_states.aabb.AABB'>: <igibson.object_states.aabb.AABB object at 0x2b9523250>, <class 'igibson.object_states.room_states.InsideRoomTypes'>: <igibson.object_states.room_states.InsideRoomTypes object at 0x2b9523310>, <class 'igibson.object_states.pose.Pose'>: <igibson.object_states.pose.Pose object at 0x2b95233d0>, <class 'igibson.object_states.adjacency.VerticalAdjacency'>: <igibson.object_states.adjacency.VerticalAdjacency object at 0x2b9523490>, <class 'igibson.object_states.frozen.Frozen'>: <igibson.object_states.frozen.Frozen object at 0x2b95234f0>, <class 'igibson.object_states.cooked.Cooked'>: <igibson.object_states.cooked.Cooked object at 0x2b95235e0>, <class 'igibson.object_states.burnt.Burnt'>: <igibson.object_states.burnt.Burnt object at 0x2b95236d0>, <class 'igibson.object_states.robot_related_states.InHandOfRobot'>: <igibson.object_states.robot_related_states.InHandOfRobot object at 0x2b9523460>, <class 'igibson.object_states.touching.Touching'>: <igibson.object_states.touching.Touching object at 0x2b9523220>, <class 'igibson.object_states.inside.Inside'>: <igibson.object_states.inside.Inside object at 0x2b9523520>, <class 'igibson.object_states.on_top.OnTop'>: <igibson.object_states.on_top.OnTop object at 0x2b95233a0>, <class 'igibson.object_states.on_floor.OnFloor'>: <igibson.object_states.on_floor.OnFloor object at 0x2b9523580>, <class 'igibson.object_states.robot_related_states.InReachOfRobot'>: <igibson.object_states.robot_related_states.InReachOfRobot object at 0x2b9523790>, <class 'igibson.object_states.next_to.NextTo'>: <igibson.object_states.next_to.NextTo object at 0x2b95237f0>, <class 'igibson.object_states.robot_related_states.InSameRoomAsRobot'>: <igibson.object_states.robot_related_states.InSameRoomAsRobot object at 0x2b9523850>, <class 'igibson.object_states.robot_related_states.InFOVOfRobot'>: <igibson.object_states.robot_related_states.InFOVOfRobot object at 0x2b95238b0>, <class 'igibson.object_states.under.Under'>: <igibson.object_states.under.Under object at 0x2b9523910>}\n",
      "cheese.n.01_2 {<class 'igibson.object_states.temperature.Temperature'>: <igibson.object_states.temperature.Temperature object at 0x2b9537280>, <class 'igibson.object_states.max_temperature.MaxTemperature'>: <igibson.object_states.max_temperature.MaxTemperature object at 0x2b9537100>, <class 'igibson.object_states.adjacency.HorizontalAdjacency'>: <igibson.object_states.adjacency.HorizontalAdjacency object at 0x2b9537e20>, <class 'igibson.object_states.contact_bodies.ContactBodies'>: <igibson.object_states.contact_bodies.ContactBodies object at 0x2b9537bb0>, <class 'igibson.object_states.aabb.AABB'>: <igibson.object_states.aabb.AABB object at 0x2b9537cd0>, <class 'igibson.object_states.room_states.InsideRoomTypes'>: <igibson.object_states.room_states.InsideRoomTypes object at 0x2b9537dc0>, <class 'igibson.object_states.pose.Pose'>: <igibson.object_states.pose.Pose object at 0x2b9537070>, <class 'igibson.object_states.adjacency.VerticalAdjacency'>: <igibson.object_states.adjacency.VerticalAdjacency object at 0x2b9537340>, <class 'igibson.object_states.frozen.Frozen'>: <igibson.object_states.frozen.Frozen object at 0x2b9537250>, <class 'igibson.object_states.cooked.Cooked'>: <igibson.object_states.cooked.Cooked object at 0x2b95371c0>, <class 'igibson.object_states.burnt.Burnt'>: <igibson.object_states.burnt.Burnt object at 0x2b95377f0>, <class 'igibson.object_states.robot_related_states.InHandOfRobot'>: <igibson.object_states.robot_related_states.InHandOfRobot object at 0x2b9537d00>, <class 'igibson.object_states.touching.Touching'>: <igibson.object_states.touching.Touching object at 0x2b95372b0>, <class 'igibson.object_states.inside.Inside'>: <igibson.object_states.inside.Inside object at 0x2b9537fd0>, <class 'igibson.object_states.on_top.OnTop'>: <igibson.object_states.on_top.OnTop object at 0x2b95371f0>, <class 'igibson.object_states.on_floor.OnFloor'>: <igibson.object_states.on_floor.OnFloor object at 0x2b9537400>, <class 'igibson.object_states.robot_related_states.InReachOfRobot'>: <igibson.object_states.robot_related_states.InReachOfRobot object at 0x2b94d4880>, <class 'igibson.object_states.next_to.NextTo'>: <igibson.object_states.next_to.NextTo object at 0x2b94d4cd0>, <class 'igibson.object_states.robot_related_states.InSameRoomAsRobot'>: <igibson.object_states.robot_related_states.InSameRoomAsRobot object at 0x2b94e6940>, <class 'igibson.object_states.robot_related_states.InFOVOfRobot'>: <igibson.object_states.robot_related_states.InFOVOfRobot object at 0x2b94e6880>, <class 'igibson.object_states.under.Under'>: <igibson.object_states.under.Under object at 0x2b94e6be0>}\n",
      "cheese.n.01_3 {<class 'igibson.object_states.temperature.Temperature'>: <igibson.object_states.temperature.Temperature object at 0x2b943ba90>, <class 'igibson.object_states.max_temperature.MaxTemperature'>: <igibson.object_states.max_temperature.MaxTemperature object at 0x2b9523070>, <class 'igibson.object_states.adjacency.HorizontalAdjacency'>: <igibson.object_states.adjacency.HorizontalAdjacency object at 0x2b9523cd0>, <class 'igibson.object_states.contact_bodies.ContactBodies'>: <igibson.object_states.contact_bodies.ContactBodies object at 0x2b9523f10>, <class 'igibson.object_states.aabb.AABB'>: <igibson.object_states.aabb.AABB object at 0x2b9523d90>, <class 'igibson.object_states.room_states.InsideRoomTypes'>: <igibson.object_states.room_states.InsideRoomTypes object at 0x2b9523100>, <class 'igibson.object_states.pose.Pose'>: <igibson.object_states.pose.Pose object at 0x2b95230a0>, <class 'igibson.object_states.adjacency.VerticalAdjacency'>: <igibson.object_states.adjacency.VerticalAdjacency object at 0x2b9535040>, <class 'igibson.object_states.frozen.Frozen'>: <igibson.object_states.frozen.Frozen object at 0x2b95350a0>, <class 'igibson.object_states.cooked.Cooked'>: <igibson.object_states.cooked.Cooked object at 0x2b9535100>, <class 'igibson.object_states.burnt.Burnt'>: <igibson.object_states.burnt.Burnt object at 0x2b9535160>, <class 'igibson.object_states.robot_related_states.InHandOfRobot'>: <igibson.object_states.robot_related_states.InHandOfRobot object at 0x2b95351c0>, <class 'igibson.object_states.touching.Touching'>: <igibson.object_states.touching.Touching object at 0x2b9535220>, <class 'igibson.object_states.inside.Inside'>: <igibson.object_states.inside.Inside object at 0x2b9535280>, <class 'igibson.object_states.on_top.OnTop'>: <igibson.object_states.on_top.OnTop object at 0x2b95352e0>, <class 'igibson.object_states.on_floor.OnFloor'>: <igibson.object_states.on_floor.OnFloor object at 0x2b9535340>, <class 'igibson.object_states.robot_related_states.InReachOfRobot'>: <igibson.object_states.robot_related_states.InReachOfRobot object at 0x2b95353a0>, <class 'igibson.object_states.next_to.NextTo'>: <igibson.object_states.next_to.NextTo object at 0x2b9535400>, <class 'igibson.object_states.robot_related_states.InSameRoomAsRobot'>: <igibson.object_states.robot_related_states.InSameRoomAsRobot object at 0x2b9535460>, <class 'igibson.object_states.robot_related_states.InFOVOfRobot'>: <igibson.object_states.robot_related_states.InFOVOfRobot object at 0x2b95354c0>, <class 'igibson.object_states.under.Under'>: <igibson.object_states.under.Under object at 0x2b9535520>}\n",
      "cheese.n.01_4 {<class 'igibson.object_states.temperature.Temperature'>: <igibson.object_states.temperature.Temperature object at 0x2b9535880>, <class 'igibson.object_states.max_temperature.MaxTemperature'>: <igibson.object_states.max_temperature.MaxTemperature object at 0x2b9535fa0>, <class 'igibson.object_states.adjacency.HorizontalAdjacency'>: <igibson.object_states.adjacency.HorizontalAdjacency object at 0x2b9535d30>, <class 'igibson.object_states.contact_bodies.ContactBodies'>: <igibson.object_states.contact_bodies.ContactBodies object at 0x2b9535b80>, <class 'igibson.object_states.aabb.AABB'>: <igibson.object_states.aabb.AABB object at 0x2b9535c40>, <class 'igibson.object_states.room_states.InsideRoomTypes'>: <igibson.object_states.room_states.InsideRoomTypes object at 0x2b9535d00>, <class 'igibson.object_states.pose.Pose'>: <igibson.object_states.pose.Pose object at 0x2b9535d90>, <class 'igibson.object_states.adjacency.VerticalAdjacency'>: <igibson.object_states.adjacency.VerticalAdjacency object at 0x2b9535e80>, <class 'igibson.object_states.frozen.Frozen'>: <igibson.object_states.frozen.Frozen object at 0x2b9535f10>, <class 'igibson.object_states.cooked.Cooked'>: <igibson.object_states.cooked.Cooked object at 0x2b9535cd0>, <class 'igibson.object_states.burnt.Burnt'>: <igibson.object_states.burnt.Burnt object at 0x2b9535df0>, <class 'igibson.object_states.robot_related_states.InHandOfRobot'>: <igibson.object_states.robot_related_states.InHandOfRobot object at 0x2b9535f40>, <class 'igibson.object_states.touching.Touching'>: <igibson.object_states.touching.Touching object at 0x2b9535e50>, <class 'igibson.object_states.inside.Inside'>: <igibson.object_states.inside.Inside object at 0x2b9542040>, <class 'igibson.object_states.on_top.OnTop'>: <igibson.object_states.on_top.OnTop object at 0x2b95420a0>, <class 'igibson.object_states.on_floor.OnFloor'>: <igibson.object_states.on_floor.OnFloor object at 0x2b9542100>, <class 'igibson.object_states.robot_related_states.InReachOfRobot'>: <igibson.object_states.robot_related_states.InReachOfRobot object at 0x2b9542160>, <class 'igibson.object_states.next_to.NextTo'>: <igibson.object_states.next_to.NextTo object at 0x2b95421c0>, <class 'igibson.object_states.robot_related_states.InSameRoomAsRobot'>: <igibson.object_states.robot_related_states.InSameRoomAsRobot object at 0x2b9542220>, <class 'igibson.object_states.robot_related_states.InFOVOfRobot'>: <igibson.object_states.robot_related_states.InFOVOfRobot object at 0x2b9542280>, <class 'igibson.object_states.under.Under'>: <igibson.object_states.under.Under object at 0x2b95422e0>}\n",
      "bow.n.08_1 {<class 'igibson.object_states.adjacency.HorizontalAdjacency'>: <igibson.object_states.adjacency.HorizontalAdjacency object at 0x2b9542640>, <class 'igibson.object_states.contact_bodies.ContactBodies'>: <igibson.object_states.contact_bodies.ContactBodies object at 0x2b9542d90>, <class 'igibson.object_states.aabb.AABB'>: <igibson.object_states.aabb.AABB object at 0x2b9542df0>, <class 'igibson.object_states.room_states.InsideRoomTypes'>: <igibson.object_states.room_states.InsideRoomTypes object at 0x2b9542970>, <class 'igibson.object_states.pose.Pose'>: <igibson.object_states.pose.Pose object at 0x2b95429d0>, <class 'igibson.object_states.adjacency.VerticalAdjacency'>: <igibson.object_states.adjacency.VerticalAdjacency object at 0x2b9542a90>, <class 'igibson.object_states.dirty.Dusty'>: <igibson.object_states.dirty.Dusty object at 0x2b9542b50>, <class 'igibson.object_states.robot_related_states.InHandOfRobot'>: <igibson.object_states.robot_related_states.InHandOfRobot object at 0x2b9542c10>, <class 'igibson.object_states.touching.Touching'>: <igibson.object_states.touching.Touching object at 0x2b9542c70>, <class 'igibson.object_states.inside.Inside'>: <igibson.object_states.inside.Inside object at 0x2b9542d60>, <class 'igibson.object_states.on_top.OnTop'>: <igibson.object_states.on_top.OnTop object at 0x2b9542e50>, <class 'igibson.object_states.on_floor.OnFloor'>: <igibson.object_states.on_floor.OnFloor object at 0x2b9542be0>, <class 'igibson.object_states.robot_related_states.InReachOfRobot'>: <igibson.object_states.robot_related_states.InReachOfRobot object at 0x2b95429a0>, <class 'igibson.object_states.next_to.NextTo'>: <igibson.object_states.next_to.NextTo object at 0x2b9542ca0>, <class 'igibson.object_states.robot_related_states.InSameRoomAsRobot'>: <igibson.object_states.robot_related_states.InSameRoomAsRobot object at 0x2b9542b20>, <class 'igibson.object_states.robot_related_states.InFOVOfRobot'>: <igibson.object_states.robot_related_states.InFOVOfRobot object at 0x2b9542d00>, <class 'igibson.object_states.under.Under'>: <igibson.object_states.under.Under object at 0x2b9542f10>}\n",
      "bow.n.08_2 {<class 'igibson.object_states.adjacency.HorizontalAdjacency'>: <igibson.object_states.adjacency.HorizontalAdjacency object at 0x2b9542730>, <class 'igibson.object_states.contact_bodies.ContactBodies'>: <igibson.object_states.contact_bodies.ContactBodies object at 0x2b9542790>, <class 'igibson.object_states.aabb.AABB'>: <igibson.object_states.aabb.AABB object at 0x2b95425e0>, <class 'igibson.object_states.room_states.InsideRoomTypes'>: <igibson.object_states.room_states.InsideRoomTypes object at 0x2b9542460>, <class 'igibson.object_states.pose.Pose'>: <igibson.object_states.pose.Pose object at 0x2b9542880>, <class 'igibson.object_states.adjacency.VerticalAdjacency'>: <igibson.object_states.adjacency.VerticalAdjacency object at 0x2b95427f0>, <class 'igibson.object_states.dirty.Dusty'>: <igibson.object_states.dirty.Dusty object at 0x2b95426d0>, <class 'igibson.object_states.robot_related_states.InHandOfRobot'>: <igibson.object_states.robot_related_states.InHandOfRobot object at 0x2b9542490>, <class 'igibson.object_states.touching.Touching'>: <igibson.object_states.touching.Touching object at 0x2b95425b0>, <class 'igibson.object_states.inside.Inside'>: <igibson.object_states.inside.Inside object at 0x2b9542520>, <class 'igibson.object_states.on_top.OnTop'>: <igibson.object_states.on_top.OnTop object at 0x2b9535a30>, <class 'igibson.object_states.on_floor.OnFloor'>: <igibson.object_states.on_floor.OnFloor object at 0x2b95357f0>, <class 'igibson.object_states.robot_related_states.InReachOfRobot'>: <igibson.object_states.robot_related_states.InReachOfRobot object at 0x2b9535580>, <class 'igibson.object_states.next_to.NextTo'>: <igibson.object_states.next_to.NextTo object at 0x2b9535850>, <class 'igibson.object_states.robot_related_states.InSameRoomAsRobot'>: <igibson.object_states.robot_related_states.InSameRoomAsRobot object at 0x2b95356d0>, <class 'igibson.object_states.robot_related_states.InFOVOfRobot'>: <igibson.object_states.robot_related_states.InFOVOfRobot object at 0x2b9535940>, <class 'igibson.object_states.under.Under'>: <igibson.object_states.under.Under object at 0x2b9535700>}\n",
      "bow.n.08_3 {<class 'igibson.object_states.adjacency.HorizontalAdjacency'>: <igibson.object_states.adjacency.HorizontalAdjacency object at 0x2b943b970>, <class 'igibson.object_states.contact_bodies.ContactBodies'>: <igibson.object_states.contact_bodies.ContactBodies object at 0x2b9537220>, <class 'igibson.object_states.aabb.AABB'>: <igibson.object_states.aabb.AABB object at 0x2b94e6700>, <class 'igibson.object_states.room_states.InsideRoomTypes'>: <igibson.object_states.room_states.InsideRoomTypes object at 0x2b94e6970>, <class 'igibson.object_states.pose.Pose'>: <igibson.object_states.pose.Pose object at 0x2b94e6730>, <class 'igibson.object_states.adjacency.VerticalAdjacency'>: <igibson.object_states.adjacency.VerticalAdjacency object at 0x2b9523dc0>, <class 'igibson.object_states.dirty.Dusty'>: <igibson.object_states.dirty.Dusty object at 0x2b954f730>, <class 'igibson.object_states.robot_related_states.InHandOfRobot'>: <igibson.object_states.robot_related_states.InHandOfRobot object at 0x2b954f6d0>, <class 'igibson.object_states.touching.Touching'>: <igibson.object_states.touching.Touching object at 0x2b954f610>, <class 'igibson.object_states.inside.Inside'>: <igibson.object_states.inside.Inside object at 0x2b954f580>, <class 'igibson.object_states.on_top.OnTop'>: <igibson.object_states.on_top.OnTop object at 0x2b954f520>, <class 'igibson.object_states.on_floor.OnFloor'>: <igibson.object_states.on_floor.OnFloor object at 0x2b954f220>, <class 'igibson.object_states.robot_related_states.InReachOfRobot'>: <igibson.object_states.robot_related_states.InReachOfRobot object at 0x2b954f0a0>, <class 'igibson.object_states.next_to.NextTo'>: <igibson.object_states.next_to.NextTo object at 0x2b954f190>, <class 'igibson.object_states.robot_related_states.InSameRoomAsRobot'>: <igibson.object_states.robot_related_states.InSameRoomAsRobot object at 0x2b954f6a0>, <class 'igibson.object_states.robot_related_states.InFOVOfRobot'>: <igibson.object_states.robot_related_states.InFOVOfRobot object at 0x2b954f5e0>, <class 'igibson.object_states.under.Under'>: <igibson.object_states.under.Under object at 0x2b954f7c0>}\n",
      "bow.n.08_4 {<class 'igibson.object_states.adjacency.HorizontalAdjacency'>: <igibson.object_states.adjacency.HorizontalAdjacency object at 0x2b954fa60>, <class 'igibson.object_states.contact_bodies.ContactBodies'>: <igibson.object_states.contact_bodies.ContactBodies object at 0x2b954ff70>, <class 'igibson.object_states.aabb.AABB'>: <igibson.object_states.aabb.AABB object at 0x2b954feb0>, <class 'igibson.object_states.room_states.InsideRoomTypes'>: <igibson.object_states.room_states.InsideRoomTypes object at 0x2b954faf0>, <class 'igibson.object_states.pose.Pose'>: <igibson.object_states.pose.Pose object at 0x2b954fc70>, <class 'igibson.object_states.adjacency.VerticalAdjacency'>: <igibson.object_states.adjacency.VerticalAdjacency object at 0x2b954f910>, <class 'igibson.object_states.dirty.Dusty'>: <igibson.object_states.dirty.Dusty object at 0x2b954fdc0>, <class 'igibson.object_states.robot_related_states.InHandOfRobot'>: <igibson.object_states.robot_related_states.InHandOfRobot object at 0x2b9565070>, <class 'igibson.object_states.touching.Touching'>: <igibson.object_states.touching.Touching object at 0x2b95650d0>, <class 'igibson.object_states.inside.Inside'>: <igibson.object_states.inside.Inside object at 0x2b9565130>, <class 'igibson.object_states.on_top.OnTop'>: <igibson.object_states.on_top.OnTop object at 0x2b9565190>, <class 'igibson.object_states.on_floor.OnFloor'>: <igibson.object_states.on_floor.OnFloor object at 0x2b95651f0>, <class 'igibson.object_states.robot_related_states.InReachOfRobot'>: <igibson.object_states.robot_related_states.InReachOfRobot object at 0x2b9565250>, <class 'igibson.object_states.next_to.NextTo'>: <igibson.object_states.next_to.NextTo object at 0x2b95652b0>, <class 'igibson.object_states.robot_related_states.InSameRoomAsRobot'>: <igibson.object_states.robot_related_states.InSameRoomAsRobot object at 0x2b9565310>, <class 'igibson.object_states.robot_related_states.InFOVOfRobot'>: <igibson.object_states.robot_related_states.InFOVOfRobot object at 0x2b9565370>, <class 'igibson.object_states.under.Under'>: <igibson.object_states.under.Under object at 0x2b95653d0>}\n",
      "table.n.02_1 {<class 'igibson.object_states.adjacency.HorizontalAdjacency'>: <igibson.object_states.adjacency.HorizontalAdjacency object at 0x2a7c42eb0>, <class 'igibson.object_states.contact_bodies.ContactBodies'>: <igibson.object_states.contact_bodies.ContactBodies object at 0x2a7c42f40>, <class 'igibson.object_states.aabb.AABB'>: <igibson.object_states.aabb.AABB object at 0x2a7c42a90>, <class 'igibson.object_states.room_states.InsideRoomTypes'>: <igibson.object_states.room_states.InsideRoomTypes object at 0x2a7c42e50>, <class 'igibson.object_states.pose.Pose'>: <igibson.object_states.pose.Pose object at 0x2a7c42df0>, <class 'igibson.object_states.adjacency.VerticalAdjacency'>: <igibson.object_states.adjacency.VerticalAdjacency object at 0x2a7c42d30>, <class 'igibson.object_states.dirty.Stained'>: <igibson.object_states.dirty.Stained object at 0x2a7c42d90>, <class 'igibson.object_states.dirty.Dusty'>: <igibson.object_states.dirty.Dusty object at 0x2a7c42c10>, <class 'igibson.object_states.robot_related_states.InHandOfRobot'>: <igibson.object_states.robot_related_states.InHandOfRobot object at 0x2a7c42cd0>, <class 'igibson.object_states.touching.Touching'>: <igibson.object_states.touching.Touching object at 0x2a7c42c70>, <class 'igibson.object_states.inside.Inside'>: <igibson.object_states.inside.Inside object at 0x2a7c42b50>, <class 'igibson.object_states.on_top.OnTop'>: <igibson.object_states.on_top.OnTop object at 0x2a7c42340>, <class 'igibson.object_states.on_floor.OnFloor'>: <igibson.object_states.on_floor.OnFloor object at 0x2a7c42bb0>, <class 'igibson.object_states.robot_related_states.InReachOfRobot'>: <igibson.object_states.robot_related_states.InReachOfRobot object at 0x2a7c429d0>, <class 'igibson.object_states.next_to.NextTo'>: <igibson.object_states.next_to.NextTo object at 0x2a7c42970>, <class 'igibson.object_states.robot_related_states.InSameRoomAsRobot'>: <igibson.object_states.robot_related_states.InSameRoomAsRobot object at 0x2a7c428b0>, <class 'igibson.object_states.robot_related_states.InFOVOfRobot'>: <igibson.object_states.robot_related_states.InFOVOfRobot object at 0x2a7c42910>, <class 'igibson.object_states.under.Under'>: <igibson.object_states.under.Under object at 0x2a7c422e0>}\n",
      "table.n.02_2 {<class 'igibson.object_states.adjacency.HorizontalAdjacency'>: <igibson.object_states.adjacency.HorizontalAdjacency object at 0x2a7be3f40>, <class 'igibson.object_states.contact_bodies.ContactBodies'>: <igibson.object_states.contact_bodies.ContactBodies object at 0x2a7be3d30>, <class 'igibson.object_states.aabb.AABB'>: <igibson.object_states.aabb.AABB object at 0x2a7be3880>, <class 'igibson.object_states.room_states.InsideRoomTypes'>: <igibson.object_states.room_states.InsideRoomTypes object at 0x2a7be3910>, <class 'igibson.object_states.pose.Pose'>: <igibson.object_states.pose.Pose object at 0x2a7be3af0>, <class 'igibson.object_states.adjacency.VerticalAdjacency'>: <igibson.object_states.adjacency.VerticalAdjacency object at 0x2a7be3730>, <class 'igibson.object_states.dirty.Stained'>: <igibson.object_states.dirty.Stained object at 0x2a7be3790>, <class 'igibson.object_states.dirty.Dusty'>: <igibson.object_states.dirty.Dusty object at 0x2a7be3fa0>, <class 'igibson.object_states.robot_related_states.InHandOfRobot'>: <igibson.object_states.robot_related_states.InHandOfRobot object at 0x2a7be3b20>, <class 'igibson.object_states.touching.Touching'>: <igibson.object_states.touching.Touching object at 0x2a7be3e50>, <class 'igibson.object_states.inside.Inside'>: <igibson.object_states.inside.Inside object at 0x2a7be00a0>, <class 'igibson.object_states.on_top.OnTop'>: <igibson.object_states.on_top.OnTop object at 0x2a7bc75b0>, <class 'igibson.object_states.on_floor.OnFloor'>: <igibson.object_states.on_floor.OnFloor object at 0x2a7bc79a0>, <class 'igibson.object_states.robot_related_states.InReachOfRobot'>: <igibson.object_states.robot_related_states.InReachOfRobot object at 0x2a7bc7820>, <class 'igibson.object_states.next_to.NextTo'>: <igibson.object_states.next_to.NextTo object at 0x2a7bc7670>, <class 'igibson.object_states.robot_related_states.InSameRoomAsRobot'>: <igibson.object_states.robot_related_states.InSameRoomAsRobot object at 0x2a7bc7550>, <class 'igibson.object_states.robot_related_states.InFOVOfRobot'>: <igibson.object_states.robot_related_states.InFOVOfRobot object at 0x2a7bc7430>, <class 'igibson.object_states.under.Under'>: <igibson.object_states.under.Under object at 0x2a7bc7610>}\n",
      "agent.n.01_1 {<class 'igibson.object_states.adjacency.HorizontalAdjacency'>: <igibson.object_states.adjacency.HorizontalAdjacency object at 0x3fa31ca60>, <class 'igibson.object_states.contact_bodies.ContactBodies'>: <igibson.object_states.contact_bodies.ContactBodies object at 0x3fa31c760>, <class 'igibson.object_states.aabb.AABB'>: <igibson.object_states.aabb.AABB object at 0x3fa31c670>, <class 'igibson.object_states.room_states.InsideRoomTypes'>: <igibson.object_states.room_states.InsideRoomTypes object at 0x3fa31cb50>, <class 'igibson.object_states.pose.Pose'>: <igibson.object_states.pose.Pose object at 0x3fa31cbb0>, <class 'igibson.object_states.adjacency.VerticalAdjacency'>: <igibson.object_states.adjacency.VerticalAdjacency object at 0x3fa31cc10>, <class 'igibson.object_states.robot_related_states.ObjectsInFOVOfRobot'>: <igibson.object_states.robot_related_states.ObjectsInFOVOfRobot object at 0x3fa31cc70>, <class 'abc.IsInUndefined'>: <abc.IsInUndefined object at 0x3fa31ccd0>, <class 'abc.IsInAuditorium'>: <abc.IsInAuditorium object at 0x3fa31cd00>, <class 'abc.IsInLibrary'>: <abc.IsInLibrary object at 0x3fa31cd60>, <class 'abc.IsInBalcony'>: <abc.IsInBalcony object at 0x3fa31cdc0>, <class 'abc.IsInUtilityRoom'>: <abc.IsInUtilityRoom object at 0x3fa31ce20>, <class 'abc.IsInTelevisionRoom'>: <abc.IsInTelevisionRoom object at 0x3fa31ce80>, <class 'abc.IsInStorageRoom'>: <abc.IsInStorageRoom object at 0x3fa31cee0>, <class 'abc.IsInStaircase'>: <abc.IsInStaircase object at 0x3fa31cf40>, <class 'abc.IsInPlayroom'>: <abc.IsInPlayroom object at 0x3fa31cf70>, <class 'abc.IsInPantryRoom'>: <abc.IsInPantryRoom object at 0x3fa31c970>, <class 'abc.IsInLobby'>: <abc.IsInLobby object at 0x4461f2070>, <class 'abc.IsInLivingRoom'>: <abc.IsInLivingRoom object at 0x4461f20d0>, <class 'abc.IsInKitchen'>: <abc.IsInKitchen object at 0x4461f2130>, <class 'abc.IsInHomeOffice'>: <abc.IsInHomeOffice object at 0x4461f2190>, <class 'abc.IsInGarage'>: <abc.IsInGarage object at 0x4461f21f0>, <class 'abc.IsInExerciseRoom'>: <abc.IsInExerciseRoom object at 0x4461f2250>, <class 'abc.IsInEmptyRoom'>: <abc.IsInEmptyRoom object at 0x4461f22b0>, <class 'abc.IsInDiningRoom'>: <abc.IsInDiningRoom object at 0x4461f2310>, <class 'abc.IsInCorridor'>: <abc.IsInCorridor object at 0x4461f2370>, <class 'abc.IsInCloset'>: <abc.IsInCloset object at 0x4461f23d0>, <class 'abc.IsInChildsRoom'>: <abc.IsInChildsRoom object at 0x4461f2430>, <class 'abc.IsInBedroom'>: <abc.IsInBedroom object at 0x4461f2490>, <class 'abc.IsInBathroom'>: <abc.IsInBathroom object at 0x4461f24f0>, <class 'igibson.object_states.robot_related_states.InHandOfRobot'>: <igibson.object_states.robot_related_states.InHandOfRobot object at 0x4461f2550>, <class 'igibson.object_states.touching.Touching'>: <igibson.object_states.touching.Touching object at 0x4461f25b0>, <class 'igibson.object_states.inside.Inside'>: <igibson.object_states.inside.Inside object at 0x4461f2610>, <class 'igibson.object_states.on_top.OnTop'>: <igibson.object_states.on_top.OnTop object at 0x4461f2670>, <class 'igibson.object_states.on_floor.OnFloor'>: <igibson.object_states.on_floor.OnFloor object at 0x4461f26d0>, <class 'igibson.object_states.robot_related_states.InReachOfRobot'>: <igibson.object_states.robot_related_states.InReachOfRobot object at 0x4461f2730>, <class 'igibson.object_states.next_to.NextTo'>: <igibson.object_states.next_to.NextTo object at 0x4461f2790>, <class 'igibson.object_states.robot_related_states.InSameRoomAsRobot'>: <igibson.object_states.robot_related_states.InSameRoomAsRobot object at 0x4461f27f0>, <class 'igibson.object_states.robot_related_states.InFOVOfRobot'>: <igibson.object_states.robot_related_states.InFOVOfRobot object at 0x4461f2850>, <class 'igibson.object_states.under.Under'>: <igibson.object_states.under.Under object at 0x4461f28b0>}\n"
     ]
    }
   ],
   "source": [
    "for name, obj in bt.object_scope.items():\n",
    "    print(name,obj.states)"
   ]
  },
  {
   "cell_type": "code",
   "execution_count": 16,
   "metadata": {},
   "outputs": [
    {
     "name": "stdout",
     "output_type": "stream",
     "text": [
      "{}\n",
      "{}\n",
      "{}\n",
      "{}\n",
      "{}\n",
      "{}\n",
      "{}\n",
      "{}\n",
      "{}\n",
      "{}\n",
      "{}\n",
      "{}\n",
      "{}\n",
      "{}\n",
      "{}\n",
      "{}\n",
      "{}\n",
      "{}\n",
      "{}\n",
      "{}\n",
      "{}\n",
      "{}\n",
      "{}\n",
      "{'left_hand_Rproximal__left_hand_palm': (0.0, 0.0), 'left_hand_Rmiddle__left_hand_Rproximal': (0.0, 0.0), 'left_hand_Mproximal__left_hand_palm': (0.0, 0.0), 'left_hand_Mmiddle__left_hand_Mproximal': (0.0, 0.0), 'left_hand_Pproximal__left_hand_palm': (0.0, 0.0), 'left_hand_Pmiddle__left_hand_Pproximal': (0.0, 0.0), 'left_hand_Tproximal__left_hand_palm': (0.0, 0.0), 'left_hand_Tmiddle__left_hand_Tproximal': (0.0, 0.0), 'left_hand_Iproximal__left_hand_palm': (0.0, 0.0), 'left_hand_Imiddle__left_hand_Iproximal': (0.0, 0.0), 'right_hand_Rproximal__right_hand_palm': (0.0, 0.0), 'right_hand_Rmiddle__right_hand_Rproximal': (0.0, 0.0), 'right_hand_Mproximal__right_hand_palm': (0.0, 0.0), 'right_hand_Mmiddle__right_hand_Mproximal': (0.0, 0.0), 'right_hand_Pproximal__right_hand_palm': (0.0, 0.0), 'right_hand_Pmiddle__right_hand_Pproximal': (0.0, 0.0), 'right_hand_Tproximal__right_hand_palm': (0.0, 0.0), 'right_hand_Tmiddle__right_hand_Tproximal': (0.0, 0.0), 'right_hand_Iproximal__right_hand_palm': (0.0, 0.0), 'right_hand_Imiddle__right_hand_Iproximal': (0.0, 0.0), 'body__body_x': (0.0, 0), 'body__body_y': (0.0, 0), 'body__body_z': (0.0, 0), 'body__body_rx': (-3.492457989473498e-10, 0), 'body__body_ry': (1.0913931217134556e-11, 0), 'body__body_rz': (1.709098338571889e-13, 0), 'neck__camera_x': (0.19999998807907104, 0), 'neck__camera_y': (2.384185791015625e-07, 0), 'neck__camera_z': (0.10000002384185791, 0), 'neck__camera_rx': (-3.492457711917742e-10, 0), 'neck__camera_ry': (1.0913930349772818e-11, 0), 'neck__camera_rz': (1.709098338571892e-13, 0), 'left_hand_shoulder__left_hand_x': (0.25, 0), 'left_hand_shoulder__left_hand_y': (-0.029999971389770508, 0), 'left_hand_shoulder__left_hand_z': (-0.25, 0), 'left_hand_shoulder__left_hand_rx': (2.9256899430495125, 0), 'left_hand_shoulder__left_hand_ry': (0.2110393794578862, 0), 'left_hand_shoulder__left_hand_rz': (1.5478411740027713, 0), 'reset_left_hand': (0, 0), 'right_hand_shoulder__right_hand_x': (0.2500000596046448, 0), 'right_hand_shoulder__right_hand_y': (0.029999971389770508, 0), 'right_hand_shoulder__right_hand_z': (-0.25, 0), 'right_hand_shoulder__right_hand_rx': (-2.9256899138149537, 0), 'right_hand_shoulder__right_hand_ry': (0.2110393931466053, 0), 'right_hand_shoulder__right_hand_rz': (-1.5478411694753764, 0), 'reset_right_hand': (0, 0)}\n"
     ]
    }
   ],
   "source": [
    "for name, obj in bt.object_scope.items():\n",
    "    print(obj.get_joint_states())"
   ]
  },
  {
   "cell_type": "code",
   "execution_count": 13,
   "metadata": {},
   "outputs": [
    {
     "data": {
      "text/plain": [
       "[<bddl.condition_evaluation.HEAD at 0x3e6936d60>,\n",
       " <bddl.condition_evaluation.HEAD at 0x3e6936c70>,\n",
       " <bddl.condition_evaluation.HEAD at 0x3e6936d00>,\n",
       " <bddl.condition_evaluation.HEAD at 0x3e6936e80>,\n",
       " <bddl.condition_evaluation.HEAD at 0x3e6936f40>,\n",
       " <bddl.condition_evaluation.HEAD at 0x3e6936fa0>,\n",
       " <bddl.condition_evaluation.HEAD at 0x3e6936b20>,\n",
       " <bddl.condition_evaluation.HEAD at 0x3e6936820>,\n",
       " <bddl.condition_evaluation.HEAD at 0x3e69367c0>,\n",
       " <bddl.condition_evaluation.HEAD at 0x3e6936a60>,\n",
       " <bddl.condition_evaluation.HEAD at 0x3e6936880>,\n",
       " <bddl.condition_evaluation.HEAD at 0x3e6936a90>,\n",
       " <bddl.condition_evaluation.HEAD at 0x3e6936760>,\n",
       " <bddl.condition_evaluation.HEAD at 0x5a66ba910>,\n",
       " <bddl.condition_evaluation.HEAD at 0x5a66ba940>,\n",
       " <bddl.condition_evaluation.HEAD at 0x5a66ba880>,\n",
       " <bddl.condition_evaluation.HEAD at 0x5a66ba760>,\n",
       " <bddl.condition_evaluation.HEAD at 0x5a66ba220>,\n",
       " <bddl.condition_evaluation.HEAD at 0x5a66ba730>,\n",
       " <bddl.condition_evaluation.HEAD at 0x5a66ba580>,\n",
       " <bddl.condition_evaluation.HEAD at 0x5a66ba2e0>]"
      ]
     },
     "execution_count": 13,
     "metadata": {},
     "output_type": "execute_result"
    }
   ],
   "source": [
    "bt.initial_conditions"
   ]
  },
  {
   "cell_type": "code",
   "execution_count": 14,
   "metadata": {},
   "outputs": [
    {
     "data": {
      "text/plain": [
       "['ontop', 'candle.n.01_4', 'table.n.02_1']"
      ]
     },
     "execution_count": 14,
     "metadata": {},
     "output_type": "execute_result"
    }
   ],
   "source": [
    "bt.initial_conditions[7].terms"
   ]
  },
  {
   "cell_type": "code",
   "execution_count": 15,
   "metadata": {},
   "outputs": [
    {
     "data": {
      "text/plain": [
       "[<bddl.condition_evaluation.HEAD at 0x41492e280>,\n",
       " <bddl.condition_evaluation.HEAD at 0x5c03dca30>,\n",
       " <bddl.condition_evaluation.HEAD at 0x5c03dcd90>,\n",
       " <bddl.condition_evaluation.HEAD at 0x562d0f130>]"
      ]
     },
     "execution_count": 15,
     "metadata": {},
     "output_type": "execute_result"
    }
   ],
   "source": [
    "bt.goal_conditions"
   ]
  },
  {
   "cell_type": "code",
   "execution_count": 16,
   "metadata": {},
   "outputs": [
    {
     "name": "stdout",
     "output_type": "stream",
     "text": [
      "['forpairs', 'basket.n.01', '-', 'basket.n.01', 'candle.n.01', '-', 'candle.n.01', 'inside', 'candle.n.01', 'basket.n.01']\n"
     ]
    }
   ],
   "source": [
    "print(bt.goal_conditions[0].terms)"
   ]
  }
 ],
 "metadata": {
  "kernelspec": {
   "display_name": "igibson-eval",
   "language": "python",
   "name": "python3"
  },
  "language_info": {
   "codemirror_mode": {
    "name": "ipython",
    "version": 3
   },
   "file_extension": ".py",
   "mimetype": "text/x-python",
   "name": "python",
   "nbconvert_exporter": "python",
   "pygments_lexer": "ipython3",
   "version": "3.8.19"
  }
 },
 "nbformat": 4,
 "nbformat_minor": 2
}
