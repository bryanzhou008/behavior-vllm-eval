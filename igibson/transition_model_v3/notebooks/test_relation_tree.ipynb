{
 "cells": [
  {
   "cell_type": "code",
   "execution_count": 1,
   "metadata": {},
   "outputs": [
    {
     "name": "stdout",
     "output_type": "stream",
     "text": [
      "\n",
      " _   _____  _  _\n",
      "(_) / ____|(_)| |\n",
      " _ | |  __  _ | |__   ___   ___   _ __\n",
      "| || | |_ || || '_ \\ / __| / _ \\ | '_ \\\n",
      "| || |__| || || |_) |\\__ \\| (_) || | | |\n",
      "|_| \\_____||_||_.__/ |___/ \\___/ |_| |_|\n",
      "\n"
     ]
    },
    {
     "name": "stderr",
     "output_type": "stream",
     "text": [
      "torch is not available, falling back to rendering to memory (instead of tensor)\n"
     ]
    }
   ],
   "source": [
    "from igibson.transition_model_v2.eval_env import EvalEnv\n",
    "import platform\n",
    "import igibson.object_states as object_states"
   ]
  },
  {
   "cell_type": "code",
   "execution_count": 2,
   "metadata": {},
   "outputs": [],
   "source": [
    "demo_path=rb\"D:\\GitHub\\behavior-vllm-eval\\igibson\\data\\virtual_reality\\cleaning_closet_0_Beechwood_1_int_0_2021-10-25_19-50-32.hdf5\""
   ]
  },
  {
   "cell_type": "code",
   "execution_count": 3,
   "metadata": {},
   "outputs": [
    {
     "name": "stdout",
     "output_type": "stream",
     "text": [
      "indent from and: 1\n"
     ]
    }
   ],
   "source": [
    "headless = True\n",
    "env=EvalEnv(demo_path=demo_path,mode=\"headless\" if headless else \"gui_non_interactive\",\n",
    "        use_pb_gui=(not headless and platform.system() != \"Darwin\"),)"
   ]
  },
  {
   "cell_type": "code",
   "execution_count": 4,
   "metadata": {},
   "outputs": [
    {
     "name": "stdout",
     "output_type": "stream",
     "text": [
      "sandal_1\n",
      "umbrella_0\n",
      "bracelet_0\n",
      "hat_0\n",
      "room_floor_bedroom_0\n",
      "necklace_0\n",
      "paper_towel_0\n",
      "room_floor_closet_0\n",
      "sandal_0\n",
      "bottom_cabinet_30\n",
      "bottom_cabinet_44\n",
      "bottom_cabinet_1\n",
      "shelf_31\n"
     ]
    }
   ],
   "source": [
    "for obj in env.addressable_objects:\n",
    "    print(obj.name)"
   ]
  },
  {
   "cell_type": "code",
   "execution_count": 5,
   "metadata": {},
   "outputs": [],
   "source": [
    "import igibson\n",
    "import igibson.objects\n",
    "import igibson.objects.articulated_object\n",
    "for obj in env.addressable_objects:\n",
    "    if isinstance(obj,igibson.objects.articulated_object.URDFObject):\n",
    "        if not hasattr(obj,\"states\"):\n",
    "            print(obj.name)"
   ]
  },
  {
   "cell_type": "code",
   "execution_count": 6,
   "metadata": {},
   "outputs": [
    {
     "name": "stderr",
     "output_type": "stream",
     "text": [
      "C:\\Users\\wkr\\AppData\\Local\\Temp\\ipykernel_14244\\2537053434.py:2: DeprecationWarning: the imp module is deprecated in favour of importlib; see the module's documentation for alternative uses\n",
      "  import imp\n"
     ]
    }
   ],
   "source": [
    "import igibson.transition_model_v3.relation_tree as relation_tree\n",
    "import imp\n",
    "imp.reload(relation_tree)\n",
    "it = relation_tree.IgibsonRelationTree(env.addressable_objects)"
   ]
  },
  {
   "cell_type": "code",
   "execution_count": 7,
   "metadata": {},
   "outputs": [
    {
     "name": "stdout",
     "output_type": "stream",
     "text": [
      "root\n",
      "  sandal_1 None\n",
      "  umbrella_0 None\n",
      "  bracelet_0 None\n",
      "  hat_0 None\n",
      "  necklace_0 None\n",
      "  sandal_0 None\n",
      "  bottom_cabinet_30 None\n",
      "  bottom_cabinet_1 None\n",
      "  shelf_31 None\n",
      "  bottom_cabinet_44 None\n",
      "    paper_towel_0 TeleportType.INSIDE\n",
      "\n"
     ]
    }
   ],
   "source": [
    "print(it)"
   ]
  }
 ],
 "metadata": {
  "kernelspec": {
   "display_name": "igibson-eval",
   "language": "python",
   "name": "python3"
  },
  "language_info": {
   "codemirror_mode": {
    "name": "ipython",
    "version": 3
   },
   "file_extension": ".py",
   "mimetype": "text/x-python",
   "name": "python",
   "nbconvert_exporter": "python",
   "pygments_lexer": "ipython3",
   "version": "3.8.19"
  }
 },
 "nbformat": 4,
 "nbformat_minor": 2
}
