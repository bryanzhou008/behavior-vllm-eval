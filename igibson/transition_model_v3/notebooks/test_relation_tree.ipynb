{
 "cells": [
  {
   "cell_type": "code",
   "execution_count": 1,
   "metadata": {},
   "outputs": [
    {
     "name": "stdout",
     "output_type": "stream",
     "text": [
      "\n",
      " _   _____  _  _\n",
      "(_) / ____|(_)| |\n",
      " _ | |  __  _ | |__   ___   ___   _ __\n",
      "| || | |_ || || '_ \\ / __| / _ \\ | '_ \\\n",
      "| || |__| || || |_) |\\__ \\| (_) || | | |\n",
      "|_| \\_____||_||_.__/ |___/ \\___/ |_| |_|\n",
      "\n"
     ]
    },
    {
     "name": "stderr",
     "output_type": "stream",
     "text": [
      "torch is not available, falling back to rendering to memory (instead of tensor)\n"
     ]
    }
   ],
   "source": [
    "from igibson.transition_model_v2.eval_env import EvalEnv\n",
    "import platform\n",
    "import igibson.object_states as object_states"
   ]
  },
  {
   "cell_type": "code",
   "execution_count": 2,
   "metadata": {},
   "outputs": [],
   "source": [
    "demo_path=rb\"D:\\GitHub\\behavior-vllm-eval\\igibson\\data\\virtual_reality\\bottling_fruit_0_Wainscott_0_int_0_2021-05-24_19-46-46.hdf5\""
   ]
  },
  {
   "cell_type": "code",
   "execution_count": 3,
   "metadata": {},
   "outputs": [
    {
     "name": "stdout",
     "output_type": "stream",
     "text": [
      "indent from and: 1\n",
      "indent from and: 1\n"
     ]
    }
   ],
   "source": [
    "headless = True\n",
    "env=EvalEnv(demo_path=demo_path,mode=\"headless\" if headless else \"gui_non_interactive\",\n",
    "        use_pb_gui=(not headless and platform.system() != \"Darwin\"),)"
   ]
  },
  {
   "cell_type": "code",
   "execution_count": 4,
   "metadata": {},
   "outputs": [
    {
     "name": "stdout",
     "output_type": "stream",
     "text": [
      "bottom_cabinet_no_top_80\n",
      "peach_0_part_0\n",
      "strawberry_0\n",
      "peach_0_multiplexer\n",
      "strawberry_0_part_1\n",
      "fridge_97\n",
      "jar_0\n",
      "countertop_84\n",
      "jar_1\n",
      "room_floor_kitchen_0\n",
      "peach_0_part_1\n",
      "strawberry_0_multiplexer\n",
      "strawberry_0_part_0\n",
      "carving_knife_0\n",
      "peach_0\n"
     ]
    }
   ],
   "source": [
    "for obj in env.addressable_objects:\n",
    "    print(obj.name)"
   ]
  },
  {
   "cell_type": "code",
   "execution_count": 4,
   "metadata": {},
   "outputs": [],
   "source": [
    "import igibson\n",
    "import igibson.objects\n",
    "import igibson.objects.articulated_object\n",
    "for obj in env.addressable_objects:\n",
    "    if isinstance(obj,igibson.objects.articulated_object.URDFObject):\n",
    "        if not hasattr(obj,\"states\"):\n",
    "            print(obj.name)"
   ]
  },
  {
   "cell_type": "code",
   "execution_count": 7,
   "metadata": {},
   "outputs": [],
   "source": [
    "import igibson.transition_model_v3.relation_tree as relation_tree\n",
    "import imp\n",
    "imp.reload(relation_tree)\n",
    "it = relation_tree.IgibsonRelationTree(env.addressable_objects)"
   ]
  },
  {
   "cell_type": "code",
   "execution_count": 8,
   "metadata": {},
   "outputs": [
    {
     "name": "stdout",
     "output_type": "stream",
     "text": [
      "root\n",
      "  peach_0_part_0 None\n",
      "  strawberry_0_part_1 None\n",
      "  bottom_cabinet_no_top_80 None\n",
      "  strawberry_0_part_0 None\n",
      "  peach_0_part_1 None\n",
      "  fridge_97 None\n",
      "    strawberry_0 TeleportType.INSIDE\n",
      "    peach_0 TeleportType.INSIDE\n",
      "  countertop_84 None\n",
      "    jar_0 TeleportType.ONTOP\n",
      "    jar_1 TeleportType.ONTOP\n",
      "    carving_knife_0 TeleportType.ONTOP\n",
      "\n"
     ]
    }
   ],
   "source": [
    "print(it)"
   ]
  },
  {
   "cell_type": "code",
   "execution_count": 24,
   "metadata": {},
   "outputs": [
    {
     "data": {
      "text/plain": [
       "True"
      ]
     },
     "execution_count": 24,
     "metadata": {},
     "output_type": "execute_result"
    }
   ],
   "source": [
    "obj=env.obj_name_to_obj[\"fridge_97\"]\n",
    "obj.states[object_states.Open].set_value(True)"
   ]
  },
  {
   "cell_type": "code",
   "execution_count": 25,
   "metadata": {},
   "outputs": [
    {
     "name": "stdout",
     "output_type": "stream",
     "text": [
      "[5.12343454 8.58595848 0.97084826]\n"
     ]
    }
   ],
   "source": [
    "print(obj.get_position())"
   ]
  },
  {
   "cell_type": "code",
   "execution_count": 26,
   "metadata": {},
   "outputs": [
    {
     "name": "stdout",
     "output_type": "stream",
     "text": [
      "[4.71226358 8.4916687  0.43817943]\n"
     ]
    }
   ],
   "source": [
    "obj=env.obj_name_to_obj[\"strawberry_0\"]\n",
    "print(obj.get_position())"
   ]
  },
  {
   "cell_type": "code",
   "execution_count": 32,
   "metadata": {},
   "outputs": [],
   "source": [
    "obj1.set_position([ 4.64666176, 12.2938385 ,  0.99777925])"
   ]
  },
  {
   "cell_type": "code",
   "execution_count": 31,
   "metadata": {},
   "outputs": [
    {
     "data": {
      "text/plain": [
       "array([ 4.64666176, 12.2938385 ,  0.99777925])"
      ]
     },
     "execution_count": 31,
     "metadata": {},
     "output_type": "execute_result"
    }
   ],
   "source": [
    "obj2.get_position()"
   ]
  },
  {
   "cell_type": "code",
   "execution_count": 33,
   "metadata": {},
   "outputs": [
    {
     "name": "stdout",
     "output_type": "stream",
     "text": [
      "[ 4.64666176 12.2938385   0.99777925]\n",
      "True\n",
      "[ 4.64666176 12.2938385   0.99777925]\n"
     ]
    }
   ],
   "source": [
    "obj1=env.obj_name_to_obj[\"strawberry_0\"]\n",
    "print(obj1.get_position())\n",
    "obj2=env.obj_name_to_obj[\"jar_0\"]\n",
    "print(obj1.states[object_states.Inside].get_value(obj2))\n",
    "print(obj1.get_position())"
   ]
  },
  {
   "cell_type": "code",
   "execution_count": null,
   "metadata": {},
   "outputs": [],
   "source": []
  },
  {
   "cell_type": "code",
   "execution_count": 8,
   "metadata": {},
   "outputs": [],
   "source": [
    "name_to_obj={}\n",
    "for obj in env.addressable_objects:\n",
    "    name_to_obj[obj.name]=obj"
   ]
  },
  {
   "cell_type": "code",
   "execution_count": 9,
   "metadata": {},
   "outputs": [],
   "source": [
    "it.grasp(name_to_obj[\"strawberry_0\"])"
   ]
  },
  {
   "cell_type": "code",
   "execution_count": 10,
   "metadata": {},
   "outputs": [
    {
     "name": "stdout",
     "output_type": "stream",
     "text": [
      "root\n",
      "  bottom_cabinet_no_top_80\n",
      "  peach_0_part_0\n",
      "  strawberry_0_part_1\n",
      "  jar_0\n",
      "  countertop_84\n",
      "  jar_1\n",
      "  room_floor_kitchen_0\n",
      "  peach_0_part_1\n",
      "  strawberry_0_part_0\n",
      "  carving_knife_0\n",
      "  fridge_97\n",
      "    peach_0_multiplexer\n",
      "    strawberry_0_multiplexer\n",
      "    peach_0\n",
      "  strawberry_0\n",
      "\n"
     ]
    }
   ],
   "source": [
    "print(it)"
   ]
  },
  {
   "cell_type": "code",
   "execution_count": 11,
   "metadata": {},
   "outputs": [],
   "source": [
    "it.place_inside(name_to_obj[\"fridge_97\"],name_to_obj[\"countertop_84\"])"
   ]
  },
  {
   "cell_type": "code",
   "execution_count": 12,
   "metadata": {},
   "outputs": [
    {
     "name": "stdout",
     "output_type": "stream",
     "text": [
      "root\n",
      "  bottom_cabinet_no_top_80\n",
      "  peach_0_part_0\n",
      "  strawberry_0_part_1\n",
      "  jar_0\n",
      "  countertop_84\n",
      "    fridge_97\n",
      "      peach_0_multiplexer\n",
      "      strawberry_0_multiplexer\n",
      "      peach_0\n",
      "  jar_1\n",
      "  room_floor_kitchen_0\n",
      "  peach_0_part_1\n",
      "  strawberry_0_part_0\n",
      "  carving_knife_0\n",
      "  strawberry_0\n",
      "\n"
     ]
    }
   ],
   "source": [
    "print(it)"
   ]
  },
  {
   "cell_type": "code",
   "execution_count": 17,
   "metadata": {},
   "outputs": [
    {
     "name": "stdout",
     "output_type": "stream",
     "text": [
      "peach_0\n",
      "fridge_97\n",
      "countertop_84\n"
     ]
    }
   ],
   "source": [
    "node=it.get_node(name_to_obj[\"peach_0\"])\n",
    "while node is not it.root:\n",
    "    print(node.obj.name)\n",
    "    node=node.parent    \n",
    "    "
   ]
  },
  {
   "cell_type": "code",
   "execution_count": 18,
   "metadata": {},
   "outputs": [
    {
     "name": "stdout",
     "output_type": "stream",
     "text": [
      "bottom_cabinet_no_top_80\n",
      "peach_0_part_0\n",
      "strawberry_0_part_1\n",
      "jar_0\n",
      "countertop_84\n",
      "jar_1\n",
      "room_floor_kitchen_0\n",
      "peach_0_part_1\n",
      "strawberry_0_part_0\n",
      "carving_knife_0\n",
      "strawberry_0\n"
     ]
    }
   ],
   "source": [
    "for obj in node.children.keys():\n",
    "    print(obj.name)"
   ]
  },
  {
   "cell_type": "code",
   "execution_count": 14,
   "metadata": {},
   "outputs": [
    {
     "name": "stdout",
     "output_type": "stream",
     "text": [
      "2\n"
     ]
    }
   ],
   "source": [
    "a={\"a\":1,\"b\":2}\n",
    "print(len(a))"
   ]
  }
 ],
 "metadata": {
  "kernelspec": {
   "display_name": "igibson-eval",
   "language": "python",
   "name": "python3"
  },
  "language_info": {
   "codemirror_mode": {
    "name": "ipython",
    "version": 3
   },
   "file_extension": ".py",
   "mimetype": "text/x-python",
   "name": "python",
   "nbconvert_exporter": "python",
   "pygments_lexer": "ipython3",
   "version": "3.8.19"
  }
 },
 "nbformat": 4,
 "nbformat_minor": 2
}
