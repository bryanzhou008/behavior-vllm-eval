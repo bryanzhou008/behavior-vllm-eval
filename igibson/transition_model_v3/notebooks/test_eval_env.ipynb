{
 "cells": [
  {
   "cell_type": "code",
   "execution_count": 1,
   "metadata": {},
   "outputs": [
    {
     "name": "stdout",
     "output_type": "stream",
     "text": [
      "\n",
      " _   _____  _  _\n",
      "(_) / ____|(_)| |\n",
      " _ | |  __  _ | |__   ___   ___   _ __\n",
      "| || | |_ || || '_ \\ / __| / _ \\ | '_ \\\n",
      "| || |__| || || |_) |\\__ \\| (_) || | | |\n",
      "|_| \\_____||_||_.__/ |___/ \\___/ |_| |_|\n",
      "\n"
     ]
    },
    {
     "name": "stderr",
     "output_type": "stream",
     "text": [
      "torch is not available, falling back to rendering to memory (instead of tensor)\n"
     ]
    }
   ],
   "source": [
    "from igibson.transition_model_v3.eval_env import EvalEnv\n",
    "from igibson.transition_model_v3.eval_env import EvalActions\n",
    "import platform\n",
    "import igibson.object_states as object_states"
   ]
  },
  {
   "cell_type": "code",
   "execution_count": 2,
   "metadata": {},
   "outputs": [],
   "source": [
    "demo_path=rb\"D:\\GitHub\\behavior-vllm-eval\\igibson\\data\\virtual_reality\\sorting_groceries_0_Wainscott_0_int_0_2021-10-26_13-36-01.hdf5\""
   ]
  },
  {
   "cell_type": "code",
   "execution_count": 3,
   "metadata": {},
   "outputs": [
    {
     "name": "stdout",
     "output_type": "stream",
     "text": [
      "indent from and: 0\n",
      "indent from and: 1\n",
      "indent from and: 1\n",
      "indent from and: 1\n"
     ]
    }
   ],
   "source": [
    "headless = True\n",
    "env=EvalEnv(demo_path=demo_path,mode=\"headless\" if headless else \"gui_non_interactive\",\n",
    "        use_pb_gui=(not headless and platform.system() != \"Darwin\"),)"
   ]
  },
  {
   "cell_type": "code",
   "execution_count": 4,
   "metadata": {},
   "outputs": [
    {
     "name": "stdout",
     "output_type": "stream",
     "text": [
      "cheese_0\n",
      "yogurt_0\n",
      "orange_2_part_1\n",
      "orange_1_part_0\n",
      "carrot_0\n",
      "orange_2\n",
      "orange_0_part_0\n",
      "orange_1_part_1\n",
      "soup_0\n",
      "apple_0_part_0\n",
      "pretzel_0\n",
      "apple_0_part_1\n",
      "orange_0\n",
      "apple_1_part_1\n",
      "fridge_97\n",
      "carrot_2\n",
      "room_floor_kitchen_0\n",
      "apple_1_part_0\n",
      "apple_1\n",
      "orange_2_part_0\n",
      "countertop_84\n",
      "bottom_cabinet_no_top_80\n",
      "milk_0\n",
      "broccoli_0\n",
      "prosciutto_0\n",
      "orange_0_part_1\n",
      "carrot_1\n",
      "apple_0\n",
      "straight_chair_45\n",
      "breakfast_table_44\n",
      "orange_1\n",
      "flour_0\n"
     ]
    }
   ],
   "source": [
    "for obj in env.addressable_objects:\n",
    "    print(obj.name)"
   ]
  },
  {
   "cell_type": "code",
   "execution_count": 5,
   "metadata": {},
   "outputs": [],
   "source": [
    "def get_obj(obj_name):\n",
    "    return env.obj_name_to_obj[obj_name]\n"
   ]
  },
  {
   "cell_type": "code",
   "execution_count": 6,
   "metadata": {},
   "outputs": [
    {
     "name": "stdout",
     "output_type": "stream",
     "text": [
      "(array([ 2.48877504, 10.60481258,  0.73219525]), array([ 2.60992385, 10.73175391,  0.84918449]))\n",
      "(array([ 1.54557363e+00,  1.02857076e+01, -2.01004593e-03]), array([ 2.69443626, 11.34428661,  0.74967027]))\n"
     ]
    }
   ],
   "source": [
    "print(get_obj(\"orange_2\").states[object_states.AABB].get_value())\n",
    "print(get_obj(\"breakfast_table_44\").states[object_states.AABB].get_value())"
   ]
  },
  {
   "cell_type": "code",
   "execution_count": 7,
   "metadata": {},
   "outputs": [
    {
     "data": {
      "text/plain": [
       "-0.010517759999999932"
      ]
     },
     "execution_count": 7,
     "metadata": {},
     "output_type": "execute_result"
    }
   ],
   "source": [
    "0.73915251-0.74967027"
   ]
  },
  {
   "cell_type": "code",
   "execution_count": 8,
   "metadata": {},
   "outputs": [],
   "source": [
    "obj1=get_obj(\"orange_2\")\n",
    "obj2=get_obj(\"breakfast_table_44\")"
   ]
  },
  {
   "cell_type": "code",
   "execution_count": 9,
   "metadata": {},
   "outputs": [],
   "source": [
    "lo,hi=obj1.states[object_states.AABB].get_value()\n",
    "other_lo,other_hi=obj2.states[object_states.AABB].get_value()"
   ]
  },
  {
   "cell_type": "code",
   "execution_count": 10,
   "metadata": {},
   "outputs": [],
   "source": [
    "\n",
    "def is_overlap(a_low, a_high, b_low, b_high):\n",
    "    return (a_low <= b_low and b_low <= a_high) or \\\n",
    "    (a_low <= b_high and b_high <= a_high) or \\\n",
    "    (a_low <= b_low and b_high <= a_high) or \\\n",
    "    (b_low <= a_low and a_high <= b_high)\n",
    "\n",
    "        "
   ]
  },
  {
   "cell_type": "code",
   "execution_count": null,
   "metadata": {},
   "outputs": [],
   "source": []
  },
  {
   "cell_type": "code",
   "execution_count": 11,
   "metadata": {},
   "outputs": [
    {
     "name": "stdout",
     "output_type": "stream",
     "text": [
      "too far\n",
      "too far\n"
     ]
    }
   ],
   "source": [
    "if not is_overlap(lo[0], hi[0], other_lo[0], other_hi[0]) or not is_overlap(lo[1], hi[1], other_lo[1], other_hi[1]):\n",
    "    print(\"no overlap\")\n",
    "        \n",
    "if abs(lo[2]-other_hi[2]) > 0.015:\n",
    "    print(\"too far\")\n",
    "\n",
    "obj1_center=(lo+hi)/2\n",
    "obj2_center=(other_lo+other_hi)/2\n",
    "if abs(obj1_center[2] -obj2_center[2]-0.5*(hi[2]-lo[2])-0.5*(other_hi[2]-other_lo[2])) > 0.015:\n",
    "    print(\"too far\")\n",
    "        "
   ]
  },
  {
   "cell_type": "code",
   "execution_count": 12,
   "metadata": {},
   "outputs": [
    {
     "data": {
      "text/plain": [
       "True"
      ]
     },
     "execution_count": 12,
     "metadata": {},
     "output_type": "execute_result"
    }
   ],
   "source": [
    "obj1.states[object_states.OnTop].get_value(obj2)"
   ]
  },
  {
   "cell_type": "code",
   "execution_count": 13,
   "metadata": {},
   "outputs": [
    {
     "name": "stdout",
     "output_type": "stream",
     "text": [
      "root\n",
      "  orange_2_part_1 None\n",
      "  orange_1_part_0 None\n",
      "  orange_0_part_0 None\n",
      "  orange_1_part_1 None\n",
      "  apple_0_part_0 None\n",
      "  apple_0_part_1 None\n",
      "  apple_1_part_1 None\n",
      "  fridge_97 None\n",
      "  apple_1_part_0 None\n",
      "  apple_1 None\n",
      "  orange_2_part_0 None\n",
      "  bottom_cabinet_no_top_80 None\n",
      "  milk_0 None\n",
      "  broccoli_0 None\n",
      "  prosciutto_0 None\n",
      "  orange_0_part_1 None\n",
      "  apple_0 None\n",
      "  straight_chair_45 None\n",
      "  flour_0 None\n",
      "  countertop_84 None\n",
      "    carrot_0 TeleportType.ONTOP\n",
      "    pretzel_0 TeleportType.ONTOP\n",
      "    carrot_2 TeleportType.ONTOP\n",
      "    carrot_1 TeleportType.ONTOP\n",
      "  breakfast_table_44 None\n",
      "    cheese_0 TeleportType.ONTOP\n",
      "    yogurt_0 TeleportType.ONTOP\n",
      "    orange_2 TeleportType.ONTOP\n",
      "    soup_0 TeleportType.ONTOP\n",
      "    orange_0 TeleportType.ONTOP\n",
      "    orange_1 TeleportType.ONTOP\n",
      "\n"
     ]
    }
   ],
   "source": [
    "print(env.action_env.relation_tree)"
   ]
  },
  {
   "cell_type": "code",
   "execution_count": 14,
   "metadata": {},
   "outputs": [],
   "source": [
    "actions=[\n",
    "    {\n",
    "        \"action\": \"LEFT_GRASP\",\n",
    "        \"object\": \"orange_2\"\n",
    "    },\n",
    "    {\n",
    "        \"action\": \"LEFT_PLACE_NEXTTO\",\n",
    "        \"object\": \"orange_0\"\n",
    "    },\n",
    "    {\n",
    "        \"action\": \"LEFT_GRASP\",\n",
    "        \"object\": \"orange_1\"\n",
    "    },\n",
    "    {\n",
    "        \"action\": \"LEFT_PLACE_NEXTTO\",\n",
    "        \"object\": \"orange_2\"\n",
    "    },\n",
    "    {\n",
    "        \"action\": \"OPEN\",\n",
    "        \"object\": \"fridge_97\"\n",
    "    },\n",
    "    {\n",
    "        \"action\": \"LEFT_GRASP\",\n",
    "        \"object\": \"prosciutto_0\"\n",
    "    },\n",
    "    {\n",
    "        \"action\": \"RIGHT_GRASP\",\n",
    "        \"object\": \"cheese_0\"\n",
    "    },\n",
    "    {\n",
    "        \"action\": \"LEFT_PLACE_INSIDE\",\n",
    "        \"object\": \"fridge_97\"\n",
    "    },\n",
    "    {\n",
    "        \"action\": \"RIGHT_PLACE_INSIDE\",\n",
    "        \"object\": \"fridge_97\"\n",
    "    },\n",
    "    {\n",
    "        \"action\": \"LEFT_GRASP\",\n",
    "        \"object\": \"milk_0\"\n",
    "    },\n",
    "    {\n",
    "        \"action\": \"RIGHT_GRASP\",\n",
    "        \"object\": \"yogurt_0\"\n",
    "    },\n",
    "    {\n",
    "        \"action\": \"LEFT_PLACE_INSIDE\",\n",
    "        \"object\": \"fridge_97\"\n",
    "    },\n",
    "    {\n",
    "        \"action\": \"RIGHT_PLACE_INSIDE\",\n",
    "        \"object\": \"fridge_97\"\n",
    "    },\n",
    "    {\n",
    "        \"action\": \"LEFT_GRASP\",\n",
    "        \"object\": \"carrot_0\"\n",
    "    },\n",
    "    {\n",
    "        \"action\": \"RIGHT_GRASP\",\n",
    "        \"object\": \"carrot_1\"\n",
    "    },\n",
    "    {\n",
    "        \"action\": \"LEFT_PLACE_INSIDE\",\n",
    "        \"object\": \"fridge_97\"\n",
    "    },\n",
    "    {\n",
    "        \"action\": \"RIGHT_PLACE_INSIDE\",\n",
    "        \"object\": \"fridge_97\"\n",
    "    },\n",
    "    {\n",
    "        \"action\": \"LEFT_GRASP\",\n",
    "        \"object\": \"carrot_2\"\n",
    "    },\n",
    "    {\n",
    "        \"action\": \"RIGHT_GRASP\",\n",
    "        \"object\": \"soup_0\"\n",
    "    },\n",
    "    {\n",
    "        \"action\": \"LEFT_PLACE_INSIDE\",\n",
    "        \"object\": \"fridge_97\"\n",
    "    },\n",
    "    {\n",
    "        \"action\": \"RIGHT_PLACE_INSIDE\",\n",
    "        \"object\": \"fridge_97\"\n",
    "    },\n",
    "    {\n",
    "        \"action\": \"LEFT_GRASP\",\n",
    "        \"object\": \"apple_0\"\n",
    "    },\n",
    "    {\n",
    "        \"action\": \"RIGHT_GRASP\",\n",
    "        \"object\": \"apple_1\"\n",
    "    },\n",
    "    {\n",
    "        \"action\": \"LEFT_PLACE_INSIDE\",\n",
    "        \"object\": \"fridge_97\"\n",
    "    },\n",
    "    {\n",
    "        \"action\": \"RIGHT_PLACE_NEXTTO\",\n",
    "        \"object\": \"apple_0\"\n",
    "    },\n",
    "    {\n",
    "        \"action\": \"LEFT_GRASP\",\n",
    "        \"object\": \"broccoli_0\"\n",
    "    },\n",
    "    {\n",
    "        \"action\": \"LEFT_PLACE_INSIDE\",\n",
    "        \"object\": \"fridge_97\"\n",
    "    },\n",
    "    {\n",
    "        \"action\": \"OPEN\",\n",
    "        \"object\": \"bottom_cabinet_no_top_80\"\n",
    "    },\n",
    "    {\n",
    "        \"action\": \"RIGHT_GRASP\",\n",
    "        \"object\": \"pretzel_0\"\n",
    "    },\n",
    "    {\n",
    "        \"action\": \"LEFT_GRASP\",\n",
    "        \"object\": \"flour_0\"\n",
    "    },\n",
    "    {\n",
    "        \"action\": \"RIGHT_PLACE_INSIDE\",\n",
    "        \"object\": \"bottom_cabinet_no_top_80\"\n",
    "    },\n",
    "    {\n",
    "        \"action\": \"LEFT_PLACE_INSIDE\",\n",
    "        \"object\": \"bottom_cabinet_no_top_80\"\n",
    "    },\n",
    "    {\n",
    "        \"action\": \"RIGHT_GRASP\",\n",
    "        \"object\": \"prosciutto_0\"\n",
    "    },\n",
    "    {\n",
    "        \"action\": \"RIGHT_PLACE_INSIDE\",\n",
    "        \"object\": \"fridge_97\"\n",
    "    },\n",
    "    {\n",
    "        \"action\": \"CLOSE\",\n",
    "        \"object\": \"bottom_cabinet_no_top_80\"\n",
    "    },\n",
    "    {\n",
    "        \"action\": \"CLOSE\",\n",
    "        \"object\": \"fridge_97\"\n",
    "    }\n",
    "]"
   ]
  },
  {
   "cell_type": "code",
   "execution_count": 15,
   "metadata": {},
   "outputs": [
    {
     "name": "stdout",
     "output_type": "stream",
     "text": [
      "Grasp orange_2 with left_hand successful\n",
      "(False, {'satisfied': [], 'unsatisfied': [0, 1, 2, 3, 4, 5, 6]})\n",
      "Place next to orange_2 orange_0 successful\n",
      "(False, {'satisfied': [6], 'unsatisfied': [0, 1, 2, 3, 4, 5]})\n",
      "Grasp orange_1 with left_hand successful\n",
      "(False, {'satisfied': [], 'unsatisfied': [0, 1, 2, 3, 4, 5, 6]})\n",
      "Place next to orange_1 orange_2 successful\n",
      "(False, {'satisfied': [6], 'unsatisfied': [0, 1, 2, 3, 4, 5]})\n",
      "Open fridge_97 failed\n",
      "(False, {'satisfied': [6], 'unsatisfied': [0, 1, 2, 3, 4, 5]})\n",
      "Grasp prosciutto_0 with left_hand successful\n",
      "(False, {'satisfied': [6], 'unsatisfied': [0, 1, 2, 3, 4, 5]})\n",
      "Grasp cheese_0 with right_hand successful\n",
      "(False, {'satisfied': [6], 'unsatisfied': [0, 1, 2, 3, 4, 5]})\n",
      "Place inside prosciutto_0 fridge_97 successful\n",
      "(False, {'satisfied': [6], 'unsatisfied': [0, 1, 2, 3, 4, 5]})\n",
      "Place inside cheese_0 fridge_97 successful\n",
      "(False, {'satisfied': [6], 'unsatisfied': [0, 1, 2, 3, 4, 5]})\n",
      "Grasp milk_0 with left_hand successful\n",
      "(False, {'satisfied': [6], 'unsatisfied': [0, 1, 2, 3, 4, 5]})\n",
      "Grasp yogurt_0 with right_hand successful\n",
      "(False, {'satisfied': [6], 'unsatisfied': [0, 1, 2, 3, 4, 5]})\n",
      "Place inside milk_0 fridge_97 successful\n",
      "(False, {'satisfied': [6], 'unsatisfied': [0, 1, 2, 3, 4, 5]})\n",
      "Place inside yogurt_0 fridge_97 successful\n",
      "(False, {'satisfied': [6], 'unsatisfied': [0, 1, 2, 3, 4, 5]})\n",
      "Grasp carrot_0 with left_hand successful\n",
      "(False, {'satisfied': [6], 'unsatisfied': [0, 1, 2, 3, 4, 5]})\n",
      "Grasp carrot_1 with right_hand successful\n",
      "(False, {'satisfied': [6], 'unsatisfied': [0, 1, 2, 3, 4, 5]})\n",
      "Place inside carrot_0 fridge_97 successful\n",
      "(False, {'satisfied': [6], 'unsatisfied': [0, 1, 2, 3, 4, 5]})\n",
      "Place inside carrot_1 fridge_97 successful\n",
      "(False, {'satisfied': [6], 'unsatisfied': [0, 1, 2, 3, 4, 5]})\n",
      "Grasp carrot_2 with left_hand successful\n",
      "(False, {'satisfied': [6], 'unsatisfied': [0, 1, 2, 3, 4, 5]})\n",
      "Grasp soup_0 with right_hand successful\n",
      "(False, {'satisfied': [6], 'unsatisfied': [0, 1, 2, 3, 4, 5]})\n",
      "Place inside carrot_2 fridge_97 successful\n",
      "(False, {'satisfied': [3, 6], 'unsatisfied': [0, 1, 2, 4, 5]})\n",
      "Place inside soup_0 fridge_97 successful\n",
      "(False, {'satisfied': [2, 3, 6], 'unsatisfied': [0, 1, 4, 5]})\n",
      "Grasp apple_0 with left_hand successful\n",
      "(False, {'satisfied': [2, 3, 6], 'unsatisfied': [0, 1, 4, 5]})\n",
      "Grasp apple_1 with right_hand successful\n",
      "(False, {'satisfied': [2, 3, 6], 'unsatisfied': [0, 1, 4, 5]})\n",
      "Place inside apple_0 fridge_97 successful\n",
      "(False, {'satisfied': [2, 3, 6], 'unsatisfied': [0, 1, 4, 5]})\n",
      "Place next to apple_1 apple_0 successful\n",
      "(False, {'satisfied': [2, 3, 5, 6], 'unsatisfied': [0, 1, 4]})\n",
      "Grasp broccoli_0 with left_hand successful\n",
      "(False, {'satisfied': [2, 3, 5, 6], 'unsatisfied': [0, 1, 4]})\n",
      "Place inside broccoli_0 fridge_97 successful\n",
      "(False, {'satisfied': [2, 3, 4, 5, 6], 'unsatisfied': [0, 1]})\n",
      "Open bottom_cabinet_no_top_80 failed\n",
      "(False, {'satisfied': [2, 3, 4, 5, 6], 'unsatisfied': [0, 1]})\n",
      "Grasp pretzel_0 with right_hand successful\n",
      "(False, {'satisfied': [2, 3, 4, 5, 6], 'unsatisfied': [0, 1]})\n",
      "Grasp flour_0 with left_hand successful\n",
      "(False, {'satisfied': [2, 3, 4, 5, 6], 'unsatisfied': [0, 1]})\n",
      "Place inside pretzel_0 bottom_cabinet_no_top_80 successful\n",
      "(False, {'satisfied': [0, 2, 3, 4, 5, 6], 'unsatisfied': [1]})\n",
      "Place inside flour_0 bottom_cabinet_no_top_80 successful\n",
      "(True, {'satisfied': [0, 1, 2, 3, 4, 5, 6], 'unsatisfied': []})\n",
      "Grasp prosciutto_0 with right_hand successful\n",
      "(False, {'satisfied': [0, 1, 3, 4, 5, 6], 'unsatisfied': [2]})\n",
      "Place inside prosciutto_0 fridge_97 successful\n",
      "(True, {'satisfied': [0, 1, 2, 3, 4, 5, 6], 'unsatisfied': []})\n",
      "Close bottom_cabinet_no_top_80 success\n",
      "(True, {'satisfied': [0, 1, 2, 3, 4, 5, 6], 'unsatisfied': []})\n",
      "Close fridge_97 success\n",
      "(True, {'satisfied': [0, 1, 2, 3, 4, 5, 6], 'unsatisfied': []})\n"
     ]
    }
   ],
   "source": [
    "for action in actions:\n",
    "    action_name=action[\"action\"]\n",
    "    obj=action[\"object\"]\n",
    "    env.apply_action(action_name,obj)\n",
    "    print(env.task.check_success())\n",
    "    "
   ]
  },
  {
   "cell_type": "code",
   "execution_count": 16,
   "metadata": {},
   "outputs": [
    {
     "data": {
      "text/plain": [
       "(True, {'satisfied': [0, 1, 2, 3, 4, 5, 6], 'unsatisfied': []})"
      ]
     },
     "execution_count": 16,
     "metadata": {},
     "output_type": "execute_result"
    }
   ],
   "source": [
    "env.task.check_success()"
   ]
  },
  {
   "cell_type": "code",
   "execution_count": 17,
   "metadata": {},
   "outputs": [],
   "source": [
    "#env.action_env.teleport_all()"
   ]
  },
  {
   "cell_type": "code",
   "execution_count": 21,
   "metadata": {},
   "outputs": [
    {
     "name": "stdout",
     "output_type": "stream",
     "text": [
      "True\n",
      "True\n",
      "True\n",
      "True\n",
      "True\n",
      "True\n"
     ]
    }
   ],
   "source": [
    "obj1=get_obj(\"orange_0\")\n",
    "obj2=get_obj(\"orange_1\")\n",
    "obj3=get_obj(\"orange_2\")\n",
    "obj4=get_obj(\"breakfast_table_44\")\n",
    "print(obj1.states[object_states.OnTop].get_value(obj4))\n",
    "print(obj2.states[object_states.OnTop].get_value(obj4))\n",
    "print(obj3.states[object_states.OnTop].get_value(obj4))\n",
    "print(obj1.states[object_states.NextTo].get_value(obj3))\n",
    "print(obj2.states[object_states.NextTo].get_value(obj3))\n",
    "print(obj3.states[object_states.NextTo].get_value(obj1))"
   ]
  },
  {
   "cell_type": "code",
   "execution_count": 19,
   "metadata": {},
   "outputs": [
    {
     "name": "stdout",
     "output_type": "stream",
     "text": [
      "cheese_0\n",
      "yogurt_0\n",
      "orange_2_part_1\n",
      "orange_1_part_0\n",
      "carrot_0\n",
      "orange_2\n",
      "orange_0_part_0\n",
      "orange_1_part_1\n",
      "soup_0\n",
      "apple_0_part_0\n",
      "pretzel_0\n",
      "apple_0_part_1\n",
      "orange_0\n",
      "apple_1_part_1\n",
      "fridge_97\n",
      "carrot_2\n",
      "room_floor_kitchen_0\n",
      "apple_1_part_0\n",
      "apple_1\n",
      "orange_2_part_0\n",
      "countertop_84\n",
      "bottom_cabinet_no_top_80\n",
      "milk_0\n",
      "broccoli_0\n",
      "prosciutto_0\n",
      "orange_0_part_1\n",
      "carrot_1\n",
      "apple_0\n",
      "straight_chair_45\n",
      "breakfast_table_44\n",
      "orange_1\n",
      "flour_0\n"
     ]
    }
   ],
   "source": [
    "for obj in env.addressable_objects:\n",
    "    print(obj.name)"
   ]
  }
 ],
 "metadata": {
  "kernelspec": {
   "display_name": "igibson-eval",
   "language": "python",
   "name": "python3"
  },
  "language_info": {
   "codemirror_mode": {
    "name": "ipython",
    "version": 3
   },
   "file_extension": ".py",
   "mimetype": "text/x-python",
   "name": "python",
   "nbconvert_exporter": "python",
   "pygments_lexer": "ipython3",
   "version": "3.8.19"
  }
 },
 "nbformat": 4,
 "nbformat_minor": 2
}
