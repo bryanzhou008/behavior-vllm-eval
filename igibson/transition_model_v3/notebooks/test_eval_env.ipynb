{
 "cells": [
  {
   "cell_type": "code",
   "execution_count": 1,
   "metadata": {},
   "outputs": [
    {
     "name": "stdout",
     "output_type": "stream",
     "text": [
      "\n",
      " _   _____  _  _\n",
      "(_) / ____|(_)| |\n",
      " _ | |  __  _ | |__   ___   ___   _ __\n",
      "| || | |_ || || '_ \\ / __| / _ \\ | '_ \\\n",
      "| || |__| || || |_) |\\__ \\| (_) || | | |\n",
      "|_| \\_____||_||_.__/ |___/ \\___/ |_| |_|\n",
      "\n"
     ]
    },
    {
     "name": "stderr",
     "output_type": "stream",
     "text": [
      "torch is not available, falling back to rendering to memory (instead of tensor)\n"
     ]
    }
   ],
   "source": [
    "from igibson.transition_model_v3.eval_env import EvalEnv\n",
    "from igibson.transition_model_v3.eval_env import EvalActions\n",
    "import platform\n",
    "import igibson.object_states as object_states"
   ]
  },
  {
   "cell_type": "code",
   "execution_count": 2,
   "metadata": {},
   "outputs": [],
   "source": [
    "demo_path=rb\"D:\\GitHub\\behavior-vllm-eval\\igibson\\data\\virtual_reality\\cleaning_closet_0_Beechwood_1_int_0_2021-10-25_19-50-32.hdf5\""
   ]
  },
  {
   "cell_type": "code",
   "execution_count": 3,
   "metadata": {},
   "outputs": [
    {
     "name": "stdout",
     "output_type": "stream",
     "text": [
      "indent from and: 1\n"
     ]
    }
   ],
   "source": [
    "headless = True\n",
    "env=EvalEnv(demo_path=demo_path,mode=\"headless\" if headless else \"gui_non_interactive\",\n",
    "        use_pb_gui=(not headless and platform.system() != \"Darwin\"),)"
   ]
  },
  {
   "cell_type": "code",
   "execution_count": 4,
   "metadata": {},
   "outputs": [
    {
     "name": "stdout",
     "output_type": "stream",
     "text": [
      "paper_towel_0\n",
      "necklace_0\n",
      "hat_0\n",
      "bracelet_0\n",
      "bottom_cabinet_44\n",
      "room_floor_closet_0\n",
      "sandal_0\n",
      "umbrella_0\n",
      "shelf_31\n",
      "sandal_1\n",
      "room_floor_bedroom_0\n",
      "bottom_cabinet_30\n",
      "bottom_cabinet_1\n"
     ]
    }
   ],
   "source": [
    "for obj in env.addressable_objects:\n",
    "    print(obj.name)"
   ]
  },
  {
   "cell_type": "code",
   "execution_count": 5,
   "metadata": {},
   "outputs": [],
   "source": [
    "def get_obj(obj_name):\n",
    "    return env.obj_name_to_obj[obj_name]\n"
   ]
  },
  {
   "cell_type": "code",
   "execution_count": 6,
   "metadata": {},
   "outputs": [
    {
     "name": "stdout",
     "output_type": "stream",
     "text": [
      "0.00800003753742784\n"
     ]
    }
   ],
   "source": [
    "obj=get_obj(\"shelf_31\")\n",
    "lo,hi=obj.states[object_states.AABB].get_value()\n",
    "z=lo[2]\n",
    "print(z)"
   ]
  },
  {
   "cell_type": "code",
   "execution_count": 7,
   "metadata": {},
   "outputs": [
    {
     "name": "stdout",
     "output_type": "stream",
     "text": [
      "root\n",
      "  necklace_0 None\n",
      "  hat_0 None\n",
      "  bracelet_0 None\n",
      "  sandal_0 None\n",
      "  umbrella_0 None\n",
      "  shelf_31 None\n",
      "  sandal_1 None\n",
      "  bottom_cabinet_30 None\n",
      "  bottom_cabinet_1 None\n",
      "  bottom_cabinet_44 None\n",
      "    paper_towel_0 TeleportType.INSIDE\n",
      "\n"
     ]
    }
   ],
   "source": [
    "print(env.action_env.relation_tree)"
   ]
  },
  {
   "cell_type": "code",
   "execution_count": 8,
   "metadata": {},
   "outputs": [],
   "source": [
    "actions=[\n",
    "    {\n",
    "        \"action\": \"OPEN\",\n",
    "        \"object\": \"bottom_cabinet_44\"\n",
    "    },\n",
    "    {\n",
    "        \"action\": \"OPEN\",\n",
    "        \"object\": \"bottom_cabinet_30\"\n",
    "    },\n",
    "    {\n",
    "        \"action\": \"RIGHT_GRASP\",\n",
    "        \"object\": \"paper_towel_0\"\n",
    "    },\n",
    "    {\n",
    "        \"action\": \"SOAK\",\n",
    "        \"object\": \"paper_towel_0\"\n",
    "    },\n",
    "    {\n",
    "        \"action\": \"CLEAN\",\n",
    "        \"object\": \"room_floor_closet_0\"\n",
    "    },\n",
    "    {\n",
    "        \"action\": \"CLEAN\",\n",
    "        \"object\": \"shelf_31\"\n",
    "    },\n",
    "    {\n",
    "        \"action\": \"CLEAN\",\n",
    "        \"object\": \"bottom_cabinet_44\"\n",
    "    },\n",
    "    {\n",
    "        \"action\": \"CLEAN\",\n",
    "        \"object\": \"bottom_cabinet_30\"\n",
    "    },\n",
    "    {\n",
    "        \"action\": \"RIGHT_PLACE_ONTOP\",\n",
    "        \"object\": \"room_floor_closet_0\"\n",
    "    },\n",
    "    {\n",
    "        \"action\": \"RIGHT_GRASP\",\n",
    "        \"object\": \"hat_0\"\n",
    "    },\n",
    "    {\n",
    "        \"action\": \"LEFT_GRASP\",\n",
    "        \"object\": \"necklace_0\"\n",
    "    },\n",
    "    {\n",
    "        \"action\": \"RIGHT_PLACE_ONTOP\",\n",
    "        \"object\": \"shelf_31\"\n",
    "    },\n",
    "    {\n",
    "        \"action\": \"LEFT_PLACE_INSIDE\",\n",
    "        \"object\": \"bottom_cabinet_30\"\n",
    "    },\n",
    "    {\n",
    "        \"action\": \"RIGHT_GRASP\",\n",
    "        \"object\": \"bracelet_0\"\n",
    "    },\n",
    "    {\n",
    "        \"action\": \"RIGHT_PLACE_INSIDE\",\n",
    "        \"object\": \"bottom_cabinet_30\"\n",
    "    },\n",
    "    {\n",
    "        \"action\": \"LEFT_GRASP\",\n",
    "        \"object\": \"sandal_0\"\n",
    "    },\n",
    "    {\n",
    "        \"action\": \"LEFT_PLACE_NEXTTO_ONTOP\",\n",
    "        \"object\": \"shelf_31,room_floor_closet_0\",\n",
    "    },\n",
    "    {\n",
    "        \"action\": \"LEFT_GRASP\",\n",
    "        \"object\": \"sandal_1\"\n",
    "    },\n",
    "    {\n",
    "        \"action\": \"LEFT_PLACE_NEXTTO_ONTOP\",\n",
    "        \"object\": \"shelf_31,room_floor_closet_0\",\n",
    "    },\n",
    "    {\n",
    "        \"action\": \"CLOSE\",\n",
    "        \"object\": \"bottom_cabinet_44\"\n",
    "    },\n",
    "    {\n",
    "        \"action\": \"CLOSE\",\n",
    "        \"object\": \"bottom_cabinet_30\"\n",
    "    }\n",
    "]"
   ]
  },
  {
   "cell_type": "code",
   "execution_count": 9,
   "metadata": {},
   "outputs": [
    {
     "name": "stdout",
     "output_type": "stream",
     "text": [
      "Open bottom_cabinet_44 failed\n",
      "(False, {'satisfied': [1], 'unsatisfied': [0, 2, 3, 4, 5, 6]})\n",
      "Open bottom_cabinet_30 failed\n",
      "(False, {'satisfied': [1], 'unsatisfied': [0, 2, 3, 4, 5, 6]})\n",
      "Grasp paper_towel_0 with right_hand successful\n",
      "(False, {'satisfied': [1], 'unsatisfied': [0, 2, 3, 4, 5, 6]})\n",
      "Soak paper_towel_0 success\n",
      "(False, {'satisfied': [1], 'unsatisfied': [0, 2, 3, 4, 5, 6]})\n",
      "Clean-dust floors success\n",
      "(False, {'satisfied': [1, 6], 'unsatisfied': [0, 2, 3, 4, 5]})\n",
      "Clean-dust shelf_31 success\n",
      "(False, {'satisfied': [1, 5, 6], 'unsatisfied': [0, 2, 3, 4]})\n",
      "Clean failed, object is already cleaned\n",
      "(False, {'satisfied': [1, 5, 6], 'unsatisfied': [0, 2, 3, 4]})\n",
      "Clean-dust bottom_cabinet_30 success\n",
      "(False, {'satisfied': [1, 4, 5, 6], 'unsatisfied': [0, 2, 3]})\n",
      "Place ontop paper_towel_0 room_floor_closet_0 successful\n",
      "(False, {'satisfied': [1, 4, 5, 6], 'unsatisfied': [0, 2, 3]})\n",
      "Grasp hat_0 with right_hand successful\n",
      "(False, {'satisfied': [1, 4, 5, 6], 'unsatisfied': [0, 2, 3]})\n",
      "Grasp necklace_0 with left_hand successful\n",
      "(False, {'satisfied': [1, 4, 5, 6], 'unsatisfied': [0, 2, 3]})\n",
      "Place ontop hat_0 shelf_31 successful\n",
      "(False, {'satisfied': [1, 2, 4, 5, 6], 'unsatisfied': [0, 3]})\n",
      "Place inside necklace_0 bottom_cabinet_30 successful\n",
      "(False, {'satisfied': [1, 2, 4, 5, 6], 'unsatisfied': [0, 3]})\n",
      "Grasp bracelet_0 with right_hand successful\n",
      "(False, {'satisfied': [1, 2, 4, 5, 6], 'unsatisfied': [0, 3]})\n",
      "Place inside bracelet_0 bottom_cabinet_30 successful\n",
      "(False, {'satisfied': [0, 1, 2, 4, 5, 6], 'unsatisfied': [3]})\n",
      "Grasp sandal_0 with left_hand successful\n",
      "(False, {'satisfied': [0, 1, 2, 4, 5, 6], 'unsatisfied': [3]})\n",
      "Place next to sandal_0 shelf_31 on top of room_floor_closet_0 successful\n",
      "(False, {'satisfied': [0, 1, 2, 4, 5, 6], 'unsatisfied': [3]})\n",
      "Grasp sandal_1 with left_hand successful\n",
      "(False, {'satisfied': [0, 1, 2, 4, 5, 6], 'unsatisfied': [3]})\n",
      "Place next to sandal_1 shelf_31 on top of room_floor_closet_0 successful\n",
      "(True, {'satisfied': [0, 1, 2, 3, 4, 5, 6], 'unsatisfied': []})\n",
      "Close bottom_cabinet_44 success\n",
      "(True, {'satisfied': [0, 1, 2, 3, 4, 5, 6], 'unsatisfied': []})\n",
      "Close bottom_cabinet_30 success\n",
      "(True, {'satisfied': [0, 1, 2, 3, 4, 5, 6], 'unsatisfied': []})\n"
     ]
    }
   ],
   "source": [
    "for action in actions:\n",
    "    action_name=action[\"action\"]\n",
    "    obj=action[\"object\"]\n",
    "    env.apply_action(action_name,obj)\n",
    "    print(env.task.check_success())\n",
    "    "
   ]
  },
  {
   "cell_type": "code",
   "execution_count": 10,
   "metadata": {},
   "outputs": [
    {
     "data": {
      "text/plain": [
       "(True, {'satisfied': [0, 1, 2, 3, 4, 5, 6], 'unsatisfied': []})"
      ]
     },
     "execution_count": 10,
     "metadata": {},
     "output_type": "execute_result"
    }
   ],
   "source": [
    "env.task.check_success()"
   ]
  },
  {
   "cell_type": "code",
   "execution_count": 11,
   "metadata": {},
   "outputs": [
    {
     "name": "stdout",
     "output_type": "stream",
     "text": [
      "root\n",
      "  umbrella_0 None\n",
      "  shelf_31 None\n",
      "    hat_0 TeleportType.ONTOP\n",
      "  bottom_cabinet_30 None\n",
      "    necklace_0 TeleportType.INSIDE\n",
      "    bracelet_0 TeleportType.INSIDE\n",
      "  bottom_cabinet_1 None\n",
      "  bottom_cabinet_44 None\n",
      "  paper_towel_0 None\n",
      "  sandal_0 None\n",
      "  sandal_1 None\n",
      "\n"
     ]
    }
   ],
   "source": [
    "print(env.action_env.relation_tree)"
   ]
  },
  {
   "cell_type": "code",
   "execution_count": 12,
   "metadata": {},
   "outputs": [
    {
     "name": "stdout",
     "output_type": "stream",
     "text": [
      "True\n",
      "True\n"
     ]
    }
   ],
   "source": [
    "obj1=get_obj(\"sandal_1\")\n",
    "print(obj1.states[object_states.OnFloor].get_value(get_obj(\"room_floor_closet_0\")))\n",
    "print(obj1.states[object_states.NextTo].get_value(get_obj(\"shelf_31\")))"
   ]
  }
 ],
 "metadata": {
  "kernelspec": {
   "display_name": "igibson-eval",
   "language": "python",
   "name": "python3"
  },
  "language_info": {
   "codemirror_mode": {
    "name": "ipython",
    "version": 3
   },
   "file_extension": ".py",
   "mimetype": "text/x-python",
   "name": "python",
   "nbconvert_exporter": "python",
   "pygments_lexer": "ipython3",
   "version": "3.8.19"
  }
 },
 "nbformat": 4,
 "nbformat_minor": 2
}
