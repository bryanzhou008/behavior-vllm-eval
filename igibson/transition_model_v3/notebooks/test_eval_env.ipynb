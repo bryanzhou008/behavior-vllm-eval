{
 "cells": [
  {
   "cell_type": "code",
   "execution_count": 1,
   "metadata": {},
   "outputs": [
    {
     "name": "stdout",
     "output_type": "stream",
     "text": [
      "\n",
      " _   _____  _  _\n",
      "(_) / ____|(_)| |\n",
      " _ | |  __  _ | |__   ___   ___   _ __\n",
      "| || | |_ || || '_ \\ / __| / _ \\ | '_ \\\n",
      "| || |__| || || |_) |\\__ \\| (_) || | | |\n",
      "|_| \\_____||_||_.__/ |___/ \\___/ |_| |_|\n",
      "\n"
     ]
    },
    {
     "name": "stderr",
     "output_type": "stream",
     "text": [
      "torch is not available, falling back to rendering to memory (instead of tensor)\n"
     ]
    }
   ],
   "source": [
    "from igibson.transition_model_v3.eval_env import EvalEnv\n",
    "from igibson.transition_model_v3.eval_env import EvalActions\n",
    "import platform\n",
    "import igibson.object_states as object_states"
   ]
  },
  {
   "cell_type": "code",
   "execution_count": 2,
   "metadata": {},
   "outputs": [],
   "source": [
    "class Env:\n",
    "    def __init__(self,config):\n",
    "        self.config = config    \n",
    "\n",
    "   "
   ]
  },
  {
   "cell_type": "code",
   "execution_count": 3,
   "metadata": {},
   "outputs": [],
   "source": [
    "demo_path=rb\"D:\\GitHub\\behavior-vllm-eval\\igibson\\data\\virtual_reality\\bringing_in_wood_0_Benevolence_1_int_0_2021-09-15_18-42-25.hdf5\""
   ]
  },
  {
   "cell_type": "code",
   "execution_count": 4,
   "metadata": {},
   "outputs": [],
   "source": [
    "headless = True\n",
    "env=EvalEnv(demo_path=demo_path,mode=\"headless\" if headless else \"gui_non_interactive\",\n",
    "        use_pb_gui=(not headless and platform.system() != \"Darwin\"),)"
   ]
  },
  {
   "cell_type": "code",
   "execution_count": 6,
   "metadata": {},
   "outputs": [
    {
     "data": {
      "text/plain": [
       "[<igibson.objects.articulated_object.URDFObject at 0x28c3853b250>,\n",
       " <igibson.object_states.on_floor.RoomFloor at 0x28c385a3c70>,\n",
       " <igibson.objects.articulated_object.URDFObject at 0x28c38647f40>,\n",
       " <igibson.object_states.on_floor.RoomFloor at 0x28c385a1760>,\n",
       " <igibson.objects.articulated_object.URDFObject at 0x28c386aa790>]"
      ]
     },
     "execution_count": 6,
     "metadata": {},
     "output_type": "execute_result"
    }
   ],
   "source": [
    "env.addressable_objects"
   ]
  },
  {
   "cell_type": "code",
   "execution_count": 7,
   "metadata": {},
   "outputs": [
    {
     "name": "stdout",
     "output_type": "stream",
     "text": [
      "root\n",
      "  plywood_2\n",
      "  room_floor_living_room_0\n",
      "  plywood_0\n",
      "  room_floor_kitchen_0\n",
      "  plywood_1\n",
      "\n"
     ]
    }
   ],
   "source": [
    "print(env.action_env.inside_tree)"
   ]
  },
  {
   "cell_type": "code",
   "execution_count": null,
   "metadata": {},
   "outputs": [],
   "source": []
  },
  {
   "cell_type": "code",
   "execution_count": 5,
   "metadata": {},
   "outputs": [
    {
     "name": "stderr",
     "output_type": "stream",
     "text": [
      "C:\\Users\\wkr\\AppData\\Local\\Temp\\ipykernel_31556\\1534369905.py:2: DeprecationWarning: the imp module is deprecated in favour of importlib; see the module's documentation for alternative uses\n",
      "  import imp\n"
     ]
    }
   ],
   "source": [
    "from igibson.transition_model_v2 import action_env\n",
    "import imp\n",
    "imp.reload(action_env)\n",
    "\n",
    "env.action_env=action_env.ActionEnv(env.simulator,env.scene,env.robot,env.addressable_objects)\n",
    "env.control_function={\n",
    "            EvalActions.NAVIGATE_TO.value: env.action_env.navigate,\n",
    "            EvalActions.LEFT_GRASP.value: env.action_env.left_grasp,\n",
    "            EvalActions.RIGHT_GRASP.value: env.action_env.right_grasp,\n",
    "            EvalActions.LEFT_PLACE_ONTOP.value: env.action_env.left_place_ontop,\n",
    "            EvalActions.RIGHT_PLACE_ONTOP.value: env.action_env.right_place_ontop,\n",
    "            EvalActions.LEFT_PLACE_INSIDE.value: env.action_env.left_place_inside,\n",
    "            EvalActions.RIGHT_PLACE_INSIDE.value: env.action_env.right_place_inside,\n",
    "            EvalActions.RIGHT_RELEASE.value: env.action_env.right_release,\n",
    "            EvalActions.LEFT_RELEASE.value: env.action_env.left_release,\n",
    "            EvalActions.OPEN.value: env.action_env.open,\n",
    "            EvalActions.CLOSE.value: env.action_env.close,\n",
    "            EvalActions.CLEAN.value: env.action_env.clean_dust,\n",
    "            EvalActions.SLICE.value: env.action_env.slice,\n",
    "        }"
   ]
  },
  {
   "cell_type": "code",
   "execution_count": 5,
   "metadata": {},
   "outputs": [
    {
     "name": "stdout",
     "output_type": "stream",
     "text": [
      "plywood_1\n",
      "room_floor_living_room_0\n",
      "plywood_2\n",
      "room_floor_kitchen_0\n",
      "plywood_0\n"
     ]
    }
   ],
   "source": [
    "for obj in env.addressable_objects:\n",
    "    print(obj.name)"
   ]
  },
  {
   "cell_type": "code",
   "execution_count": 6,
   "metadata": {},
   "outputs": [],
   "source": [
    "actions=[\n",
    "    {\n",
    "        \"action\": \"RIGHT_GRASP\",\n",
    "        \"object\": \"plywood_2\"\n",
    "    },\n",
    "    {\n",
    "        \"action\": \"LEFT_GRASP\",\n",
    "        \"object\": \"plywood_0\"\n",
    "    },\n",
    "    {\n",
    "        \"action\": \"LEFT_PLACE_ONTOP\",\n",
    "        \"object\": \"room_floor_kitchen_0\"\n",
    "    },\n",
    "    {\n",
    "        \"action\": \"RIGHT_PLACE_ONTOP\",\n",
    "        \"object\": \"room_floor_kitchen_0\"\n",
    "    },\n",
    "    {\n",
    "        \"action\": \"RIGHT_GRASP\",\n",
    "        \"object\": \"plywood_1\"\n",
    "    },\n",
    "    {\n",
    "        \"action\": \"RIGHT_PLACE_ONTOP\",\n",
    "        \"object\": \"room_floor_kitchen_0\"\n",
    "    }\n",
    "]"
   ]
  },
  {
   "cell_type": "code",
   "execution_count": 29,
   "metadata": {},
   "outputs": [],
   "source": [
    "obj=env.obj_name_to_obj[\"room_floor_living_room_0\"]"
   ]
  },
  {
   "cell_type": "code",
   "execution_count": 30,
   "metadata": {},
   "outputs": [
    {
     "data": {
      "text/plain": [
       "<igibson.object_states.on_floor.RoomFloor at 0x13584887d00>"
      ]
     },
     "execution_count": 30,
     "metadata": {},
     "output_type": "execute_result"
    }
   ],
   "source": [
    "obj"
   ]
  },
  {
   "cell_type": "code",
   "execution_count": 22,
   "metadata": {},
   "outputs": [
    {
     "name": "stdout",
     "output_type": "stream",
     "text": [
      "[0. 0. 0.]\n"
     ]
    }
   ],
   "source": [
    "print(obj.get_position())"
   ]
  },
  {
   "cell_type": "code",
   "execution_count": 23,
   "metadata": {},
   "outputs": [
    {
     "name": "stdout",
     "output_type": "stream",
     "text": [
      "(array([-1.05301714, -3.15605521, -0.1       ]), array([0., 0., 0., 1.]), array([ 6.33955713, 11.21389003,  0.206     ]), array([-1.05301714, -3.15605521, -0.1       ]))\n"
     ]
    }
   ],
   "source": [
    "print(obj.get_base_aligned_bounding_box())"
   ]
  },
  {
   "cell_type": "code",
   "execution_count": 7,
   "metadata": {},
   "outputs": [
    {
     "name": "stdout",
     "output_type": "stream",
     "text": [
      "Grasp plywood_2 with right_hand successful\n",
      "(False, {'satisfied': [], 'unsatisfied': [0]})\n",
      "Grasp plywood_0 with left_hand successful\n",
      "(False, {'satisfied': [], 'unsatisfied': [0]})\n"
     ]
    },
    {
     "ename": "TypeError",
     "evalue": "'NoneType' object is not subscriptable",
     "output_type": "error",
     "traceback": [
      "\u001b[1;31m---------------------------------------------------------------------------\u001b[0m",
      "\u001b[1;31mTypeError\u001b[0m                                 Traceback (most recent call last)",
      "Cell \u001b[1;32mIn[7], line 3\u001b[0m\n\u001b[0;32m      1\u001b[0m \u001b[38;5;28;01mfor\u001b[39;00m action \u001b[38;5;129;01min\u001b[39;00m actions:\n\u001b[0;32m      2\u001b[0m     action_execuble\u001b[38;5;241m=\u001b[39m(action[\u001b[38;5;124m'\u001b[39m\u001b[38;5;124maction\u001b[39m\u001b[38;5;124m'\u001b[39m], action[\u001b[38;5;124m'\u001b[39m\u001b[38;5;124mobject\u001b[39m\u001b[38;5;124m'\u001b[39m])\n\u001b[1;32m----> 3\u001b[0m     \u001b[43menv\u001b[49m\u001b[38;5;241;43m.\u001b[39;49m\u001b[43mstep\u001b[49m\u001b[43m(\u001b[49m\u001b[43maction_execuble\u001b[49m\u001b[43m)\u001b[49m\n\u001b[0;32m      4\u001b[0m     \u001b[38;5;28mprint\u001b[39m(env\u001b[38;5;241m.\u001b[39mtask\u001b[38;5;241m.\u001b[39mcheck_success())\n",
      "File \u001b[1;32mD:\\GitHub\\behavior-vllm-eval\\igibson\\transition_model_v2\\eval_env.py:156\u001b[0m, in \u001b[0;36mEvalEnv.step\u001b[1;34m(self, action)\u001b[0m\n\u001b[0;32m    154\u001b[0m \u001b[38;5;28;01mif\u001b[39;00m \u001b[38;5;28misinstance\u001b[39m(object_idx,\u001b[38;5;28mstr\u001b[39m):\n\u001b[0;32m    155\u001b[0m     object_idx\u001b[38;5;241m=\u001b[39m\u001b[38;5;28mself\u001b[39m\u001b[38;5;241m.\u001b[39mobj_name_to_idx[object_idx]\n\u001b[1;32m--> 156\u001b[0m flag\u001b[38;5;241m=\u001b[39m\u001b[38;5;28;43mself\u001b[39;49m\u001b[38;5;241;43m.\u001b[39;49m\u001b[43mcontrol_function\u001b[49m\u001b[43m[\u001b[49m\u001b[43maction_idx\u001b[49m\u001b[43m]\u001b[49m\u001b[43m(\u001b[49m\u001b[38;5;28;43mself\u001b[39;49m\u001b[38;5;241;43m.\u001b[39;49m\u001b[43maddressable_objects\u001b[49m\u001b[43m[\u001b[49m\u001b[43mobject_idx\u001b[49m\u001b[43m]\u001b[49m\u001b[43m)\u001b[49m\n\u001b[0;32m    157\u001b[0m \u001b[38;5;28mself\u001b[39m\u001b[38;5;241m.\u001b[39msimulator\u001b[38;5;241m.\u001b[39mstep()\n\u001b[0;32m    158\u001b[0m obs, reward, done, info \u001b[38;5;241m=\u001b[39m \u001b[38;5;28mself\u001b[39m\u001b[38;5;241m.\u001b[39menv\u001b[38;5;241m.\u001b[39mstep(\u001b[38;5;28;01mNone\u001b[39;00m)\n",
      "File \u001b[1;32mD:\\GitHub\\behavior-vllm-eval\\igibson\\transition_model_v2\\action_env.py:609\u001b[0m, in \u001b[0;36mActionEnv.left_place_ontop\u001b[1;34m(self, obj)\u001b[0m\n\u001b[0;32m    608\u001b[0m \u001b[38;5;28;01mdef\u001b[39;00m \u001b[38;5;21mleft_place_ontop\u001b[39m(\u001b[38;5;28mself\u001b[39m,obj:URDFObject):\n\u001b[1;32m--> 609\u001b[0m     \u001b[38;5;28;01mreturn\u001b[39;00m \u001b[38;5;28;43mself\u001b[39;49m\u001b[38;5;241;43m.\u001b[39;49m\u001b[43mplace_ontop\u001b[49m\u001b[43m(\u001b[49m\u001b[43mobj\u001b[49m\u001b[43m,\u001b[49m\u001b[38;5;124;43m'\u001b[39;49m\u001b[38;5;124;43mleft_hand\u001b[39;49m\u001b[38;5;124;43m'\u001b[39;49m\u001b[43m)\u001b[49m\n",
      "File \u001b[1;32mD:\\GitHub\\behavior-vllm-eval\\igibson\\transition_model_v2\\action_env.py:140\u001b[0m, in \u001b[0;36mActionEnv.place_ontop\u001b[1;34m(self, obj, hand)\u001b[0m\n\u001b[0;32m    137\u001b[0m     \u001b[38;5;28;01mreturn\u001b[39;00m \u001b[38;5;28;01mFalse\u001b[39;00m\n\u001b[0;32m    139\u001b[0m \u001b[38;5;66;03m## post effects\u001b[39;00m\n\u001b[1;32m--> 140\u001b[0m \u001b[38;5;28;43mself\u001b[39;49m\u001b[38;5;241;43m.\u001b[39;49m\u001b[43mnavigate_to_if_needed\u001b[49m\u001b[43m(\u001b[49m\u001b[43mobj\u001b[49m\u001b[43m)\u001b[49m\n\u001b[0;32m    141\u001b[0m \u001b[38;5;28mself\u001b[39m\u001b[38;5;241m.\u001b[39minside_tree\u001b[38;5;241m.\u001b[39mgrasp(obj_in_hand)\n\u001b[0;32m    142\u001b[0m \u001b[38;5;28mself\u001b[39m\u001b[38;5;241m.\u001b[39mset_ontop(obj_in_hand,obj)\n",
      "File \u001b[1;32mD:\\GitHub\\behavior-vllm-eval\\igibson\\transition_model_v2\\action_env.py:512\u001b[0m, in \u001b[0;36mActionEnv.navigate_to_if_needed\u001b[1;34m(self, obj)\u001b[0m\n\u001b[0;32m    510\u001b[0m \u001b[38;5;28;01mdef\u001b[39;00m \u001b[38;5;21mnavigate_to_if_needed\u001b[39m(\u001b[38;5;28mself\u001b[39m,obj:URDFObject):\n\u001b[0;32m    511\u001b[0m     \u001b[38;5;28;01mif\u001b[39;00m \u001b[38;5;129;01mnot\u001b[39;00m obj\u001b[38;5;241m.\u001b[39mstates[object_states\u001b[38;5;241m.\u001b[39mInReachOfRobot]\u001b[38;5;241m.\u001b[39mget_value():\n\u001b[1;32m--> 512\u001b[0m         \u001b[38;5;28;43mself\u001b[39;49m\u001b[38;5;241;43m.\u001b[39;49m\u001b[43mnavigate_to\u001b[49m\u001b[43m(\u001b[49m\u001b[43mobj\u001b[49m\u001b[43m)\u001b[49m\n",
      "File \u001b[1;32mD:\\GitHub\\behavior-vllm-eval\\igibson\\transition_model_v2\\action_env.py:34\u001b[0m, in \u001b[0;36mActionEnv.navigate_to\u001b[1;34m(self, obj)\u001b[0m\n\u001b[0;32m     31\u001b[0m \u001b[38;5;28;01mif\u001b[39;00m obj\u001b[38;5;241m.\u001b[39mstates[object_states\u001b[38;5;241m.\u001b[39mInReachOfRobot]\u001b[38;5;241m.\u001b[39mget_value():\n\u001b[0;32m     32\u001b[0m     \u001b[38;5;28;01mreturn\u001b[39;00m \u001b[38;5;28;01mTrue\u001b[39;00m\n\u001b[1;32m---> 34\u001b[0m \u001b[38;5;28;43mself\u001b[39;49m\u001b[38;5;241;43m.\u001b[39;49m\u001b[43mset_robot_pos_for_obj\u001b[49m\u001b[43m(\u001b[49m\u001b[43mobj\u001b[49m\u001b[43m)\u001b[49m\n\u001b[0;32m     35\u001b[0m \u001b[38;5;28;01mfor\u001b[39;00m hand,invent_obj \u001b[38;5;129;01min\u001b[39;00m \u001b[38;5;28mself\u001b[39m\u001b[38;5;241m.\u001b[39mrobot_inventory\u001b[38;5;241m.\u001b[39mitems():\n\u001b[0;32m     36\u001b[0m     \u001b[38;5;28;01mif\u001b[39;00m invent_obj \u001b[38;5;129;01mis\u001b[39;00m \u001b[38;5;129;01mnot\u001b[39;00m \u001b[38;5;28;01mNone\u001b[39;00m:\n",
      "File \u001b[1;32mD:\\GitHub\\behavior-vllm-eval\\igibson\\transition_model_v2\\action_env.py:567\u001b[0m, in \u001b[0;36mActionEnv.set_robot_pos_for_obj\u001b[1;34m(self, obj)\u001b[0m\n\u001b[0;32m    565\u001b[0m bbox \u001b[38;5;241m=\u001b[39m obj\u001b[38;5;241m.\u001b[39mbounding_box\n\u001b[0;32m    566\u001b[0m robot_pos \u001b[38;5;241m=\u001b[39m np\u001b[38;5;241m.\u001b[39mzeros(\u001b[38;5;241m3\u001b[39m)\n\u001b[1;32m--> 567\u001b[0m robot_pos[\u001b[38;5;241m0\u001b[39m] \u001b[38;5;241m=\u001b[39m obj_pos[\u001b[38;5;241m0\u001b[39m] \u001b[38;5;241m+\u001b[39m rotated_vec[\u001b[38;5;241m0\u001b[39m] \u001b[38;5;241m*\u001b[39m \u001b[43mbbox\u001b[49m\u001b[43m[\u001b[49m\u001b[38;5;241;43m1\u001b[39;49m\u001b[43m]\u001b[49m \u001b[38;5;241m*\u001b[39m \u001b[38;5;241m0.5\u001b[39m \u001b[38;5;241m+\u001b[39m rotated_vec[\u001b[38;5;241m0\u001b[39m]\n\u001b[0;32m    568\u001b[0m robot_pos[\u001b[38;5;241m1\u001b[39m] \u001b[38;5;241m=\u001b[39m obj_pos[\u001b[38;5;241m1\u001b[39m] \u001b[38;5;241m+\u001b[39m rotated_vec[\u001b[38;5;241m1\u001b[39m] \u001b[38;5;241m*\u001b[39m bbox[\u001b[38;5;241m1\u001b[39m] \u001b[38;5;241m*\u001b[39m \u001b[38;5;241m0.5\u001b[39m \u001b[38;5;241m+\u001b[39m rotated_vec[\u001b[38;5;241m1\u001b[39m]\n\u001b[0;32m    569\u001b[0m robot_pos[\u001b[38;5;241m2\u001b[39m] \u001b[38;5;241m=\u001b[39m \u001b[38;5;241m0.25\u001b[39m\n",
      "\u001b[1;31mTypeError\u001b[0m: 'NoneType' object is not subscriptable"
     ]
    }
   ],
   "source": [
    "for action in actions:\n",
    "    action_execuble=(action['action'], action['object'])\n",
    "    env.step(action_execuble)\n",
    "    print(env.task.check_success())"
   ]
  },
  {
   "cell_type": "code",
   "execution_count": 9,
   "metadata": {},
   "outputs": [
    {
     "data": {
      "text/plain": [
       "(True, {'satisfied': [0, 1, 2, 3, 4], 'unsatisfied': []})"
      ]
     },
     "execution_count": 9,
     "metadata": {},
     "output_type": "execute_result"
    },
    {
     "ename": "",
     "evalue": "",
     "output_type": "error",
     "traceback": [
      "\u001b[1;31mThe Kernel crashed while executing code in the current cell or a previous cell. \n",
      "\u001b[1;31mPlease review the code in the cell(s) to identify a possible cause of the failure. \n",
      "\u001b[1;31mClick <a href='https://aka.ms/vscodeJupyterKernelCrash'>here</a> for more info. \n",
      "\u001b[1;31mView Jupyter <a href='command:jupyter.viewOutput'>log</a> for further details."
     ]
    }
   ],
   "source": [
    "env.task.check_success()"
   ]
  }
 ],
 "metadata": {
  "kernelspec": {
   "display_name": "igibson-eval",
   "language": "python",
   "name": "python3"
  },
  "language_info": {
   "codemirror_mode": {
    "name": "ipython",
    "version": 3
   },
   "file_extension": ".py",
   "mimetype": "text/x-python",
   "name": "python",
   "nbconvert_exporter": "python",
   "pygments_lexer": "ipython3",
   "version": "3.8.19"
  }
 },
 "nbformat": 4,
 "nbformat_minor": 2
}
