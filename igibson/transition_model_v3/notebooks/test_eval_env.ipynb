{
 "cells": [
  {
   "cell_type": "code",
   "execution_count": 3,
   "metadata": {},
   "outputs": [],
   "source": [
    "from igibson.transition_model_v3.eval_env import EvalEnv\n",
    "from igibson.transition_model_v3.eval_env import EvalActions\n",
    "import platform\n",
    "import igibson.object_states as object_states"
   ]
  },
  {
   "cell_type": "code",
   "execution_count": 4,
   "metadata": {},
   "outputs": [],
   "source": [
    "demo_path=rb\"D:\\GitHub\\behavior-vllm-eval\\igibson\\data\\virtual_reality\\chopping_vegetables_0_Rs_int_0_2021-05-25_22-01-16.hdf5\""
   ]
  },
  {
   "cell_type": "code",
   "execution_count": 5,
   "metadata": {},
   "outputs": [
    {
     "name": "stderr",
     "output_type": "stream",
     "text": [
      "scene quality check: bottom_cabinet_41 has joint that cannot extend for >66%.\n"
     ]
    },
    {
     "name": "stdout",
     "output_type": "stream",
     "text": [
      "indent from and: 1\n",
      "indent from and: 1\n",
      "indent from and: 1\n",
      "indent from and: 1\n"
     ]
    }
   ],
   "source": [
    "headless = True\n",
    "env=EvalEnv(demo_path=demo_path,mode=\"headless\" if headless else \"gui_non_interactive\",\n",
    "        use_pb_gui=(not headless and platform.system() != \"Darwin\"),)"
   ]
  },
  {
   "cell_type": "code",
   "execution_count": 6,
   "metadata": {},
   "outputs": [
    {
     "name": "stdout",
     "output_type": "stream",
     "text": [
      "tomato_62_part_1\n",
      "mushroom_64\n",
      "tomato_62_part_0\n",
      "mushroom_64_multiplexer\n",
      "mushroom_64_part_0\n",
      "mushroom_63_multiplexer\n",
      "chestnut_65_part_1\n",
      "mushroom_63_part_0\n",
      "vidalia_onion_67\n",
      "vidalia_onion_68_part_1\n",
      "chestnut_66\n",
      "tomato_61\n",
      "tomato_62\n",
      "countertop_26\n",
      "tomato_61_multiplexer\n",
      "chestnut_65_part_0\n",
      "vidalia_onion_67_multiplexer\n",
      "vidalia_onion_68_multiplexer\n",
      "vidalia_onion_67_part_1\n",
      "fridge_40\n",
      "room_floor_kitchen_0\n",
      "mushroom_63\n",
      "mushroom_64_part_1\n",
      "top_cabinet_50\n",
      "vidalia_onion_67_part_0\n",
      "chestnut_66_part_1\n",
      "tomato_61_part_1\n",
      "carving_knife_69\n",
      "casserole_71\n",
      "vidalia_onion_68\n",
      "sink_42\n",
      "vidalia_onion_68_part_0\n",
      "tomato_61_part_0\n",
      "casserole_70\n",
      "chestnut_65\n",
      "mushroom_63_part_1\n",
      "chestnut_65_multiplexer\n",
      "chestnut_66_multiplexer\n",
      "chestnut_66_part_0\n",
      "tomato_62_multiplexer\n"
     ]
    }
   ],
   "source": [
    "for obj in env.addressable_objects:\n",
    "    print(obj.name)"
   ]
  },
  {
   "cell_type": "code",
   "execution_count": 7,
   "metadata": {},
   "outputs": [
    {
     "name": "stdout",
     "output_type": "stream",
     "text": [
      "root\n",
      "  tomato_62_part_1 None\n",
      "  tomato_62_part_0 None\n",
      "  mushroom_64_part_0 None\n",
      "  chestnut_65_part_1 None\n",
      "  mushroom_63_part_0 None\n",
      "  vidalia_onion_68_part_1 None\n",
      "  chestnut_65_part_0 None\n",
      "  vidalia_onion_67_part_1 None\n",
      "  mushroom_64_part_1 None\n",
      "  vidalia_onion_67_part_0 None\n",
      "  chestnut_66_part_1 None\n",
      "  tomato_61_part_1 None\n",
      "  sink_42 None\n",
      "  vidalia_onion_68_part_0 None\n",
      "  tomato_61_part_0 None\n",
      "  mushroom_63_part_1 None\n",
      "  chestnut_66_part_0 None\n",
      "  countertop_26 None\n",
      "    mushroom_64 TeleportType.ONTOP\n",
      "    chestnut_66 TeleportType.ONTOP\n",
      "    tomato_61 TeleportType.ONTOP\n",
      "    tomato_62 TeleportType.ONTOP\n",
      "    mushroom_63 TeleportType.ONTOP\n",
      "    carving_knife_69 TeleportType.ONTOP\n",
      "    chestnut_65 TeleportType.ONTOP\n",
      "  fridge_40 None\n",
      "    vidalia_onion_67 TeleportType.INSIDE\n",
      "    vidalia_onion_68 TeleportType.INSIDE\n",
      "  top_cabinet_50 None\n",
      "    casserole_71 TeleportType.INSIDE\n",
      "    casserole_70 TeleportType.INSIDE\n",
      "\n"
     ]
    }
   ],
   "source": [
    "print(env.action_env.relation_tree)"
   ]
  },
  {
   "cell_type": "code",
   "execution_count": 8,
   "metadata": {},
   "outputs": [],
   "source": [
    "actions=[\n",
    "    {\n",
    "        \"action\": \"OPEN\",\n",
    "        \"object\": \"top_cabinet_50\"\n",
    "    },\n",
    "    {\n",
    "        \"action\": \"LEFT_GRASP\",\n",
    "        \"object\": \"casserole_71\"\n",
    "    },\n",
    "    {\n",
    "        \"action\": \"LEFT_PLACE_ONTOP\",\n",
    "        \"object\": \"countertop_26\"\n",
    "    },\n",
    "    {\n",
    "        \"action\": \"RIGHT_GRASP\",\n",
    "        \"object\": \"chestnut_66\"\n",
    "    },\n",
    "    {\n",
    "        \"action\": \"RIGHT_PLACE_INSIDE\",\n",
    "        \"object\": \"casserole_71\"\n",
    "    },\n",
    "    {\n",
    "        \"action\": \"RIGHT_GRASP\",\n",
    "        \"object\": \"chestnut_65\"\n",
    "    },\n",
    "    {\n",
    "        \"action\": \"RIGHT_PLACE_INSIDE\",\n",
    "        \"object\": \"casserole_71\"\n",
    "    },\n",
    "    {\n",
    "        \"action\": \"RIGHT_GRASP\",\n",
    "        \"object\": \"mushroom_63\"\n",
    "    },\n",
    "    {\n",
    "        \"action\": \"RIGHT_PLACE_INSIDE\",\n",
    "        \"object\": \"casserole_71\"\n",
    "    },\n",
    "    {\n",
    "        \"action\": \"RIGHT_GRASP\",\n",
    "        \"object\": \"mushroom_64\"\n",
    "    },\n",
    "    {\n",
    "        \"action\": \"RIGHT_PLACE_INSIDE\",\n",
    "        \"object\": \"casserole_71\"\n",
    "    },\n",
    "    {\n",
    "        \"action\": \"RIGHT_GRASP\",\n",
    "        \"object\": \"tomato_62\"\n",
    "    },\n",
    "    {\n",
    "        \"action\": \"RIGHT_PLACE_INSIDE\",\n",
    "        \"object\": \"casserole_71\"\n",
    "    },\n",
    "    {\n",
    "        \"action\": \"RIGHT_GRASP\",\n",
    "        \"object\": \"tomato_61\"\n",
    "    },\n",
    "    {\n",
    "        \"action\": \"RIGHT_PLACE_INSIDE\",\n",
    "        \"object\": \"casserole_71\"\n",
    "    },\n",
    "    {\n",
    "        \"action\": \"OPEN\",\n",
    "        \"object\": \"fridge_40\"\n",
    "    },\n",
    "    {\n",
    "        \"action\": \"RIGHT_GRASP\",\n",
    "        \"object\": \"vidalia_onion_67\"\n",
    "    },\n",
    "    {\n",
    "        \"action\": \"LEFT_GRASP\",\n",
    "        \"object\": \"vidalia_onion_68\"\n",
    "    },\n",
    "    {\n",
    "        \"action\": \"LEFT_PLACE_ONTOP\",\n",
    "        \"object\": \"countertop_26\"\n",
    "    },\n",
    "    {\n",
    "        \"action\": \"RIGHT_PLACE_ONTOP\",\n",
    "        \"object\": \"countertop_26\"\n",
    "    },\n",
    "    {\n",
    "        \"action\": \"RIGHT_GRASP\",\n",
    "        \"object\": \"carving_knife_69\"\n",
    "    },\n",
    "    {\n",
    "        \"action\": \"SLICE\",\n",
    "        \"object\": \"chestnut_66\"\n",
    "    },\n",
    "    {\n",
    "        \"action\": \"SLICE\",\n",
    "        \"object\": \"chestnut_65\"\n",
    "    },\n",
    "    {\n",
    "        \"action\": \"SLICE\",\n",
    "        \"object\": \"mushroom_63\"\n",
    "    },\n",
    "    {\n",
    "        \"action\": \"SLICE\",\n",
    "        \"object\": \"mushroom_64\"\n",
    "    },\n",
    "    {\n",
    "        \"action\": \"SLICE\",\n",
    "        \"object\": \"tomato_62\"\n",
    "    },\n",
    "    {\n",
    "        \"action\": \"SLICE\",\n",
    "        \"object\": \"tomato_61\"\n",
    "    },\n",
    "    {\n",
    "        \"action\": \"SLICE\",\n",
    "        \"object\": \"vidalia_onion_67\"\n",
    "    },\n",
    "    {\n",
    "        \"action\": \"SLICE\",\n",
    "        \"object\": \"vidalia_onion_68\"\n",
    "    },\n",
    "    {\n",
    "        \"action\": \"RIGHT_PLACE_ONTOP\",\n",
    "        \"object\": \"countertop_26\"\n",
    "    },\n",
    "    {\n",
    "        \"action\": \"RIGHT_GRASP\",\n",
    "        \"object\": \"vidalia_onion_67_part_0\"\n",
    "    },\n",
    "    {\n",
    "        \"action\": \"LEFT_GRASP\",\n",
    "        \"object\": \"vidalia_onion_67_part_1\"\n",
    "    },\n",
    "    {\n",
    "        \"action\": \"RIGHT_PLACE_INSIDE\",\n",
    "        \"object\": \"casserole_71\"\n",
    "    },\n",
    "    {\n",
    "        \"action\": \"LEFT_PLACE_INSIDE\",\n",
    "        \"object\": \"casserole_71\"\n",
    "    },\n",
    "    {\n",
    "        \"action\": \"RIGHT_GRASP\",\n",
    "        \"object\": \"vidalia_onion_68_part_0\"\n",
    "    },\n",
    "    {\n",
    "        \"action\": \"LEFT_GRASP\",\n",
    "        \"object\": \"vidalia_onion_68_part_1\"\n",
    "    },\n",
    "    {\n",
    "        \"action\": \"RIGHT_PLACE_INSIDE\",\n",
    "        \"object\": \"casserole_71\"\n",
    "    },\n",
    "    {\n",
    "        \"action\": \"LEFT_PLACE_INSIDE\",\n",
    "        \"object\": \"casserole_71\"\n",
    "    },\n",
    "    {\n",
    "        \"action\": \"CLOSE\",\n",
    "        \"object\": \"fridge_40\"\n",
    "    }\n",
    "]"
   ]
  },
  {
   "cell_type": "code",
   "execution_count": 10,
   "metadata": {},
   "outputs": [],
   "source": [
    "tracking_obj=env.obj_name_to_obj[\"casserole_71\"]"
   ]
  },
  {
   "cell_type": "code",
   "execution_count": 11,
   "metadata": {},
   "outputs": [
    {
     "name": "stdout",
     "output_type": "stream",
     "text": [
      "top_cabinet_50 is already opened\n",
      "(array([-1.82388364,  2.73822612,  1.71992689]), array([-1.49210850e-07,  1.96718599e-07, -8.09281897e-01,  5.87420472e-01]))\n",
      "(False, {'satisfied': [], 'unsatisfied': [0, 1, 2, 3]})\n",
      "Grasp casserole_71 with left_hand successful\n",
      "(array([-3.01621402,  3.12682665,  0.85094495]), array([-1.49210850e-07,  1.96718599e-07, -8.09281897e-01,  5.87420472e-01]))\n",
      "(False, {'satisfied': [], 'unsatisfied': [0, 1, 2, 3]})\n",
      "Place ontop casserole_71 countertop_26 unsuccessful\n",
      "(array([-0.80581848,  1.52980519,  1.14155892]), array([ 2.34192136e-05, -6.20932909e-05, -8.09287828e-01,  5.87412297e-01]))\n",
      "(False, {'satisfied': [], 'unsatisfied': [0, 1, 2, 3]})\n",
      "Grasp chestnut_66 with right_hand successful\n",
      "(array([-0.8058119 ,  1.52980085,  1.14156933]), array([ 4.31346293e-07, -1.13274526e-06, -8.09287830e-01,  5.87412299e-01]))\n",
      "(False, {'satisfied': [], 'unsatisfied': [0, 1, 2, 3]})\n",
      "Place inside chestnut_66 casserole_71 successful\n",
      "(array([-0.80581178,  1.52980077,  1.14156952]), array([ 1.08896981e-08, -1.73739408e-08, -8.09287830e-01,  5.87412299e-01]))\n",
      "(False, {'satisfied': [], 'unsatisfied': [0, 1, 2, 3]})\n",
      "Grasp chestnut_65 with right_hand successful\n",
      "(array([-0.80581178,  1.52980077,  1.14156952]), array([ 4.08326273e-09,  1.67724543e-09, -8.09287830e-01,  5.87412299e-01]))\n",
      "(False, {'satisfied': [], 'unsatisfied': [0, 1, 2, 3]})\n",
      "Place inside chestnut_65 casserole_71 successful\n",
      "(array([-0.80581178,  1.52980077,  1.14156952]), array([ 4.10346307e-09,  1.64860914e-09, -8.09287830e-01,  5.87412299e-01]))\n",
      "(False, {'satisfied': [], 'unsatisfied': [0, 1, 2, 3]})\n",
      "Grasp mushroom_63 with right_hand successful\n",
      "(array([-0.80581211,  1.52980075,  1.14156916]), array([ 2.04805295e-06, -1.07579437e-06, -8.09287837e-01,  5.87412288e-01]))\n",
      "(False, {'satisfied': [], 'unsatisfied': [0, 1, 2, 3]})\n",
      "Place inside mushroom_63 casserole_71 successful\n",
      "(array([-0.80581195,  1.52980078,  1.14156934]), array([ 6.33066587e-07, -3.33529653e-07, -8.09287832e-01,  5.87412295e-01]))\n",
      "(False, {'satisfied': [], 'unsatisfied': [0, 1, 2, 3]})\n",
      "Grasp mushroom_64 with right_hand successful\n",
      "(array([-0.8058121 ,  1.52980078,  1.14156934]), array([ 1.43030866e-06, -8.29732318e-07, -8.09287829e-01,  5.87412300e-01]))\n",
      "(False, {'satisfied': [], 'unsatisfied': [0, 1, 2, 3]})\n",
      "Place inside mushroom_64 casserole_71 successful\n",
      "(array([-0.80581194,  1.52980079,  1.14156948]), array([ 1.26715114e-07, -6.79371941e-08, -8.09287829e-01,  5.87412300e-01]))\n",
      "(False, {'satisfied': [], 'unsatisfied': [0, 1, 2, 3]})\n",
      "Grasp tomato_62 with right_hand successful\n",
      "(array([-0.80580286,  1.52979821,  1.1415555 ]), array([-4.80858770e-05,  6.10766059e-05, -8.09287838e-01,  5.87412282e-01]))\n",
      "(False, {'satisfied': [], 'unsatisfied': [0, 1, 2, 3]})\n",
      "Place inside tomato_62 casserole_71 successful\n",
      "(array([-0.80581175,  1.52980073,  1.14156926]), array([-8.72081350e-07,  1.11179741e-06, -8.09287836e-01,  5.87412291e-01]))\n",
      "(False, {'satisfied': [], 'unsatisfied': [0, 1, 2, 3]})\n",
      "Grasp tomato_61 with right_hand successful\n",
      "(array([-0.80581213,  1.52980108,  1.14156935]), array([-4.80877185e-07, -1.20839157e-06, -8.09287794e-01,  5.87412348e-01]))\n",
      "(False, {'satisfied': [], 'unsatisfied': [0, 1, 2, 3]})\n",
      "Place inside tomato_61 casserole_71 successful\n",
      "(array([-0.80597538,  1.53000374,  1.14156461]), array([-1.95091465e-05,  6.77414265e-05, -8.09199936e-01,  5.87533367e-01]))\n",
      "(False, {'satisfied': [], 'unsatisfied': [0, 1, 2, 3]})\n",
      "Open fridge_40 success\n",
      "(array([-0.80598214,  1.53000895,  1.14156943]), array([ 3.36463152e-07, -6.96357319e-08, -8.09200060e-01,  5.87533202e-01]))\n",
      "(False, {'satisfied': [], 'unsatisfied': [0, 1, 2, 3]})\n",
      "Grasp vidalia_onion_67 with right_hand successful\n",
      "(array([-0.80598229,  1.53000883,  1.14156933]), array([ 1.74213096e-06, -3.08885037e-07, -8.09200174e-01,  5.87533044e-01]))\n",
      "(False, {'satisfied': [], 'unsatisfied': [0, 1, 2, 3]})\n",
      "Grasp vidalia_onion_68 with left_hand successful\n",
      "(array([-0.80598189,  1.53000921,  1.14156915]), array([-5.16686161e-07, -1.08728339e-06, -8.09200705e-01,  5.87532313e-01]))\n",
      "(False, {'satisfied': [], 'unsatisfied': [0, 1, 2, 3]})\n",
      "Place ontop vidalia_onion_68 countertop_26 unsuccessful\n",
      "(array([-0.80598046,  1.53000848,  1.1415677 ]), array([-6.42249710e-06,  1.07233759e-05, -8.09200709e-01,  5.87532308e-01]))\n",
      "(False, {'satisfied': [], 'unsatisfied': [0, 1, 2, 3]})\n",
      "Place ontop vidalia_onion_67 countertop_26 unsuccessful\n",
      "(array([-0.80596569,  1.53004907,  1.14156645]), array([-6.86790552e-06, -4.86221485e-05, -8.09225353e-01,  5.87498362e-01]))\n",
      "(False, {'satisfied': [], 'unsatisfied': [0, 1, 2, 3]})\n",
      "Grasp carving_knife_69 with right_hand successful\n",
      "(array([-0.80596296,  1.53004391,  1.14156942]), array([-2.01736501e-07, -6.98525040e-07, -8.09225367e-01,  5.87498345e-01]))\n",
      "(False, {'satisfied': [], 'unsatisfied': [0, 1, 2, 3]})\n",
      "Slice chestnut_66 success\n",
      "(array([-0.80596293,  1.53004383,  1.14156952]), array([ 8.89495779e-09, -6.86240408e-09, -8.09225368e-01,  5.87498344e-01]))\n",
      "(False, {'satisfied': [], 'unsatisfied': [0, 1, 2, 3]})\n",
      "Slice chestnut_65 success\n",
      "(array([-0.80596293,  1.53004383,  1.14156951]), array([ 3.36460111e-08, -1.73967994e-08, -8.09225357e-01,  5.87498359e-01]))\n",
      "(False, {'satisfied': [2], 'unsatisfied': [0, 1, 3]})\n",
      "Slice mushroom_63 success\n",
      "(array([-0.80596292,  1.53004383,  1.14156952]), array([-2.32586480e-09, -9.52259003e-09, -8.09225356e-01,  5.87498360e-01]))\n",
      "(False, {'satisfied': [2], 'unsatisfied': [0, 1, 3]})\n",
      "Slice mushroom_64 success\n",
      "(array([-0.80596271,  1.53004367,  1.14156935]), array([-5.02349526e-07,  1.69474745e-06, -8.09225291e-01,  5.87498449e-01]))\n",
      "(False, {'satisfied': [1, 2], 'unsatisfied': [0, 3]})\n",
      "Slice tomato_62 success\n",
      "(array([-0.80596301,  1.53004373,  1.1415694 ]), array([ 1.18922400e-06, -1.87696347e-07, -8.09225302e-01,  5.87498435e-01]))\n",
      "(False, {'satisfied': [1, 2], 'unsatisfied': [0, 3]})\n",
      "Slice tomato_61 success\n",
      "(array([-0.80596289,  1.5300438 ,  1.14156952]), array([ 2.08397708e-08, -3.39236316e-09, -8.09225304e-01,  5.87498432e-01]))\n",
      "(False, {'satisfied': [0, 1, 2], 'unsatisfied': [3]})\n",
      "Slice vidalia_onion_67 success\n",
      "(array([-0.80596096,  1.5300419 ,  1.14156936]), array([-3.68972853e-06,  2.20784653e-05, -8.09225320e-01,  5.87498410e-01]))\n",
      "(False, {'satisfied': [0, 1, 2], 'unsatisfied': [3]})\n",
      "Slice vidalia_onion_68 success\n",
      "(array([-0.80596264,  1.53004376,  1.14156932]), array([-1.42999793e-06,  1.27506539e-06, -8.09225283e-01,  5.87498461e-01]))\n",
      "(True, {'satisfied': [0, 1, 2, 3], 'unsatisfied': []})\n",
      "Place ontop carving_knife_69 countertop_26 unsuccessful\n",
      "(array([-0.80529393,  1.53024409,  1.14158965]), array([ 3.13011099e-04,  5.29557764e-04, -8.10338734e-01,  5.85961396e-01]))\n",
      "(True, {'satisfied': [0, 1, 2, 3], 'unsatisfied': []})\n",
      "Grasp vidalia_onion_67_part_0 with right_hand successful\n",
      "(array([-0.80552523,  1.53046041,  1.14164327]), array([-7.14424964e-04, -6.92146160e-05, -8.11021171e-01,  5.85016363e-01]))\n",
      "(False, {'satisfied': [0, 1, 2], 'unsatisfied': [3]})\n",
      "Grasp vidalia_onion_67_part_1 with left_hand successful\n",
      "(array([-0.80554595,  1.53076745,  1.14153962]), array([ 1.78513807e-04, -1.61728388e-04, -8.12474698e-01,  5.82996405e-01]))\n",
      "(False, {'satisfied': [0, 1, 2], 'unsatisfied': [3]})\n",
      "Place inside vidalia_onion_67_part_0 casserole_71 successful\n",
      "(array([-0.8058139 ,  1.53107864,  1.14168075]), array([ 0.00113887, -0.00156984, -0.81275114,  0.58260778]))\n",
      "(False, {'satisfied': [0, 1, 2], 'unsatisfied': [3]})\n",
      "Place inside vidalia_onion_67_part_1 casserole_71 successful\n",
      "(array([-0.80618909,  1.53190769,  1.14178989]), array([-3.63099372e-04, -6.43525154e-04, -8.12181940e-01,  5.83403763e-01]))\n",
      "(True, {'satisfied': [0, 1, 2, 3], 'unsatisfied': []})\n",
      "Grasp vidalia_onion_68_part_0 with right_hand successful\n",
      "(array([-0.80740851,  1.53257967,  1.14187829]), array([ 0.00179612, -0.00276194, -0.8109663 ,  0.58508359]))\n",
      "(False, {'satisfied': [0, 1, 2], 'unsatisfied': [3]})\n",
      "Grasp vidalia_onion_68_part_1 with left_hand successful\n",
      "(array([-0.81082337,  1.53410774,  1.14566411]), array([ 0.01154987, -0.01511509, -0.80804313,  0.58881613]))\n",
      "(False, {'satisfied': [0, 1, 2], 'unsatisfied': [3]})\n",
      "Place inside vidalia_onion_68_part_0 casserole_71 successful\n",
      "(array([-0.80809362,  1.53535154,  1.14288962]), array([-2.19136204e-04, -4.42761680e-03, -8.03748567e-01,  5.94952594e-01]))\n",
      "(False, {'satisfied': [0, 1, 2], 'unsatisfied': [3]})\n",
      "Place inside vidalia_onion_68_part_1 casserole_71 successful\n",
      "(array([-0.80908182,  1.53570247,  1.14173941]), array([-1.04550551e-04, -1.59186794e-04, -8.00445561e-01,  5.99405429e-01]))\n",
      "(True, {'satisfied': [0, 1, 2, 3], 'unsatisfied': []})\n",
      "Close fridge_40 success\n",
      "(array([-0.81759542,  1.53675952,  1.15286798]), array([ 0.03844849, -0.03004865, -0.79844298,  0.60008967]))\n",
      "(True, {'satisfied': [0, 1, 2, 3], 'unsatisfied': []})\n"
     ]
    }
   ],
   "source": [
    "for action in actions:\n",
    "    action_execuble=(action['action'], action['object'])\n",
    "    env.step(action_execuble)\n",
    "    print(tracking_obj.get_position_orientation())\n",
    "    print(env.task.check_success())\n",
    "    "
   ]
  },
  {
   "cell_type": "code",
   "execution_count": 8,
   "metadata": {},
   "outputs": [
    {
     "data": {
      "text/plain": [
       "(False, {'satisfied': [1, 2, 3], 'unsatisfied': [0]})"
      ]
     },
     "execution_count": 8,
     "metadata": {},
     "output_type": "execute_result"
    }
   ],
   "source": [
    "env.task.check_success()"
   ]
  },
  {
   "cell_type": "code",
   "execution_count": 9,
   "metadata": {},
   "outputs": [
    {
     "name": "stdout",
     "output_type": "stream",
     "text": [
      "root\n",
      "  basket_1 None\n",
      "    bow_1 TeleportType.INSIDE\n",
      "    cheese_1 TeleportType.INSIDE\n",
      "    cookie_1 TeleportType.INSIDE\n",
      "    candle_1 TeleportType.INSIDE\n",
      "  basket_3 None\n",
      "    bow_3 TeleportType.INSIDE\n",
      "    cheese_3 TeleportType.INSIDE\n",
      "    cookie_3 TeleportType.INSIDE\n",
      "    candle_3 TeleportType.INSIDE\n",
      "  basket_0 None\n",
      "    bow_0 TeleportType.INSIDE\n",
      "    cheese_0 TeleportType.INSIDE\n",
      "    cookie_0 TeleportType.INSIDE\n",
      "    candle_0 TeleportType.INSIDE\n",
      "  basket_2 None\n",
      "    bow_2 TeleportType.INSIDE\n",
      "    cheese_2 TeleportType.INSIDE\n",
      "    cookie_2 TeleportType.INSIDE\n",
      "    candle_2 TeleportType.INSIDE\n",
      "  coffee_table_12 None\n",
      "  breakfast_table_13 None\n",
      "\n"
     ]
    }
   ],
   "source": [
    "print(env.action_env.relation_tree)"
   ]
  },
  {
   "cell_type": "code",
   "execution_count": 10,
   "metadata": {},
   "outputs": [],
   "source": [
    "def test_inside(obj1_name, obj2_name):\n",
    "    obj1=env.obj_name_to_obj[obj1_name]\n",
    "    obj2=env.obj_name_to_obj[obj2_name]\n",
    "    return obj1.states[object_states.Inside].get_value(obj2)"
   ]
  },
  {
   "cell_type": "code",
   "execution_count": 11,
   "metadata": {},
   "outputs": [
    {
     "data": {
      "text/plain": [
       "True"
      ]
     },
     "execution_count": 11,
     "metadata": {},
     "output_type": "execute_result"
    }
   ],
   "source": [
    "test_inside(\"candle_3\",\"basket_3\")"
   ]
  },
  {
   "cell_type": "code",
   "execution_count": 12,
   "metadata": {},
   "outputs": [],
   "source": [
    "for obj in env.action_env.relation_tree.root.children.keys():\n",
    "    env.action_env.teleport_relation(obj)"
   ]
  },
  {
   "cell_type": "code",
   "execution_count": 21,
   "metadata": {},
   "outputs": [
    {
     "data": {
      "text/plain": [
       "(True, {'satisfied': [0, 1, 2, 3], 'unsatisfied': []})"
      ]
     },
     "execution_count": 21,
     "metadata": {},
     "output_type": "execute_result"
    }
   ],
   "source": [
    "env.task.check_success()"
   ]
  }
 ],
 "metadata": {
  "kernelspec": {
   "display_name": "igibson-eval",
   "language": "python",
   "name": "python3"
  },
  "language_info": {
   "codemirror_mode": {
    "name": "ipython",
    "version": 3
   },
   "file_extension": ".py",
   "mimetype": "text/x-python",
   "name": "python",
   "nbconvert_exporter": "python",
   "pygments_lexer": "ipython3",
   "version": "3.8.19"
  }
 },
 "nbformat": 4,
 "nbformat_minor": 2
}
