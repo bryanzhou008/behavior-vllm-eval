{
 "cells": [
  {
   "cell_type": "code",
   "execution_count": 1,
   "metadata": {},
   "outputs": [
    {
     "name": "stdout",
     "output_type": "stream",
     "text": [
      "\n",
      " _   _____  _  _\n",
      "(_) / ____|(_)| |\n",
      " _ | |  __  _ | |__   ___   ___   _ __\n",
      "| || | |_ || || '_ \\ / __| / _ \\ | '_ \\\n",
      "| || |__| || || |_) |\\__ \\| (_) || | | |\n",
      "|_| \\_____||_||_.__/ |___/ \\___/ |_| |_|\n",
      "\n"
     ]
    },
    {
     "name": "stderr",
     "output_type": "stream",
     "text": [
      "torch is not available, falling back to rendering to memory (instead of tensor)\n"
     ]
    }
   ],
   "source": [
    "from igibson.transition_model_v3.eval_env import EvalEnv\n",
    "from igibson.transition_model_v3.eval_env import EvalActions\n",
    "import platform\n",
    "import igibson.object_states as object_states"
   ]
  },
  {
   "cell_type": "code",
   "execution_count": 2,
   "metadata": {},
   "outputs": [],
   "source": [
    "demo_path=rb\"D:\\GitHub\\behavior-vllm-eval\\igibson\\data\\virtual_reality\\packing_adult_s_bags_0_Ihlen_1_int_0_2021-10-26_09-54-15.hdf5\""
   ]
  },
  {
   "cell_type": "code",
   "execution_count": 3,
   "metadata": {},
   "outputs": [
    {
     "name": "stderr",
     "output_type": "stream",
     "text": [
      "scene quality check: toilet_47 has joint that cannot extend for >66%.\n"
     ]
    },
    {
     "name": "stdout",
     "output_type": "stream",
     "text": [
      "No openable joint metadata found for object backpack_112\n"
     ]
    }
   ],
   "source": [
    "headless = True\n",
    "env=EvalEnv(demo_path=demo_path,mode=\"headless\" if headless else \"gui_non_interactive\",\n",
    "        use_pb_gui=(not headless and platform.system() != \"Darwin\"),)"
   ]
  },
  {
   "cell_type": "code",
   "execution_count": 4,
   "metadata": {},
   "outputs": [
    {
     "name": "stdout",
     "output_type": "stream",
     "text": [
      "door_99\n",
      "room_floor_corridor_0\n",
      "backpack_112\n",
      "mouse_119\n",
      "bed_33\n",
      "hanger_113\n",
      "lipstick_114\n",
      "lipstick_115\n",
      "room_floor_bedroom_0\n",
      "bracelet_116\n",
      "necklace_117\n",
      "toothbrush_118\n"
     ]
    }
   ],
   "source": [
    "for obj in env.addressable_objects:\n",
    "    print(obj.name)"
   ]
  },
  {
   "cell_type": "code",
   "execution_count": 5,
   "metadata": {},
   "outputs": [],
   "source": [
    "def get_obj(obj_name):\n",
    "    return env.obj_name_to_obj[obj_name]\n"
   ]
  },
  {
   "cell_type": "code",
   "execution_count": 6,
   "metadata": {},
   "outputs": [
    {
     "name": "stdout",
     "output_type": "stream",
     "text": [
      "root\n",
      "  door_99 None\n",
      "  backpack_112 None\n",
      "  mouse_119 None\n",
      "  bed_33 None\n",
      "  hanger_113 None\n",
      "  lipstick_114 None\n",
      "  lipstick_115 None\n",
      "  bracelet_116 None\n",
      "  necklace_117 None\n",
      "  toothbrush_118 None\n",
      "\n"
     ]
    }
   ],
   "source": [
    "print(env.action_env.relation_tree)"
   ]
  },
  {
   "cell_type": "code",
   "execution_count": 7,
   "metadata": {},
   "outputs": [],
   "source": [
    "actions=[\n",
    "    {\n",
    "        \"action\": \"RIGHT_GRASP\",\n",
    "        \"object\": \"backpack_112\"\n",
    "    },\n",
    "    {\n",
    "        \"action\": \"RIGHT_PLACE_ONTOP\",\n",
    "        \"object\": \"room_floor_corridor_0\"\n",
    "    },\n",
    "    {\n",
    "        \"action\": \"OPEN\",\n",
    "        \"object\": \"backpack_112\"\n",
    "    },\n",
    "    {\n",
    "        \"action\": \"RIGHT_GRASP\",\n",
    "        \"object\": \"mouse_119\"\n",
    "    },\n",
    "    {\n",
    "        \"action\": \"RIGHT_PLACE_INSIDE\",\n",
    "        \"object\": \"backpack_112\"\n",
    "    },\n",
    "    {\n",
    "        \"action\": \"RIGHT_GRASP\",\n",
    "        \"object\": \"bracelet_116\"\n",
    "    },\n",
    "    {\n",
    "        \"action\": \"RIGHT_PLACE_INSIDE\",\n",
    "        \"object\": \"backpack_112\"\n",
    "    },\n",
    "    {\n",
    "        \"action\": \"RIGHT_GRASP\",\n",
    "        \"object\": \"necklace_117\"\n",
    "    },\n",
    "    {\n",
    "        \"action\": \"RIGHT_PLACE_INSIDE\",\n",
    "        \"object\": \"backpack_112\"\n",
    "    },\n",
    "    {\n",
    "        \"action\": \"RIGHT_GRASP\",\n",
    "        \"object\": \"toothbrush_118\"\n",
    "    },\n",
    "    {\n",
    "        \"action\": \"RIGHT_PLACE_INSIDE\",\n",
    "        \"object\": \"backpack_112\"\n",
    "    },\n",
    "    {\n",
    "        \"action\": \"RIGHT_GRASP\",\n",
    "        \"object\": \"lipstick_115\"\n",
    "    },\n",
    "    {\n",
    "        \"action\": \"RIGHT_PLACE_INSIDE\",\n",
    "        \"object\": \"backpack_112\"\n",
    "    },\n",
    "    {\n",
    "        \"action\": \"RIGHT_GRASP\",\n",
    "        \"object\": \"lipstick_114\"\n",
    "    },\n",
    "    {\n",
    "        \"action\": \"RIGHT_PLACE_INSIDE\",\n",
    "        \"object\": \"backpack_112\"\n",
    "    },\n",
    "    {\n",
    "        \"action\": \"RIGHT_GRASP\",\n",
    "        \"object\": \"backpack_112\"\n",
    "    },\n",
    "    {\n",
    "        \"action\": \"RIGHT_PLACE_ONTOP\",\n",
    "        \"object\": \"room_floor_corridor_0\"\n",
    "    }\n",
    "]"
   ]
  },
  {
   "cell_type": "code",
   "execution_count": 8,
   "metadata": {},
   "outputs": [
    {
     "name": "stdout",
     "output_type": "stream",
     "text": [
      "Grasp backpack_112 with right_hand successful\n",
      "(False, {'satisfied': [], 'unsatisfied': [0, 1, 2, 3, 4]})\n",
      "Place ontop backpack_112 room_floor_corridor_0 unsuccessful\n",
      "(False, {'satisfied': [], 'unsatisfied': [0, 1, 2, 3, 4]})\n",
      "No openable joint metadata found for object backpack_112\n",
      "No openable joint metadata found for object backpack_112\n",
      "Open backpack_112 failed\n",
      "(False, {'satisfied': [], 'unsatisfied': [0, 1, 2, 3, 4]})\n",
      "Grasp mouse_119 with right_hand successful\n",
      "(False, {'satisfied': [], 'unsatisfied': [0, 1, 2, 3, 4]})\n",
      "Place inside mouse_119 backpack_112 successful\n",
      "(False, {'satisfied': [3], 'unsatisfied': [0, 1, 2, 4]})\n",
      "Grasp bracelet_116 with right_hand successful\n",
      "(False, {'satisfied': [3], 'unsatisfied': [0, 1, 2, 4]})\n",
      "Place inside bracelet_116 backpack_112 successful\n",
      "(False, {'satisfied': [3], 'unsatisfied': [0, 1, 2, 4]})\n",
      "Grasp necklace_117 with right_hand successful\n",
      "(False, {'satisfied': [3], 'unsatisfied': [0, 1, 2, 4]})\n",
      "Place inside necklace_117 backpack_112 successful\n",
      "(False, {'satisfied': [0, 3], 'unsatisfied': [1, 2, 4]})\n",
      "Grasp toothbrush_118 with right_hand successful\n",
      "(False, {'satisfied': [0, 3], 'unsatisfied': [1, 2, 4]})\n",
      "Place inside toothbrush_118 backpack_112 successful\n",
      "(False, {'satisfied': [0, 2, 3], 'unsatisfied': [1, 4]})\n",
      "Grasp lipstick_115 with right_hand successful\n",
      "(False, {'satisfied': [0, 2, 3], 'unsatisfied': [1, 4]})\n",
      "Place inside lipstick_115 backpack_112 successful\n",
      "(False, {'satisfied': [0, 2, 3], 'unsatisfied': [1, 4]})\n",
      "Grasp lipstick_114 with right_hand successful\n",
      "(False, {'satisfied': [0, 2, 3], 'unsatisfied': [1, 4]})\n",
      "Place inside lipstick_114 backpack_112 successful\n",
      "(False, {'satisfied': [0, 1, 2, 3], 'unsatisfied': [4]})\n",
      "Teleport mouse_119 INSIDE backpack_112 successful: True\n",
      "Teleport bracelet_116 INSIDE backpack_112 successful: True\n",
      "Teleport necklace_117 INSIDE backpack_112 successful: True\n",
      "Teleport toothbrush_118 INSIDE backpack_112 successful: True\n",
      "Teleport lipstick_115 INSIDE backpack_112 successful: True\n",
      "Teleport lipstick_114 INSIDE backpack_112 successful: True\n",
      "Grasp backpack_112 with right_hand successful\n",
      "(False, {'satisfied': [0, 1, 2, 3], 'unsatisfied': [4]})\n",
      "Teleport mouse_119 INSIDE backpack_112 successful: True\n",
      "Teleport bracelet_116 INSIDE backpack_112 successful: True\n",
      "Teleport necklace_117 INSIDE backpack_112 successful: True\n",
      "Teleport toothbrush_118 INSIDE backpack_112 successful: True\n",
      "Teleport lipstick_115 INSIDE backpack_112 successful: True\n",
      "Teleport lipstick_114 INSIDE backpack_112 successful: True\n",
      "Place ontop backpack_112 room_floor_corridor_0 unsuccessful\n",
      "(False, {'satisfied': [0, 1, 2, 3], 'unsatisfied': [4]})\n"
     ]
    }
   ],
   "source": [
    "for action in actions:\n",
    "    action_name=action[\"action\"]\n",
    "    obj=action[\"object\"]\n",
    "    env.apply_action(action_name,obj)\n",
    "    print(env.task.check_success())\n",
    "    "
   ]
  },
  {
   "cell_type": "code",
   "execution_count": 9,
   "metadata": {},
   "outputs": [
    {
     "data": {
      "text/plain": [
       "(False, {'satisfied': [0, 1, 2, 3], 'unsatisfied': [4]})"
      ]
     },
     "execution_count": 9,
     "metadata": {},
     "output_type": "execute_result"
    }
   ],
   "source": [
    "env.task.check_success()"
   ]
  },
  {
   "cell_type": "code",
   "execution_count": 10,
   "metadata": {},
   "outputs": [
    {
     "name": "stdout",
     "output_type": "stream",
     "text": [
      "root\n",
      "  door_99 None\n",
      "  bed_33 None\n",
      "  hanger_113 None\n",
      "  backpack_112 None\n",
      "    mouse_119 TeleportType.INSIDE\n",
      "    bracelet_116 TeleportType.INSIDE\n",
      "    necklace_117 TeleportType.INSIDE\n",
      "    toothbrush_118 TeleportType.INSIDE\n",
      "    lipstick_115 TeleportType.INSIDE\n",
      "    lipstick_114 TeleportType.INSIDE\n",
      "\n"
     ]
    }
   ],
   "source": [
    "print(env.action_env.relation_tree)"
   ]
  },
  {
   "cell_type": "code",
   "execution_count": 11,
   "metadata": {},
   "outputs": [
    {
     "name": "stdout",
     "output_type": "stream",
     "text": [
      "door_99\n",
      "room_floor_corridor_0\n",
      "backpack_112\n",
      "mouse_119\n",
      "bed_33\n",
      "hanger_113\n",
      "lipstick_114\n",
      "lipstick_115\n",
      "room_floor_bedroom_0\n",
      "bracelet_116\n",
      "necklace_117\n",
      "toothbrush_118\n"
     ]
    }
   ],
   "source": [
    "for obj in env.addressable_objects:\n",
    "    print(obj.name)"
   ]
  },
  {
   "cell_type": "code",
   "execution_count": 12,
   "metadata": {},
   "outputs": [
    {
     "name": "stdout",
     "output_type": "stream",
     "text": [
      "False\n"
     ]
    }
   ],
   "source": [
    "obj1=get_obj(\"backpack_112\")\n",
    "print(obj1.states[object_states.OnFloor].get_value(get_obj(\"room_floor_corridor_0\")))"
   ]
  },
  {
   "cell_type": "code",
   "execution_count": 19,
   "metadata": {},
   "outputs": [],
   "source": [
    "obj=get_obj(\"room_floor_corridor_0\")"
   ]
  },
  {
   "cell_type": "code",
   "execution_count": null,
   "metadata": {},
   "outputs": [],
   "source": []
  },
  {
   "cell_type": "code",
   "execution_count": 22,
   "metadata": {},
   "outputs": [
    {
     "name": "stdout",
     "output_type": "stream",
     "text": [
      "1.3877787807814457e-16\n",
      "[0.1  5.45]\n"
     ]
    }
   ],
   "source": [
    "lo,hi=obj1.states[object_states.AABB].get_value()\n",
    "center=(lo+hi)/2\n",
    "extent=(hi-lo)/2\n",
    "print(lo[2])\n",
    "print(center[:2])"
   ]
  },
  {
   "cell_type": "code",
   "execution_count": 32,
   "metadata": {},
   "outputs": [
    {
     "name": "stdout",
     "output_type": "stream",
     "text": [
      "164 111\n"
     ]
    }
   ],
   "source": [
    "import numpy as np\n",
    "x, y = obj.scene.world_to_seg_map(np.array(center))\n",
    "print(x,y)"
   ]
  },
  {
   "cell_type": "code",
   "execution_count": 34,
   "metadata": {},
   "outputs": [],
   "source": [
    "ins_id = obj.scene.room_ins_map[x, y]"
   ]
  },
  {
   "cell_type": "code",
   "execution_count": 35,
   "metadata": {},
   "outputs": [
    {
     "name": "stdout",
     "output_type": "stream",
     "text": [
      "0\n"
     ]
    }
   ],
   "source": [
    "print(ins_id)"
   ]
  },
  {
   "cell_type": "code",
   "execution_count": 30,
   "metadata": {},
   "outputs": [
    {
     "name": "stdout",
     "output_type": "stream",
     "text": [
      "220\n",
      "220\n"
     ]
    }
   ],
   "source": [
    "print(obj.scene.room_ins_map.shape[0])\n",
    "print(obj.scene.room_ins_map.shape[1])"
   ]
  },
  {
   "cell_type": "code",
   "execution_count": null,
   "metadata": {},
   "outputs": [],
   "source": []
  },
  {
   "cell_type": "code",
   "execution_count": 23,
   "metadata": {},
   "outputs": [
    {
     "name": "stdout",
     "output_type": "stream",
     "text": [
      "[0.1  5.45 0.  ]\n"
     ]
    }
   ],
   "source": [
    "lo,hi=obj.scene.get_aabb_by_room_instance(obj.room_instance)\n",
    "target_center = (lo+hi)/2.\n",
    "print(target_center)"
   ]
  }
 ],
 "metadata": {
  "kernelspec": {
   "display_name": "igibson-eval",
   "language": "python",
   "name": "python3"
  },
  "language_info": {
   "codemirror_mode": {
    "name": "ipython",
    "version": 3
   },
   "file_extension": ".py",
   "mimetype": "text/x-python",
   "name": "python",
   "nbconvert_exporter": "python",
   "pygments_lexer": "ipython3",
   "version": "3.8.19"
  }
 },
 "nbformat": 4,
 "nbformat_minor": 2
}
