{
 "cells": [
  {
   "cell_type": "code",
   "execution_count": 31,
   "metadata": {},
   "outputs": [],
   "source": [
    "import os"
   ]
  },
  {
   "cell_type": "code",
   "execution_count": 32,
   "metadata": {},
   "outputs": [],
   "source": [
    "path=rb\"D:\\GitHub\\behavior-vllm-eval\\igibson\\transition_model_v2\\data\\annotations\""
   ]
  },
  {
   "cell_type": "code",
   "execution_count": 33,
   "metadata": {},
   "outputs": [],
   "source": [
    "# tranverse all .py files in path\n",
    "path_list=[]\n",
    "for root, dirs, files in os.walk(path):\n",
    "    for file in files:\n",
    "        if file.endswith(rb'.py'):\n",
    "            path_list.append(os.path.join(root, file))\n",
    "            "
   ]
  },
  {
   "cell_type": "code",
   "execution_count": 34,
   "metadata": {},
   "outputs": [],
   "source": [
    "action_mapping={\n",
    "    \"RIGHT_PLACE_ONTOP_RELEASE\":\"RIGHT_PLACE_ONTOP\",\n",
    "    \"LEFT_PLACE_ONTOP_RELEASE\":\"LEFT_PLACE_ONTOP\",\n",
    "}"
   ]
  },
  {
   "cell_type": "code",
   "execution_count": 35,
   "metadata": {},
   "outputs": [],
   "source": [
    "action_unions=set()\n",
    "import json\n",
    "for file_path in path_list:\n",
    "   # Read the content of a.py\n",
    "    with open(file_path, 'r') as f:\n",
    "        python_code = f.read()\n",
    "\n",
    "    # Evaluate the Python code to get the value of actions\n",
    "    exec(python_code)\n",
    "    # actions variable now contains the list of dictionaries\n",
    "\n",
    "    target_path=file_path.replace(b'.py',b'.json')\n",
    "    target_path=target_path.replace(b'annotations',b'annotations_json')\n",
    "    for action in actions:\n",
    "        if action['action'] in action_mapping:\n",
    "            action['action']=action_mapping[action['action']]\n",
    "        action_unions.add(action['action'])\n",
    "    # Write the actions list to b.json\n",
    "    with open(target_path, 'w') as json_file:\n",
    "        json.dump(actions, json_file, indent=4)\n",
    "    \n",
    "            \n",
    "\n",
    "    \n",
    "    "
   ]
  },
  {
   "cell_type": "code",
   "execution_count": 36,
   "metadata": {},
   "outputs": [
    {
     "name": "stdout",
     "output_type": "stream",
     "text": [
      "UNFREEZE\n",
      "LEFT_PLACE_NEXTTO\n",
      "RIGHT_GRASP\n",
      "SLICE\n",
      "RIGHT_TRANSFER_CONTENTS_INSIDE\n",
      "LEFT_PLACE_INSIDE\n",
      "TOGGLE_OFF\n",
      "RIGHT_PLACE_INSIDE\n",
      "FREEZE\n",
      "RIGHT_PLACE_NEXTTO\n",
      "LEFT_PLACE_ONTOP\n",
      "LEFT_GRASP\n",
      "RELEASE\n",
      "SOAK\n",
      "RIGHT_RELEASE\n",
      "RIGHT_PLACE_ONTOP\n",
      "TOGGLE_ON\n",
      "OPEN\n",
      "LEFT_RELEASE\n",
      "CLEAN\n",
      "LEFT\n",
      "CLOSE\n",
      "COOK\n"
     ]
    }
   ],
   "source": [
    "for action in action_unions:\n",
    "    print(action)"
   ]
  },
  {
   "cell_type": "code",
   "execution_count": 37,
   "metadata": {},
   "outputs": [],
   "source": [
    "all_actions=[\n",
    "    \"NAVIGATE_TO\",\n",
    "    \"LEFT_GRASP\",\n",
    "    \"RIGHT_GRASP\" ,\n",
    "    \"LEFT_PLACE_ONTOP\" ,\n",
    "    \"RIGHT_PLACE_ONTOP\" ,\n",
    "    \"LEFT_PLACE_INSIDE\" ,\n",
    "    \"RIGHT_PLACE_INSIDE\" ,\n",
    "    \"RIGHT_RELEASE\" ,\n",
    "    \"LEFT_RELEASE\" ,\n",
    "    \"PLACE_ON_TOP\" ,\n",
    "    \"PLACE_INSIDE\" ,\n",
    "    \"OPEN\" ,\n",
    "    \"CLOSE\" ,\n",
    "    \"BURN\" ,\n",
    "    \"COOK\" ,\n",
    "    \"CLEAN\" ,\n",
    "    \"FREEZE\" ,\n",
    "    \"UNFREEZE\" ,\n",
    "    \"SLICE\" ,\n",
    "    \"SOAK\" ,\n",
    "    \"DRY\" ,\n",
    "    # STAIN ,\n",
    "    \"TOGGLE_ON\" ,\n",
    "    \"TOGGLE_OFF\" ,\n",
    "    # UNCLEAN ,\n",
    "    \"LEFT_PLACE_NEXTTO\",\n",
    "    \"RIGHT_PLACE_NEXTTO\",\n",
    "    \"LEFT_POUR_INSIDE\",\n",
    "    \"RIGHT_POUR_INSIDE\",\n",
    "    \"LEFT_POUR_ONTOP\",\n",
    "    \"RIGHT_POUR_ONTOP\",\n",
    "]"
   ]
  },
  {
   "cell_type": "code",
   "execution_count": 38,
   "metadata": {},
   "outputs": [
    {
     "name": "stdout",
     "output_type": "stream",
     "text": [
      "RIGHT_TRANSFER_CONTENTS_INSIDE\n",
      "RELEASE\n",
      "LEFT\n"
     ]
    }
   ],
   "source": [
    "for action in action_unions:\n",
    "    if action not in all_actions:\n",
    "        print(action)"
   ]
  }
 ],
 "metadata": {
  "kernelspec": {
   "display_name": "igibson-eval",
   "language": "python",
   "name": "python3"
  },
  "language_info": {
   "codemirror_mode": {
    "name": "ipython",
    "version": 3
   },
   "file_extension": ".py",
   "mimetype": "text/x-python",
   "name": "python",
   "nbconvert_exporter": "python",
   "pygments_lexer": "ipython3",
   "version": "3.8.19"
  }
 },
 "nbformat": 4,
 "nbformat_minor": 2
}
