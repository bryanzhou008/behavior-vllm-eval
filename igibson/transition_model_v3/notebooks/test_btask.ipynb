{
 "cells": [
  {
   "cell_type": "code",
   "execution_count": 1,
   "metadata": {},
   "outputs": [
    {
     "name": "stdout",
     "output_type": "stream",
     "text": [
      "\n",
      " _   _____  _  _\n",
      "(_) / ____|(_)| |\n",
      " _ | |  __  _ | |__   ___   ___   _ __\n",
      "| || | |_ || || '_ \\ / __| / _ \\ | '_ \\\n",
      "| || |__| || || |_) |\\__ \\| (_) || | | |\n",
      "|_| \\_____||_||_.__/ |___/ \\___/ |_| |_|\n",
      "\n"
     ]
    },
    {
     "name": "stderr",
     "output_type": "stream",
     "text": [
      "torch is not available, falling back to rendering to memory (instead of tensor)\n"
     ]
    }
   ],
   "source": [
    "import igibson.object_states as object_states\n",
    "from igibson.tasks.behavior_task import BehaviorTask\n",
    "from igibson.utils.ig_logging import IGLogReader\n",
    "from igibson.utils.utils import parse_config\n",
    "import os\n",
    "import igibson\n",
    "from igibson.envs.igibson_env import iGibsonEnv"
   ]
  },
  {
   "cell_type": "code",
   "execution_count": 2,
   "metadata": {},
   "outputs": [],
   "source": [
    "class Env:\n",
    "\n",
    "    def defalt_init(self,demo_path):\n",
    "        task = IGLogReader.read_metadata_attr(demo_path, \"/metadata/atus_activity\")\n",
    "        if task is None:\n",
    "            task = IGLogReader.read_metadata_attr(demo_path, \"/metadata/task_name\")\n",
    "\n",
    "        task_id = IGLogReader.read_metadata_attr(demo_path, \"/metadata/activity_definition\")\n",
    "        if task_id is None:\n",
    "            task_id = IGLogReader.read_metadata_attr(demo_path, \"/metadata/task_instance\")\n",
    "\n",
    "        scene_id = IGLogReader.read_metadata_attr(demo_path, \"/metadata/scene_id\")\n",
    "\n",
    "        config_filename = os.path.join(igibson.configs_path, \"behavior_robot_mp_behavior_task.yaml\")\n",
    "        config = parse_config(config_filename)\n",
    "        \n",
    "\n",
    "        config[\"task\"] = task\n",
    "        config[\"task_id\"] = task_id\n",
    "        config[\"scene_id\"] = scene_id\n",
    "        config[\"robot\"][\"show_visual_head\"] = True\n",
    "        config[\"image_width\"]=512\n",
    "        config[\"image_height\"]=512\n",
    "        self.config = config\n",
    "    \n",
    "            \n",
    "    def __init__(self,demo_path=None) -> None:\n",
    "        self.config=None\n",
    "        if demo_path is not None:\n",
    "            self.defalt_init(demo_path)\n",
    "\n",
    "    "
   ]
  },
  {
   "cell_type": "code",
   "execution_count": 3,
   "metadata": {},
   "outputs": [
    {
     "ename": "KeyboardInterrupt",
     "evalue": "",
     "output_type": "error",
     "traceback": [
      "\u001b[1;31m---------------------------------------------------------------------------\u001b[0m",
      "\u001b[1;31mKeyboardInterrupt\u001b[0m                         Traceback (most recent call last)",
      "Cell \u001b[1;32mIn[3], line 3\u001b[0m\n\u001b[0;32m      1\u001b[0m demo_path\u001b[38;5;241m=\u001b[39m\u001b[38;5;124mrb\u001b[39m\u001b[38;5;124m\"\u001b[39m\u001b[38;5;124mD:\u001b[39m\u001b[38;5;124m\\\u001b[39m\u001b[38;5;124mGitHub\u001b[39m\u001b[38;5;124m\\\u001b[39m\u001b[38;5;124mbehavior-vllm-eval\u001b[39m\u001b[38;5;124m\\\u001b[39m\u001b[38;5;124migibson\u001b[39m\u001b[38;5;124m\\\u001b[39m\u001b[38;5;124mdata\u001b[39m\u001b[38;5;124m\\\u001b[39m\u001b[38;5;124mvirtual_reality\u001b[39m\u001b[38;5;124m\\\u001b[39m\u001b[38;5;124mbottling_fruit_0_Wainscott_0_int_0_2021-05-24_19-46-46.hdf5\u001b[39m\u001b[38;5;124m\"\u001b[39m\n\u001b[0;32m      2\u001b[0m eenv\u001b[38;5;241m=\u001b[39mEnv(demo_path\u001b[38;5;241m=\u001b[39mdemo_path)\n\u001b[1;32m----> 3\u001b[0m igenv \u001b[38;5;241m=\u001b[39m \u001b[43miGibsonEnv\u001b[49m\u001b[43m(\u001b[49m\u001b[43mconfig_file\u001b[49m\u001b[38;5;241;43m=\u001b[39;49m\u001b[43meenv\u001b[49m\u001b[38;5;241;43m.\u001b[39;49m\u001b[43mconfig\u001b[49m\u001b[43m)\u001b[49m\n\u001b[0;32m      4\u001b[0m bt\u001b[38;5;241m=\u001b[39mBehaviorTask(igenv)\n",
      "File \u001b[1;32mD:\\GitHub\\behavior-vllm-eval\\igibson\\envs\\igibson_env.py:62\u001b[0m, in \u001b[0;36miGibsonEnv.__init__\u001b[1;34m(self, config_file, scene_id, mode, action_timestep, physics_timestep, rendering_settings, vr_settings, device_idx, automatic_reset, use_pb_gui)\u001b[0m\n\u001b[0;32m     37\u001b[0m \u001b[38;5;28;01mdef\u001b[39;00m \u001b[38;5;21m__init__\u001b[39m(\n\u001b[0;32m     38\u001b[0m     \u001b[38;5;28mself\u001b[39m,\n\u001b[0;32m     39\u001b[0m     config_file,\n\u001b[1;32m   (...)\u001b[0m\n\u001b[0;32m     48\u001b[0m     use_pb_gui\u001b[38;5;241m=\u001b[39m\u001b[38;5;28;01mFalse\u001b[39;00m,\n\u001b[0;32m     49\u001b[0m ):\n\u001b[0;32m     50\u001b[0m \u001b[38;5;250m    \u001b[39m\u001b[38;5;124;03m\"\"\"\u001b[39;00m\n\u001b[0;32m     51\u001b[0m \u001b[38;5;124;03m    :param config_file: config_file path\u001b[39;00m\n\u001b[0;32m     52\u001b[0m \u001b[38;5;124;03m    :param scene_id: override scene_id in config file\u001b[39;00m\n\u001b[1;32m   (...)\u001b[0m\n\u001b[0;32m     60\u001b[0m \u001b[38;5;124;03m    :param use_pb_gui: concurrently display the interactive pybullet gui (for debugging)\u001b[39;00m\n\u001b[0;32m     61\u001b[0m \u001b[38;5;124;03m    \"\"\"\u001b[39;00m\n\u001b[1;32m---> 62\u001b[0m     \u001b[38;5;28;43msuper\u001b[39;49m\u001b[43m(\u001b[49m\u001b[43miGibsonEnv\u001b[49m\u001b[43m,\u001b[49m\u001b[43m \u001b[49m\u001b[38;5;28;43mself\u001b[39;49m\u001b[43m)\u001b[49m\u001b[38;5;241;43m.\u001b[39;49m\u001b[38;5;21;43m__init__\u001b[39;49m\u001b[43m(\u001b[49m\n\u001b[0;32m     63\u001b[0m \u001b[43m        \u001b[49m\u001b[43mconfig_file\u001b[49m\u001b[38;5;241;43m=\u001b[39;49m\u001b[43mconfig_file\u001b[49m\u001b[43m,\u001b[49m\n\u001b[0;32m     64\u001b[0m \u001b[43m        \u001b[49m\u001b[43mscene_id\u001b[49m\u001b[38;5;241;43m=\u001b[39;49m\u001b[43mscene_id\u001b[49m\u001b[43m,\u001b[49m\n\u001b[0;32m     65\u001b[0m \u001b[43m        \u001b[49m\u001b[43mmode\u001b[49m\u001b[38;5;241;43m=\u001b[39;49m\u001b[43mmode\u001b[49m\u001b[43m,\u001b[49m\n\u001b[0;32m     66\u001b[0m \u001b[43m        \u001b[49m\u001b[43maction_timestep\u001b[49m\u001b[38;5;241;43m=\u001b[39;49m\u001b[43maction_timestep\u001b[49m\u001b[43m,\u001b[49m\n\u001b[0;32m     67\u001b[0m \u001b[43m        \u001b[49m\u001b[43mphysics_timestep\u001b[49m\u001b[38;5;241;43m=\u001b[39;49m\u001b[43mphysics_timestep\u001b[49m\u001b[43m,\u001b[49m\n\u001b[0;32m     68\u001b[0m \u001b[43m        \u001b[49m\u001b[43mrendering_settings\u001b[49m\u001b[38;5;241;43m=\u001b[39;49m\u001b[43mrendering_settings\u001b[49m\u001b[43m,\u001b[49m\n\u001b[0;32m     69\u001b[0m \u001b[43m        \u001b[49m\u001b[43mvr_settings\u001b[49m\u001b[38;5;241;43m=\u001b[39;49m\u001b[43mvr_settings\u001b[49m\u001b[43m,\u001b[49m\n\u001b[0;32m     70\u001b[0m \u001b[43m        \u001b[49m\u001b[43mdevice_idx\u001b[49m\u001b[38;5;241;43m=\u001b[39;49m\u001b[43mdevice_idx\u001b[49m\u001b[43m,\u001b[49m\n\u001b[0;32m     71\u001b[0m \u001b[43m        \u001b[49m\u001b[43muse_pb_gui\u001b[49m\u001b[38;5;241;43m=\u001b[39;49m\u001b[43muse_pb_gui\u001b[49m\u001b[43m,\u001b[49m\n\u001b[0;32m     72\u001b[0m \u001b[43m    \u001b[49m\u001b[43m)\u001b[49m\n\u001b[0;32m     73\u001b[0m     \u001b[38;5;28mself\u001b[39m\u001b[38;5;241m.\u001b[39mautomatic_reset \u001b[38;5;241m=\u001b[39m automatic_reset\n",
      "File \u001b[1;32mD:\\GitHub\\behavior-vllm-eval\\igibson\\envs\\env_base.py:108\u001b[0m, in \u001b[0;36mBaseEnv.__init__\u001b[1;34m(self, config_file, scene_id, mode, action_timestep, physics_timestep, rendering_settings, vr_settings, device_idx, use_pb_gui)\u001b[0m\n\u001b[0;32m     96\u001b[0m \u001b[38;5;28;01melse\u001b[39;00m:\n\u001b[0;32m     97\u001b[0m     \u001b[38;5;28mself\u001b[39m\u001b[38;5;241m.\u001b[39msimulator \u001b[38;5;241m=\u001b[39m Simulator(\n\u001b[0;32m     98\u001b[0m         mode\u001b[38;5;241m=\u001b[39mmode,\n\u001b[0;32m     99\u001b[0m         physics_timestep\u001b[38;5;241m=\u001b[39mphysics_timestep,\n\u001b[1;32m   (...)\u001b[0m\n\u001b[0;32m    106\u001b[0m         use_pb_gui\u001b[38;5;241m=\u001b[39muse_pb_gui,\n\u001b[0;32m    107\u001b[0m     )\n\u001b[1;32m--> 108\u001b[0m \u001b[38;5;28;43mself\u001b[39;49m\u001b[38;5;241;43m.\u001b[39;49m\u001b[43mload\u001b[49m\u001b[43m(\u001b[49m\u001b[43m)\u001b[49m\n",
      "File \u001b[1;32mD:\\GitHub\\behavior-vllm-eval\\igibson\\envs\\igibson_env.py:263\u001b[0m, in \u001b[0;36miGibsonEnv.load\u001b[1;34m(self)\u001b[0m\n\u001b[0;32m    259\u001b[0m \u001b[38;5;28;01mdef\u001b[39;00m \u001b[38;5;21mload\u001b[39m(\u001b[38;5;28mself\u001b[39m):\n\u001b[0;32m    260\u001b[0m \u001b[38;5;250m    \u001b[39m\u001b[38;5;124;03m\"\"\"\u001b[39;00m\n\u001b[0;32m    261\u001b[0m \u001b[38;5;124;03m    Load environment.\u001b[39;00m\n\u001b[0;32m    262\u001b[0m \u001b[38;5;124;03m    \"\"\"\u001b[39;00m\n\u001b[1;32m--> 263\u001b[0m     \u001b[38;5;28;43msuper\u001b[39;49m\u001b[43m(\u001b[49m\u001b[43miGibsonEnv\u001b[49m\u001b[43m,\u001b[49m\u001b[43m \u001b[49m\u001b[38;5;28;43mself\u001b[39;49m\u001b[43m)\u001b[49m\u001b[38;5;241;43m.\u001b[39;49m\u001b[43mload\u001b[49m\u001b[43m(\u001b[49m\u001b[43m)\u001b[49m\n\u001b[0;32m    264\u001b[0m     \u001b[38;5;28mself\u001b[39m\u001b[38;5;241m.\u001b[39mload_task_setup()\n\u001b[0;32m    265\u001b[0m     \u001b[38;5;28mself\u001b[39m\u001b[38;5;241m.\u001b[39mload_observation_space()\n",
      "File \u001b[1;32mD:\\GitHub\\behavior-vllm-eval\\igibson\\envs\\env_base.py:196\u001b[0m, in \u001b[0;36mBaseEnv.load\u001b[1;34m(self)\u001b[0m\n\u001b[0;32m    193\u001b[0m     \u001b[38;5;28;01mif\u001b[39;00m first_n \u001b[38;5;241m!=\u001b[39m \u001b[38;5;241m-\u001b[39m\u001b[38;5;241m1\u001b[39m:\n\u001b[0;32m    194\u001b[0m         scene\u001b[38;5;241m.\u001b[39m_set_first_n_objects(first_n)\n\u001b[1;32m--> 196\u001b[0m \u001b[38;5;28;43mself\u001b[39;49m\u001b[38;5;241;43m.\u001b[39;49m\u001b[43msimulator\u001b[49m\u001b[38;5;241;43m.\u001b[39;49m\u001b[43mimport_scene\u001b[49m\u001b[43m(\u001b[49m\u001b[43mscene\u001b[49m\u001b[43m)\u001b[49m\n\u001b[0;32m    198\u001b[0m \u001b[38;5;66;03m# Get robot config\u001b[39;00m\n\u001b[0;32m    199\u001b[0m robot_config \u001b[38;5;241m=\u001b[39m \u001b[38;5;28mself\u001b[39m\u001b[38;5;241m.\u001b[39mconfig[\u001b[38;5;124m\"\u001b[39m\u001b[38;5;124mrobot\u001b[39m\u001b[38;5;124m\"\u001b[39m]\n",
      "File \u001b[1;32mD:\\GitHub\\behavior-vllm-eval\\igibson\\simulator.py:33\u001b[0m, in \u001b[0;36mload_without_pybullet_vis.<locals>.wrapped_load_func\u001b[1;34m(*args, **kwargs)\u001b[0m\n\u001b[0;32m     31\u001b[0m \u001b[38;5;28;01mdef\u001b[39;00m \u001b[38;5;21mwrapped_load_func\u001b[39m(\u001b[38;5;241m*\u001b[39margs, \u001b[38;5;241m*\u001b[39m\u001b[38;5;241m*\u001b[39mkwargs):\n\u001b[0;32m     32\u001b[0m     p\u001b[38;5;241m.\u001b[39mconfigureDebugVisualizer(p\u001b[38;5;241m.\u001b[39mCOV_ENABLE_RENDERING, \u001b[38;5;28;01mFalse\u001b[39;00m)\n\u001b[1;32m---> 33\u001b[0m     res \u001b[38;5;241m=\u001b[39m \u001b[43mload_func\u001b[49m\u001b[43m(\u001b[49m\u001b[38;5;241;43m*\u001b[39;49m\u001b[43margs\u001b[49m\u001b[43m,\u001b[49m\u001b[43m \u001b[49m\u001b[38;5;241;43m*\u001b[39;49m\u001b[38;5;241;43m*\u001b[39;49m\u001b[43mkwargs\u001b[49m\u001b[43m)\u001b[49m\n\u001b[0;32m     34\u001b[0m     p\u001b[38;5;241m.\u001b[39mconfigureDebugVisualizer(p\u001b[38;5;241m.\u001b[39mCOV_ENABLE_RENDERING, \u001b[38;5;28;01mTrue\u001b[39;00m)\n\u001b[0;32m     35\u001b[0m     \u001b[38;5;28;01mreturn\u001b[39;00m res\n",
      "File \u001b[1;32mD:\\GitHub\\behavior-vllm-eval\\igibson\\simulator.py:228\u001b[0m, in \u001b[0;36mSimulator.import_scene\u001b[1;34m(self, scene)\u001b[0m\n\u001b[0;32m    222\u001b[0m \u001b[38;5;250m\u001b[39m\u001b[38;5;124;03m\"\"\"\u001b[39;00m\n\u001b[0;32m    223\u001b[0m \u001b[38;5;124;03mImport a scene into the simulator. A scene could be a synthetic one or a realistic Gibson Environment.\u001b[39;00m\n\u001b[0;32m    224\u001b[0m \n\u001b[0;32m    225\u001b[0m \u001b[38;5;124;03m:param scene: a scene object to load\u001b[39;00m\n\u001b[0;32m    226\u001b[0m \u001b[38;5;124;03m\"\"\"\u001b[39;00m\n\u001b[0;32m    227\u001b[0m \u001b[38;5;28;01massert\u001b[39;00m \u001b[38;5;28misinstance\u001b[39m(scene, Scene), \u001b[38;5;124m\"\u001b[39m\u001b[38;5;124mimport_scene can only be called with Scene\u001b[39m\u001b[38;5;124m\"\u001b[39m\n\u001b[1;32m--> 228\u001b[0m \u001b[43mscene\u001b[49m\u001b[38;5;241;43m.\u001b[39;49m\u001b[43mload\u001b[49m\u001b[43m(\u001b[49m\u001b[38;5;28;43mself\u001b[39;49m\u001b[43m)\u001b[49m\n\u001b[0;32m    229\u001b[0m \u001b[38;5;28mself\u001b[39m\u001b[38;5;241m.\u001b[39mscene \u001b[38;5;241m=\u001b[39m scene\n",
      "File \u001b[1;32mD:\\GitHub\\behavior-vllm-eval\\igibson\\scenes\\scene_base.py:50\u001b[0m, in \u001b[0;36mScene.load\u001b[1;34m(self, simulator)\u001b[0m\n\u001b[0;32m     48\u001b[0m log\u001b[38;5;241m.\u001b[39minfo(\u001b[38;5;124m\"\u001b[39m\u001b[38;5;124mLoading scene...\u001b[39m\u001b[38;5;124m\"\u001b[39m)\n\u001b[0;32m     49\u001b[0m \u001b[38;5;28mself\u001b[39m\u001b[38;5;241m.\u001b[39mloaded \u001b[38;5;241m=\u001b[39m \u001b[38;5;28;01mTrue\u001b[39;00m\n\u001b[1;32m---> 50\u001b[0m ret_val \u001b[38;5;241m=\u001b[39m \u001b[38;5;28;43mself\u001b[39;49m\u001b[38;5;241;43m.\u001b[39;49m\u001b[43m_load\u001b[49m\u001b[43m(\u001b[49m\u001b[43msimulator\u001b[49m\u001b[43m)\u001b[49m\n\u001b[0;32m     51\u001b[0m log\u001b[38;5;241m.\u001b[39minfo(\u001b[38;5;124m\"\u001b[39m\u001b[38;5;124mScene loaded!\u001b[39m\u001b[38;5;124m\"\u001b[39m)\n\u001b[0;32m     52\u001b[0m \u001b[38;5;28;01mreturn\u001b[39;00m ret_val\n",
      "File \u001b[1;32mD:\\GitHub\\behavior-vllm-eval\\igibson\\scenes\\igibson_indoor_scene.py:902\u001b[0m, in \u001b[0;36mInteractiveIndoorScene._load\u001b[1;34m(self, simulator)\u001b[0m\n\u001b[0;32m    900\u001b[0m \u001b[38;5;28;01mfor\u001b[39;00m int_object \u001b[38;5;129;01min\u001b[39;00m \u001b[38;5;28mself\u001b[39m\u001b[38;5;241m.\u001b[39mobjects_by_name:\n\u001b[0;32m    901\u001b[0m     obj \u001b[38;5;241m=\u001b[39m \u001b[38;5;28mself\u001b[39m\u001b[38;5;241m.\u001b[39mobjects_by_name[int_object]\n\u001b[1;32m--> 902\u001b[0m     new_ids \u001b[38;5;241m=\u001b[39m \u001b[43mobj\u001b[49m\u001b[38;5;241;43m.\u001b[39;49m\u001b[43mload\u001b[49m\u001b[43m(\u001b[49m\u001b[43msimulator\u001b[49m\u001b[43m)\u001b[49m\n\u001b[0;32m    903\u001b[0m     \u001b[38;5;28;01mfor\u001b[39;00m \u001b[38;5;28mid\u001b[39m \u001b[38;5;129;01min\u001b[39;00m new_ids:\n\u001b[0;32m    904\u001b[0m         \u001b[38;5;28mself\u001b[39m\u001b[38;5;241m.\u001b[39mobjects_by_id[\u001b[38;5;28mid\u001b[39m] \u001b[38;5;241m=\u001b[39m obj\n",
      "File \u001b[1;32mD:\\GitHub\\behavior-vllm-eval\\igibson\\objects\\articulated_object.py:864\u001b[0m, in \u001b[0;36mURDFObject.load\u001b[1;34m(self, simulator)\u001b[0m\n\u001b[0;32m    863\u001b[0m \u001b[38;5;28;01mdef\u001b[39;00m \u001b[38;5;21mload\u001b[39m(\u001b[38;5;28mself\u001b[39m, simulator):\n\u001b[1;32m--> 864\u001b[0m     body_ids \u001b[38;5;241m=\u001b[39m \u001b[38;5;28;43msuper\u001b[39;49m\u001b[43m(\u001b[49m\u001b[43mURDFObject\u001b[49m\u001b[43m,\u001b[49m\u001b[43m \u001b[49m\u001b[38;5;28;43mself\u001b[39;49m\u001b[43m)\u001b[49m\u001b[38;5;241;43m.\u001b[39;49m\u001b[43mload\u001b[49m\u001b[43m(\u001b[49m\u001b[43msimulator\u001b[49m\u001b[43m)\u001b[49m\n\u001b[0;32m    865\u001b[0m     \u001b[38;5;28mself\u001b[39m\u001b[38;5;241m.\u001b[39mload_supporting_surfaces()\n\u001b[0;32m    866\u001b[0m     \u001b[38;5;28;01mreturn\u001b[39;00m body_ids\n",
      "File \u001b[1;32mD:\\GitHub\\behavior-vllm-eval\\igibson\\objects\\stateful_object.py:41\u001b[0m, in \u001b[0;36mStatefulObject.load\u001b[1;34m(self, simulator)\u001b[0m\n\u001b[0;32m     40\u001b[0m \u001b[38;5;28;01mdef\u001b[39;00m \u001b[38;5;21mload\u001b[39m(\u001b[38;5;28mself\u001b[39m, simulator):\n\u001b[1;32m---> 41\u001b[0m     body_ids \u001b[38;5;241m=\u001b[39m \u001b[38;5;28;43msuper\u001b[39;49m\u001b[43m(\u001b[49m\u001b[43mStatefulObject\u001b[49m\u001b[43m,\u001b[49m\u001b[43m \u001b[49m\u001b[38;5;28;43mself\u001b[39;49m\u001b[43m)\u001b[49m\u001b[38;5;241;43m.\u001b[39;49m\u001b[43mload\u001b[49m\u001b[43m(\u001b[49m\u001b[43msimulator\u001b[49m\u001b[43m)\u001b[49m\n\u001b[0;32m     42\u001b[0m     \u001b[38;5;28;01mfor\u001b[39;00m state \u001b[38;5;129;01min\u001b[39;00m \u001b[38;5;28mself\u001b[39m\u001b[38;5;241m.\u001b[39mstates\u001b[38;5;241m.\u001b[39mvalues():\n\u001b[0;32m     43\u001b[0m         state\u001b[38;5;241m.\u001b[39minitialize(simulator)\n",
      "File \u001b[1;32mD:\\GitHub\\behavior-vllm-eval\\igibson\\objects\\object_base.py:77\u001b[0m, in \u001b[0;36mBaseObject.load\u001b[1;34m(self, simulator)\u001b[0m\n\u001b[0;32m     75\u001b[0m     \u001b[38;5;28;01mraise\u001b[39;00m \u001b[38;5;167;01mValueError\u001b[39;00m(\u001b[38;5;124m\"\u001b[39m\u001b[38;5;124mCannot load a single object multiple times.\u001b[39m\u001b[38;5;124m\"\u001b[39m)\n\u001b[0;32m     76\u001b[0m \u001b[38;5;28mself\u001b[39m\u001b[38;5;241m.\u001b[39m_loaded \u001b[38;5;241m=\u001b[39m \u001b[38;5;28;01mTrue\u001b[39;00m\n\u001b[1;32m---> 77\u001b[0m \u001b[38;5;28mself\u001b[39m\u001b[38;5;241m.\u001b[39m_body_ids \u001b[38;5;241m=\u001b[39m \u001b[38;5;28;43mself\u001b[39;49m\u001b[38;5;241;43m.\u001b[39;49m\u001b[43m_load\u001b[49m\u001b[43m(\u001b[49m\u001b[43msimulator\u001b[49m\u001b[43m)\u001b[49m\n\u001b[0;32m     79\u001b[0m \u001b[38;5;66;03m# Set the collision groups.\u001b[39;00m\n\u001b[0;32m     80\u001b[0m \u001b[38;5;28;01mfor\u001b[39;00m body_id \u001b[38;5;129;01min\u001b[39;00m \u001b[38;5;28mself\u001b[39m\u001b[38;5;241m.\u001b[39m_body_ids:\n",
      "File \u001b[1;32mD:\\GitHub\\behavior-vllm-eval\\igibson\\objects\\articulated_object.py:850\u001b[0m, in \u001b[0;36mURDFObject._load\u001b[1;34m(self, simulator)\u001b[0m\n\u001b[0;32m    845\u001b[0m         \u001b[38;5;28;01mif\u001b[39;00m joint_type \u001b[38;5;129;01min\u001b[39;00m [p\u001b[38;5;241m.\u001b[39mJOINT_REVOLUTE, p\u001b[38;5;241m.\u001b[39mJOINT_PRISMATIC]:\n\u001b[0;32m    846\u001b[0m             p\u001b[38;5;241m.\u001b[39msetJointMotorControl2(\n\u001b[0;32m    847\u001b[0m                 body_id, j, p\u001b[38;5;241m.\u001b[39mVELOCITY_CONTROL, targetVelocity\u001b[38;5;241m=\u001b[39m\u001b[38;5;241m0.0\u001b[39m, force\u001b[38;5;241m=\u001b[39m\u001b[38;5;28mself\u001b[39m\u001b[38;5;241m.\u001b[39mjoint_friction\n\u001b[0;32m    848\u001b[0m             )\n\u001b[1;32m--> 850\u001b[0m     \u001b[43msimulator\u001b[49m\u001b[38;5;241;43m.\u001b[39;49m\u001b[43mload_object_in_renderer\u001b[49m\u001b[43m(\u001b[49m\n\u001b[0;32m    851\u001b[0m \u001b[43m        \u001b[49m\u001b[38;5;28;43mself\u001b[39;49m\u001b[43m,\u001b[49m\n\u001b[0;32m    852\u001b[0m \u001b[43m        \u001b[49m\u001b[43mbody_id\u001b[49m\u001b[43m,\u001b[49m\n\u001b[0;32m    853\u001b[0m \u001b[43m        \u001b[49m\u001b[38;5;28;43mself\u001b[39;49m\u001b[38;5;241;43m.\u001b[39;49m\u001b[43mclass_id\u001b[49m\u001b[43m,\u001b[49m\n\u001b[0;32m    854\u001b[0m \u001b[43m        \u001b[49m\u001b[43mvisual_mesh_to_material\u001b[49m\u001b[38;5;241;43m=\u001b[39;49m\u001b[38;5;28;43mself\u001b[39;49m\u001b[38;5;241;43m.\u001b[39;49m\u001b[43mvisual_mesh_to_material\u001b[49m\u001b[43m[\u001b[49m\u001b[43midx\u001b[49m\u001b[43m]\u001b[49m\u001b[43m,\u001b[49m\n\u001b[0;32m    855\u001b[0m \u001b[43m        \u001b[49m\u001b[43mlink_name_to_vm\u001b[49m\u001b[38;5;241;43m=\u001b[39;49m\u001b[38;5;28;43mself\u001b[39;49m\u001b[38;5;241;43m.\u001b[39;49m\u001b[43mlink_name_to_vm\u001b[49m\u001b[43m[\u001b[49m\u001b[43midx\u001b[49m\u001b[43m]\u001b[49m\u001b[43m,\u001b[49m\n\u001b[0;32m    856\u001b[0m \u001b[43m        \u001b[49m\u001b[38;5;241;43m*\u001b[39;49m\u001b[38;5;241;43m*\u001b[39;49m\u001b[38;5;28;43mself\u001b[39;49m\u001b[38;5;241;43m.\u001b[39;49m\u001b[43m_rendering_params\u001b[49m\u001b[43m,\u001b[49m\n\u001b[0;32m    857\u001b[0m \u001b[43m    \u001b[49m\u001b[43m)\u001b[49m\n\u001b[0;32m    859\u001b[0m     body_ids\u001b[38;5;241m.\u001b[39mappend(body_id)\n\u001b[0;32m    861\u001b[0m \u001b[38;5;28;01mreturn\u001b[39;00m body_ids\n",
      "File \u001b[1;32mD:\\GitHub\\behavior-vllm-eval\\igibson\\simulator.py:33\u001b[0m, in \u001b[0;36mload_without_pybullet_vis.<locals>.wrapped_load_func\u001b[1;34m(*args, **kwargs)\u001b[0m\n\u001b[0;32m     31\u001b[0m \u001b[38;5;28;01mdef\u001b[39;00m \u001b[38;5;21mwrapped_load_func\u001b[39m(\u001b[38;5;241m*\u001b[39margs, \u001b[38;5;241m*\u001b[39m\u001b[38;5;241m*\u001b[39mkwargs):\n\u001b[0;32m     32\u001b[0m     p\u001b[38;5;241m.\u001b[39mconfigureDebugVisualizer(p\u001b[38;5;241m.\u001b[39mCOV_ENABLE_RENDERING, \u001b[38;5;28;01mFalse\u001b[39;00m)\n\u001b[1;32m---> 33\u001b[0m     res \u001b[38;5;241m=\u001b[39m \u001b[43mload_func\u001b[49m\u001b[43m(\u001b[49m\u001b[38;5;241;43m*\u001b[39;49m\u001b[43margs\u001b[49m\u001b[43m,\u001b[49m\u001b[43m \u001b[49m\u001b[38;5;241;43m*\u001b[39;49m\u001b[38;5;241;43m*\u001b[39;49m\u001b[43mkwargs\u001b[49m\u001b[43m)\u001b[49m\n\u001b[0;32m     34\u001b[0m     p\u001b[38;5;241m.\u001b[39mconfigureDebugVisualizer(p\u001b[38;5;241m.\u001b[39mCOV_ENABLE_RENDERING, \u001b[38;5;28;01mTrue\u001b[39;00m)\n\u001b[0;32m     35\u001b[0m     \u001b[38;5;28;01mreturn\u001b[39;00m res\n",
      "File \u001b[1;32mD:\\GitHub\\behavior-vllm-eval\\igibson\\simulator.py:387\u001b[0m, in \u001b[0;36mSimulator.load_object_in_renderer\u001b[1;34m(self, obj, body_id, class_id, link_name_to_vm, visual_mesh_to_material, use_pbr, use_pbr_mapping, shadow_caster, softbody, texture_scale)\u001b[0m\n\u001b[0;32m    385\u001b[0m     visual_object \u001b[38;5;241m=\u001b[39m \u001b[38;5;28mself\u001b[39m\u001b[38;5;241m.\u001b[39mvisual_object_cache[(filename, \u001b[38;5;28mtuple\u001b[39m(dimensions), \u001b[38;5;28mtuple\u001b[39m(rel_pos), \u001b[38;5;28mtuple\u001b[39m(rel_orn))]\n\u001b[0;32m    386\u001b[0m \u001b[38;5;28;01melse\u001b[39;00m:\n\u001b[1;32m--> 387\u001b[0m     \u001b[38;5;28;43mself\u001b[39;49m\u001b[38;5;241;43m.\u001b[39;49m\u001b[43mrenderer\u001b[49m\u001b[38;5;241;43m.\u001b[39;49m\u001b[43mload_object\u001b[49m\u001b[43m(\u001b[49m\n\u001b[0;32m    388\u001b[0m \u001b[43m        \u001b[49m\u001b[43mfilename\u001b[49m\u001b[43m,\u001b[49m\n\u001b[0;32m    389\u001b[0m \u001b[43m        \u001b[49m\u001b[43mtransform_orn\u001b[49m\u001b[38;5;241;43m=\u001b[39;49m\u001b[43mrel_orn\u001b[49m\u001b[43m,\u001b[49m\n\u001b[0;32m    390\u001b[0m \u001b[43m        \u001b[49m\u001b[43mtransform_pos\u001b[49m\u001b[38;5;241;43m=\u001b[39;49m\u001b[43mrel_pos\u001b[49m\u001b[43m,\u001b[49m\n\u001b[0;32m    391\u001b[0m \u001b[43m        \u001b[49m\u001b[43minput_kd\u001b[49m\u001b[38;5;241;43m=\u001b[39;49m\u001b[43mcolor\u001b[49m\u001b[43m[\u001b[49m\u001b[43m:\u001b[49m\u001b[38;5;241;43m3\u001b[39;49m\u001b[43m]\u001b[49m\u001b[43m,\u001b[49m\n\u001b[0;32m    392\u001b[0m \u001b[43m        \u001b[49m\u001b[43mscale\u001b[49m\u001b[38;5;241;43m=\u001b[39;49m\u001b[43mnp\u001b[49m\u001b[38;5;241;43m.\u001b[39;49m\u001b[43marray\u001b[49m\u001b[43m(\u001b[49m\u001b[43mdimensions\u001b[49m\u001b[43m)\u001b[49m\u001b[43m,\u001b[49m\n\u001b[0;32m    393\u001b[0m \u001b[43m        \u001b[49m\u001b[43mtexture_scale\u001b[49m\u001b[38;5;241;43m=\u001b[39;49m\u001b[43mtexture_scale\u001b[49m\u001b[43m,\u001b[49m\n\u001b[0;32m    394\u001b[0m \u001b[43m        \u001b[49m\u001b[43moverwrite_material\u001b[49m\u001b[38;5;241;43m=\u001b[39;49m\u001b[43moverwrite_material\u001b[49m\u001b[43m,\u001b[49m\n\u001b[0;32m    395\u001b[0m \u001b[43m    \u001b[49m\u001b[43m)\u001b[49m\n\u001b[0;32m    396\u001b[0m     visual_object \u001b[38;5;241m=\u001b[39m \u001b[38;5;28mlen\u001b[39m(\u001b[38;5;28mself\u001b[39m\u001b[38;5;241m.\u001b[39mrenderer\u001b[38;5;241m.\u001b[39mvisual_objects) \u001b[38;5;241m-\u001b[39m \u001b[38;5;241m1\u001b[39m\n\u001b[0;32m    397\u001b[0m     \u001b[38;5;28;01mif\u001b[39;00m caching_allowed:\n",
      "File \u001b[1;32mD:\\GitHub\\behavior-vllm-eval\\igibson\\render\\mesh_renderer\\mesh_renderer_cpu.py:549\u001b[0m, in \u001b[0;36mMeshRenderer.load_object\u001b[1;34m(self, obj_path, scale, transform_orn, transform_pos, input_kd, texture_scale, overwrite_material)\u001b[0m\n\u001b[0;32m    547\u001b[0m log\u001b[38;5;241m.\u001b[39mdebug(\u001b[38;5;124m\"\u001b[39m\u001b[38;5;124mnum_indices = \u001b[39m\u001b[38;5;132;01m{}\u001b[39;00m\u001b[38;5;124m\"\u001b[39m\u001b[38;5;241m.\u001b[39mformat(\u001b[38;5;28mlen\u001b[39m(shape\u001b[38;5;241m.\u001b[39mmesh\u001b[38;5;241m.\u001b[39mindices)))\n\u001b[0;32m    548\u001b[0m n_indices \u001b[38;5;241m=\u001b[39m \u001b[38;5;28mlen\u001b[39m(shape\u001b[38;5;241m.\u001b[39mmesh\u001b[38;5;241m.\u001b[39mindices)\n\u001b[1;32m--> 549\u001b[0m np_indices \u001b[38;5;241m=\u001b[39m \u001b[43mshape\u001b[49m\u001b[38;5;241;43m.\u001b[39;49m\u001b[43mmesh\u001b[49m\u001b[38;5;241m.\u001b[39mnumpy_indices()\u001b[38;5;241m.\u001b[39mreshape((n_indices, \u001b[38;5;241m3\u001b[39m))\n\u001b[0;32m    551\u001b[0m shape_vertex_index \u001b[38;5;241m=\u001b[39m np_indices[:, \u001b[38;5;241m0\u001b[39m]\n\u001b[0;32m    552\u001b[0m shape_normal_index \u001b[38;5;241m=\u001b[39m np_indices[:, \u001b[38;5;241m1\u001b[39m]\n",
      "\u001b[1;31mKeyboardInterrupt\u001b[0m: "
     ]
    }
   ],
   "source": [
    "demo_path=rb\"D:\\GitHub\\behavior-vllm-eval\\igibson\\data\\virtual_reality\\bottling_fruit_0_Wainscott_0_int_0_2021-05-24_19-46-46.hdf5\"\n",
    "eenv=Env(demo_path=demo_path)\n",
    "igenv = iGibsonEnv(config_file=eenv.config)\n",
    "bt=BehaviorTask(igenv)"
   ]
  },
  {
   "cell_type": "code",
   "execution_count": null,
   "metadata": {},
   "outputs": [
    {
     "name": "stdout",
     "output_type": "stream",
     "text": [
      "strawberry.n.01_1 strawberry_0_multiplexer\n",
      "electric_refrigerator.n.01_1 fridge_97\n",
      "peach.n.03_1 peach_0_multiplexer\n",
      "countertop.n.01_1 countertop_84\n",
      "jar.n.01_1 jar_0\n",
      "jar.n.01_2 jar_1\n",
      "carving_knife.n.01_1 carving_knife_0\n",
      "cabinet.n.01_1 bottom_cabinet_no_top_80\n",
      "floor.n.01_1 room_floor_kitchen_0\n",
      "agent.n.01_1 agent_2BD36CE6280\n"
     ]
    }
   ],
   "source": [
    "for name, obj in bt.object_scope.items():\n",
    "    print(name,obj.name)"
   ]
  },
  {
   "cell_type": "code",
   "execution_count": null,
   "metadata": {},
   "outputs": [],
   "source": [
    "from igibson.objects.multi_object_wrappers import ObjectMultiplexer,ObjectGrouper\n",
    "from igibson.objects.articulated_object import URDFObject\n",
    "from igibson.object_states.on_floor import RoomFloor\n",
    "name_mapping={}\n",
    "for name, obj in bt.object_scope.items():\n",
    "    if isinstance(obj, ObjectMultiplexer):\n",
    "        name_mapping[name]=obj.name.rstrip(\"_multiplexer\")\n",
    "    elif isinstance(obj, RoomFloor) or isinstance(obj, URDFObject):\n",
    "        name_mapping[name]=obj.name"
   ]
  },
  {
   "cell_type": "code",
   "execution_count": null,
   "metadata": {},
   "outputs": [
    {
     "name": "stdout",
     "output_type": "stream",
     "text": [
      "{'strawberry.n.01_1': 'strawberry_0', 'electric_refrigerator.n.01_1': 'fridge_97', 'peach.n.03_1': 'peach_0', 'countertop.n.01_1': 'countertop_84', 'jar.n.01_1': 'jar_0', 'jar.n.01_2': 'jar_1', 'carving_knife.n.01_1': 'carving_knife_0', 'cabinet.n.01_1': 'bottom_cabinet_no_top_80', 'floor.n.01_1': 'room_floor_kitchen_0'}\n"
     ]
    }
   ],
   "source": [
    "print(name_mapping)"
   ]
  },
  {
   "cell_type": "code",
   "execution_count": null,
   "metadata": {},
   "outputs": [
    {
     "name": "stdout",
     "output_type": "stream",
     "text": [
      "strawberry.n.01_1 strawberry_0_multiplexer\n",
      "electric_refrigerator.n.01_1 fridge_97\n",
      "peach.n.03_1 peach_0_multiplexer\n",
      "countertop.n.01_1 countertop_84\n",
      "jar.n.01_1 jar_0\n",
      "jar.n.01_2 jar_1\n",
      "carving_knife.n.01_1 carving_knife_0\n",
      "cabinet.n.01_1 bottom_cabinet_no_top_80\n",
      "floor.n.01_1 room_floor_kitchen_0\n",
      "agent.n.01_1 agent_2BD36CE6280\n"
     ]
    }
   ],
   "source": [
    "for name, obj in bt.object_scope.items():\n",
    "    print(name,obj.name)"
   ]
  },
  {
   "cell_type": "code",
   "execution_count": null,
   "metadata": {},
   "outputs": [
    {
     "name": "stdout",
     "output_type": "stream",
     "text": [
      "['inside', 'strawberry.n.01_1', 'electric_refrigerator.n.01_1']\n",
      "['inside', 'peach.n.03_1', 'electric_refrigerator.n.01_1']\n",
      "['not', 'sliced', 'strawberry.n.01_1']\n",
      "['not', 'sliced', 'peach.n.03_1']\n",
      "['ontop', 'jar.n.01_1', 'countertop.n.01_1']\n",
      "['ontop', 'jar.n.01_2', 'countertop.n.01_1']\n",
      "['ontop', 'carving_knife.n.01_1', 'countertop.n.01_1']\n",
      "['onfloor', 'agent.n.01_1', 'floor.n.01_1']\n"
     ]
    }
   ],
   "source": [
    "for initial_cond in bt.initial_conditions:\n",
    "    print(initial_cond.terms)"
   ]
  },
  {
   "cell_type": "code",
   "execution_count": null,
   "metadata": {},
   "outputs": [
    {
     "name": "stdout",
     "output_type": "stream",
     "text": [
      "strawberry_0\n",
      "fridge_97\n",
      "peach_0\n",
      "countertop_84\n",
      "jar_0\n",
      "jar_1\n",
      "carving_knife_0\n",
      "bottom_cabinet_no_top_80\n",
      "room_floor_kitchen_0\n",
      "\n"
     ]
    }
   ],
   "source": [
    "objects=\"\"\n",
    "for name in name_mapping.values():\n",
    "    objects+=name+\"\\n\"\n",
    "print(objects)"
   ]
  },
  {
   "cell_type": "code",
   "execution_count": null,
   "metadata": {},
   "outputs": [
    {
     "name": "stdout",
     "output_type": "stream",
     "text": [
      "['inside', 'strawberry_0', 'fridge_97']\n",
      "['inside', 'peach_0', 'fridge_97']\n",
      "['not', 'sliced', 'strawberry_0']\n",
      "['not', 'sliced', 'peach_0']\n",
      "['ontop', 'jar_0', 'countertop_84']\n",
      "['ontop', 'jar_1', 'countertop_84']\n",
      "['ontop', 'carving_knife_0', 'countertop_84']\n",
      "['onfloor', 'agent.n.01_1', 'room_floor_kitchen_0']\n"
     ]
    }
   ],
   "source": [
    "for goal_cond in bt.initial_conditions:\n",
    "    a=goal_cond.terms\n",
    "    b=[]\n",
    "    for name in a:\n",
    "        if name in name_mapping:\n",
    "            b.append(name_mapping[name])\n",
    "        else:\n",
    "            b.append(name)\n",
    "    print(b)"
   ]
  },
  {
   "cell_type": "code",
   "execution_count": null,
   "metadata": {},
   "outputs": [
    {
     "name": "stdout",
     "output_type": "stream",
     "text": [
      "['exists', 'jar.n.01', '-', 'jar.n.01', 'and', 'inside', 'strawberry_0', 'jar.n.01', 'not', 'inside', 'peach_0', 'jar.n.01']\n",
      "['exists', 'jar.n.01', '-', 'jar.n.01', 'and', 'inside', 'peach_0', 'jar.n.01', 'not', 'inside', 'strawberry_0', 'jar.n.01']\n",
      "['forall', 'jar.n.01', '-', 'jar.n.01', 'not', 'open', 'jar.n.01']\n",
      "['sliced', 'strawberry_0']\n",
      "['sliced', 'peach_0']\n"
     ]
    }
   ],
   "source": [
    "for goal_cond in bt.goal_conditions:\n",
    "    a=goal_cond.terms\n",
    "    b=[]\n",
    "    for name in a:\n",
    "        if name in name_mapping:\n",
    "            b.append(name_mapping[name])\n",
    "        else:\n",
    "            b.append(name)\n",
    "    print(b)"
   ]
  },
  {
   "cell_type": "code",
   "execution_count": null,
   "metadata": {},
   "outputs": [
    {
     "data": {
      "text/plain": [
       "['onfloor', 'agent.n.01_1', 'floor.n.01_1']"
      ]
     },
     "execution_count": 14,
     "metadata": {},
     "output_type": "execute_result"
    }
   ],
   "source": [
    "bt.initial_conditions[7].terms"
   ]
  },
  {
   "cell_type": "code",
   "execution_count": null,
   "metadata": {},
   "outputs": [
    {
     "data": {
      "text/plain": [
       "[<bddl.condition_evaluation.HEAD at 0x1a97408c310>,\n",
       " <bddl.condition_evaluation.HEAD at 0x1a97408cfd0>,\n",
       " <bddl.condition_evaluation.HEAD at 0x1a964cf72b0>,\n",
       " <bddl.condition_evaluation.HEAD at 0x1a964cf74c0>,\n",
       " <bddl.condition_evaluation.HEAD at 0x1a964cf7520>]"
      ]
     },
     "execution_count": 16,
     "metadata": {},
     "output_type": "execute_result"
    }
   ],
   "source": [
    "bt.goal_conditions"
   ]
  },
  {
   "cell_type": "code",
   "execution_count": null,
   "metadata": {},
   "outputs": [
    {
     "name": "stdout",
     "output_type": "stream",
     "text": [
      "['exists', 'jar.n.01', '-', 'jar.n.01', 'and', 'inside', 'strawberry.n.01_1', 'jar.n.01', 'not', 'inside', 'peach.n.03_1', 'jar.n.01']\n"
     ]
    }
   ],
   "source": [
    "print(bt.goal_conditions[0].terms)"
   ]
  }
 ],
 "metadata": {
  "kernelspec": {
   "display_name": "igibson-eval",
   "language": "python",
   "name": "python3"
  },
  "language_info": {
   "codemirror_mode": {
    "name": "ipython",
    "version": 3
   },
   "file_extension": ".py",
   "mimetype": "text/x-python",
   "name": "python",
   "nbconvert_exporter": "python",
   "pygments_lexer": "ipython3",
   "version": "3.8.19"
  }
 },
 "nbformat": 4,
 "nbformat_minor": 2
}
