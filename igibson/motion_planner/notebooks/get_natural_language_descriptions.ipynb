{
 "cells": [
  {
   "cell_type": "code",
   "execution_count": 1,
   "metadata": {},
   "outputs": [
    {
     "name": "stderr",
     "output_type": "stream",
     "text": [
      "INFO:root:Importing iGibson (igibson module)\n",
      "INFO:root:Assets path: C:\\Users\\bryan\\Code\\main\\behavior-vllm-eval\\igibson\\data/assets\n",
      "INFO:root:Gibson Dataset path: C:\\Users\\bryan\\Code\\main\\behavior-vllm-eval\\igibson\\data/g_dataset\n",
      "INFO:root:iG Dataset path: C:\\Users\\bryan\\Code\\main\\behavior-vllm-eval\\igibson\\data/ig_dataset\n",
      "INFO:root:3D-FRONT Dataset path: C:\\Users\\bryan\\Code\\main\\behavior-vllm-eval\\igibson\\data/threedfront_dataset\n",
      "INFO:root:CubiCasa5K Dataset path: C:\\Users\\bryan\\Code\\main\\behavior-vllm-eval\\igibson\\data/cubicasa_dataset\n",
      "INFO:root:iGibson Key path: C:\\Users\\bryan\\Code\\main\\behavior-vllm-eval\\igibson\\data/igibson.key\n",
      "INFO:root:Example path: C:\\Users\\bryan\\Code\\main\\behavior-vllm-eval\\igibson\\examples\n",
      "INFO:root:Example config path: C:\\Users\\bryan\\Code\\main\\behavior-vllm-eval\\igibson\\examples\\configs\n"
     ]
    }
   ],
   "source": [
    "import igibson\n",
    "from bddl.parsing import scan_tokens\n",
    "from bddl.activity import Conditions, get_object_scope, get_natural_goal_conditions"
   ]
  },
  {
   "cell_type": "code",
   "execution_count": 12,
   "metadata": {},
   "outputs": [
    {
     "data": {
      "text/plain": [
       "[['forpairs',\n",
       "  ['?basket.n.01', '-', 'basket.n.01'],\n",
       "  ['?candle.n.01', '-', 'candle.n.01'],\n",
       "  ['inside', '?candle.n.01', '?basket.n.01']],\n",
       " ['forpairs',\n",
       "  ['?basket.n.01', '-', 'basket.n.01'],\n",
       "  ['?cheese.n.01', '-', 'cheese.n.01'],\n",
       "  ['inside', '?cheese.n.01', '?basket.n.01']],\n",
       " ['forpairs',\n",
       "  ['?basket.n.01', '-', 'basket.n.01'],\n",
       "  ['?cookie.n.01', '-', 'cookie.n.01'],\n",
       "  ['inside', '?cookie.n.01', '?basket.n.01']],\n",
       " ['forpairs',\n",
       "  ['?basket.n.01', '-', 'basket.n.01'],\n",
       "  ['?bow.n.08', '-', 'bow.n.08'],\n",
       "  ['inside', '?bow.n.08', '?basket.n.01']]]"
      ]
     },
     "execution_count": 12,
     "metadata": {},
     "output_type": "execute_result"
    }
   ],
   "source": [
    "behavior_activity = \"assembling_gift_baskets\"\n",
    "# behavior_activity = \"bottling_fruit\"\n",
    "activity_definition = 0\n",
    "simulator_name = \"iGibson\"\n",
    "\n",
    "\n",
    "conds = Conditions(behavior_activity, activity_definition, simulator_name)\n",
    "conds.object_scope = get_object_scope(conds)\n",
    "\n",
    "# conds.parsed_objects\n",
    "# conds.parsed_initial_conditions\n",
    "conds.parsed_goal_conditions\n",
    "\n",
    "# print(conds.object_scope)\n",
    "# initial_conds = get_initial_conditions(conds)\n",
    "# goal_conds = get_goal_conditions(conds, conds.object_scope)\n",
    "# goal_conds"
   ]
  },
  {
   "cell_type": "code",
   "execution_count": 13,
   "metadata": {},
   "outputs": [
    {
     "data": {
      "text/plain": [
       "['for pairs of baskets and candles,\\n    the candle is inside the basket',\n",
       " 'for pairs of baskets and cheeses,\\n    the cheese is inside the basket',\n",
       " 'for pairs of baskets and cookies,\\n    the cookie is inside the basket',\n",
       " 'for pairs of baskets and bows,\\n    the bow is inside the basket']"
      ]
     },
     "execution_count": 13,
     "metadata": {},
     "output_type": "execute_result"
    }
   ],
   "source": [
    "get_natural_goal_conditions(conds)"
   ]
  },
  {
   "cell_type": "code",
   "execution_count": 4,
   "metadata": {},
   "outputs": [
    {
     "data": {
      "text/plain": [
       "[['forpairs',\n",
       "  ['?basket.n.01', '-', 'basket.n.01'],\n",
       "  ['?candle.n.01', '-', 'candle.n.01'],\n",
       "  ['inside', '?candle.n.01', '?basket.n.01']],\n",
       " ['forpairs',\n",
       "  ['?basket.n.01', '-', 'basket.n.01'],\n",
       "  ['?cheese.n.01', '-', 'cheese.n.01'],\n",
       "  ['inside', '?cheese.n.01', '?basket.n.01']],\n",
       " ['forpairs',\n",
       "  ['?basket.n.01', '-', 'basket.n.01'],\n",
       "  ['?cookie.n.01', '-', 'cookie.n.01'],\n",
       "  ['inside', '?cookie.n.01', '?basket.n.01']],\n",
       " ['forpairs',\n",
       "  ['?basket.n.01', '-', 'basket.n.01'],\n",
       "  ['?bow.n.08', '-', 'bow.n.08'],\n",
       "  ['inside', '?bow.n.08', '?basket.n.01']]]"
      ]
     },
     "execution_count": 4,
     "metadata": {},
     "output_type": "execute_result"
    }
   ],
   "source": [
    "conds.parsed_goal_conditions"
   ]
  },
  {
   "cell_type": "code",
   "execution_count": 5,
   "metadata": {},
   "outputs": [
    {
     "data": {
      "text/plain": [
       "['define',\n",
       " ['problem', 'assembling_gift_baskets_0'],\n",
       " [':domain', 'igibson'],\n",
       " [':objects',\n",
       "  'basket.n.01_1',\n",
       "  'basket.n.01_2',\n",
       "  'basket.n.01_3',\n",
       "  'basket.n.01_4',\n",
       "  '-',\n",
       "  'basket.n.01',\n",
       "  'floor.n.01_1',\n",
       "  '-',\n",
       "  'floor.n.01',\n",
       "  'candle.n.01_1',\n",
       "  'candle.n.01_2',\n",
       "  'candle.n.01_3',\n",
       "  'candle.n.01_4',\n",
       "  '-',\n",
       "  'candle.n.01',\n",
       "  'cookie.n.01_1',\n",
       "  'cookie.n.01_2',\n",
       "  'cookie.n.01_3',\n",
       "  'cookie.n.01_4',\n",
       "  '-',\n",
       "  'cookie.n.01',\n",
       "  'cheese.n.01_1',\n",
       "  'cheese.n.01_2',\n",
       "  'cheese.n.01_3',\n",
       "  'cheese.n.01_4',\n",
       "  '-',\n",
       "  'cheese.n.01',\n",
       "  'bow.n.08_1',\n",
       "  'bow.n.08_2',\n",
       "  'bow.n.08_3',\n",
       "  'bow.n.08_4',\n",
       "  '-',\n",
       "  'bow.n.08',\n",
       "  'table.n.02_1',\n",
       "  'table.n.02_2',\n",
       "  '-',\n",
       "  'table.n.02',\n",
       "  'agent.n.01_1',\n",
       "  '-',\n",
       "  'agent.n.01'],\n",
       " [':init',\n",
       "  ['onfloor', 'basket.n.01_1', 'floor.n.01_1'],\n",
       "  ['onfloor', 'basket.n.01_2', 'floor.n.01_1'],\n",
       "  ['onfloor', 'basket.n.01_3', 'floor.n.01_1'],\n",
       "  ['onfloor', 'basket.n.01_4', 'floor.n.01_1'],\n",
       "  ['ontop', 'candle.n.01_1', 'table.n.02_1'],\n",
       "  ['ontop', 'candle.n.01_2', 'table.n.02_1'],\n",
       "  ['ontop', 'candle.n.01_3', 'table.n.02_1'],\n",
       "  ['ontop', 'candle.n.01_4', 'table.n.02_1'],\n",
       "  ['ontop', 'cookie.n.01_1', 'table.n.02_1'],\n",
       "  ['ontop', 'cookie.n.01_2', 'table.n.02_1'],\n",
       "  ['ontop', 'cookie.n.01_3', 'table.n.02_1'],\n",
       "  ['ontop', 'cookie.n.01_4', 'table.n.02_1'],\n",
       "  ['ontop', 'cheese.n.01_1', 'table.n.02_2'],\n",
       "  ['ontop', 'cheese.n.01_2', 'table.n.02_2'],\n",
       "  ['ontop', 'cheese.n.01_3', 'table.n.02_2'],\n",
       "  ['ontop', 'cheese.n.01_4', 'table.n.02_2'],\n",
       "  ['ontop', 'bow.n.08_1', 'table.n.02_2'],\n",
       "  ['ontop', 'bow.n.08_2', 'table.n.02_2'],\n",
       "  ['ontop', 'bow.n.08_3', 'table.n.02_2'],\n",
       "  ['ontop', 'bow.n.08_4', 'table.n.02_2'],\n",
       "  ['inroom', 'floor.n.01_1', 'living_room'],\n",
       "  ['inroom', 'table.n.02_1', 'living_room'],\n",
       "  ['inroom', 'table.n.02_2', 'living_room'],\n",
       "  ['onfloor', 'agent.n.01_1', 'floor.n.01_1']],\n",
       " [':goal',\n",
       "  ['and',\n",
       "   ['forpairs',\n",
       "    ['?basket.n.01', '-', 'basket.n.01'],\n",
       "    ['?candle.n.01', '-', 'candle.n.01'],\n",
       "    ['inside', '?candle.n.01', '?basket.n.01']],\n",
       "   ['forpairs',\n",
       "    ['?basket.n.01', '-', 'basket.n.01'],\n",
       "    ['?cheese.n.01', '-', 'cheese.n.01'],\n",
       "    ['inside', '?cheese.n.01', '?basket.n.01']],\n",
       "   ['forpairs',\n",
       "    ['?basket.n.01', '-', 'basket.n.01'],\n",
       "    ['?cookie.n.01', '-', 'cookie.n.01'],\n",
       "    ['inside', '?cookie.n.01', '?basket.n.01']],\n",
       "   ['forpairs',\n",
       "    ['?basket.n.01', '-', 'basket.n.01'],\n",
       "    ['?bow.n.08', '-', 'bow.n.08'],\n",
       "    ['inside', '?bow.n.08', '?basket.n.01']]]]]"
      ]
     },
     "execution_count": 5,
     "metadata": {},
     "output_type": "execute_result"
    }
   ],
   "source": [
    "bddl_file = r\"C:\\Users\\bryan\\Code\\wkdir\\bddl\\bddl\\activity_definitions\\assembling_gift_baskets\\problem0.bddl\"\n",
    "\n",
    "res = scan_tokens(bddl_file)\n",
    "\n",
    "res"
   ]
  },
  {
   "cell_type": "code",
   "execution_count": 7,
   "metadata": {},
   "outputs": [
    {
     "name": "stdout",
     "output_type": "stream",
     "text": [
      "6\n",
      "define\n",
      "['problem', 'assembling_gift_baskets_0']\n",
      "[':domain', 'igibson']\n",
      "[':objects', 'basket.n.01_1', 'basket.n.01_2', 'basket.n.01_3', 'basket.n.01_4', '-', 'basket.n.01', 'floor.n.01_1', '-', 'floor.n.01', 'candle.n.01_1', 'candle.n.01_2', 'candle.n.01_3', 'candle.n.01_4', '-', 'candle.n.01', 'cookie.n.01_1', 'cookie.n.01_2', 'cookie.n.01_3', 'cookie.n.01_4', '-', 'cookie.n.01', 'cheese.n.01_1', 'cheese.n.01_2', 'cheese.n.01_3', 'cheese.n.01_4', '-', 'cheese.n.01', 'bow.n.08_1', 'bow.n.08_2', 'bow.n.08_3', 'bow.n.08_4', '-', 'bow.n.08', 'table.n.02_1', 'table.n.02_2', '-', 'table.n.02', 'agent.n.01_1', '-', 'agent.n.01']\n",
      "[':init', ['onfloor', 'basket.n.01_1', 'floor.n.01_1'], ['onfloor', 'basket.n.01_2', 'floor.n.01_1'], ['onfloor', 'basket.n.01_3', 'floor.n.01_1'], ['onfloor', 'basket.n.01_4', 'floor.n.01_1'], ['ontop', 'candle.n.01_1', 'table.n.02_1'], ['ontop', 'candle.n.01_2', 'table.n.02_1'], ['ontop', 'candle.n.01_3', 'table.n.02_1'], ['ontop', 'candle.n.01_4', 'table.n.02_1'], ['ontop', 'cookie.n.01_1', 'table.n.02_1'], ['ontop', 'cookie.n.01_2', 'table.n.02_1'], ['ontop', 'cookie.n.01_3', 'table.n.02_1'], ['ontop', 'cookie.n.01_4', 'table.n.02_1'], ['ontop', 'cheese.n.01_1', 'table.n.02_2'], ['ontop', 'cheese.n.01_2', 'table.n.02_2'], ['ontop', 'cheese.n.01_3', 'table.n.02_2'], ['ontop', 'cheese.n.01_4', 'table.n.02_2'], ['ontop', 'bow.n.08_1', 'table.n.02_2'], ['ontop', 'bow.n.08_2', 'table.n.02_2'], ['ontop', 'bow.n.08_3', 'table.n.02_2'], ['ontop', 'bow.n.08_4', 'table.n.02_2'], ['inroom', 'floor.n.01_1', 'living_room'], ['inroom', 'table.n.02_1', 'living_room'], ['inroom', 'table.n.02_2', 'living_room'], ['onfloor', 'agent.n.01_1', 'floor.n.01_1']]\n",
      "[':goal', ['and', ['forpairs', ['?basket.n.01', '-', 'basket.n.01'], ['?candle.n.01', '-', 'candle.n.01'], ['inside', '?candle.n.01', '?basket.n.01']], ['forpairs', ['?basket.n.01', '-', 'basket.n.01'], ['?cheese.n.01', '-', 'cheese.n.01'], ['inside', '?cheese.n.01', '?basket.n.01']], ['forpairs', ['?basket.n.01', '-', 'basket.n.01'], ['?cookie.n.01', '-', 'cookie.n.01'], ['inside', '?cookie.n.01', '?basket.n.01']], ['forpairs', ['?basket.n.01', '-', 'basket.n.01'], ['?bow.n.08', '-', 'bow.n.08'], ['inside', '?bow.n.08', '?basket.n.01']]]]\n"
     ]
    }
   ],
   "source": [
    "print(len(res))\n",
    "\n",
    "print(res[0])\n",
    "print(res[1])\n",
    "print(res[2])\n",
    "print(res[3])\n",
    "print(res[4])\n",
    "print(res[5])"
   ]
  },
  {
   "cell_type": "code",
   "execution_count": null,
   "metadata": {},
   "outputs": [],
   "source": []
  },
  {
   "cell_type": "code",
   "execution_count": 39,
   "metadata": {},
   "outputs": [],
   "source": [
    "import h5py\n",
    "import matplotlib.pyplot as plt\n",
    "import numpy as np"
   ]
  },
  {
   "cell_type": "code",
   "execution_count": 61,
   "metadata": {},
   "outputs": [
    {
     "name": "stdout",
     "output_type": "stream",
     "text": [
      "Activity Definition:  0\n",
      "ATUS Activity:  assembling_gift_baskets\n",
      "Filter Objects:  True\n",
      "Instance ID:  0\n",
      "Physics Timestep:  0.0033333333333333335\n",
      "Render Timestep:  0.03333333333333333\n",
      "Scene ID:  Beechwood_0_int\n",
      "Start Time:  2021-10-26 12:40:39.957032\n",
      "URDF File:  Beechwood_0_int_task_assembling_gift_baskets_0_0_fixed_furniture\n"
     ]
    }
   ],
   "source": [
    "filename = r\"C:\\Users\\bryan\\Code\\wkdir\\behavior-vllm-eval\\igibson\\data\\vr\\assembling_gift_baskets_0_Beechwood_0_int_0_2021-10-26_12-40-39.hdf5\"\n",
    "\n",
    "f = h5py.File(filename, \"r\")\n",
    "\n",
    "# f.keys()\n",
    "f.attrs.keys()\n",
    "\n",
    "print(\"Activity Definition: \", f.attrs['/metadata/activity_definition'])\n",
    "print(\"ATUS Activity: \", f.attrs['/metadata/atus_activity'])\n",
    "print(\"Filter Objects: \", f.attrs['/metadata/filter_objects'])\n",
    "# print(\"Git Info: \", f.attrs['/metadata/git_info'])\n",
    "print(\"Instance ID: \", f.attrs['/metadata/instance_id'])\n",
    "# print(\"Object Body ID to Name: \", f.attrs['/metadata/obj_body_id_to_name'])\n",
    "print(\"Physics Timestep: \", f.attrs['/metadata/physics_timestep'])\n",
    "print(\"Render Timestep: \", f.attrs['/metadata/render_timestep'])\n",
    "print(\"Scene ID: \", f.attrs['/metadata/scene_id'])\n",
    "print(\"Start Time: \", f.attrs['/metadata/start_time'])\n",
    "print(\"URDF File: \", f.attrs['/metadata/urdf_file'])\n",
    "# print(\"VR Settings: \", f.attrs['/metadata/vr_settings'])"
   ]
  },
  {
   "cell_type": "code",
   "execution_count": 62,
   "metadata": {},
   "outputs": [
    {
     "data": {
      "text/plain": [
       "<KeysViewHDF5 ['agent_actions', 'frame_data', 'goal_status', 'physics_data', 'vr']>"
      ]
     },
     "execution_count": 62,
     "metadata": {},
     "output_type": "execute_result"
    }
   ],
   "source": [
    "f.keys()"
   ]
  },
  {
   "cell_type": "code",
   "execution_count": 63,
   "metadata": {},
   "outputs": [
    {
     "data": {
      "text/plain": [
       "[<matplotlib.lines.Line2D at 0x26b75c76580>]"
      ]
     },
     "execution_count": 63,
     "metadata": {},
     "output_type": "execute_result"
    },
    {
     "data": {
      "image/png": "[encoded data removed]",
      "text/plain": [
       "<Figure size 640x480 with 1 Axes>"
      ]
     },
     "metadata": {},
     "output_type": "display_data"
    }
   ],
   "source": [
    "fig, ax = plt.subplots()\n",
    "ax.plot(np.sum(f['goal_status']['satisfied'][:], axis=1))\n",
    "ax.plot(np.sum(f['goal_status']['unsatisfied'][:], axis=1))"
   ]
  },
  {
   "cell_type": "code",
   "execution_count": 65,
   "metadata": {},
   "outputs": [
    {
     "data": {
      "text/plain": [
       "<HDF5 group \"/agent_actions\" (1 members)>"
      ]
     },
     "execution_count": 65,
     "metadata": {},
     "output_type": "execute_result"
    }
   ],
   "source": [
    "def explore_group(group, indent=''):\n",
    "    for key in group.keys():\n",
    "        item = group[key]\n",
    "        print(indent + 'Key:', key)\n",
    "        if isinstance(item, h5py.Dataset):\n",
    "            # Dataset: print details\n",
    "            explore_dataset(indent + key, item)\n",
    "        elif isinstance(item, h5py.Group):\n",
    "            # Group: Recursively explore\n",
    "            print(indent + '{} is a Group'.format(key))\n",
    "            explore_group(item, indent=indent + '    ')\n",
    "        print()"
   ]
  }
 ],
 "metadata": {
  "kernelspec": {
   "display_name": "myenv",
   "language": "python",
   "name": "python3"
  },
  "language_info": {
   "codemirror_mode": {
    "name": "ipython",
    "version": 3
   },
   "file_extension": ".py",
   "mimetype": "text/x-python",
   "name": "python",
   "nbconvert_exporter": "python",
   "pygments_lexer": "ipython3",
   "version": "3.8.19"
  }
 },
 "nbformat": 4,
 "nbformat_minor": 2
}
