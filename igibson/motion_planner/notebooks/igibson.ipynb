{
 "cells": [
  {
   "cell_type": "code",
   "execution_count": 5,
   "metadata": {},
   "outputs": [],
   "source": [
    "import h5py\n",
    "import matplotlib.pyplot as plt\n",
    "import numpy as np"
   ]
  },
  {
   "cell_type": "code",
   "execution_count": 6,
   "metadata": {},
   "outputs": [
    {
     "name": "stdout",
     "output_type": "stream",
     "text": [
      "Activity Definition:  0\n",
      "ATUS Activity:  assembling_gift_baskets\n",
      "Filter Objects:  True\n",
      "Instance ID:  0\n",
      "Physics Timestep:  0.0033333333333333335\n",
      "Render Timestep:  0.03333333333333333\n",
      "Scene ID:  Beechwood_0_int\n",
      "Start Time:  2021-10-26 12:40:39.957032\n",
      "URDF File:  Beechwood_0_int_task_assembling_gift_baskets_0_0_fixed_furniture\n"
     ]
    }
   ],
   "source": [
    "filename = r\"C:\\Users\\bryan\\Code\\wkdir\\behavior-vllm-eval\\igibson\\data\\vr\\assembling_gift_baskets_0_Beechwood_0_int_0_2021-10-26_12-40-39.hdf5\"\n",
    "\n",
    "f = h5py.File(filename, \"r\")\n",
    "\n",
    "# f.keys()\n",
    "f.attrs.keys()\n",
    "\n",
    "print(\"Activity Definition: \", f.attrs['/metadata/activity_definition'])\n",
    "print(\"ATUS Activity: \", f.attrs['/metadata/atus_activity'])\n",
    "print(\"Filter Objects: \", f.attrs['/metadata/filter_objects'])\n",
    "# print(\"Git Info: \", f.attrs['/metadata/git_info'])\n",
    "print(\"Instance ID: \", f.attrs['/metadata/instance_id'])\n",
    "# print(\"Object Body ID to Name: \", f.attrs['/metadata/obj_body_id_to_name'])\n",
    "print(\"Physics Timestep: \", f.attrs['/metadata/physics_timestep'])\n",
    "print(\"Render Timestep: \", f.attrs['/metadata/render_timestep'])\n",
    "print(\"Scene ID: \", f.attrs['/metadata/scene_id'])\n",
    "print(\"Start Time: \", f.attrs['/metadata/start_time'])\n",
    "print(\"URDF File: \", f.attrs['/metadata/urdf_file'])\n",
    "# print(\"VR Settings: \", f.attrs['/metadata/vr_settings'])"
   ]
  },
  {
   "cell_type": "code",
   "execution_count": 7,
   "metadata": {},
   "outputs": [
    {
     "data": {
      "text/plain": [
       "<KeysViewHDF5 ['agent_actions', 'frame_data', 'goal_status', 'physics_data', 'vr']>"
      ]
     },
     "execution_count": 7,
     "metadata": {},
     "output_type": "execute_result"
    }
   ],
   "source": [
    "f.keys()"
   ]
  },
  {
   "cell_type": "code",
   "execution_count": 8,
   "metadata": {},
   "outputs": [
    {
     "data": {
      "text/plain": [
       "[<matplotlib.lines.Line2D at 0x2957c6c6970>]"
      ]
     },
     "execution_count": 8,
     "metadata": {},
     "output_type": "execute_result"
    },
    {
     "data": {
      "image/png": "[encoded data removed]",
      "text/plain": [
       "<Figure size 640x480 with 1 Axes>"
      ]
     },
     "metadata": {},
     "output_type": "display_data"
    }
   ],
   "source": [
    "fig, ax = plt.subplots()\n",
    "ax.plot(np.sum(f['goal_status']['satisfied'][:], axis=1))\n",
    "ax.plot(np.sum(f['goal_status']['unsatisfied'][:], axis=1))"
   ]
  },
  {
   "cell_type": "code",
   "execution_count": 9,
   "metadata": {},
   "outputs": [],
   "source": [
    "def explore_group(group, indent=''):\n",
    "    for key in group.keys():\n",
    "        item = group[key]\n",
    "        print(indent + 'Key:', key)\n",
    "        if isinstance(item, h5py.Dataset):\n",
    "            # Dataset: print details\n",
    "            explore_dataset(indent + key, item)\n",
    "        elif isinstance(item, h5py.Group):\n",
    "            # Group: Recursively explore\n",
    "            print(indent + '{} is a Group'.format(key))\n",
    "            explore_group(item, indent=indent + '    ')\n",
    "        print()"
   ]
  },
  {
   "cell_type": "code",
   "execution_count": 21,
   "metadata": {},
   "outputs": [
    {
     "ename": "SyntaxError",
     "evalue": "invalid syntax (3580541329.py, line 4)",
     "output_type": "error",
     "traceback": [
      "\u001b[1;36m  Cell \u001b[1;32mIn[21], line 4\u001b[1;36m\u001b[0m\n\u001b[1;33m    print(f\"    {attr_name}: {f[\"agent_actions\"][\"vr_robot\"].attrs[attr_name]}\")\u001b[0m\n\u001b[1;37m                                 ^\u001b[0m\n\u001b[1;31mSyntaxError\u001b[0m\u001b[1;31m:\u001b[0m invalid syntax\n"
     ]
    }
   ],
   "source": [
    "f[\"agent_actions\"][\"vr_robot\"].attrs\n",
    "\n",
    "for attr_name in f[\"agent_actions\"][\"vr_robot\"].attrs:\n",
    "        print(f\"    {attr_name}: {f[\"agent_actions\"][\"vr_robot\"].attrs[attr_name]}\")"
   ]
  },
  {
   "cell_type": "code",
   "execution_count": null,
   "metadata": {},
   "outputs": [],
   "source": []
  },
  {
   "cell_type": "code",
   "execution_count": null,
   "metadata": {},
   "outputs": [],
   "source": []
  },
  {
   "cell_type": "code",
   "execution_count": null,
   "metadata": {},
   "outputs": [],
   "source": []
  },
  {
   "cell_type": "code",
   "execution_count": null,
   "metadata": {},
   "outputs": [],
   "source": []
  },
  {
   "cell_type": "code",
   "execution_count": null,
   "metadata": {},
   "outputs": [],
   "source": []
  },
  {
   "cell_type": "code",
   "execution_count": null,
   "metadata": {},
   "outputs": [],
   "source": []
  },
  {
   "cell_type": "code",
   "execution_count": 1,
   "metadata": {},
   "outputs": [
    {
     "name": "stderr",
     "output_type": "stream",
     "text": [
      "INFO:root:Importing iGibson (igibson module)\n",
      "INFO:root:Assets path: C:\\Users\\bryan\\Code\\wkdir\\behavior-vllm-eval\\igibson\\data/assets\n",
      "INFO:root:Gibson Dataset path: C:\\Users\\bryan\\Code\\wkdir\\behavior-vllm-eval\\igibson\\data/g_dataset\n",
      "INFO:root:iG Dataset path: C:\\Users\\bryan\\Code\\wkdir\\behavior-vllm-eval\\igibson\\data/ig_dataset\n",
      "INFO:root:3D-FRONT Dataset path: C:\\Users\\bryan\\Code\\wkdir\\behavior-vllm-eval\\igibson\\data/threedfront_dataset\n",
      "INFO:root:CubiCasa5K Dataset path: C:\\Users\\bryan\\Code\\wkdir\\behavior-vllm-eval\\igibson\\data/cubicasa_dataset\n",
      "INFO:root:iGibson Key path: C:\\Users\\bryan\\Code\\wkdir\\behavior-vllm-eval\\igibson\\data/igibson.key\n",
      "INFO:root:Example path: C:\\Users\\bryan\\Code\\wkdir\\behavior-vllm-eval\\igibson\\examples\n",
      "INFO:root:Example config path: C:\\Users\\bryan\\Code\\wkdir\\behavior-vllm-eval\\igibson\\examples\\configs\n"
     ]
    },
    {
     "name": "stdout",
     "output_type": "stream",
     "text": [
      "torch is not available, falling back to rendering to memory(instead of tensor)\n"
     ]
    },
    {
     "name": "stderr",
     "output_type": "stream",
     "text": [
      "INFO:root:Loading C:\\Users\\bryan\\Code\\wkdir\\behavior-vllm-eval\\igibson\\data/assets\\models/mjcf_primitives/cube.obj\n",
      "INFO:root:Loading C:\\Users\\bryan\\Code\\wkdir\\behavior-vllm-eval\\igibson\\data/assets\\models/mjcf_primitives/sphere8.obj\n",
      "INFO:root:IndoorScene model: Rs_int\n",
      "INFO:root:StaticIndoorScene scene: Rs_int\n",
      "INFO:root:Category walls\n",
      "INFO:root:Loading the following URDF template C:\\Users\\bryan\\Code\\wkdir\\behavior-vllm-eval\\igibson\\data/ig_dataset\\scenes\\Rs_int\\urdf\\Rs_int_walls.urdf\n",
      "INFO:root:Scale: [1. 1. 1.]\n",
      "INFO:root:Number of splits: 1\n",
      "INFO:root:Instantiating scene into the following urdfs:\n",
      "INFO:root:C:\\Users\\bryan\\Code\\wkdir\\behavior-vllm-eval\\igibson\\data/ig_dataset\\scene_instances\\20240410-195620_12428637931150610960_4384\\walls_0.urdf\n",
      "INFO:root:Category floors\n",
      "INFO:root:Loading the following URDF template C:\\Users\\bryan\\Code\\wkdir\\behavior-vllm-eval\\igibson\\data/ig_dataset\\scenes\\Rs_int\\urdf\\Rs_int_floors.urdf\n",
      "INFO:root:Scale: [1. 1. 1.]\n",
      "INFO:root:Number of splits: 1\n",
      "INFO:root:Instantiating scene into the following urdfs:\n",
      "INFO:root:C:\\Users\\bryan\\Code\\wkdir\\behavior-vllm-eval\\igibson\\data/ig_dataset\\scene_instances\\20240410-195620_12428637931150610960_4384\\floors_0.urdf\n",
      "INFO:root:Category ceilings\n",
      "INFO:root:Loading the following URDF template C:\\Users\\bryan\\Code\\wkdir\\behavior-vllm-eval\\igibson\\data/ig_dataset\\scenes\\Rs_int\\urdf\\Rs_int_ceilings.urdf\n",
      "INFO:root:Scale: [1. 1. 1.]\n",
      "INFO:root:Number of splits: 1\n",
      "INFO:root:Instantiating scene into the following urdfs:\n",
      "INFO:root:C:\\Users\\bryan\\Code\\wkdir\\behavior-vllm-eval\\igibson\\data/ig_dataset\\scene_instances\\20240410-195620_12428637931150610960_4384\\ceilings_0.urdf\n",
      "INFO:root:Loading C:\\Users\\bryan\\Code\\wkdir\\behavior-vllm-eval\\igibson\\data/ig_dataset\\scene_instances\\20240410-195620_12428637931150610960_4384\\walls_0.urdf\n",
      "INFO:root:Moving URDF to (pos,ori): [0. 0. 0.], [0. 0. 0. 1.]\n"
     ]
    },
    {
     "name": "stdout",
     "output_type": "stream",
     "text": [
      "SCENE NAME: Rs_int\n"
     ]
    },
    {
     "name": "stderr",
     "output_type": "stream",
     "text": [
      "INFO:root:Loading C:\\Users\\bryan\\Code\\wkdir\\behavior-vllm-eval\\igibson\\data/ig_dataset\\scene_instances\\20240410-195620_12428637931150610960_4384\\floors_0.urdf\n",
      "INFO:root:Moving URDF to (pos,ori): [0. 0. 0.], [0. 0. 0. 1.]\n",
      "INFO:root:Loading C:\\Users\\bryan\\Code\\wkdir\\behavior-vllm-eval\\igibson\\data/ig_dataset\\scene_instances\\20240410-195620_12428637931150610960_4384\\ceilings_0.urdf\n",
      "INFO:root:Moving URDF to (pos,ori): [0. 0. 0.], [0. 0. 0. 1.]\n",
      "INFO:root:Loading traversable graph\n",
      "INFO:root:Loading C:\\Users\\bryan\\Code\\wkdir\\behavior-vllm-eval\\igibson\\data/ig_dataset\\scenes\\Rs_int\\shape/visual/wall_vm.obj\n",
      "INFO:root:Loading C:\\Users\\bryan\\Code\\wkdir\\behavior-vllm-eval\\igibson\\data/ig_dataset\\scenes\\Rs_int\\shape/visual/floor_2_vm.obj\n",
      "INFO:root:Loading C:\\Users\\bryan\\Code\\wkdir\\behavior-vllm-eval\\igibson\\data/ig_dataset\\scenes\\Rs_int\\shape/visual/floor_1_vm.obj\n",
      "INFO:root:Loading C:\\Users\\bryan\\Code\\wkdir\\behavior-vllm-eval\\igibson\\data/ig_dataset\\scenes\\Rs_int\\shape/visual/floor_0_vm.obj\n",
      "INFO:root:Loading C:\\Users\\bryan\\Code\\wkdir\\behavior-vllm-eval\\igibson\\data/ig_dataset\\scenes\\Rs_int\\shape/visual/ceiling_vm.obj\n",
      "INFO:root:Loading c:\\Users\\bryan\\Anaconda3\\envs\\myenv\\lib\\site-packages\\pybullet_data/duck.obj\n",
      "INFO:root:Loading C:\\Users\\bryan\\Code\\wkdir\\behavior-vllm-eval\\igibson\\data/ig_dataset\\objects\\basket\\e3bae8da192ab3d4a17ae19fa77775ff/shape/visual/e3bae8da192ab3d4a17ae19fa77775ff_m1_vm.encrypted.obj\n",
      "C:\\Users\\bryan\\Code\\wkdir\\behavior-vllm-eval\\igibson\\render\\mesh_renderer\\mesh_renderer_cpu.py:656: RuntimeWarning: divide by zero encountered in true_divide\n",
      "  r = 1.0 / (delta_uv1[:, 0] * delta_uv2[:, 1] - delta_uv1[:, 1] * delta_uv2[:, 0])\n",
      "C:\\Users\\bryan\\Code\\wkdir\\behavior-vllm-eval\\igibson\\render\\mesh_renderer\\mesh_renderer_cpu.py:657: RuntimeWarning: invalid value encountered in multiply\n",
      "  tangent = (delta_pos1 * delta_uv2[:, 1][:, None] - delta_pos2 * delta_uv1[:, 1][:, None]) * r[:, None]\n",
      "C:\\Users\\bryan\\Code\\wkdir\\behavior-vllm-eval\\igibson\\render\\mesh_renderer\\mesh_renderer_cpu.py:658: RuntimeWarning: invalid value encountered in multiply\n",
      "  bitangent = (delta_pos2 * delta_uv1[:, 0][:, None] - delta_pos1 * delta_uv2[:, 0][:, None]) * r[:, None]\n",
      "INFO:root:Loading C:\\Users\\bryan\\Code\\wkdir\\behavior-vllm-eval\\igibson\\data/assets\\models\\vr_agent\\vr_hand\\normal_color/meshes/palm.obj\n",
      "INFO:root:Loading C:\\Users\\bryan\\Code\\wkdir\\behavior-vllm-eval\\igibson\\data/assets\\models\\vr_agent\\vr_hand\\normal_color/meshes/seg_L.obj\n",
      "INFO:root:Loading C:\\Users\\bryan\\Code\\wkdir\\behavior-vllm-eval\\igibson\\data/assets\\models\\vr_agent\\vr_hand\\normal_color/meshes/seg_finger_tip.obj\n",
      "INFO:root:Loading C:\\Users\\bryan\\Code\\wkdir\\behavior-vllm-eval\\igibson\\data/assets\\models\\vr_agent\\vr_hand\\normal_color/meshes/seg_L.obj\n",
      "INFO:root:Loading C:\\Users\\bryan\\Code\\wkdir\\behavior-vllm-eval\\igibson\\data/assets\\models\\vr_agent\\vr_hand\\normal_color/meshes/seg_finger_tip.obj\n",
      "INFO:root:Loading C:\\Users\\bryan\\Code\\wkdir\\behavior-vllm-eval\\igibson\\data/assets\\models\\vr_agent\\vr_hand\\normal_color/meshes/seg_L.obj\n",
      "INFO:root:Loading C:\\Users\\bryan\\Code\\wkdir\\behavior-vllm-eval\\igibson\\data/assets\\models\\vr_agent\\vr_hand\\normal_color/meshes/seg_finger_tip.obj\n",
      "INFO:root:Loading C:\\Users\\bryan\\Code\\wkdir\\behavior-vllm-eval\\igibson\\data/assets\\models\\vr_agent\\vr_hand\\normal_color/meshes/seg_M.obj\n",
      "INFO:root:Loading C:\\Users\\bryan\\Code\\wkdir\\behavior-vllm-eval\\igibson\\data/assets\\models\\vr_agent\\vr_hand\\normal_color/meshes/seg_thumb_tip.obj\n",
      "INFO:root:Loading C:\\Users\\bryan\\Code\\wkdir\\behavior-vllm-eval\\igibson\\data/assets\\models\\vr_agent\\vr_hand\\normal_color/meshes/seg_L.obj\n",
      "INFO:root:Loading C:\\Users\\bryan\\Code\\wkdir\\behavior-vllm-eval\\igibson\\data/assets\\models\\vr_agent\\vr_hand\\normal_color/meshes/seg_finger_tip.obj\n",
      "INFO:root:Loading C:\\Users\\bryan\\Code\\wkdir\\behavior-vllm-eval\\igibson\\data/assets\\models\\vr_agent\\vr_hand\\ghost_hand_left.obj\n",
      "INFO:root:Loading C:\\Users\\bryan\\Code\\wkdir\\behavior-vllm-eval\\igibson\\data/assets\\models\\vr_agent\\vr_hand\\normal_color/meshes/palm.obj\n",
      "INFO:root:Loading C:\\Users\\bryan\\Code\\wkdir\\behavior-vllm-eval\\igibson\\data/assets\\models\\vr_agent\\vr_hand\\normal_color/meshes/seg_L.obj\n",
      "INFO:root:Loading C:\\Users\\bryan\\Code\\wkdir\\behavior-vllm-eval\\igibson\\data/assets\\models\\vr_agent\\vr_hand\\normal_color/meshes/seg_finger_tip.obj\n",
      "INFO:root:Loading C:\\Users\\bryan\\Code\\wkdir\\behavior-vllm-eval\\igibson\\data/assets\\models\\vr_agent\\vr_hand\\normal_color/meshes/seg_L.obj\n",
      "INFO:root:Loading C:\\Users\\bryan\\Code\\wkdir\\behavior-vllm-eval\\igibson\\data/assets\\models\\vr_agent\\vr_hand\\normal_color/meshes/seg_finger_tip.obj\n",
      "INFO:root:Loading C:\\Users\\bryan\\Code\\wkdir\\behavior-vllm-eval\\igibson\\data/assets\\models\\vr_agent\\vr_hand\\normal_color/meshes/seg_L.obj\n",
      "INFO:root:Loading C:\\Users\\bryan\\Code\\wkdir\\behavior-vllm-eval\\igibson\\data/assets\\models\\vr_agent\\vr_hand\\normal_color/meshes/seg_finger_tip.obj\n",
      "INFO:root:Loading C:\\Users\\bryan\\Code\\wkdir\\behavior-vllm-eval\\igibson\\data/assets\\models\\vr_agent\\vr_hand\\normal_color/meshes/seg_M.obj\n",
      "INFO:root:Loading C:\\Users\\bryan\\Code\\wkdir\\behavior-vllm-eval\\igibson\\data/assets\\models\\vr_agent\\vr_hand\\normal_color/meshes/seg_thumb_tip.obj\n",
      "INFO:root:Loading C:\\Users\\bryan\\Code\\wkdir\\behavior-vllm-eval\\igibson\\data/assets\\models\\vr_agent\\vr_hand\\normal_color/meshes/seg_L.obj\n",
      "INFO:root:Loading C:\\Users\\bryan\\Code\\wkdir\\behavior-vllm-eval\\igibson\\data/assets\\models\\vr_agent\\vr_hand\\normal_color/meshes/seg_finger_tip.obj\n",
      "INFO:root:Loading C:\\Users\\bryan\\Code\\wkdir\\behavior-vllm-eval\\igibson\\data/assets\\models\\vr_agent\\vr_hand\\ghost_hand_right.obj\n",
      "INFO:root:Loading C:\\Users\\bryan\\Code\\wkdir\\behavior-vllm-eval\\igibson\\data/assets\\models\\vr_agent\\vr_body\\normal_color/vr_body_vis.obj\n",
      "INFO:root:Loading C:\\Users\\bryan\\Code\\wkdir\\behavior-vllm-eval\\igibson\\data/assets\\models\\vr_agent\\vr_eye\\normal_color\\vr_head.obj\n"
     ]
    }
   ],
   "source": [
    "\"\"\" This is a VR demo in a simple scene consisting of some objects to interact with, and space to move around.\n",
    "Can be used to verify everything is working in VR, and iterate on current VR designs.\n",
    "\"\"\"\n",
    "\n",
    "import os\n",
    "\n",
    "import pybullet as p\n",
    "import pybullet_data\n",
    "\n",
    "import igibson\n",
    "from igibson.objects.articulated_object import ArticulatedObject\n",
    "from igibson.render.mesh_renderer.mesh_renderer_cpu import MeshRendererSettings\n",
    "from igibson.render.mesh_renderer.mesh_renderer_vr import VrSettings\n",
    "from igibson.robots.behavior_robot import BehaviorRobot\n",
    "from igibson.scenes.igibson_indoor_scene import InteractiveIndoorScene\n",
    "from igibson.simulator import Simulator\n",
    "\n",
    "# HDR files for PBR rendering\n",
    "hdr_texture = os.path.join(igibson.ig_dataset_path, \"scenes\", \"background\", \"probe_02.hdr\")\n",
    "hdr_texture2 = os.path.join(igibson.ig_dataset_path, \"scenes\", \"background\", \"probe_03.hdr\")\n",
    "light_modulation_map_filename = os.path.join(\n",
    "    igibson.ig_dataset_path, \"scenes\", \"Rs_int\", \"layout\", \"floor_lighttype_0.png\"\n",
    ")\n",
    "background_texture = os.path.join(igibson.ig_dataset_path, \"scenes\", \"background\", \"urban_street_01.jpg\")\n",
    "\n",
    "\n",
    "\n",
    "# VR rendering settings\n",
    "vr_rendering_settings = MeshRendererSettings(\n",
    "    optimized=True,\n",
    "    fullscreen=False,\n",
    "    env_texture_filename=hdr_texture,\n",
    "    env_texture_filename2=hdr_texture2,\n",
    "    env_texture_filename3=background_texture,\n",
    "    light_modulation_map_filename=light_modulation_map_filename,\n",
    "    enable_shadow=True,\n",
    "    enable_pbr=True,\n",
    "    msaa=True,\n",
    "    light_dimming_factor=1.0,\n",
    ")\n",
    "s = Simulator(mode=\"gui\", rendering_settings=vr_rendering_settings, vr_settings=VrSettings(use_vr=False))\n",
    "\n",
    "scene = InteractiveIndoorScene(\n",
    "    \"Rs_int\", load_object_categories=[\"walls\", \"floors\", \"ceilings\"], load_room_types=[\"kitchen\"]\n",
    ")\n",
    "s.import_ig_scene(scene)\n",
    "p.setAdditionalSearchPath(pybullet_data.getDataPath())\n",
    "\n",
    "objects = [\n",
    "    (\"jenga/jenga.urdf\", (1.300000, -0.700000, 0.750000), (0.000000, 0.707107, 0.000000, 0.707107)),\n",
    "    (\"jenga/jenga.urdf\", (1.200000, -0.700000, 0.750000), (0.000000, 0.707107, 0.000000, 0.707107)),\n",
    "    (\"jenga/jenga.urdf\", (1.100000, -0.700000, 0.750000), (0.000000, 0.707107, 0.000000, 0.707107)),\n",
    "    (\"jenga/jenga.urdf\", (1.000000, -0.700000, 0.750000), (0.000000, 0.707107, 0.000000, 0.707107)),\n",
    "    (\"jenga/jenga.urdf\", (0.900000, -0.700000, 0.750000), (0.000000, 0.707107, 0.000000, 0.707107)),\n",
    "    (\"jenga/jenga.urdf\", (0.800000, -0.700000, 0.750000), (0.000000, 0.707107, 0.000000, 0.707107)),\n",
    "    (\"table/table.urdf\", (1.000000, -0.200000, 0.000000), (0.000000, 0.000000, 0.707107, 0.707107)),\n",
    "    (\"duck_vhacd.urdf\", (1.050000, -0.500000, 0.700000), (0.000000, 0.000000, 0.707107, 0.707107)),\n",
    "    (\"duck_vhacd.urdf\", (0.950000, -0.100000, 0.700000), (0.000000, 0.000000, 0.707107, 0.707107)),\n",
    "    (\"sphere_small.urdf\", (0.850000, -0.400000, 0.700000), (0.000000, 0.000000, 0.707107, 0.707107)),\n",
    "    (\"duck_vhacd.urdf\", (0.850000, -0.400000, 1.00000), (0.000000, 0.000000, 0.707107, 0.707107)),\n",
    "]\n",
    "\n",
    "for item in objects:\n",
    "    fpath = item[0]\n",
    "    pos = item[1]\n",
    "    orn = item[2]\n",
    "    item_ob = ArticulatedObject(fpath, scale=1)\n",
    "    s.import_object(item_ob, use_pbr=False, use_pbr_mapping=True)\n",
    "    item_ob.set_position(pos)\n",
    "    item_ob.set_orientation(orn)\n",
    "\n",
    "obj = ArticulatedObject(\n",
    "    os.path.join(\n",
    "        igibson.ig_dataset_path,\n",
    "        \"objects\",\n",
    "        \"basket\",\n",
    "        \"e3bae8da192ab3d4a17ae19fa77775ff\",\n",
    "        \"e3bae8da192ab3d4a17ae19fa77775ff.urdf\",\n",
    "    ),\n",
    "    scale=2,\n",
    ")\n",
    "s.import_object(obj)\n",
    "obj.set_position_orientation([1.1, 0.300000, 1.0], [0, 0, 0, 1])\n",
    "\n",
    "bvr_robot = BehaviorRobot(s)\n",
    "s.import_behavior_robot(bvr_robot)\n",
    "s.register_main_vr_robot(bvr_robot)\n",
    "bvr_robot.set_position_orientation([0, 0, 1.5], [0, 0, 0, 1])"
   ]
  },
  {
   "cell_type": "code",
   "execution_count": 2,
   "metadata": {},
   "outputs": [
    {
     "name": "stdout",
     "output_type": "stream",
     "text": [
      "Texture:  C:\\Users\\bryan\\Code\\wkdir\\behavior-vllm-eval\\igibson\\data/ig_dataset\\scenes\\Rs_int\\shape/visual\\../../material/wall/COMBINED.png\n",
      "Texture:  C:\\Users\\bryan\\Code\\wkdir\\behavior-vllm-eval\\igibson\\data/ig_dataset\\scenes\\Rs_int\\shape/visual\\../../material/wall/NORMAL.png\n",
      "Texture:  C:\\Users\\bryan\\Code\\wkdir\\behavior-vllm-eval\\igibson\\data/ig_dataset\\scenes\\Rs_int\\shape/visual\\../../material/floor_2/COMBINED.png\n",
      "Texture:  C:\\Users\\bryan\\Code\\wkdir\\behavior-vllm-eval\\igibson\\data/ig_dataset\\scenes\\Rs_int\\shape/visual\\../../material/floor_2/NORMAL.png\n",
      "Texture:  C:\\Users\\bryan\\Code\\wkdir\\behavior-vllm-eval\\igibson\\data/ig_dataset\\scenes\\Rs_int\\shape/visual\\../../material/floor_1/COMBINED.png\n",
      "Texture:  C:\\Users\\bryan\\Code\\wkdir\\behavior-vllm-eval\\igibson\\data/ig_dataset\\scenes\\Rs_int\\shape/visual\\../../material/floor_1/NORMAL.png\n",
      "Texture:  C:\\Users\\bryan\\Code\\wkdir\\behavior-vllm-eval\\igibson\\data/ig_dataset\\scenes\\Rs_int\\shape/visual\\../../material/floor_0/COMBINED.png\n",
      "Texture:  C:\\Users\\bryan\\Code\\wkdir\\behavior-vllm-eval\\igibson\\data/ig_dataset\\scenes\\Rs_int\\shape/visual\\../../material/floor_0/NORMAL.png\n",
      "Texture:  C:\\Users\\bryan\\Code\\wkdir\\behavior-vllm-eval\\igibson\\data/ig_dataset\\scenes\\Rs_int\\shape/visual\\../../material/ceiling/COMBINED.png\n",
      "Texture:  C:\\Users\\bryan\\Code\\wkdir\\behavior-vllm-eval\\igibson\\data/ig_dataset\\scenes\\Rs_int\\shape/visual\\../../material/ceiling/NORMAL.png\n",
      "Texture:  c:\\Users\\bryan\\Anaconda3\\envs\\myenv\\lib\\site-packages\\pybullet_data\\duckCM.png\n",
      "Texture:  C:\\Users\\bryan\\Code\\wkdir\\behavior-vllm-eval\\igibson\\data/ig_dataset\\objects\\basket\\e3bae8da192ab3d4a17ae19fa77775ff/shape/visual\\../../material/DIFFUSE.encrypted.png\n",
      "Texture:  C:\\Users\\bryan\\Code\\wkdir\\behavior-vllm-eval\\igibson\\data/ig_dataset\\objects\\basket\\e3bae8da192ab3d4a17ae19fa77775ff/shape/visual\\../../material/METALLIC.encrypted.png\n",
      "Texture:  C:\\Users\\bryan\\Code\\wkdir\\behavior-vllm-eval\\igibson\\data/ig_dataset\\objects\\basket\\e3bae8da192ab3d4a17ae19fa77775ff/shape/visual\\../../material/ROUGHNESS.encrypted.png\n",
      "Texture:  C:\\Users\\bryan\\Code\\wkdir\\behavior-vllm-eval\\igibson\\data/ig_dataset\\objects\\basket\\e3bae8da192ab3d4a17ae19fa77775ff/shape/visual\\../../material/NORMAL.encrypted.png\n",
      "[[0, 0], [0, 1], [0, 2], [0, 3], [0, 4], [0, 5], [0, 6], [0, 7], [0, 8], [0, 9], [1, 0], [1, 1], [1, 2], [1, 3], [1, 4]]\n",
      "15 {'C:\\\\Users\\\\bryan\\\\Code\\\\wkdir\\\\behavior-vllm-eval\\\\igibson\\\\data/ig_dataset\\\\scenes\\\\Rs_int\\\\shape/visual\\\\../../material/wall/COMBINED.png': 0, 'C:\\\\Users\\\\bryan\\\\Code\\\\wkdir\\\\behavior-vllm-eval\\\\igibson\\\\data/ig_dataset\\\\scenes\\\\Rs_int\\\\shape/visual\\\\../../material/wall/NORMAL.png': 1, 'C:\\\\Users\\\\bryan\\\\Code\\\\wkdir\\\\behavior-vllm-eval\\\\igibson\\\\data/ig_dataset\\\\scenes\\\\Rs_int\\\\shape/visual\\\\../../material/floor_2/COMBINED.png': 2, 'C:\\\\Users\\\\bryan\\\\Code\\\\wkdir\\\\behavior-vllm-eval\\\\igibson\\\\data/ig_dataset\\\\scenes\\\\Rs_int\\\\shape/visual\\\\../../material/floor_2/NORMAL.png': 3, 'C:\\\\Users\\\\bryan\\\\Code\\\\wkdir\\\\behavior-vllm-eval\\\\igibson\\\\data/ig_dataset\\\\scenes\\\\Rs_int\\\\shape/visual\\\\../../material/floor_1/COMBINED.png': 4, 'C:\\\\Users\\\\bryan\\\\Code\\\\wkdir\\\\behavior-vllm-eval\\\\igibson\\\\data/ig_dataset\\\\scenes\\\\Rs_int\\\\shape/visual\\\\../../material/floor_1/NORMAL.png': 5, 'C:\\\\Users\\\\bryan\\\\Code\\\\wkdir\\\\behavior-vllm-eval\\\\igibson\\\\data/ig_dataset\\\\scenes\\\\Rs_int\\\\shape/visual\\\\../../material/floor_0/COMBINED.png': 6, 'C:\\\\Users\\\\bryan\\\\Code\\\\wkdir\\\\behavior-vllm-eval\\\\igibson\\\\data/ig_dataset\\\\scenes\\\\Rs_int\\\\shape/visual\\\\../../material/floor_0/NORMAL.png': 7, 'C:\\\\Users\\\\bryan\\\\Code\\\\wkdir\\\\behavior-vllm-eval\\\\igibson\\\\data/ig_dataset\\\\scenes\\\\Rs_int\\\\shape/visual\\\\../../material/ceiling/COMBINED.png': 8, 'C:\\\\Users\\\\bryan\\\\Code\\\\wkdir\\\\behavior-vllm-eval\\\\igibson\\\\data/ig_dataset\\\\scenes\\\\Rs_int\\\\shape/visual\\\\../../material/ceiling/NORMAL.png': 9, 'c:\\\\Users\\\\bryan\\\\Anaconda3\\\\envs\\\\myenv\\\\lib\\\\site-packages\\\\pybullet_data\\\\duckCM.png': 10, 'C:\\\\Users\\\\bryan\\\\Code\\\\wkdir\\\\behavior-vllm-eval\\\\igibson\\\\data/ig_dataset\\\\objects\\\\basket\\\\e3bae8da192ab3d4a17ae19fa77775ff/shape/visual\\\\../../material/DIFFUSE.encrypted.png': 11, 'C:\\\\Users\\\\bryan\\\\Code\\\\wkdir\\\\behavior-vllm-eval\\\\igibson\\\\data/ig_dataset\\\\objects\\\\basket\\\\e3bae8da192ab3d4a17ae19fa77775ff/shape/visual\\\\../../material/METALLIC.encrypted.png': 12, 'C:\\\\Users\\\\bryan\\\\Code\\\\wkdir\\\\behavior-vllm-eval\\\\igibson\\\\data/ig_dataset\\\\objects\\\\basket\\\\e3bae8da192ab3d4a17ae19fa77775ff/shape/visual\\\\../../material/ROUGHNESS.encrypted.png': 13, 'C:\\\\Users\\\\bryan\\\\Code\\\\wkdir\\\\behavior-vllm-eval\\\\igibson\\\\data/ig_dataset\\\\objects\\\\basket\\\\e3bae8da192ab3d4a17ae19fa77775ff/shape/visual\\\\../../material/NORMAL.encrypted.png': 14}\n",
      "Merged vertex data shape:\n",
      "(242331, 14)\n",
      "Enable pbr: True\n"
     ]
    }
   ],
   "source": [
    "s.step()"
   ]
  },
  {
   "cell_type": "code",
   "execution_count": 3,
   "metadata": {},
   "outputs": [],
   "source": [
    "s.step()"
   ]
  }
 ],
 "metadata": {
  "kernelspec": {
   "display_name": "myenv",
   "language": "python",
   "name": "python3"
  },
  "language_info": {
   "codemirror_mode": {
    "name": "ipython",
    "version": 3
   },
   "file_extension": ".py",
   "mimetype": "text/x-python",
   "name": "python",
   "nbconvert_exporter": "python",
   "pygments_lexer": "ipython3",
   "version": "3.8.19"
  }
 },
 "nbformat": 4,
 "nbformat_minor": 2
}
